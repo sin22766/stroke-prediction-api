{
 "cells": [
  {
   "cell_type": "markdown",
   "id": "31762a09",
   "metadata": {},
   "source": [
    "# Testing the ONNX model\n",
    "This notebook tests the ONNX model exported from the Scikit-learn model."
   ]
  },
  {
   "cell_type": "code",
   "execution_count": 1,
   "id": "6cede47b",
   "metadata": {},
   "outputs": [],
   "source": [
    "%load_ext autoreload\n",
    "%autoreload 2\n",
    "\n",
    "from app.util import ONNXRunner\n",
    "from stroke_prediction.config import PROJ_ROOT\n",
    "\n",
    "runner = ONNXRunner(\n",
    "    model_path=PROJ_ROOT / \"models\" / \"model.onnx\"\n",
    ")"
   ]
  },
  {
   "cell_type": "markdown",
   "id": "99b43541",
   "metadata": {},
   "source": [
    "Prepare test data"
   ]
  },
  {
   "cell_type": "code",
   "execution_count": 2,
   "id": "9fc7dc4c",
   "metadata": {},
   "outputs": [
    {
     "data": {
      "application/vnd.microsoft.datawrangler.viewer.v0+json": {
       "columns": [
        {
         "name": "index",
         "rawType": "int64",
         "type": "integer"
        },
        {
         "name": "ever_married_Yes",
         "rawType": "float64",
         "type": "float"
        },
        {
         "name": "work_type_Never_worked",
         "rawType": "float64",
         "type": "float"
        },
        {
         "name": "work_type_Private",
         "rawType": "float64",
         "type": "float"
        },
        {
         "name": "work_type_Self-employed",
         "rawType": "float64",
         "type": "float"
        },
        {
         "name": "work_type_children",
         "rawType": "float64",
         "type": "float"
        },
        {
         "name": "smoking_status_formerly smoked",
         "rawType": "float64",
         "type": "float"
        },
        {
         "name": "smoking_status_never smoked",
         "rawType": "float64",
         "type": "float"
        },
        {
         "name": "smoking_status_smokes",
         "rawType": "float64",
         "type": "float"
        },
        {
         "name": "age",
         "rawType": "float64",
         "type": "float"
        },
        {
         "name": "hypertension",
         "rawType": "float64",
         "type": "float"
        },
        {
         "name": "heart_disease",
         "rawType": "float64",
         "type": "float"
        },
        {
         "name": "avg_glucose_level",
         "rawType": "float64",
         "type": "float"
        },
        {
         "name": "bmi",
         "rawType": "float64",
         "type": "float"
        }
       ],
       "ref": "3cbb871f-29d7-44a0-80db-dc3da25efdcb",
       "rows": [
        [
         "0",
         "1.0",
         "0.0",
         "1.0",
         "0.0",
         "0.0",
         "0.0",
         "1.0",
         "0.0",
         "79.0",
         "0.0",
         "0.0",
         "65.59",
         "28.1"
        ],
        [
         "1",
         "1.0",
         "0.0",
         "1.0",
         "0.0",
         "0.0",
         "0.0",
         "1.0",
         "0.0",
         "45.0",
         "0.0",
         "0.0",
         "90.35",
         "22.3"
        ],
        [
         "2",
         "0.0",
         "0.0",
         "0.0",
         "0.0",
         "1.0",
         "0.0",
         "0.0",
         "0.0",
         "2.0",
         "0.0",
         "0.0",
         "94.92",
         "20.4"
        ],
        [
         "3",
         "1.0",
         "0.0",
         "1.0",
         "0.0",
         "0.0",
         "0.0",
         "0.0",
         "0.0",
         "49.0",
         "0.0",
         "0.0",
         "125.63",
         "57.2"
        ],
        [
         "4",
         "1.0",
         "0.0",
         "1.0",
         "0.0",
         "0.0",
         "0.0",
         "1.0",
         "0.0",
         "50.0",
         "0.0",
         "0.0",
         "120.44",
         "30.3"
        ],
        [
         "5",
         "1.0",
         "0.0",
         "1.0",
         "0.0",
         "0.0",
         "1.0",
         "0.0",
         "0.0",
         "63.0",
         "0.0",
         "0.0",
         "222.66",
         "37.0"
        ],
        [
         "6",
         "1.0",
         "0.0",
         "0.0",
         "1.0",
         "0.0",
         "1.0",
         "0.0",
         "0.0",
         "73.0",
         "0.0",
         "0.0",
         "79.69",
         "28.7"
        ],
        [
         "7",
         "1.0",
         "0.0",
         "1.0",
         "0.0",
         "0.0",
         "0.0",
         "0.0",
         "0.0",
         "55.0",
         "0.0",
         "0.0",
         "84.37",
         "22.2"
        ],
        [
         "8",
         "1.0",
         "0.0",
         "0.0",
         "1.0",
         "0.0",
         "0.0",
         "0.0",
         "0.0",
         "49.0",
         "0.0",
         "0.0",
         "75.15",
         "25.0"
        ],
        [
         "9",
         "1.0",
         "0.0",
         "1.0",
         "0.0",
         "0.0",
         "0.0",
         "1.0",
         "0.0",
         "25.0",
         "0.0",
         "0.0",
         "89.87",
         "26.5"
        ],
        [
         "10",
         "1.0",
         "0.0",
         "0.0",
         "1.0",
         "0.0",
         "0.0",
         "1.0",
         "0.0",
         "35.0",
         "0.0",
         "0.0",
         "103.29",
         "20.6"
        ],
        [
         "11",
         "0.0",
         "0.0",
         "0.0",
         "0.0",
         "1.0",
         "0.0",
         "0.0",
         "0.0",
         "2.0",
         "0.0",
         "0.0",
         "112.75",
         "25.1"
        ],
        [
         "12",
         "0.0",
         "0.0",
         "1.0",
         "0.0",
         "0.0",
         "0.0",
         "1.0",
         "0.0",
         "35.0",
         "0.0",
         "0.0",
         "69.54",
         "27.4"
        ],
        [
         "13",
         "1.0",
         "0.0",
         "1.0",
         "0.0",
         "0.0",
         "0.0",
         "1.0",
         "0.0",
         "45.0",
         "0.0",
         "0.0",
         "99.97",
         "35.6"
        ],
        [
         "14",
         "1.0",
         "0.0",
         "0.0",
         "1.0",
         "0.0",
         "0.0",
         "1.0",
         "0.0",
         "50.0",
         "0.0",
         "0.0",
         "192.16",
         "43.6"
        ],
        [
         "15",
         "1.0",
         "0.0",
         "0.0",
         "0.0",
         "0.0",
         "0.0",
         "1.0",
         "0.0",
         "47.0",
         "0.0",
         "0.0",
         "100.41",
         "23.8"
        ],
        [
         "16",
         "1.0",
         "0.0",
         "0.0",
         "0.0",
         "0.0",
         "0.0",
         "0.0",
         "1.0",
         "34.0",
         "0.0",
         "0.0",
         "86.36",
         "32.1"
        ],
        [
         "17",
         "1.0",
         "0.0",
         "1.0",
         "0.0",
         "0.0",
         "0.0",
         "1.0",
         "0.0",
         "63.0",
         "0.0",
         "0.0",
         "98.46",
         "30.6"
        ],
        [
         "18",
         "0.0",
         "0.0",
         "0.0",
         "0.0",
         "1.0",
         "0.0",
         "0.0",
         "0.0",
         "8.0",
         "0.0",
         "0.0",
         "81.53",
         "14.8"
        ],
        [
         "19",
         "1.0",
         "0.0",
         "1.0",
         "0.0",
         "0.0",
         "0.0",
         "0.0",
         "0.0",
         "79.0",
         "0.0",
         "0.0",
         "97.93",
         "31.2"
        ],
        [
         "20",
         "1.0",
         "0.0",
         "0.0",
         "1.0",
         "0.0",
         "0.0",
         "1.0",
         "0.0",
         "58.0",
         "0.0",
         "0.0",
         "66.71",
         "51.7"
        ],
        [
         "21",
         "1.0",
         "0.0",
         "1.0",
         "0.0",
         "0.0",
         "1.0",
         "0.0",
         "0.0",
         "62.0",
         "0.0",
         "0.0",
         "80.72",
         "26.0"
        ],
        [
         "22",
         "1.0",
         "0.0",
         "1.0",
         "0.0",
         "0.0",
         "0.0",
         "1.0",
         "0.0",
         "73.0",
         "1.0",
         "0.0",
         "190.14",
         "36.5"
        ],
        [
         "23",
         "0.0",
         "0.0",
         "1.0",
         "0.0",
         "0.0",
         "0.0",
         "0.0",
         "1.0",
         "29.0",
         "0.0",
         "0.0",
         "94.69",
         "28.4"
        ],
        [
         "24",
         "1.0",
         "0.0",
         "1.0",
         "0.0",
         "0.0",
         "1.0",
         "0.0",
         "0.0",
         "66.0",
         "0.0",
         "0.0",
         "81.11",
         "28.8"
        ],
        [
         "25",
         "1.0",
         "0.0",
         "0.0",
         "1.0",
         "0.0",
         "0.0",
         "1.0",
         "0.0",
         "69.0",
         "0.0",
         "0.0",
         "70.0",
         "36.0"
        ],
        [
         "26",
         "1.0",
         "0.0",
         "1.0",
         "0.0",
         "0.0",
         "0.0",
         "1.0",
         "0.0",
         "33.0",
         "0.0",
         "0.0",
         "57.1",
         "33.1"
        ],
        [
         "27",
         "0.0",
         "0.0",
         "0.0",
         "0.0",
         "0.0",
         "0.0",
         "1.0",
         "0.0",
         "29.0",
         "0.0",
         "0.0",
         "118.61",
         "26.5"
        ],
        [
         "28",
         "0.0",
         "0.0",
         "0.0",
         "0.0",
         "0.0",
         "0.0",
         "1.0",
         "0.0",
         "34.0",
         "0.0",
         "0.0",
         "120.06",
         "33.0"
        ],
        [
         "29",
         "1.0",
         "0.0",
         "1.0",
         "0.0",
         "0.0",
         "0.0",
         "0.0",
         "0.0",
         "53.0",
         "0.0",
         "0.0",
         "207.71",
         "32.4"
        ],
        [
         "30",
         "1.0",
         "0.0",
         "1.0",
         "0.0",
         "0.0",
         "1.0",
         "0.0",
         "0.0",
         "59.0",
         "0.0",
         "0.0",
         "200.62",
         "35.8"
        ],
        [
         "31",
         "1.0",
         "0.0",
         "1.0",
         "0.0",
         "0.0",
         "0.0",
         "1.0",
         "0.0",
         "59.0",
         "0.0",
         "0.0",
         "109.82",
         "23.7"
        ],
        [
         "32",
         "0.0",
         "0.0",
         "0.0",
         "0.0",
         "1.0",
         "0.0",
         "0.0",
         "0.0",
         "8.0",
         "0.0",
         "0.0",
         "105.63",
         "19.2"
        ],
        [
         "33",
         "1.0",
         "0.0",
         "0.0",
         "0.0",
         "0.0",
         "0.0",
         "0.0",
         "0.0",
         "75.0",
         "0.0",
         "0.0",
         "94.29",
         "35.2"
        ],
        [
         "34",
         "1.0",
         "0.0",
         "1.0",
         "0.0",
         "0.0",
         "0.0",
         "0.0",
         "0.0",
         "37.0",
         "0.0",
         "0.0",
         "118.21",
         "23.6"
        ],
        [
         "35",
         "1.0",
         "0.0",
         "0.0",
         "1.0",
         "0.0",
         "1.0",
         "0.0",
         "0.0",
         "76.0",
         "0.0",
         "0.0",
         "221.8",
         "44.7"
        ],
        [
         "36",
         "0.0",
         "0.0",
         "0.0",
         "0.0",
         "1.0",
         "0.0",
         "0.0",
         "0.0",
         "7.0",
         "0.0",
         "0.0",
         "103.5",
         "19.0"
        ],
        [
         "37",
         "0.0",
         "0.0",
         "0.0",
         "0.0",
         "0.0",
         "0.0",
         "1.0",
         "0.0",
         "20.0",
         "0.0",
         "0.0",
         "73.0",
         "20.8"
        ],
        [
         "38",
         "0.0",
         "0.0",
         "1.0",
         "0.0",
         "0.0",
         "0.0",
         "0.0",
         "1.0",
         "17.0",
         "0.0",
         "0.0",
         "63.82",
         "19.4"
        ],
        [
         "39",
         "0.0",
         "0.0",
         "1.0",
         "0.0",
         "0.0",
         "0.0",
         "0.0",
         "1.0",
         "25.0",
         "0.0",
         "0.0",
         "68.07",
         "18.6"
        ],
        [
         "40",
         "1.0",
         "0.0",
         "1.0",
         "0.0",
         "0.0",
         "0.0",
         "0.0",
         "0.0",
         "42.0",
         "0.0",
         "0.0",
         "89.22",
         "53.8"
        ],
        [
         "41",
         "1.0",
         "0.0",
         "1.0",
         "0.0",
         "0.0",
         "0.0",
         "0.0",
         "0.0",
         "31.0",
         "0.0",
         "0.0",
         "80.79",
         "28.7"
        ],
        [
         "42",
         "0.0",
         "0.0",
         "1.0",
         "0.0",
         "0.0",
         "0.0",
         "1.0",
         "0.0",
         "23.0",
         "0.0",
         "0.0",
         "91.19",
         "28.3"
        ],
        [
         "43",
         "1.0",
         "0.0",
         "1.0",
         "0.0",
         "0.0",
         "0.0",
         "1.0",
         "0.0",
         "60.0",
         "1.0",
         "0.0",
         "213.37",
         "36.0"
        ],
        [
         "44",
         "1.0",
         "0.0",
         "0.0",
         "0.0",
         "0.0",
         "0.0",
         "1.0",
         "0.0",
         "44.0",
         "0.0",
         "0.0",
         "67.06",
         "35.5"
        ],
        [
         "45",
         "1.0",
         "0.0",
         "1.0",
         "0.0",
         "0.0",
         "0.0",
         "0.0",
         "0.0",
         "80.0",
         "1.0",
         "1.0",
         "115.52",
         "34.4"
        ],
        [
         "46",
         "1.0",
         "0.0",
         "1.0",
         "0.0",
         "0.0",
         "0.0",
         "1.0",
         "0.0",
         "42.0",
         "0.0",
         "0.0",
         "80.0",
         "27.5"
        ],
        [
         "47",
         "0.0",
         "0.0",
         "1.0",
         "0.0",
         "0.0",
         "0.0",
         "0.0",
         "0.0",
         "36.0",
         "0.0",
         "0.0",
         "216.96",
         "34.5"
        ],
        [
         "48",
         "1.0",
         "0.0",
         "0.0",
         "1.0",
         "0.0",
         "0.0",
         "1.0",
         "0.0",
         "79.0",
         "0.0",
         "0.0",
         "83.7",
         "28.7"
        ],
        [
         "49",
         "1.0",
         "0.0",
         "1.0",
         "0.0",
         "0.0",
         "0.0",
         "1.0",
         "0.0",
         "33.0",
         "0.0",
         "0.0",
         "80.82",
         "40.3"
        ]
       ],
       "shape": {
        "columns": 13,
        "rows": 767
       }
      },
      "text/html": [
       "<div>\n",
       "<style scoped>\n",
       "    .dataframe tbody tr th:only-of-type {\n",
       "        vertical-align: middle;\n",
       "    }\n",
       "\n",
       "    .dataframe tbody tr th {\n",
       "        vertical-align: top;\n",
       "    }\n",
       "\n",
       "    .dataframe thead th {\n",
       "        text-align: right;\n",
       "    }\n",
       "</style>\n",
       "<table border=\"1\" class=\"dataframe\">\n",
       "  <thead>\n",
       "    <tr style=\"text-align: right;\">\n",
       "      <th></th>\n",
       "      <th>ever_married_Yes</th>\n",
       "      <th>work_type_Never_worked</th>\n",
       "      <th>work_type_Private</th>\n",
       "      <th>work_type_Self-employed</th>\n",
       "      <th>work_type_children</th>\n",
       "      <th>smoking_status_formerly smoked</th>\n",
       "      <th>smoking_status_never smoked</th>\n",
       "      <th>smoking_status_smokes</th>\n",
       "      <th>age</th>\n",
       "      <th>hypertension</th>\n",
       "      <th>heart_disease</th>\n",
       "      <th>avg_glucose_level</th>\n",
       "      <th>bmi</th>\n",
       "    </tr>\n",
       "  </thead>\n",
       "  <tbody>\n",
       "    <tr>\n",
       "      <th>0</th>\n",
       "      <td>1.0</td>\n",
       "      <td>0.0</td>\n",
       "      <td>1.0</td>\n",
       "      <td>0.0</td>\n",
       "      <td>0.0</td>\n",
       "      <td>0.0</td>\n",
       "      <td>1.0</td>\n",
       "      <td>0.0</td>\n",
       "      <td>79.0</td>\n",
       "      <td>0.0</td>\n",
       "      <td>0.0</td>\n",
       "      <td>65.59</td>\n",
       "      <td>28.1</td>\n",
       "    </tr>\n",
       "    <tr>\n",
       "      <th>1</th>\n",
       "      <td>1.0</td>\n",
       "      <td>0.0</td>\n",
       "      <td>1.0</td>\n",
       "      <td>0.0</td>\n",
       "      <td>0.0</td>\n",
       "      <td>0.0</td>\n",
       "      <td>1.0</td>\n",
       "      <td>0.0</td>\n",
       "      <td>45.0</td>\n",
       "      <td>0.0</td>\n",
       "      <td>0.0</td>\n",
       "      <td>90.35</td>\n",
       "      <td>22.3</td>\n",
       "    </tr>\n",
       "    <tr>\n",
       "      <th>2</th>\n",
       "      <td>0.0</td>\n",
       "      <td>0.0</td>\n",
       "      <td>0.0</td>\n",
       "      <td>0.0</td>\n",
       "      <td>1.0</td>\n",
       "      <td>0.0</td>\n",
       "      <td>0.0</td>\n",
       "      <td>0.0</td>\n",
       "      <td>2.0</td>\n",
       "      <td>0.0</td>\n",
       "      <td>0.0</td>\n",
       "      <td>94.92</td>\n",
       "      <td>20.4</td>\n",
       "    </tr>\n",
       "    <tr>\n",
       "      <th>3</th>\n",
       "      <td>1.0</td>\n",
       "      <td>0.0</td>\n",
       "      <td>1.0</td>\n",
       "      <td>0.0</td>\n",
       "      <td>0.0</td>\n",
       "      <td>0.0</td>\n",
       "      <td>0.0</td>\n",
       "      <td>0.0</td>\n",
       "      <td>49.0</td>\n",
       "      <td>0.0</td>\n",
       "      <td>0.0</td>\n",
       "      <td>125.63</td>\n",
       "      <td>57.2</td>\n",
       "    </tr>\n",
       "    <tr>\n",
       "      <th>4</th>\n",
       "      <td>1.0</td>\n",
       "      <td>0.0</td>\n",
       "      <td>1.0</td>\n",
       "      <td>0.0</td>\n",
       "      <td>0.0</td>\n",
       "      <td>0.0</td>\n",
       "      <td>1.0</td>\n",
       "      <td>0.0</td>\n",
       "      <td>50.0</td>\n",
       "      <td>0.0</td>\n",
       "      <td>0.0</td>\n",
       "      <td>120.44</td>\n",
       "      <td>30.3</td>\n",
       "    </tr>\n",
       "    <tr>\n",
       "      <th>...</th>\n",
       "      <td>...</td>\n",
       "      <td>...</td>\n",
       "      <td>...</td>\n",
       "      <td>...</td>\n",
       "      <td>...</td>\n",
       "      <td>...</td>\n",
       "      <td>...</td>\n",
       "      <td>...</td>\n",
       "      <td>...</td>\n",
       "      <td>...</td>\n",
       "      <td>...</td>\n",
       "      <td>...</td>\n",
       "      <td>...</td>\n",
       "    </tr>\n",
       "    <tr>\n",
       "      <th>762</th>\n",
       "      <td>1.0</td>\n",
       "      <td>0.0</td>\n",
       "      <td>1.0</td>\n",
       "      <td>0.0</td>\n",
       "      <td>0.0</td>\n",
       "      <td>0.0</td>\n",
       "      <td>0.0</td>\n",
       "      <td>1.0</td>\n",
       "      <td>54.0</td>\n",
       "      <td>0.0</td>\n",
       "      <td>0.0</td>\n",
       "      <td>206.52</td>\n",
       "      <td>35.4</td>\n",
       "    </tr>\n",
       "    <tr>\n",
       "      <th>763</th>\n",
       "      <td>1.0</td>\n",
       "      <td>0.0</td>\n",
       "      <td>1.0</td>\n",
       "      <td>0.0</td>\n",
       "      <td>0.0</td>\n",
       "      <td>0.0</td>\n",
       "      <td>1.0</td>\n",
       "      <td>0.0</td>\n",
       "      <td>78.0</td>\n",
       "      <td>0.0</td>\n",
       "      <td>0.0</td>\n",
       "      <td>243.50</td>\n",
       "      <td>26.1</td>\n",
       "    </tr>\n",
       "    <tr>\n",
       "      <th>764</th>\n",
       "      <td>1.0</td>\n",
       "      <td>0.0</td>\n",
       "      <td>0.0</td>\n",
       "      <td>0.0</td>\n",
       "      <td>0.0</td>\n",
       "      <td>1.0</td>\n",
       "      <td>0.0</td>\n",
       "      <td>0.0</td>\n",
       "      <td>64.0</td>\n",
       "      <td>0.0</td>\n",
       "      <td>0.0</td>\n",
       "      <td>239.64</td>\n",
       "      <td>34.6</td>\n",
       "    </tr>\n",
       "    <tr>\n",
       "      <th>765</th>\n",
       "      <td>0.0</td>\n",
       "      <td>0.0</td>\n",
       "      <td>0.0</td>\n",
       "      <td>0.0</td>\n",
       "      <td>1.0</td>\n",
       "      <td>0.0</td>\n",
       "      <td>1.0</td>\n",
       "      <td>0.0</td>\n",
       "      <td>10.0</td>\n",
       "      <td>0.0</td>\n",
       "      <td>0.0</td>\n",
       "      <td>117.03</td>\n",
       "      <td>21.1</td>\n",
       "    </tr>\n",
       "    <tr>\n",
       "      <th>766</th>\n",
       "      <td>1.0</td>\n",
       "      <td>0.0</td>\n",
       "      <td>0.0</td>\n",
       "      <td>0.0</td>\n",
       "      <td>0.0</td>\n",
       "      <td>0.0</td>\n",
       "      <td>1.0</td>\n",
       "      <td>0.0</td>\n",
       "      <td>53.0</td>\n",
       "      <td>1.0</td>\n",
       "      <td>0.0</td>\n",
       "      <td>83.73</td>\n",
       "      <td>32.5</td>\n",
       "    </tr>\n",
       "  </tbody>\n",
       "</table>\n",
       "<p>767 rows × 13 columns</p>\n",
       "</div>"
      ],
      "text/plain": [
       "     ever_married_Yes  work_type_Never_worked  work_type_Private  \\\n",
       "0                 1.0                     0.0                1.0   \n",
       "1                 1.0                     0.0                1.0   \n",
       "2                 0.0                     0.0                0.0   \n",
       "3                 1.0                     0.0                1.0   \n",
       "4                 1.0                     0.0                1.0   \n",
       "..                ...                     ...                ...   \n",
       "762               1.0                     0.0                1.0   \n",
       "763               1.0                     0.0                1.0   \n",
       "764               1.0                     0.0                0.0   \n",
       "765               0.0                     0.0                0.0   \n",
       "766               1.0                     0.0                0.0   \n",
       "\n",
       "     work_type_Self-employed  work_type_children  \\\n",
       "0                        0.0                 0.0   \n",
       "1                        0.0                 0.0   \n",
       "2                        0.0                 1.0   \n",
       "3                        0.0                 0.0   \n",
       "4                        0.0                 0.0   \n",
       "..                       ...                 ...   \n",
       "762                      0.0                 0.0   \n",
       "763                      0.0                 0.0   \n",
       "764                      0.0                 0.0   \n",
       "765                      0.0                 1.0   \n",
       "766                      0.0                 0.0   \n",
       "\n",
       "     smoking_status_formerly smoked  smoking_status_never smoked  \\\n",
       "0                               0.0                          1.0   \n",
       "1                               0.0                          1.0   \n",
       "2                               0.0                          0.0   \n",
       "3                               0.0                          0.0   \n",
       "4                               0.0                          1.0   \n",
       "..                              ...                          ...   \n",
       "762                             0.0                          0.0   \n",
       "763                             0.0                          1.0   \n",
       "764                             1.0                          0.0   \n",
       "765                             0.0                          1.0   \n",
       "766                             0.0                          1.0   \n",
       "\n",
       "     smoking_status_smokes   age  hypertension  heart_disease  \\\n",
       "0                      0.0  79.0           0.0            0.0   \n",
       "1                      0.0  45.0           0.0            0.0   \n",
       "2                      0.0   2.0           0.0            0.0   \n",
       "3                      0.0  49.0           0.0            0.0   \n",
       "4                      0.0  50.0           0.0            0.0   \n",
       "..                     ...   ...           ...            ...   \n",
       "762                    1.0  54.0           0.0            0.0   \n",
       "763                    0.0  78.0           0.0            0.0   \n",
       "764                    0.0  64.0           0.0            0.0   \n",
       "765                    0.0  10.0           0.0            0.0   \n",
       "766                    0.0  53.0           1.0            0.0   \n",
       "\n",
       "     avg_glucose_level   bmi  \n",
       "0                65.59  28.1  \n",
       "1                90.35  22.3  \n",
       "2                94.92  20.4  \n",
       "3               125.63  57.2  \n",
       "4               120.44  30.3  \n",
       "..                 ...   ...  \n",
       "762             206.52  35.4  \n",
       "763             243.50  26.1  \n",
       "764             239.64  34.6  \n",
       "765             117.03  21.1  \n",
       "766              83.73  32.5  \n",
       "\n",
       "[767 rows x 13 columns]"
      ]
     },
     "execution_count": 2,
     "metadata": {},
     "output_type": "execute_result"
    }
   ],
   "source": [
    "import pandas as pd\n",
    "\n",
    "from stroke_prediction.config import PROCESSED_DATA_DIR\n",
    "\n",
    "test_data = pd.read_parquet(PROCESSED_DATA_DIR / \"test-stroke-data.parquet\")\n",
    "\n",
    "X_test = test_data.drop(columns=[\"stroke\"])\n",
    "y_test = test_data[\"stroke\"]\n",
    "\n",
    "test_sample = X_test\n",
    "test_sample"
   ]
  },
  {
   "cell_type": "code",
   "execution_count": 3,
   "id": "6d8ed3d7",
   "metadata": {},
   "outputs": [
    {
     "data": {
      "application/vnd.microsoft.datawrangler.viewer.v0+json": {
       "columns": [
        {
         "name": "index",
         "rawType": "object",
         "type": "string"
        },
        {
         "name": "101",
         "rawType": "float64",
         "type": "float"
        }
       ],
       "ref": "11a67d22-ebe8-475b-83b8-8b7ee47ded13",
       "rows": [
        [
         "ever_married_Yes",
         "1.0"
        ],
        [
         "work_type_Never_worked",
         "0.0"
        ],
        [
         "work_type_Private",
         "0.0"
        ],
        [
         "work_type_Self-employed",
         "0.0"
        ],
        [
         "work_type_children",
         "0.0"
        ],
        [
         "smoking_status_formerly smoked",
         "0.0"
        ],
        [
         "smoking_status_never smoked",
         "0.0"
        ],
        [
         "smoking_status_smokes",
         "0.0"
        ],
        [
         "age",
         "62.0"
        ],
        [
         "hypertension",
         "0.0"
        ],
        [
         "heart_disease",
         "0.0"
        ],
        [
         "avg_glucose_level",
         "73.44"
        ],
        [
         "bmi",
         "23.4"
        ]
       ],
       "shape": {
        "columns": 1,
        "rows": 13
       }
      },
      "text/plain": [
       "ever_married_Yes                   1.00\n",
       "work_type_Never_worked             0.00\n",
       "work_type_Private                  0.00\n",
       "work_type_Self-employed            0.00\n",
       "work_type_children                 0.00\n",
       "smoking_status_formerly smoked     0.00\n",
       "smoking_status_never smoked        0.00\n",
       "smoking_status_smokes              0.00\n",
       "age                               62.00\n",
       "hypertension                       0.00\n",
       "heart_disease                      0.00\n",
       "avg_glucose_level                 73.44\n",
       "bmi                               23.40\n",
       "Name: 101, dtype: float64"
      ]
     },
     "execution_count": 3,
     "metadata": {},
     "output_type": "execute_result"
    }
   ],
   "source": [
    "test_sample.iloc[101,:]"
   ]
  },
  {
   "cell_type": "code",
   "execution_count": 23,
   "id": "63bb8e35",
   "metadata": {},
   "outputs": [
    {
     "data": {
      "application/vnd.microsoft.datawrangler.viewer.v0+json": {
       "columns": [
        {
         "name": "index",
         "rawType": "int64",
         "type": "integer"
        },
        {
         "name": "ever_married",
         "rawType": "bool",
         "type": "boolean"
        },
        {
         "name": "work_type_Never_worked",
         "rawType": "float64",
         "type": "float"
        },
        {
         "name": "work_type_Private",
         "rawType": "float64",
         "type": "float"
        },
        {
         "name": "work_type_Self-employed",
         "rawType": "float64",
         "type": "float"
        },
        {
         "name": "work_type_children",
         "rawType": "float64",
         "type": "float"
        },
        {
         "name": "smoking_status_formerly smoked",
         "rawType": "float64",
         "type": "float"
        },
        {
         "name": "smoking_status_never smoked",
         "rawType": "float64",
         "type": "float"
        },
        {
         "name": "smoking_status_smokes",
         "rawType": "float64",
         "type": "float"
        },
        {
         "name": "age",
         "rawType": "int64",
         "type": "integer"
        },
        {
         "name": "hypertension",
         "rawType": "bool",
         "type": "boolean"
        },
        {
         "name": "heart_disease",
         "rawType": "bool",
         "type": "boolean"
        },
        {
         "name": "avg_glucose_level",
         "rawType": "float64",
         "type": "float"
        },
        {
         "name": "bmi",
         "rawType": "float64",
         "type": "float"
        }
       ],
       "ref": "dcfd42cf-5e5c-4cfd-b843-3b9c7f040d13",
       "rows": [
        [
         "0",
         "False",
         "0.0",
         "0.0",
         "0.0",
         "0.0",
         "0.0",
         "0.0",
         "0.0",
         "62",
         "False",
         "False",
         "73.44",
         "23.4"
        ]
       ],
       "shape": {
        "columns": 13,
        "rows": 1
       }
      },
      "text/html": [
       "<div>\n",
       "<style scoped>\n",
       "    .dataframe tbody tr th:only-of-type {\n",
       "        vertical-align: middle;\n",
       "    }\n",
       "\n",
       "    .dataframe tbody tr th {\n",
       "        vertical-align: top;\n",
       "    }\n",
       "\n",
       "    .dataframe thead th {\n",
       "        text-align: right;\n",
       "    }\n",
       "</style>\n",
       "<table border=\"1\" class=\"dataframe\">\n",
       "  <thead>\n",
       "    <tr style=\"text-align: right;\">\n",
       "      <th></th>\n",
       "      <th>ever_married</th>\n",
       "      <th>work_type_Never_worked</th>\n",
       "      <th>work_type_Private</th>\n",
       "      <th>work_type_Self-employed</th>\n",
       "      <th>work_type_children</th>\n",
       "      <th>smoking_status_formerly smoked</th>\n",
       "      <th>smoking_status_never smoked</th>\n",
       "      <th>smoking_status_smokes</th>\n",
       "      <th>age</th>\n",
       "      <th>hypertension</th>\n",
       "      <th>heart_disease</th>\n",
       "      <th>avg_glucose_level</th>\n",
       "      <th>bmi</th>\n",
       "    </tr>\n",
       "  </thead>\n",
       "  <tbody>\n",
       "    <tr>\n",
       "      <th>0</th>\n",
       "      <td>False</td>\n",
       "      <td>0.0</td>\n",
       "      <td>0.0</td>\n",
       "      <td>0.0</td>\n",
       "      <td>0.0</td>\n",
       "      <td>0.0</td>\n",
       "      <td>0.0</td>\n",
       "      <td>0.0</td>\n",
       "      <td>62</td>\n",
       "      <td>False</td>\n",
       "      <td>False</td>\n",
       "      <td>73.44</td>\n",
       "      <td>23.4</td>\n",
       "    </tr>\n",
       "  </tbody>\n",
       "</table>\n",
       "</div>"
      ],
      "text/plain": [
       "   ever_married  work_type_Never_worked  work_type_Private  \\\n",
       "0         False                     0.0                0.0   \n",
       "\n",
       "   work_type_Self-employed  work_type_children  \\\n",
       "0                      0.0                 0.0   \n",
       "\n",
       "   smoking_status_formerly smoked  smoking_status_never smoked  \\\n",
       "0                             0.0                          0.0   \n",
       "\n",
       "   smoking_status_smokes  age  hypertension  heart_disease  avg_glucose_level  \\\n",
       "0                    0.0   62         False          False              73.44   \n",
       "\n",
       "    bmi  \n",
       "0  23.4  "
      ]
     },
     "execution_count": 23,
     "metadata": {},
     "output_type": "execute_result"
    }
   ],
   "source": [
    "from app.util import load_preprocessor\n",
    "\n",
    "test = [\n",
    "    {\n",
    "    \"age\": 62,\n",
    "    \"gender\": \"Male\",\n",
    "    \"work_type\": \"Govt_job\",\n",
    "    \"residence_type\": \"Urban\",\n",
    "    \"hypertension\": False,\n",
    "    \"heart_disease\": False,\n",
    "    \"ever_married\": False,\n",
    "    \"avg_glucose_level\": 73.44,\n",
    "    \"bmi\": 23.4,\n",
    "    \"smoking_status\": \"Unknown\"\n",
    "  }\n",
    "]\n",
    "\n",
    "preprocessor = load_preprocessor(PROJ_ROOT / \"models\" / \"preprocessor.pkl\")\n",
    "test = pd.DataFrame(test)\n",
    "preprocessor.set_output(transform=\"pandas\")\n",
    "test = preprocessor.transform(test)\n",
    "test[['ever_married', 'work_type_Never_worked', 'work_type_Private',\n",
    "       'work_type_Self-employed', 'work_type_children',\n",
    "       'smoking_status_formerly smoked', 'smoking_status_never smoked',\n",
    "       'smoking_status_smokes', 'age', 'hypertension', 'heart_disease',\n",
    "       'avg_glucose_level', 'bmi']]"
   ]
  },
  {
   "cell_type": "code",
   "execution_count": 17,
   "id": "a3db16f7",
   "metadata": {},
   "outputs": [
    {
     "data": {
      "application/vnd.microsoft.datawrangler.viewer.v0+json": {
       "columns": [
        {
         "name": "index",
         "rawType": "int64",
         "type": "integer"
        },
        {
         "name": "output_label",
         "rawType": "int64",
         "type": "integer"
        }
       ],
       "ref": "bb4a6d3a-f7b1-496a-b26b-53b19c60c635",
       "rows": [
        [
         "0",
         "1"
        ]
       ],
       "shape": {
        "columns": 1,
        "rows": 1
       }
      },
      "text/plain": [
       "0    1\n",
       "Name: output_label, dtype: int64"
      ]
     },
     "execution_count": 17,
     "metadata": {},
     "output_type": "execute_result"
    }
   ],
   "source": [
    "y_pred = runner.predict(test)\n",
    "y_pred"
   ]
  },
  {
   "cell_type": "markdown",
   "id": "fd62c9f2",
   "metadata": {},
   "source": [
    "Run the model"
   ]
  },
  {
   "cell_type": "code",
   "execution_count": null,
   "id": "263acf29",
   "metadata": {},
   "outputs": [
    {
     "data": {
      "application/vnd.microsoft.datawrangler.viewer.v0+json": {
       "columns": [
        {
         "name": "index",
         "rawType": "int64",
         "type": "integer"
        },
        {
         "name": "output_label",
         "rawType": "int64",
         "type": "integer"
        }
       ],
       "ref": "1c36e4f0-a27a-4d1e-b9cc-989da7bd26be",
       "rows": [
        [
         "0",
         "0"
        ],
        [
         "1",
         "0"
        ],
        [
         "2",
         "0"
        ],
        [
         "3",
         "0"
        ],
        [
         "4",
         "0"
        ],
        [
         "5",
         "0"
        ],
        [
         "6",
         "0"
        ],
        [
         "7",
         "0"
        ],
        [
         "8",
         "0"
        ],
        [
         "9",
         "0"
        ],
        [
         "10",
         "0"
        ],
        [
         "11",
         "0"
        ],
        [
         "12",
         "0"
        ],
        [
         "13",
         "0"
        ],
        [
         "14",
         "0"
        ],
        [
         "15",
         "0"
        ],
        [
         "16",
         "0"
        ],
        [
         "17",
         "0"
        ],
        [
         "18",
         "0"
        ],
        [
         "19",
         "0"
        ],
        [
         "20",
         "0"
        ],
        [
         "21",
         "0"
        ],
        [
         "22",
         "0"
        ],
        [
         "23",
         "0"
        ],
        [
         "24",
         "0"
        ],
        [
         "25",
         "0"
        ],
        [
         "26",
         "0"
        ],
        [
         "27",
         "0"
        ],
        [
         "28",
         "0"
        ],
        [
         "29",
         "0"
        ],
        [
         "30",
         "0"
        ],
        [
         "31",
         "0"
        ],
        [
         "32",
         "0"
        ],
        [
         "33",
         "0"
        ],
        [
         "34",
         "0"
        ],
        [
         "35",
         "0"
        ],
        [
         "36",
         "0"
        ],
        [
         "37",
         "0"
        ],
        [
         "38",
         "0"
        ],
        [
         "39",
         "0"
        ],
        [
         "40",
         "0"
        ],
        [
         "41",
         "0"
        ],
        [
         "42",
         "0"
        ],
        [
         "43",
         "0"
        ],
        [
         "44",
         "0"
        ],
        [
         "45",
         "0"
        ],
        [
         "46",
         "0"
        ],
        [
         "47",
         "0"
        ],
        [
         "48",
         "0"
        ],
        [
         "49",
         "0"
        ]
       ],
       "shape": {
        "columns": 1,
        "rows": 767
       }
      },
      "text/plain": [
       "0      0\n",
       "1      0\n",
       "2      0\n",
       "3      0\n",
       "4      0\n",
       "      ..\n",
       "762    0\n",
       "763    0\n",
       "764    0\n",
       "765    0\n",
       "766    0\n",
       "Name: output_label, Length: 767, dtype: int64"
      ]
     },
     "execution_count": 4,
     "metadata": {},
     "output_type": "execute_result"
    }
   ],
   "source": [
    "y_pred = runner.predict(test_sample)\n",
    "y_pred"
   ]
  },
  {
   "cell_type": "markdown",
   "id": "cf782d1f",
   "metadata": {},
   "source": [
    "Check the model metrics"
   ]
  },
  {
   "cell_type": "code",
   "execution_count": 5,
   "id": "7c16b6f4",
   "metadata": {},
   "outputs": [
    {
     "name": "stdout",
     "output_type": "stream",
     "text": [
      "              precision    recall  f1-score   support\n",
      "\n",
      "   No Stroke       0.96      0.98      0.97       729\n",
      "      Stroke       0.22      0.13      0.16        38\n",
      "\n",
      "    accuracy                           0.93       767\n",
      "   macro avg       0.59      0.55      0.56       767\n",
      "weighted avg       0.92      0.93      0.93       767\n",
      "\n"
     ]
    }
   ],
   "source": [
    "from sklearn.metrics import classification_report\n",
    "\n",
    "print(classification_report(y_test, y_pred, target_names=[\"No Stroke\", \"Stroke\"]))"
   ]
  }
 ],
 "metadata": {
  "kernelspec": {
   "display_name": ".venv",
   "language": "python",
   "name": "python3"
  },
  "language_info": {
   "codemirror_mode": {
    "name": "ipython",
    "version": 3
   },
   "file_extension": ".py",
   "mimetype": "text/x-python",
   "name": "python",
   "nbconvert_exporter": "python",
   "pygments_lexer": "ipython3",
   "version": "3.12.9"
  }
 },
 "nbformat": 4,
 "nbformat_minor": 5
}
