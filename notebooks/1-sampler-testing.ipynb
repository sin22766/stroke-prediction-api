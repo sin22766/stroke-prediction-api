{
 "cells": [
  {
   "cell_type": "markdown",
   "id": "c11ba8a9",
   "metadata": {},
   "source": [
    "# Sampler Testing\n",
    "This notebook use to test which sampler works best for the given dataset."
   ]
  },
  {
   "cell_type": "code",
   "execution_count": 1,
   "id": "636b5da6",
   "metadata": {},
   "outputs": [
    {
     "name": "stderr",
     "output_type": "stream",
     "text": [
      "\u001b[32m2025-05-27 14:04:01.638\u001b[0m | \u001b[1mINFO    \u001b[0m | \u001b[36mstroke_prediction.config\u001b[0m:\u001b[36m<module>\u001b[0m:\u001b[36m11\u001b[0m - \u001b[1mPROJ_ROOT path is: E:\\Projects\\stroke-prediction-api\u001b[0m\n"
     ]
    }
   ],
   "source": [
    "import pandas as pd\n",
    "\n",
    "from stroke_prediction.config import PROCESSED_DATA_DIR\n",
    "\n",
    "train_data = pd.read_parquet(PROCESSED_DATA_DIR / \"train-stroke-data.parquet\")\n",
    "test_data = pd.read_parquet(PROCESSED_DATA_DIR / \"test-stroke-data.parquet\")"
   ]
  },
  {
   "cell_type": "code",
   "execution_count": 2,
   "id": "ac3e10d4",
   "metadata": {},
   "outputs": [],
   "source": [
    "from sklearn.model_selection import train_test_split\n",
    "\n",
    "X_train_val = train_data.drop(columns=[\"stroke\"])\n",
    "y_train_val = train_data[\"stroke\"]\n",
    "\n",
    "X_train, X_val, y_train, y_val = train_test_split(\n",
    "    X_train_val, y_train_val, test_size=0.2, random_state=42, stratify=y_train_val\n",
    ")\n",
    "\n",
    "X_test = test_data.drop(columns=[\"stroke\"])\n",
    "y_test = test_data[\"stroke\"]"
   ]
  },
  {
   "cell_type": "markdown",
   "id": "b42eb38e",
   "metadata": {},
   "source": [
    "We will track the experiments using MLflow."
   ]
  },
  {
   "cell_type": "code",
   "execution_count": null,
   "id": "dbb31340",
   "metadata": {},
   "outputs": [],
   "source": [
    "import mlflow\n",
    "\n",
    "from stroke_prediction.util import get_or_create_experiment\n",
    "\n",
    "mlflow.set_tracking_uri(\"https://mlflow.spikehub.win/\")\n",
    "experiment_id = get_or_create_experiment(\"Sampler Testing\")"
   ]
  },
  {
   "cell_type": "markdown",
   "id": "d14f487e",
   "metadata": {},
   "source": [
    "Before running the experiment, we will prepare the objective function that will be use to try each sampler."
   ]
  },
  {
   "cell_type": "code",
   "execution_count": null,
   "id": "2858e9e6",
   "metadata": {},
   "outputs": [],
   "source": [
    "from typing import Callable\n",
    "\n",
    "import optuna\n",
    "from imblearn.base import BaseSampler\n",
    "from imblearn.over_sampling import (\n",
    "    ADASYN,\n",
    "    SMOTE,\n",
    "    SMOTEN,\n",
    "    SVMSMOTE,\n",
    "    BorderlineSMOTE,\n",
    "    RandomOverSampler,\n",
    ")\n",
    "from imblearn.under_sampling import (\n",
    "    AllKNN,\n",
    "    CondensedNearestNeighbour,\n",
    "    EditedNearestNeighbours,\n",
    "    NearMiss,\n",
    "    NeighbourhoodCleaningRule,\n",
    "    OneSidedSelection,\n",
    "    RandomUnderSampler,\n",
    "    RepeatedEditedNearestNeighbours,\n",
    "    TomekLinks,\n",
    ")\n",
    "from sklearn.base import BaseEstimator\n",
    "from sklearn.metrics import f1_score\n",
    "from sklearn.tree import DecisionTreeClassifier\n",
    "\n",
    "\n",
    "class DummySampler(BaseSampler):\n",
    "    def __init__(self):\n",
    "        super().__init__()\n",
    "\n",
    "    def _fit_resample(self, X, y):\n",
    "        return X, y\n",
    "\n",
    "    def fit_resample(self, X, y):\n",
    "        return self._fit_resample(X, y)\n",
    "\n",
    "\n",
    "oversampler = {\n",
    "    \"ADASYN\": ADASYN,\n",
    "    \"SMOTE\": SMOTE,\n",
    "    \"SMOTEN\": SMOTEN,\n",
    "    \"SVMSMOTE\": SVMSMOTE,\n",
    "    \"BorderlineSMOTE\": BorderlineSMOTE,\n",
    "    \"RandomOverSampler\": RandomOverSampler,\n",
    "    \"None\": DummySampler,\n",
    "}\n",
    "\n",
    "undersampler = {\n",
    "    \"AllKNN\": AllKNN,\n",
    "    \"CondensedNearestNeighbour\": CondensedNearestNeighbour,\n",
    "    \"EditedNearestNeighbours\": EditedNearestNeighbours,\n",
    "    \"NearMiss\": NearMiss,\n",
    "    \"NeighbourhoodCleaningRule\": NeighbourhoodCleaningRule,\n",
    "    \"OneSidedSelection\": OneSidedSelection,\n",
    "    \"RandomUnderSampler\": RandomUnderSampler,\n",
    "    \"RepeatedEditedNearestNeighbours\": RepeatedEditedNearestNeighbours,\n",
    "    \"TomekLinks\": TomekLinks,\n",
    "    \"None\": DummySampler,\n",
    "}\n",
    "\n",
    "oversampler_list = list(oversampler.keys())\n",
    "undersampler_list = list(undersampler.keys())\n",
    "\n",
    "search_space = {\"oversampling_method\": oversampler_list, \"undersampling_method\": undersampler_list}"
   ]
  },
  {
   "cell_type": "code",
   "execution_count": null,
   "id": "acb0f3db",
   "metadata": {},
   "outputs": [],
   "source": [
    "def create_objective(create_model: Callable[[], BaseEstimator]) -> callable:\n",
    "    def objective(trial: optuna.Trial) -> float:\n",
    "        with mlflow.start_run(nested=True):\n",
    "            oversampling_method = trial.suggest_categorical(\"oversampling_method\", oversampler_list)\n",
    "            undersammpling_method = trial.suggest_categorical(\n",
    "                \"undersampling_method\",\n",
    "                undersampler_list,\n",
    "            )\n",
    "\n",
    "            # Check if it has random_state parameter\n",
    "            try:\n",
    "                oversampler_instance = oversampler[oversampling_method](random_state=42)\n",
    "            except TypeError:\n",
    "                oversampler_instance = oversampler[oversampling_method]()\n",
    "\n",
    "            try:\n",
    "                undersampler_instance = undersampler[undersammpling_method](random_state=42)\n",
    "            except TypeError:\n",
    "                undersampler_instance = undersampler[undersammpling_method]()\n",
    "\n",
    "            X_train_resampled, y_train_resampled = oversampler_instance.fit_resample(\n",
    "                X_train, y_train\n",
    "            )\n",
    "            X_train_resampled, y_train_resampled = undersampler_instance.fit_resample(\n",
    "                X_train_resampled, y_train_resampled\n",
    "            )\n",
    "\n",
    "            clf = create_model()\n",
    "\n",
    "            clf.fit(X_train_resampled, y_train_resampled)\n",
    "            y_pred = clf.predict(X_val)\n",
    "            f1_score_val = f1_score(y_val, y_pred)\n",
    "\n",
    "            mlflow.log_params(\n",
    "                {\n",
    "                    \"oversampling_method\": oversampling_method,\n",
    "                    \"undersampling_method\": undersammpling_method,\n",
    "                }\n",
    "            )\n",
    "            mlflow.log_metric(\"f1\", f1_score_val)\n",
    "\n",
    "        return f1_score_val\n",
    "\n",
    "    return objective"
   ]
  },
  {
   "cell_type": "markdown",
   "id": "90f03793",
   "metadata": {},
   "source": [
    "## Decision Tree\n",
    "First we will try a decision tree classifier to see how well it performs on the dataset for each sampler combination."
   ]
  },
  {
   "cell_type": "code",
   "execution_count": null,
   "id": "787c6fb9",
   "metadata": {},
   "outputs": [
    {
     "name": "stderr",
     "output_type": "stream",
     "text": [
      "[I 2025-05-27 14:14:31,411] A new study created in memory with name: no-name-514c7f32-e413-427f-bff2-3c9639f5a3e0\n",
      "[I 2025-05-27 14:14:32,943] Trial 0 finished with value: 0.13157894736842105 and parameters: {'oversampling_method': 'SMOTEN', 'undersampling_method': 'RandomUnderSampler'}. Best is trial 0 with value: 0.13157894736842105.\n"
     ]
    },
    {
     "name": "stdout",
     "output_type": "stream",
     "text": [
      "🏃 View run powerful-mole-270 at: https://mlflow.spikehub.win/#/experiments/0/runs/7031bd829f3a498e9c031b7ff880ee18\n",
      "🧪 View experiment at: https://mlflow.spikehub.win/#/experiments/0\n"
     ]
    },
    {
     "name": "stderr",
     "output_type": "stream",
     "text": [
      "[I 2025-05-27 14:14:34,466] Trial 1 finished with value: 0.0 and parameters: {'oversampling_method': 'SMOTEN', 'undersampling_method': 'RepeatedEditedNearestNeighbours'}. Best is trial 0 with value: 0.13157894736842105.\n"
     ]
    },
    {
     "name": "stdout",
     "output_type": "stream",
     "text": [
      "🏃 View run languid-crane-137 at: https://mlflow.spikehub.win/#/experiments/0/runs/866075dc34064196912ebc74159d8a5e\n",
      "🧪 View experiment at: https://mlflow.spikehub.win/#/experiments/0\n"
     ]
    },
    {
     "name": "stderr",
     "output_type": "stream",
     "text": [
      "[I 2025-05-27 14:14:34,869] Trial 2 finished with value: 0.1111111111111111 and parameters: {'oversampling_method': 'BorderlineSMOTE', 'undersampling_method': 'TomekLinks'}. Best is trial 0 with value: 0.13157894736842105.\n"
     ]
    },
    {
     "name": "stdout",
     "output_type": "stream",
     "text": [
      "🏃 View run casual-wren-102 at: https://mlflow.spikehub.win/#/experiments/0/runs/e03e0879a6dc42f9a14f5a8cb709fe0e\n",
      "🧪 View experiment at: https://mlflow.spikehub.win/#/experiments/0\n"
     ]
    },
    {
     "name": "stderr",
     "output_type": "stream",
     "text": [
      "[I 2025-05-27 14:14:36,253] Trial 3 finished with value: 0.0 and parameters: {'oversampling_method': 'SMOTEN', 'undersampling_method': 'EditedNearestNeighbours'}. Best is trial 0 with value: 0.13157894736842105.\n"
     ]
    },
    {
     "name": "stdout",
     "output_type": "stream",
     "text": [
      "🏃 View run enchanting-whale-134 at: https://mlflow.spikehub.win/#/experiments/0/runs/17986f853a9c40a998d89e8658654f3d\n",
      "🧪 View experiment at: https://mlflow.spikehub.win/#/experiments/0\n"
     ]
    },
    {
     "name": "stderr",
     "output_type": "stream",
     "text": [
      "[I 2025-05-27 14:14:36,725] Trial 4 finished with value: 0.20168067226890757 and parameters: {'oversampling_method': 'SVMSMOTE', 'undersampling_method': 'AllKNN'}. Best is trial 4 with value: 0.20168067226890757.\n"
     ]
    },
    {
     "name": "stdout",
     "output_type": "stream",
     "text": [
      "🏃 View run silent-koi-947 at: https://mlflow.spikehub.win/#/experiments/0/runs/f1f17de8e3a9434484df3092c76fb1c0\n",
      "🧪 View experiment at: https://mlflow.spikehub.win/#/experiments/0\n"
     ]
    },
    {
     "name": "stderr",
     "output_type": "stream",
     "text": [
      "[I 2025-05-27 14:14:47,842] Trial 5 finished with value: 0.14705882352941177 and parameters: {'oversampling_method': 'RandomOverSampler', 'undersampling_method': 'CondensedNearestNeighbour'}. Best is trial 4 with value: 0.20168067226890757.\n"
     ]
    },
    {
     "name": "stdout",
     "output_type": "stream",
     "text": [
      "🏃 View run painted-fish-3 at: https://mlflow.spikehub.win/#/experiments/0/runs/4932ec4a603945d7b8f7c497fd056a36\n",
      "🧪 View experiment at: https://mlflow.spikehub.win/#/experiments/0\n"
     ]
    },
    {
     "name": "stderr",
     "output_type": "stream",
     "text": [
      "[I 2025-05-27 14:14:48,189] Trial 6 finished with value: 0.16901408450704225 and parameters: {'oversampling_method': 'ADASYN', 'undersampling_method': 'RepeatedEditedNearestNeighbours'}. Best is trial 4 with value: 0.20168067226890757.\n"
     ]
    },
    {
     "name": "stdout",
     "output_type": "stream",
     "text": [
      "🏃 View run peaceful-dolphin-351 at: https://mlflow.spikehub.win/#/experiments/0/runs/6ab2440145ab4c24b7afb82cfedd5cd1\n",
      "🧪 View experiment at: https://mlflow.spikehub.win/#/experiments/0\n"
     ]
    },
    {
     "name": "stderr",
     "output_type": "stream",
     "text": [
      "[I 2025-05-27 14:14:48,617] Trial 7 finished with value: 0.09375 and parameters: {'oversampling_method': 'RandomOverSampler', 'undersampling_method': 'None'}. Best is trial 4 with value: 0.20168067226890757.\n"
     ]
    },
    {
     "name": "stdout",
     "output_type": "stream",
     "text": [
      "🏃 View run merciful-koi-287 at: https://mlflow.spikehub.win/#/experiments/0/runs/14b60e3150ed46d69af806e3123ea5df\n",
      "🧪 View experiment at: https://mlflow.spikehub.win/#/experiments/0\n"
     ]
    },
    {
     "name": "stderr",
     "output_type": "stream",
     "text": [
      "[I 2025-05-27 14:14:49,277] Trial 8 finished with value: 0.10752688172043011 and parameters: {'oversampling_method': 'SVMSMOTE', 'undersampling_method': 'NeighbourhoodCleaningRule'}. Best is trial 4 with value: 0.20168067226890757.\n"
     ]
    },
    {
     "name": "stdout",
     "output_type": "stream",
     "text": [
      "🏃 View run abundant-toad-790 at: https://mlflow.spikehub.win/#/experiments/0/runs/e6b7b7a660f64c4b97e54f4229ac69f7\n",
      "🧪 View experiment at: https://mlflow.spikehub.win/#/experiments/0\n"
     ]
    },
    {
     "name": "stderr",
     "output_type": "stream",
     "text": [
      "[I 2025-05-27 14:14:49,668] Trial 9 finished with value: 0.08333333333333333 and parameters: {'oversampling_method': 'None', 'undersampling_method': 'None'}. Best is trial 4 with value: 0.20168067226890757.\n"
     ]
    },
    {
     "name": "stdout",
     "output_type": "stream",
     "text": [
      "🏃 View run gregarious-gull-599 at: https://mlflow.spikehub.win/#/experiments/0/runs/3de8d6d6059d4b69b55354dde408b702\n",
      "🧪 View experiment at: https://mlflow.spikehub.win/#/experiments/0\n"
     ]
    },
    {
     "name": "stderr",
     "output_type": "stream",
     "text": [
      "[I 2025-05-27 14:14:50,010] Trial 10 finished with value: 0.09375 and parameters: {'oversampling_method': 'RandomOverSampler', 'undersampling_method': 'RandomUnderSampler'}. Best is trial 4 with value: 0.20168067226890757.\n"
     ]
    },
    {
     "name": "stdout",
     "output_type": "stream",
     "text": [
      "🏃 View run luxuriant-fawn-325 at: https://mlflow.spikehub.win/#/experiments/0/runs/3391f1def5fa49119d015cd24907a578\n",
      "🧪 View experiment at: https://mlflow.spikehub.win/#/experiments/0\n"
     ]
    },
    {
     "name": "stderr",
     "output_type": "stream",
     "text": [
      "[I 2025-05-27 14:14:51,537] Trial 11 finished with value: 0.03571428571428571 and parameters: {'oversampling_method': 'SMOTEN', 'undersampling_method': 'TomekLinks'}. Best is trial 4 with value: 0.20168067226890757.\n"
     ]
    },
    {
     "name": "stdout",
     "output_type": "stream",
     "text": [
      "🏃 View run intrigued-zebra-143 at: https://mlflow.spikehub.win/#/experiments/0/runs/cd447cfa045b45e5aee7a24879294e53\n",
      "🧪 View experiment at: https://mlflow.spikehub.win/#/experiments/0\n"
     ]
    },
    {
     "name": "stderr",
     "output_type": "stream",
     "text": [
      "[I 2025-05-27 14:15:27,755] Trial 12 finished with value: 0.0759493670886076 and parameters: {'oversampling_method': 'SVMSMOTE', 'undersampling_method': 'CondensedNearestNeighbour'}. Best is trial 4 with value: 0.20168067226890757.\n"
     ]
    },
    {
     "name": "stdout",
     "output_type": "stream",
     "text": [
      "🏃 View run legendary-kit-410 at: https://mlflow.spikehub.win/#/experiments/0/runs/cbd17e1dddc2456db8821b7ad316f71e\n",
      "🧪 View experiment at: https://mlflow.spikehub.win/#/experiments/0\n"
     ]
    },
    {
     "name": "stderr",
     "output_type": "stream",
     "text": [
      "[I 2025-05-27 14:15:28,146] Trial 13 finished with value: 0.08955223880597014 and parameters: {'oversampling_method': 'BorderlineSMOTE', 'undersampling_method': 'EditedNearestNeighbours'}. Best is trial 4 with value: 0.20168067226890757.\n"
     ]
    },
    {
     "name": "stdout",
     "output_type": "stream",
     "text": [
      "🏃 View run invincible-ant-616 at: https://mlflow.spikehub.win/#/experiments/0/runs/ecb46e8bd4d741168ea0cd985dc7af33\n",
      "🧪 View experiment at: https://mlflow.spikehub.win/#/experiments/0\n"
     ]
    },
    {
     "name": "stderr",
     "output_type": "stream",
     "text": [
      "[I 2025-05-27 14:15:28,551] Trial 14 finished with value: 0.15555555555555556 and parameters: {'oversampling_method': 'SVMSMOTE', 'undersampling_method': 'NearMiss'}. Best is trial 4 with value: 0.20168067226890757.\n"
     ]
    },
    {
     "name": "stdout",
     "output_type": "stream",
     "text": [
      "🏃 View run righteous-auk-357 at: https://mlflow.spikehub.win/#/experiments/0/runs/157616b40d754976acd26981957901a8\n",
      "🧪 View experiment at: https://mlflow.spikehub.win/#/experiments/0\n"
     ]
    },
    {
     "name": "stderr",
     "output_type": "stream",
     "text": [
      "[I 2025-05-27 14:15:29,012] Trial 15 finished with value: 0.06060606060606061 and parameters: {'oversampling_method': 'RandomOverSampler', 'undersampling_method': 'OneSidedSelection'}. Best is trial 4 with value: 0.20168067226890757.\n"
     ]
    },
    {
     "name": "stdout",
     "output_type": "stream",
     "text": [
      "🏃 View run lyrical-wasp-936 at: https://mlflow.spikehub.win/#/experiments/0/runs/857cb96179bf4800a4fd135d1b63f980\n",
      "🧪 View experiment at: https://mlflow.spikehub.win/#/experiments/0\n"
     ]
    },
    {
     "name": "stderr",
     "output_type": "stream",
     "text": [
      "[I 2025-05-27 14:15:29,362] Trial 16 finished with value: 0.0759493670886076 and parameters: {'oversampling_method': 'None', 'undersampling_method': 'TomekLinks'}. Best is trial 4 with value: 0.20168067226890757.\n"
     ]
    },
    {
     "name": "stdout",
     "output_type": "stream",
     "text": [
      "🏃 View run orderly-bee-510 at: https://mlflow.spikehub.win/#/experiments/0/runs/02e96fc4a8014845b9253408326f3f24\n",
      "🧪 View experiment at: https://mlflow.spikehub.win/#/experiments/0\n"
     ]
    },
    {
     "name": "stderr",
     "output_type": "stream",
     "text": [
      "[I 2025-05-27 14:15:29,840] Trial 17 finished with value: 0.12244897959183673 and parameters: {'oversampling_method': 'None', 'undersampling_method': 'EditedNearestNeighbours'}. Best is trial 4 with value: 0.20168067226890757.\n"
     ]
    },
    {
     "name": "stdout",
     "output_type": "stream",
     "text": [
      "🏃 View run righteous-shoat-854 at: https://mlflow.spikehub.win/#/experiments/0/runs/0ac945c381064e9298244ee5d963024e\n",
      "🧪 View experiment at: https://mlflow.spikehub.win/#/experiments/0\n"
     ]
    },
    {
     "name": "stderr",
     "output_type": "stream",
     "text": [
      "[I 2025-05-27 14:15:30,321] Trial 18 finished with value: 0.08108108108108109 and parameters: {'oversampling_method': 'BorderlineSMOTE', 'undersampling_method': 'NearMiss'}. Best is trial 4 with value: 0.20168067226890757.\n"
     ]
    },
    {
     "name": "stdout",
     "output_type": "stream",
     "text": [
      "🏃 View run chill-wasp-256 at: https://mlflow.spikehub.win/#/experiments/0/runs/8b6d118daaab4c1792795a46a28ef20e\n",
      "🧪 View experiment at: https://mlflow.spikehub.win/#/experiments/0\n"
     ]
    },
    {
     "name": "stderr",
     "output_type": "stream",
     "text": [
      "[I 2025-05-27 14:15:30,842] Trial 19 finished with value: 0.1388888888888889 and parameters: {'oversampling_method': 'ADASYN', 'undersampling_method': 'NeighbourhoodCleaningRule'}. Best is trial 4 with value: 0.20168067226890757.\n"
     ]
    },
    {
     "name": "stdout",
     "output_type": "stream",
     "text": [
      "🏃 View run suave-conch-870 at: https://mlflow.spikehub.win/#/experiments/0/runs/b8c4ea0611ae4fb7a6a9d6c92c20ede3\n",
      "🧪 View experiment at: https://mlflow.spikehub.win/#/experiments/0\n"
     ]
    },
    {
     "name": "stderr",
     "output_type": "stream",
     "text": [
      "[I 2025-05-27 14:15:31,342] Trial 20 finished with value: 0.0759493670886076 and parameters: {'oversampling_method': 'None', 'undersampling_method': 'OneSidedSelection'}. Best is trial 4 with value: 0.20168067226890757.\n"
     ]
    },
    {
     "name": "stdout",
     "output_type": "stream",
     "text": [
      "🏃 View run awesome-ram-32 at: https://mlflow.spikehub.win/#/experiments/0/runs/9b12ae7469874fef99e7d9fac70d8451\n",
      "🧪 View experiment at: https://mlflow.spikehub.win/#/experiments/0\n"
     ]
    },
    {
     "name": "stderr",
     "output_type": "stream",
     "text": [
      "[I 2025-05-27 14:15:31,687] Trial 21 finished with value: 0.09375 and parameters: {'oversampling_method': 'RandomOverSampler', 'undersampling_method': 'AllKNN'}. Best is trial 4 with value: 0.20168067226890757.\n"
     ]
    },
    {
     "name": "stdout",
     "output_type": "stream",
     "text": [
      "🏃 View run upset-moose-476 at: https://mlflow.spikehub.win/#/experiments/0/runs/8e663d8a7eb74b9796aa538a027a872a\n",
      "🧪 View experiment at: https://mlflow.spikehub.win/#/experiments/0\n"
     ]
    },
    {
     "name": "stderr",
     "output_type": "stream",
     "text": [
      "[I 2025-05-27 14:15:32,127] Trial 22 finished with value: 0.16901408450704225 and parameters: {'oversampling_method': 'ADASYN', 'undersampling_method': 'EditedNearestNeighbours'}. Best is trial 4 with value: 0.20168067226890757.\n"
     ]
    },
    {
     "name": "stdout",
     "output_type": "stream",
     "text": [
      "🏃 View run salty-lark-891 at: https://mlflow.spikehub.win/#/experiments/0/runs/52ec682eafa246d5b2273d1a6e2c0898\n",
      "🧪 View experiment at: https://mlflow.spikehub.win/#/experiments/0\n"
     ]
    },
    {
     "name": "stderr",
     "output_type": "stream",
     "text": [
      "[I 2025-05-27 14:15:32,565] Trial 23 finished with value: 0.05970149253731343 and parameters: {'oversampling_method': 'BorderlineSMOTE', 'undersampling_method': 'AllKNN'}. Best is trial 4 with value: 0.20168067226890757.\n"
     ]
    },
    {
     "name": "stdout",
     "output_type": "stream",
     "text": [
      "🏃 View run charming-dove-350 at: https://mlflow.spikehub.win/#/experiments/0/runs/591bf1866cde421ebc3fc186e5bf660c\n",
      "🧪 View experiment at: https://mlflow.spikehub.win/#/experiments/0\n"
     ]
    },
    {
     "name": "stderr",
     "output_type": "stream",
     "text": [
      "[I 2025-05-27 14:16:08,526] Trial 24 finished with value: 0.028169014084507043 and parameters: {'oversampling_method': 'SMOTE', 'undersampling_method': 'CondensedNearestNeighbour'}. Best is trial 4 with value: 0.20168067226890757.\n"
     ]
    },
    {
     "name": "stdout",
     "output_type": "stream",
     "text": [
      "🏃 View run rare-stoat-911 at: https://mlflow.spikehub.win/#/experiments/0/runs/7520a8345bea421993974a690bfc6507\n",
      "🧪 View experiment at: https://mlflow.spikehub.win/#/experiments/0\n"
     ]
    },
    {
     "name": "stderr",
     "output_type": "stream",
     "text": [
      "[I 2025-05-27 14:16:08,809] Trial 25 finished with value: 0.031746031746031744 and parameters: {'oversampling_method': 'ADASYN', 'undersampling_method': 'NearMiss'}. Best is trial 4 with value: 0.20168067226890757.\n"
     ]
    },
    {
     "name": "stdout",
     "output_type": "stream",
     "text": [
      "🏃 View run defiant-wren-900 at: https://mlflow.spikehub.win/#/experiments/0/runs/2f94c8d47e57470eb765577af8804f8c\n",
      "🧪 View experiment at: https://mlflow.spikehub.win/#/experiments/0\n"
     ]
    },
    {
     "name": "stderr",
     "output_type": "stream",
     "text": [
      "[I 2025-05-27 14:16:09,432] Trial 26 finished with value: 0.14925373134328357 and parameters: {'oversampling_method': 'RandomOverSampler', 'undersampling_method': 'NeighbourhoodCleaningRule'}. Best is trial 4 with value: 0.20168067226890757.\n"
     ]
    },
    {
     "name": "stdout",
     "output_type": "stream",
     "text": [
      "🏃 View run dashing-rook-195 at: https://mlflow.spikehub.win/#/experiments/0/runs/06425ab9e7e84780b1080d6894d376b5\n",
      "🧪 View experiment at: https://mlflow.spikehub.win/#/experiments/0\n"
     ]
    },
    {
     "name": "stderr",
     "output_type": "stream",
     "text": [
      "[I 2025-05-27 14:16:10,006] Trial 27 finished with value: 0.05970149253731343 and parameters: {'oversampling_method': 'BorderlineSMOTE', 'undersampling_method': 'OneSidedSelection'}. Best is trial 4 with value: 0.20168067226890757.\n"
     ]
    },
    {
     "name": "stdout",
     "output_type": "stream",
     "text": [
      "🏃 View run peaceful-worm-923 at: https://mlflow.spikehub.win/#/experiments/0/runs/23fb11a888d848679505c768e1056800\n",
      "🧪 View experiment at: https://mlflow.spikehub.win/#/experiments/0\n"
     ]
    },
    {
     "name": "stderr",
     "output_type": "stream",
     "text": [
      "[I 2025-05-27 14:16:10,424] Trial 28 finished with value: 0.13157894736842105 and parameters: {'oversampling_method': 'SMOTE', 'undersampling_method': 'AllKNN'}. Best is trial 4 with value: 0.20168067226890757.\n"
     ]
    },
    {
     "name": "stdout",
     "output_type": "stream",
     "text": [
      "🏃 View run flawless-shrike-560 at: https://mlflow.spikehub.win/#/experiments/0/runs/7aa8c2a22c0e437c9ce8960b7e99f572\n",
      "🧪 View experiment at: https://mlflow.spikehub.win/#/experiments/0\n"
     ]
    },
    {
     "name": "stderr",
     "output_type": "stream",
     "text": [
      "[I 2025-05-27 14:16:35,820] Trial 29 finished with value: 0.22535211267605634 and parameters: {'oversampling_method': 'BorderlineSMOTE', 'undersampling_method': 'CondensedNearestNeighbour'}. Best is trial 29 with value: 0.22535211267605634.\n"
     ]
    },
    {
     "name": "stdout",
     "output_type": "stream",
     "text": [
      "🏃 View run wistful-cat-846 at: https://mlflow.spikehub.win/#/experiments/0/runs/0a1c875ae9cb470ab22197b4ac6117a3\n",
      "🧪 View experiment at: https://mlflow.spikehub.win/#/experiments/0\n"
     ]
    },
    {
     "name": "stderr",
     "output_type": "stream",
     "text": [
      "[I 2025-05-27 14:16:36,300] Trial 30 finished with value: 0.08108108108108109 and parameters: {'oversampling_method': 'BorderlineSMOTE', 'undersampling_method': 'None'}. Best is trial 29 with value: 0.22535211267605634.\n"
     ]
    },
    {
     "name": "stdout",
     "output_type": "stream",
     "text": [
      "🏃 View run awesome-bug-185 at: https://mlflow.spikehub.win/#/experiments/0/runs/af81e9646fba4daba658865918643ddd\n",
      "🧪 View experiment at: https://mlflow.spikehub.win/#/experiments/0\n"
     ]
    },
    {
     "name": "stderr",
     "output_type": "stream",
     "text": [
      "[I 2025-05-27 14:16:36,637] Trial 31 finished with value: 0.09375 and parameters: {'oversampling_method': 'RandomOverSampler', 'undersampling_method': 'NearMiss'}. Best is trial 29 with value: 0.22535211267605634.\n"
     ]
    },
    {
     "name": "stdout",
     "output_type": "stream",
     "text": [
      "🏃 View run useful-robin-422 at: https://mlflow.spikehub.win/#/experiments/0/runs/0dcbda1d233540049abe711c5f2e8549\n",
      "🧪 View experiment at: https://mlflow.spikehub.win/#/experiments/0\n"
     ]
    },
    {
     "name": "stderr",
     "output_type": "stream",
     "text": [
      "[I 2025-05-27 14:16:37,079] Trial 32 finished with value: 0.09375 and parameters: {'oversampling_method': 'RandomOverSampler', 'undersampling_method': 'RepeatedEditedNearestNeighbours'}. Best is trial 29 with value: 0.22535211267605634.\n"
     ]
    },
    {
     "name": "stdout",
     "output_type": "stream",
     "text": [
      "🏃 View run fearless-robin-648 at: https://mlflow.spikehub.win/#/experiments/0/runs/e8a2336d1e2349aabf4a47ccda3d5250\n",
      "🧪 View experiment at: https://mlflow.spikehub.win/#/experiments/0\n"
     ]
    },
    {
     "name": "stderr",
     "output_type": "stream",
     "text": [
      "[I 2025-05-27 14:16:37,501] Trial 33 finished with value: 0.2037037037037037 and parameters: {'oversampling_method': 'SVMSMOTE', 'undersampling_method': 'EditedNearestNeighbours'}. Best is trial 29 with value: 0.22535211267605634.\n"
     ]
    },
    {
     "name": "stdout",
     "output_type": "stream",
     "text": [
      "🏃 View run dazzling-wren-933 at: https://mlflow.spikehub.win/#/experiments/0/runs/2603add081574667a6ce697b951fba83\n",
      "🧪 View experiment at: https://mlflow.spikehub.win/#/experiments/0\n"
     ]
    },
    {
     "name": "stderr",
     "output_type": "stream",
     "text": [
      "[I 2025-05-27 14:16:38,129] Trial 34 finished with value: 0.08571428571428572 and parameters: {'oversampling_method': 'SMOTE', 'undersampling_method': 'NeighbourhoodCleaningRule'}. Best is trial 29 with value: 0.22535211267605634.\n"
     ]
    },
    {
     "name": "stdout",
     "output_type": "stream",
     "text": [
      "🏃 View run judicious-slug-698 at: https://mlflow.spikehub.win/#/experiments/0/runs/16ba1b757f374407a070755333aba127\n",
      "🧪 View experiment at: https://mlflow.spikehub.win/#/experiments/0\n"
     ]
    },
    {
     "name": "stderr",
     "output_type": "stream",
     "text": [
      "[I 2025-05-27 14:16:38,539] Trial 35 finished with value: 0.15 and parameters: {'oversampling_method': 'None', 'undersampling_method': 'RepeatedEditedNearestNeighbours'}. Best is trial 29 with value: 0.22535211267605634.\n"
     ]
    },
    {
     "name": "stdout",
     "output_type": "stream",
     "text": [
      "🏃 View run omniscient-wasp-868 at: https://mlflow.spikehub.win/#/experiments/0/runs/ec217796dd1f4be3b2010144312d8563\n",
      "🧪 View experiment at: https://mlflow.spikehub.win/#/experiments/0\n"
     ]
    },
    {
     "name": "stderr",
     "output_type": "stream",
     "text": [
      "[I 2025-05-27 14:16:38,898] Trial 36 finished with value: 0.05405405405405406 and parameters: {'oversampling_method': 'SMOTE', 'undersampling_method': 'None'}. Best is trial 29 with value: 0.22535211267605634.\n"
     ]
    },
    {
     "name": "stdout",
     "output_type": "stream",
     "text": [
      "🏃 View run classy-swan-617 at: https://mlflow.spikehub.win/#/experiments/0/runs/0406c195735348ba950d4b05be2552b6\n",
      "🧪 View experiment at: https://mlflow.spikehub.win/#/experiments/0\n"
     ]
    },
    {
     "name": "stderr",
     "output_type": "stream",
     "text": [
      "[I 2025-05-27 14:16:40,263] Trial 37 finished with value: 0.13157894736842105 and parameters: {'oversampling_method': 'SMOTEN', 'undersampling_method': 'None'}. Best is trial 29 with value: 0.22535211267605634.\n"
     ]
    },
    {
     "name": "stdout",
     "output_type": "stream",
     "text": [
      "🏃 View run beautiful-worm-95 at: https://mlflow.spikehub.win/#/experiments/0/runs/c0fffb98add94c2da60e93259e0d742a\n",
      "🧪 View experiment at: https://mlflow.spikehub.win/#/experiments/0\n"
     ]
    },
    {
     "name": "stderr",
     "output_type": "stream",
     "text": [
      "[I 2025-05-27 14:16:40,630] Trial 38 finished with value: 0.09375 and parameters: {'oversampling_method': 'RandomOverSampler', 'undersampling_method': 'EditedNearestNeighbours'}. Best is trial 29 with value: 0.22535211267605634.\n"
     ]
    },
    {
     "name": "stdout",
     "output_type": "stream",
     "text": [
      "🏃 View run worried-hawk-4 at: https://mlflow.spikehub.win/#/experiments/0/runs/fe66b46668414b3d9d1a0fbf055e47a7\n",
      "🧪 View experiment at: https://mlflow.spikehub.win/#/experiments/0\n"
     ]
    },
    {
     "name": "stderr",
     "output_type": "stream",
     "text": [
      "[I 2025-05-27 14:16:41,126] Trial 39 finished with value: 0.09876543209876543 and parameters: {'oversampling_method': 'SVMSMOTE', 'undersampling_method': 'OneSidedSelection'}. Best is trial 29 with value: 0.22535211267605634.\n"
     ]
    },
    {
     "name": "stdout",
     "output_type": "stream",
     "text": [
      "🏃 View run mercurial-smelt-613 at: https://mlflow.spikehub.win/#/experiments/0/runs/45ccf08c65564aaba228992cb8faf38c\n",
      "🧪 View experiment at: https://mlflow.spikehub.win/#/experiments/0\n"
     ]
    },
    {
     "name": "stderr",
     "output_type": "stream",
     "text": [
      "[I 2025-05-27 14:16:41,404] Trial 40 finished with value: 0.08 and parameters: {'oversampling_method': 'SMOTE', 'undersampling_method': 'TomekLinks'}. Best is trial 29 with value: 0.22535211267605634.\n"
     ]
    },
    {
     "name": "stdout",
     "output_type": "stream",
     "text": [
      "🏃 View run thoughtful-dove-226 at: https://mlflow.spikehub.win/#/experiments/0/runs/7265e5f1844b4a8a9c99b6b80e06242f\n",
      "🧪 View experiment at: https://mlflow.spikehub.win/#/experiments/0\n"
     ]
    },
    {
     "name": "stderr",
     "output_type": "stream",
     "text": [
      "[I 2025-05-27 14:16:41,835] Trial 41 finished with value: 0.11428571428571428 and parameters: {'oversampling_method': 'ADASYN', 'undersampling_method': 'AllKNN'}. Best is trial 29 with value: 0.22535211267605634.\n"
     ]
    },
    {
     "name": "stdout",
     "output_type": "stream",
     "text": [
      "🏃 View run mysterious-calf-892 at: https://mlflow.spikehub.win/#/experiments/0/runs/80f646f8ffa24228a5e9d2c4f30748ce\n",
      "🧪 View experiment at: https://mlflow.spikehub.win/#/experiments/0\n"
     ]
    },
    {
     "name": "stderr",
     "output_type": "stream",
     "text": [
      "[I 2025-05-27 14:16:42,420] Trial 42 finished with value: 0.13513513513513514 and parameters: {'oversampling_method': 'SMOTE', 'undersampling_method': 'OneSidedSelection'}. Best is trial 29 with value: 0.22535211267605634.\n"
     ]
    },
    {
     "name": "stdout",
     "output_type": "stream",
     "text": [
      "🏃 View run gifted-pug-40 at: https://mlflow.spikehub.win/#/experiments/0/runs/3c0b53ac7c294b499ef0bab5b628e138\n",
      "🧪 View experiment at: https://mlflow.spikehub.win/#/experiments/0\n"
     ]
    },
    {
     "name": "stderr",
     "output_type": "stream",
     "text": [
      "[I 2025-05-27 14:16:42,964] Trial 43 finished with value: 0.06060606060606061 and parameters: {'oversampling_method': 'ADASYN', 'undersampling_method': 'OneSidedSelection'}. Best is trial 29 with value: 0.22535211267605634.\n"
     ]
    },
    {
     "name": "stdout",
     "output_type": "stream",
     "text": [
      "🏃 View run polite-sow-400 at: https://mlflow.spikehub.win/#/experiments/0/runs/10e9317b1f9a46e19cdf72c523ce8ad7\n",
      "🧪 View experiment at: https://mlflow.spikehub.win/#/experiments/0\n"
     ]
    },
    {
     "name": "stderr",
     "output_type": "stream",
     "text": [
      "[I 2025-05-27 14:16:43,383] Trial 44 finished with value: 0.05405405405405406 and parameters: {'oversampling_method': 'SMOTE', 'undersampling_method': 'RandomUnderSampler'}. Best is trial 29 with value: 0.22535211267605634.\n"
     ]
    },
    {
     "name": "stdout",
     "output_type": "stream",
     "text": [
      "🏃 View run capricious-mare-172 at: https://mlflow.spikehub.win/#/experiments/0/runs/158e1d2fb2de4cf7903b8f2f08a6187c\n",
      "🧪 View experiment at: https://mlflow.spikehub.win/#/experiments/0\n"
     ]
    },
    {
     "name": "stderr",
     "output_type": "stream",
     "text": [
      "[I 2025-05-27 14:16:44,756] Trial 45 finished with value: 0.0 and parameters: {'oversampling_method': 'SMOTEN', 'undersampling_method': 'AllKNN'}. Best is trial 29 with value: 0.22535211267605634.\n"
     ]
    },
    {
     "name": "stdout",
     "output_type": "stream",
     "text": [
      "🏃 View run crawling-whale-700 at: https://mlflow.spikehub.win/#/experiments/0/runs/4c2f5443add94396bbdd53d96cbc7a46\n",
      "🧪 View experiment at: https://mlflow.spikehub.win/#/experiments/0\n"
     ]
    },
    {
     "name": "stderr",
     "output_type": "stream",
     "text": [
      "[I 2025-05-27 14:16:45,147] Trial 46 finished with value: 0.1306122448979592 and parameters: {'oversampling_method': 'None', 'undersampling_method': 'RandomUnderSampler'}. Best is trial 29 with value: 0.22535211267605634.\n"
     ]
    },
    {
     "name": "stdout",
     "output_type": "stream",
     "text": [
      "🏃 View run debonair-goat-32 at: https://mlflow.spikehub.win/#/experiments/0/runs/ec1dd45632b54d6e978d0869d1cac74a\n",
      "🧪 View experiment at: https://mlflow.spikehub.win/#/experiments/0\n"
     ]
    },
    {
     "name": "stderr",
     "output_type": "stream",
     "text": [
      "[I 2025-05-27 14:16:45,480] Trial 47 finished with value: 0.08823529411764706 and parameters: {'oversampling_method': 'ADASYN', 'undersampling_method': 'TomekLinks'}. Best is trial 29 with value: 0.22535211267605634.\n"
     ]
    },
    {
     "name": "stdout",
     "output_type": "stream",
     "text": [
      "🏃 View run enchanting-worm-450 at: https://mlflow.spikehub.win/#/experiments/0/runs/39d9c5fe03c74bf680e8838b473d077e\n",
      "🧪 View experiment at: https://mlflow.spikehub.win/#/experiments/0\n"
     ]
    },
    {
     "name": "stderr",
     "output_type": "stream",
     "text": [
      "[I 2025-05-27 14:16:45,808] Trial 48 finished with value: 0.05405405405405406 and parameters: {'oversampling_method': 'SMOTE', 'undersampling_method': 'NearMiss'}. Best is trial 29 with value: 0.22535211267605634.\n"
     ]
    },
    {
     "name": "stdout",
     "output_type": "stream",
     "text": [
      "🏃 View run illustrious-vole-653 at: https://mlflow.spikehub.win/#/experiments/0/runs/0c6b738c5da44764a5efa09b019599f1\n",
      "🧪 View experiment at: https://mlflow.spikehub.win/#/experiments/0\n"
     ]
    },
    {
     "name": "stderr",
     "output_type": "stream",
     "text": [
      "[I 2025-05-27 14:16:47,308] Trial 49 finished with value: 0.03571428571428571 and parameters: {'oversampling_method': 'SMOTEN', 'undersampling_method': 'OneSidedSelection'}. Best is trial 29 with value: 0.22535211267605634.\n"
     ]
    },
    {
     "name": "stdout",
     "output_type": "stream",
     "text": [
      "🏃 View run puzzled-steed-637 at: https://mlflow.spikehub.win/#/experiments/0/runs/3baf52eb3bb648698cfe81c00391493a\n",
      "🧪 View experiment at: https://mlflow.spikehub.win/#/experiments/0\n"
     ]
    },
    {
     "name": "stderr",
     "output_type": "stream",
     "text": [
      "[I 2025-05-27 14:16:47,832] Trial 50 finished with value: 0.16296296296296298 and parameters: {'oversampling_method': 'SVMSMOTE', 'undersampling_method': 'RepeatedEditedNearestNeighbours'}. Best is trial 29 with value: 0.22535211267605634.\n"
     ]
    },
    {
     "name": "stdout",
     "output_type": "stream",
     "text": [
      "🏃 View run traveling-mouse-246 at: https://mlflow.spikehub.win/#/experiments/0/runs/ebdaa33a8af34f17824865819e5b84e1\n",
      "🧪 View experiment at: https://mlflow.spikehub.win/#/experiments/0\n"
     ]
    },
    {
     "name": "stderr",
     "output_type": "stream",
     "text": [
      "[I 2025-05-27 14:16:48,209] Trial 51 finished with value: 0.14285714285714285 and parameters: {'oversampling_method': 'SMOTE', 'undersampling_method': 'RepeatedEditedNearestNeighbours'}. Best is trial 29 with value: 0.22535211267605634.\n"
     ]
    },
    {
     "name": "stdout",
     "output_type": "stream",
     "text": [
      "🏃 View run abundant-pug-605 at: https://mlflow.spikehub.win/#/experiments/0/runs/1e3c744d057c470bbad9e79618e5f118\n",
      "🧪 View experiment at: https://mlflow.spikehub.win/#/experiments/0\n"
     ]
    },
    {
     "name": "stderr",
     "output_type": "stream",
     "text": [
      "[I 2025-05-27 14:16:48,587] Trial 52 finished with value: 0.1523809523809524 and parameters: {'oversampling_method': 'None', 'undersampling_method': 'AllKNN'}. Best is trial 29 with value: 0.22535211267605634.\n"
     ]
    },
    {
     "name": "stdout",
     "output_type": "stream",
     "text": [
      "🏃 View run bald-cat-411 at: https://mlflow.spikehub.win/#/experiments/0/runs/38c520cbd66e494c95de10270d25f9b2\n",
      "🧪 View experiment at: https://mlflow.spikehub.win/#/experiments/0\n"
     ]
    },
    {
     "name": "stderr",
     "output_type": "stream",
     "text": [
      "[I 2025-05-27 14:16:48,954] Trial 53 finished with value: 0.08108108108108109 and parameters: {'oversampling_method': 'BorderlineSMOTE', 'undersampling_method': 'RandomUnderSampler'}. Best is trial 29 with value: 0.22535211267605634.\n"
     ]
    },
    {
     "name": "stdout",
     "output_type": "stream",
     "text": [
      "🏃 View run debonair-sheep-433 at: https://mlflow.spikehub.win/#/experiments/0/runs/a56b0e5d4dba445eb8e8c11a63232f46\n",
      "🧪 View experiment at: https://mlflow.spikehub.win/#/experiments/0\n"
     ]
    },
    {
     "name": "stderr",
     "output_type": "stream",
     "text": [
      "[I 2025-05-27 14:16:49,412] Trial 54 finished with value: 0.09060402684563758 and parameters: {'oversampling_method': 'None', 'undersampling_method': 'NearMiss'}. Best is trial 29 with value: 0.22535211267605634.\n"
     ]
    },
    {
     "name": "stdout",
     "output_type": "stream",
     "text": [
      "🏃 View run unruly-cub-451 at: https://mlflow.spikehub.win/#/experiments/0/runs/4818783d5ad341da8028ce02cff592f8\n",
      "🧪 View experiment at: https://mlflow.spikehub.win/#/experiments/0\n"
     ]
    },
    {
     "name": "stderr",
     "output_type": "stream",
     "text": [
      "[I 2025-05-27 14:16:49,857] Trial 55 finished with value: 0.125 and parameters: {'oversampling_method': 'SVMSMOTE', 'undersampling_method': 'None'}. Best is trial 29 with value: 0.22535211267605634.\n"
     ]
    },
    {
     "name": "stdout",
     "output_type": "stream",
     "text": [
      "🏃 View run unruly-moth-846 at: https://mlflow.spikehub.win/#/experiments/0/runs/1f40672186d440e79116c187000fb41c\n",
      "🧪 View experiment at: https://mlflow.spikehub.win/#/experiments/0\n"
     ]
    },
    {
     "name": "stderr",
     "output_type": "stream",
     "text": [
      "[I 2025-05-27 14:16:50,279] Trial 56 finished with value: 0.12195121951219512 and parameters: {'oversampling_method': 'SVMSMOTE', 'undersampling_method': 'TomekLinks'}. Best is trial 29 with value: 0.22535211267605634.\n"
     ]
    },
    {
     "name": "stdout",
     "output_type": "stream",
     "text": [
      "🏃 View run overjoyed-horse-775 at: https://mlflow.spikehub.win/#/experiments/0/runs/61a2658ef218477ba7f976777d7784e8\n",
      "🧪 View experiment at: https://mlflow.spikehub.win/#/experiments/0\n"
     ]
    },
    {
     "name": "stderr",
     "output_type": "stream",
     "text": [
      "[I 2025-05-27 14:17:27,689] Trial 57 finished with value: 0.1111111111111111 and parameters: {'oversampling_method': 'ADASYN', 'undersampling_method': 'CondensedNearestNeighbour'}. Best is trial 29 with value: 0.22535211267605634.\n"
     ]
    },
    {
     "name": "stdout",
     "output_type": "stream",
     "text": [
      "🏃 View run grandiose-robin-657 at: https://mlflow.spikehub.win/#/experiments/0/runs/976b3618826f4654aa020c57cf934a6e\n",
      "🧪 View experiment at: https://mlflow.spikehub.win/#/experiments/0\n"
     ]
    },
    {
     "name": "stderr",
     "output_type": "stream",
     "text": [
      "[I 2025-05-27 14:17:28,139] Trial 58 finished with value: 0.09375 and parameters: {'oversampling_method': 'RandomOverSampler', 'undersampling_method': 'TomekLinks'}. Best is trial 29 with value: 0.22535211267605634.\n"
     ]
    },
    {
     "name": "stdout",
     "output_type": "stream",
     "text": [
      "🏃 View run bustling-ray-18 at: https://mlflow.spikehub.win/#/experiments/0/runs/ab3a61125c284e69a009c66e76392fd5\n",
      "🧪 View experiment at: https://mlflow.spikehub.win/#/experiments/0\n"
     ]
    },
    {
     "name": "stderr",
     "output_type": "stream",
     "text": [
      "[I 2025-05-27 14:17:28,543] Trial 59 finished with value: 0.14285714285714285 and parameters: {'oversampling_method': 'SMOTE', 'undersampling_method': 'EditedNearestNeighbours'}. Best is trial 29 with value: 0.22535211267605634.\n"
     ]
    },
    {
     "name": "stdout",
     "output_type": "stream",
     "text": [
      "🏃 View run fortunate-crow-941 at: https://mlflow.spikehub.win/#/experiments/0/runs/8adabb81db254ec6ac75a909fa4b4ebd\n",
      "🧪 View experiment at: https://mlflow.spikehub.win/#/experiments/0\n"
     ]
    },
    {
     "name": "stderr",
     "output_type": "stream",
     "text": [
      "[I 2025-05-27 14:17:57,098] Trial 60 finished with value: 0.18705035971223022 and parameters: {'oversampling_method': 'None', 'undersampling_method': 'CondensedNearestNeighbour'}. Best is trial 29 with value: 0.22535211267605634.\n"
     ]
    },
    {
     "name": "stdout",
     "output_type": "stream",
     "text": [
      "🏃 View run sneaky-vole-651 at: https://mlflow.spikehub.win/#/experiments/0/runs/cdd0500ba5cb40c083dc57e2ce5677b7\n",
      "🧪 View experiment at: https://mlflow.spikehub.win/#/experiments/0\n"
     ]
    },
    {
     "name": "stderr",
     "output_type": "stream",
     "text": [
      "[I 2025-05-27 14:17:58,541] Trial 61 finished with value: 0.03773584905660377 and parameters: {'oversampling_method': 'SMOTEN', 'undersampling_method': 'NeighbourhoodCleaningRule'}. Best is trial 29 with value: 0.22535211267605634.\n"
     ]
    },
    {
     "name": "stdout",
     "output_type": "stream",
     "text": [
      "🏃 View run calm-stag-931 at: https://mlflow.spikehub.win/#/experiments/0/runs/53c42a22fc3e4753bbdd438406c2db4f\n",
      "🧪 View experiment at: https://mlflow.spikehub.win/#/experiments/0\n"
     ]
    },
    {
     "name": "stderr",
     "output_type": "stream",
     "text": [
      "[I 2025-05-27 14:17:58,927] Trial 62 finished with value: 0.0 and parameters: {'oversampling_method': 'ADASYN', 'undersampling_method': 'RandomUnderSampler'}. Best is trial 29 with value: 0.22535211267605634.\n"
     ]
    },
    {
     "name": "stdout",
     "output_type": "stream",
     "text": [
      "🏃 View run bedecked-cow-931 at: https://mlflow.spikehub.win/#/experiments/0/runs/50e34dac2733478f9f3e61ae8ffddaaa\n",
      "🧪 View experiment at: https://mlflow.spikehub.win/#/experiments/0\n"
     ]
    },
    {
     "name": "stderr",
     "output_type": "stream",
     "text": [
      "[I 2025-05-27 14:18:00,322] Trial 63 finished with value: 0.13157894736842105 and parameters: {'oversampling_method': 'SMOTEN', 'undersampling_method': 'NearMiss'}. Best is trial 29 with value: 0.22535211267605634.\n"
     ]
    },
    {
     "name": "stdout",
     "output_type": "stream",
     "text": [
      "🏃 View run sneaky-moth-33 at: https://mlflow.spikehub.win/#/experiments/0/runs/c8c123f268f94243ab5c0a62f554faa6\n",
      "🧪 View experiment at: https://mlflow.spikehub.win/#/experiments/0\n"
     ]
    },
    {
     "name": "stderr",
     "output_type": "stream",
     "text": [
      "[I 2025-05-27 14:18:00,743] Trial 64 finished with value: 0.17391304347826086 and parameters: {'oversampling_method': 'SVMSMOTE', 'undersampling_method': 'RandomUnderSampler'}. Best is trial 29 with value: 0.22535211267605634.\n"
     ]
    },
    {
     "name": "stdout",
     "output_type": "stream",
     "text": [
      "🏃 View run peaceful-toad-296 at: https://mlflow.spikehub.win/#/experiments/0/runs/c8db91f616364a2c9a514d62ce60b4fe\n",
      "🧪 View experiment at: https://mlflow.spikehub.win/#/experiments/0\n"
     ]
    },
    {
     "name": "stderr",
     "output_type": "stream",
     "text": [
      "[I 2025-05-27 14:18:16,911] Trial 65 finished with value: 0.08571428571428572 and parameters: {'oversampling_method': 'SMOTEN', 'undersampling_method': 'CondensedNearestNeighbour'}. Best is trial 29 with value: 0.22535211267605634.\n"
     ]
    },
    {
     "name": "stdout",
     "output_type": "stream",
     "text": [
      "🏃 View run sincere-shark-738 at: https://mlflow.spikehub.win/#/experiments/0/runs/05bb45c30c7b4824be2b45f1395cf90d\n",
      "🧪 View experiment at: https://mlflow.spikehub.win/#/experiments/0\n"
     ]
    },
    {
     "name": "stderr",
     "output_type": "stream",
     "text": [
      "[I 2025-05-27 14:18:17,334] Trial 66 finished with value: 0.058823529411764705 and parameters: {'oversampling_method': 'ADASYN', 'undersampling_method': 'None'}. Best is trial 29 with value: 0.22535211267605634.\n"
     ]
    },
    {
     "name": "stdout",
     "output_type": "stream",
     "text": [
      "🏃 View run upbeat-ram-723 at: https://mlflow.spikehub.win/#/experiments/0/runs/b9a264e2577b4d999571267351a0ae39\n",
      "🧪 View experiment at: https://mlflow.spikehub.win/#/experiments/0\n"
     ]
    },
    {
     "name": "stderr",
     "output_type": "stream",
     "text": [
      "[I 2025-05-27 14:18:17,810] Trial 67 finished with value: 0.09411764705882353 and parameters: {'oversampling_method': 'None', 'undersampling_method': 'NeighbourhoodCleaningRule'}. Best is trial 29 with value: 0.22535211267605634.\n"
     ]
    },
    {
     "name": "stdout",
     "output_type": "stream",
     "text": [
      "🏃 View run likeable-grub-516 at: https://mlflow.spikehub.win/#/experiments/0/runs/ce7c98ec35c741719296c7a4911879ee\n",
      "🧪 View experiment at: https://mlflow.spikehub.win/#/experiments/0\n"
     ]
    },
    {
     "name": "stderr",
     "output_type": "stream",
     "text": [
      "[I 2025-05-27 14:18:18,153] Trial 68 finished with value: 0.08955223880597014 and parameters: {'oversampling_method': 'BorderlineSMOTE', 'undersampling_method': 'RepeatedEditedNearestNeighbours'}. Best is trial 29 with value: 0.22535211267605634.\n"
     ]
    },
    {
     "name": "stdout",
     "output_type": "stream",
     "text": [
      "🏃 View run youthful-slug-449 at: https://mlflow.spikehub.win/#/experiments/0/runs/bffaf1a89f7641479250def986b5ed8e\n",
      "🧪 View experiment at: https://mlflow.spikehub.win/#/experiments/0\n"
     ]
    },
    {
     "name": "stderr",
     "output_type": "stream",
     "text": [
      "[I 2025-05-27 14:18:18,665] Trial 69 finished with value: 0.13513513513513514 and parameters: {'oversampling_method': 'BorderlineSMOTE', 'undersampling_method': 'NeighbourhoodCleaningRule'}. Best is trial 29 with value: 0.22535211267605634.\n"
     ]
    },
    {
     "name": "stdout",
     "output_type": "stream",
     "text": [
      "🏃 View run kindly-crow-927 at: https://mlflow.spikehub.win/#/experiments/0/runs/9c11eacf9771462ab5d6c736448119b4\n",
      "🧪 View experiment at: https://mlflow.spikehub.win/#/experiments/0\n",
      "🏃 View run First Run at: https://mlflow.spikehub.win/#/experiments/1/runs/90c274b8d58d4fd49c54cf3db7405f47\n",
      "🧪 View experiment at: https://mlflow.spikehub.win/#/experiments/1\n"
     ]
    }
   ],
   "source": [
    "objective = create_objective(lambda: DecisionTreeClassifier(random_state=42))\n",
    "\n",
    "run_name = \"Decision Tree Run\"\n",
    "\n",
    "with mlflow.start_run(experiment_id=experiment_id, run_name=run_name, nested=True):\n",
    "    study = optuna.create_study(\n",
    "        direction=\"maximize\", sampler=optuna.samplers.GridSampler(search_space)\n",
    "    )\n",
    "    study.optimize(objective, n_trials=len(oversampler_list) * len(undersampler_list))\n",
    "\n",
    "    mlflow.log_params(study.best_params)\n",
    "    mlflow.log_metric(\"best_f1_score\", study.best_value)\n",
    "\n",
    "    mlflow.set_tags(\n",
    "        tags={\n",
    "            \"project\": \"stroke_prediction\",\n",
    "            \"optimizer_engine\": \"optuna\",\n",
    "            \"model_family\": \"DecisionTreeClassifier\",\n",
    "        }\n",
    "    )"
   ]
  },
  {
   "cell_type": "markdown",
   "id": "2e270dd5",
   "metadata": {},
   "source": [
    "## Random Forest\n",
    "Next, we will try a random forest classifier to see if it can improve the performance over the decision tree and see if it compatitble with different sampler."
   ]
  },
  {
   "cell_type": "code",
   "execution_count": null,
   "id": "e0b11cdf",
   "metadata": {},
   "outputs": [
    {
     "name": "stderr",
     "output_type": "stream",
     "text": [
      "[I 2025-05-27 14:31:24,124] A new study created in memory with name: no-name-221be009-18bd-4d43-917e-eee83b69569f\n",
      "[I 2025-05-27 14:31:25,847] Trial 0 finished with value: 0.0 and parameters: {'oversampling_method': 'SMOTEN', 'undersampling_method': 'RandomUnderSampler'}. Best is trial 0 with value: 0.0.\n"
     ]
    },
    {
     "name": "stdout",
     "output_type": "stream",
     "text": [
      "🏃 View run handsome-gull-843 at: https://mlflow.spikehub.win/#/experiments/0/runs/41ec6ef222dc401dafdfce0c74a06a9d\n",
      "🧪 View experiment at: https://mlflow.spikehub.win/#/experiments/0\n"
     ]
    },
    {
     "name": "stderr",
     "output_type": "stream",
     "text": [
      "[I 2025-05-27 14:31:27,520] Trial 1 finished with value: 0.0 and parameters: {'oversampling_method': 'SMOTEN', 'undersampling_method': 'RepeatedEditedNearestNeighbours'}. Best is trial 0 with value: 0.0.\n"
     ]
    },
    {
     "name": "stdout",
     "output_type": "stream",
     "text": [
      "🏃 View run bouncy-frog-638 at: https://mlflow.spikehub.win/#/experiments/0/runs/4a290fe223b44695a0cdb1ca99092b40\n",
      "🧪 View experiment at: https://mlflow.spikehub.win/#/experiments/0\n"
     ]
    },
    {
     "name": "stderr",
     "output_type": "stream",
     "text": [
      "[I 2025-05-27 14:31:28,258] Trial 2 finished with value: 0.0 and parameters: {'oversampling_method': 'BorderlineSMOTE', 'undersampling_method': 'TomekLinks'}. Best is trial 0 with value: 0.0.\n"
     ]
    },
    {
     "name": "stdout",
     "output_type": "stream",
     "text": [
      "🏃 View run bald-horse-955 at: https://mlflow.spikehub.win/#/experiments/0/runs/053a0c88ab384cafa55573a4be895a6a\n",
      "🧪 View experiment at: https://mlflow.spikehub.win/#/experiments/0\n"
     ]
    },
    {
     "name": "stderr",
     "output_type": "stream",
     "text": [
      "[I 2025-05-27 14:31:29,862] Trial 3 finished with value: 0.0 and parameters: {'oversampling_method': 'SMOTEN', 'undersampling_method': 'EditedNearestNeighbours'}. Best is trial 0 with value: 0.0.\n"
     ]
    },
    {
     "name": "stdout",
     "output_type": "stream",
     "text": [
      "🏃 View run smiling-bear-659 at: https://mlflow.spikehub.win/#/experiments/0/runs/ab90f433cad14937a41a931866ddd2a1\n",
      "🧪 View experiment at: https://mlflow.spikehub.win/#/experiments/0\n"
     ]
    },
    {
     "name": "stderr",
     "output_type": "stream",
     "text": [
      "[I 2025-05-27 14:31:30,652] Trial 4 finished with value: 0.23529411764705882 and parameters: {'oversampling_method': 'SVMSMOTE', 'undersampling_method': 'AllKNN'}. Best is trial 4 with value: 0.23529411764705882.\n"
     ]
    },
    {
     "name": "stdout",
     "output_type": "stream",
     "text": [
      "🏃 View run vaunted-wasp-94 at: https://mlflow.spikehub.win/#/experiments/0/runs/1e9fbb07e1ef4f179b495ea82bb2fd88\n",
      "🧪 View experiment at: https://mlflow.spikehub.win/#/experiments/0\n"
     ]
    },
    {
     "name": "stderr",
     "output_type": "stream",
     "text": [
      "[I 2025-05-27 14:31:41,897] Trial 5 finished with value: 0.0 and parameters: {'oversampling_method': 'RandomOverSampler', 'undersampling_method': 'CondensedNearestNeighbour'}. Best is trial 4 with value: 0.23529411764705882.\n"
     ]
    },
    {
     "name": "stdout",
     "output_type": "stream",
     "text": [
      "🏃 View run chill-rook-673 at: https://mlflow.spikehub.win/#/experiments/0/runs/89fc77d280884fe2b45b6bd229c5fc53\n",
      "🧪 View experiment at: https://mlflow.spikehub.win/#/experiments/0\n"
     ]
    },
    {
     "name": "stderr",
     "output_type": "stream",
     "text": [
      "[I 2025-05-27 14:31:42,793] Trial 6 finished with value: 0.05128205128205128 and parameters: {'oversampling_method': 'ADASYN', 'undersampling_method': 'RepeatedEditedNearestNeighbours'}. Best is trial 4 with value: 0.23529411764705882.\n"
     ]
    },
    {
     "name": "stdout",
     "output_type": "stream",
     "text": [
      "🏃 View run amusing-worm-454 at: https://mlflow.spikehub.win/#/experiments/0/runs/e77817e977d546588d1232067a90ca66\n",
      "🧪 View experiment at: https://mlflow.spikehub.win/#/experiments/0\n"
     ]
    },
    {
     "name": "stderr",
     "output_type": "stream",
     "text": [
      "[I 2025-05-27 14:31:43,484] Trial 7 finished with value: 0.05128205128205128 and parameters: {'oversampling_method': 'RandomOverSampler', 'undersampling_method': 'None'}. Best is trial 4 with value: 0.23529411764705882.\n"
     ]
    },
    {
     "name": "stdout",
     "output_type": "stream",
     "text": [
      "🏃 View run abundant-slug-408 at: https://mlflow.spikehub.win/#/experiments/0/runs/3ba3ddba08444629a35e3e0e2241e3ba\n",
      "🧪 View experiment at: https://mlflow.spikehub.win/#/experiments/0\n"
     ]
    },
    {
     "name": "stderr",
     "output_type": "stream",
     "text": [
      "[I 2025-05-27 14:31:44,353] Trial 8 finished with value: 0.2545454545454545 and parameters: {'oversampling_method': 'SVMSMOTE', 'undersampling_method': 'NeighbourhoodCleaningRule'}. Best is trial 8 with value: 0.2545454545454545.\n"
     ]
    },
    {
     "name": "stdout",
     "output_type": "stream",
     "text": [
      "🏃 View run caring-panda-350 at: https://mlflow.spikehub.win/#/experiments/0/runs/71664fca0bc747e5ba6efeaccaea4032\n",
      "🧪 View experiment at: https://mlflow.spikehub.win/#/experiments/0\n"
     ]
    },
    {
     "name": "stderr",
     "output_type": "stream",
     "text": [
      "[I 2025-05-27 14:31:45,084] Trial 9 finished with value: 0.0 and parameters: {'oversampling_method': 'None', 'undersampling_method': 'None'}. Best is trial 8 with value: 0.2545454545454545.\n"
     ]
    },
    {
     "name": "stdout",
     "output_type": "stream",
     "text": [
      "🏃 View run defiant-bug-942 at: https://mlflow.spikehub.win/#/experiments/0/runs/6e1d0c0cb71144598e9f70c0f57761d4\n",
      "🧪 View experiment at: https://mlflow.spikehub.win/#/experiments/0\n"
     ]
    },
    {
     "name": "stderr",
     "output_type": "stream",
     "text": [
      "[I 2025-05-27 14:31:45,775] Trial 10 finished with value: 0.05 and parameters: {'oversampling_method': 'RandomOverSampler', 'undersampling_method': 'RandomUnderSampler'}. Best is trial 8 with value: 0.2545454545454545.\n"
     ]
    },
    {
     "name": "stdout",
     "output_type": "stream",
     "text": [
      "🏃 View run efficient-fawn-509 at: https://mlflow.spikehub.win/#/experiments/0/runs/aff901cc0f37432d9bd7defecb646e26\n",
      "🧪 View experiment at: https://mlflow.spikehub.win/#/experiments/0\n"
     ]
    },
    {
     "name": "stderr",
     "output_type": "stream",
     "text": [
      "[I 2025-05-27 14:31:47,432] Trial 11 finished with value: 0.0 and parameters: {'oversampling_method': 'SMOTEN', 'undersampling_method': 'TomekLinks'}. Best is trial 8 with value: 0.2545454545454545.\n"
     ]
    },
    {
     "name": "stdout",
     "output_type": "stream",
     "text": [
      "🏃 View run colorful-bat-142 at: https://mlflow.spikehub.win/#/experiments/0/runs/d286b4e10c7145eeafd8c389f4ee7ec3\n",
      "🧪 View experiment at: https://mlflow.spikehub.win/#/experiments/0\n"
     ]
    },
    {
     "name": "stderr",
     "output_type": "stream",
     "text": [
      "[I 2025-05-27 14:32:24,195] Trial 12 finished with value: 0.14705882352941177 and parameters: {'oversampling_method': 'SVMSMOTE', 'undersampling_method': 'CondensedNearestNeighbour'}. Best is trial 8 with value: 0.2545454545454545.\n"
     ]
    },
    {
     "name": "stdout",
     "output_type": "stream",
     "text": [
      "🏃 View run intrigued-fly-568 at: https://mlflow.spikehub.win/#/experiments/0/runs/b3269eeb2c0c4c73bc0b175f2859b792\n",
      "🧪 View experiment at: https://mlflow.spikehub.win/#/experiments/0\n"
     ]
    },
    {
     "name": "stderr",
     "output_type": "stream",
     "text": [
      "[I 2025-05-27 14:32:24,952] Trial 13 finished with value: 0.0 and parameters: {'oversampling_method': 'BorderlineSMOTE', 'undersampling_method': 'EditedNearestNeighbours'}. Best is trial 8 with value: 0.2545454545454545.\n"
     ]
    },
    {
     "name": "stdout",
     "output_type": "stream",
     "text": [
      "🏃 View run intelligent-rook-911 at: https://mlflow.spikehub.win/#/experiments/0/runs/7da3eafe47a743c4b7ec5c8076e4c536\n",
      "🧪 View experiment at: https://mlflow.spikehub.win/#/experiments/0\n"
     ]
    },
    {
     "name": "stderr",
     "output_type": "stream",
     "text": [
      "[I 2025-05-27 14:32:25,754] Trial 14 finished with value: 0.0 and parameters: {'oversampling_method': 'SVMSMOTE', 'undersampling_method': 'NearMiss'}. Best is trial 8 with value: 0.2545454545454545.\n"
     ]
    },
    {
     "name": "stdout",
     "output_type": "stream",
     "text": [
      "🏃 View run bold-boar-255 at: https://mlflow.spikehub.win/#/experiments/0/runs/3de3db2d51814c498003c27d09a82fdc\n",
      "🧪 View experiment at: https://mlflow.spikehub.win/#/experiments/0\n"
     ]
    },
    {
     "name": "stderr",
     "output_type": "stream",
     "text": [
      "[I 2025-05-27 14:32:26,628] Trial 15 finished with value: 0.05263157894736842 and parameters: {'oversampling_method': 'RandomOverSampler', 'undersampling_method': 'OneSidedSelection'}. Best is trial 8 with value: 0.2545454545454545.\n"
     ]
    },
    {
     "name": "stdout",
     "output_type": "stream",
     "text": [
      "🏃 View run legendary-bee-69 at: https://mlflow.spikehub.win/#/experiments/0/runs/f1155e3a468140fa8271e3d127dc15f9\n",
      "🧪 View experiment at: https://mlflow.spikehub.win/#/experiments/0\n"
     ]
    },
    {
     "name": "stderr",
     "output_type": "stream",
     "text": [
      "[I 2025-05-27 14:32:27,319] Trial 16 finished with value: 0.05128205128205128 and parameters: {'oversampling_method': 'None', 'undersampling_method': 'TomekLinks'}. Best is trial 8 with value: 0.2545454545454545.\n"
     ]
    },
    {
     "name": "stdout",
     "output_type": "stream",
     "text": [
      "🏃 View run clumsy-smelt-61 at: https://mlflow.spikehub.win/#/experiments/0/runs/9de350998fb64cfca39475762587c7c6\n",
      "🧪 View experiment at: https://mlflow.spikehub.win/#/experiments/0\n"
     ]
    },
    {
     "name": "stderr",
     "output_type": "stream",
     "text": [
      "[I 2025-05-27 14:32:27,899] Trial 17 finished with value: 0.0851063829787234 and parameters: {'oversampling_method': 'None', 'undersampling_method': 'EditedNearestNeighbours'}. Best is trial 8 with value: 0.2545454545454545.\n"
     ]
    },
    {
     "name": "stdout",
     "output_type": "stream",
     "text": [
      "🏃 View run bold-newt-904 at: https://mlflow.spikehub.win/#/experiments/0/runs/028ca6314e7d4badad74c200c6ca4c03\n",
      "🧪 View experiment at: https://mlflow.spikehub.win/#/experiments/0\n"
     ]
    },
    {
     "name": "stderr",
     "output_type": "stream",
     "text": [
      "[I 2025-05-27 14:32:28,683] Trial 18 finished with value: 0.0 and parameters: {'oversampling_method': 'BorderlineSMOTE', 'undersampling_method': 'NearMiss'}. Best is trial 8 with value: 0.2545454545454545.\n"
     ]
    },
    {
     "name": "stdout",
     "output_type": "stream",
     "text": [
      "🏃 View run nosy-stork-831 at: https://mlflow.spikehub.win/#/experiments/0/runs/4844052b75234d55a14a5915358e14f1\n",
      "🧪 View experiment at: https://mlflow.spikehub.win/#/experiments/0\n"
     ]
    },
    {
     "name": "stderr",
     "output_type": "stream",
     "text": [
      "[I 2025-05-27 14:32:29,618] Trial 19 finished with value: 0.05263157894736842 and parameters: {'oversampling_method': 'ADASYN', 'undersampling_method': 'NeighbourhoodCleaningRule'}. Best is trial 8 with value: 0.2545454545454545.\n"
     ]
    },
    {
     "name": "stdout",
     "output_type": "stream",
     "text": [
      "🏃 View run powerful-lamb-345 at: https://mlflow.spikehub.win/#/experiments/0/runs/f2c4cb2f938245b8841451246d864870\n",
      "🧪 View experiment at: https://mlflow.spikehub.win/#/experiments/0\n"
     ]
    },
    {
     "name": "stderr",
     "output_type": "stream",
     "text": [
      "[I 2025-05-27 14:32:30,203] Trial 20 finished with value: 0.0 and parameters: {'oversampling_method': 'None', 'undersampling_method': 'OneSidedSelection'}. Best is trial 8 with value: 0.2545454545454545.\n"
     ]
    },
    {
     "name": "stdout",
     "output_type": "stream",
     "text": [
      "🏃 View run casual-boar-372 at: https://mlflow.spikehub.win/#/experiments/0/runs/e904375d60ba43f08449806e34edfe7f\n",
      "🧪 View experiment at: https://mlflow.spikehub.win/#/experiments/0\n"
     ]
    },
    {
     "name": "stderr",
     "output_type": "stream",
     "text": [
      "[I 2025-05-27 14:32:30,772] Trial 21 finished with value: 0.05 and parameters: {'oversampling_method': 'RandomOverSampler', 'undersampling_method': 'AllKNN'}. Best is trial 8 with value: 0.2545454545454545.\n"
     ]
    },
    {
     "name": "stdout",
     "output_type": "stream",
     "text": [
      "🏃 View run exultant-newt-537 at: https://mlflow.spikehub.win/#/experiments/0/runs/85167778e65540db905bb7d4d23023ed\n",
      "🧪 View experiment at: https://mlflow.spikehub.win/#/experiments/0\n"
     ]
    },
    {
     "name": "stderr",
     "output_type": "stream",
     "text": [
      "[I 2025-05-27 14:32:31,608] Trial 22 finished with value: 0.05128205128205128 and parameters: {'oversampling_method': 'ADASYN', 'undersampling_method': 'EditedNearestNeighbours'}. Best is trial 8 with value: 0.2545454545454545.\n"
     ]
    },
    {
     "name": "stdout",
     "output_type": "stream",
     "text": [
      "🏃 View run luxuriant-sheep-632 at: https://mlflow.spikehub.win/#/experiments/0/runs/d871b9a0e07e4d029d3e45df29f4731a\n",
      "🧪 View experiment at: https://mlflow.spikehub.win/#/experiments/0\n"
     ]
    },
    {
     "name": "stderr",
     "output_type": "stream",
     "text": [
      "[I 2025-05-27 14:32:32,437] Trial 23 finished with value: 0.05 and parameters: {'oversampling_method': 'BorderlineSMOTE', 'undersampling_method': 'AllKNN'}. Best is trial 8 with value: 0.2545454545454545.\n"
     ]
    },
    {
     "name": "stdout",
     "output_type": "stream",
     "text": [
      "🏃 View run calm-finch-474 at: https://mlflow.spikehub.win/#/experiments/0/runs/11c404deab8b4fdcb785bc7e28b02c7d\n",
      "🧪 View experiment at: https://mlflow.spikehub.win/#/experiments/0\n"
     ]
    },
    {
     "name": "stderr",
     "output_type": "stream",
     "text": [
      "[I 2025-05-27 14:33:08,548] Trial 24 finished with value: 0.0 and parameters: {'oversampling_method': 'SMOTE', 'undersampling_method': 'CondensedNearestNeighbour'}. Best is trial 8 with value: 0.2545454545454545.\n"
     ]
    },
    {
     "name": "stdout",
     "output_type": "stream",
     "text": [
      "🏃 View run shivering-stag-842 at: https://mlflow.spikehub.win/#/experiments/0/runs/a0e601cbd10a4b3b8868f85c12cac383\n",
      "🧪 View experiment at: https://mlflow.spikehub.win/#/experiments/0\n"
     ]
    },
    {
     "name": "stderr",
     "output_type": "stream",
     "text": [
      "[I 2025-05-27 14:33:09,488] Trial 25 finished with value: 0.04878048780487805 and parameters: {'oversampling_method': 'ADASYN', 'undersampling_method': 'NearMiss'}. Best is trial 8 with value: 0.2545454545454545.\n"
     ]
    },
    {
     "name": "stdout",
     "output_type": "stream",
     "text": [
      "🏃 View run masked-swan-394 at: https://mlflow.spikehub.win/#/experiments/0/runs/a2dbc7ea2ef54dc3b265507b34e36ae4\n",
      "🧪 View experiment at: https://mlflow.spikehub.win/#/experiments/0\n"
     ]
    },
    {
     "name": "stderr",
     "output_type": "stream",
     "text": [
      "[I 2025-05-27 14:33:10,374] Trial 26 finished with value: 0.04878048780487805 and parameters: {'oversampling_method': 'RandomOverSampler', 'undersampling_method': 'NeighbourhoodCleaningRule'}. Best is trial 8 with value: 0.2545454545454545.\n"
     ]
    },
    {
     "name": "stdout",
     "output_type": "stream",
     "text": [
      "🏃 View run sincere-ram-953 at: https://mlflow.spikehub.win/#/experiments/0/runs/8702e5e1f3064a10971ceae89379f019\n",
      "🧪 View experiment at: https://mlflow.spikehub.win/#/experiments/0\n"
     ]
    },
    {
     "name": "stderr",
     "output_type": "stream",
     "text": [
      "[I 2025-05-27 14:33:11,238] Trial 27 finished with value: 0.05 and parameters: {'oversampling_method': 'BorderlineSMOTE', 'undersampling_method': 'OneSidedSelection'}. Best is trial 8 with value: 0.2545454545454545.\n"
     ]
    },
    {
     "name": "stdout",
     "output_type": "stream",
     "text": [
      "🏃 View run illustrious-fawn-533 at: https://mlflow.spikehub.win/#/experiments/0/runs/6667a5973f3f49b5971475e6b76fffbd\n",
      "🧪 View experiment at: https://mlflow.spikehub.win/#/experiments/0\n"
     ]
    },
    {
     "name": "stderr",
     "output_type": "stream",
     "text": [
      "[I 2025-05-27 14:33:12,068] Trial 28 finished with value: 0.046511627906976744 and parameters: {'oversampling_method': 'SMOTE', 'undersampling_method': 'AllKNN'}. Best is trial 8 with value: 0.2545454545454545.\n"
     ]
    },
    {
     "name": "stdout",
     "output_type": "stream",
     "text": [
      "🏃 View run redolent-gnu-358 at: https://mlflow.spikehub.win/#/experiments/0/runs/3c43b4ef914b4e8b9190fd63a9a1c7bd\n",
      "🧪 View experiment at: https://mlflow.spikehub.win/#/experiments/0\n"
     ]
    },
    {
     "name": "stderr",
     "output_type": "stream",
     "text": [
      "[I 2025-05-27 14:33:37,427] Trial 29 finished with value: 0.0 and parameters: {'oversampling_method': 'BorderlineSMOTE', 'undersampling_method': 'CondensedNearestNeighbour'}. Best is trial 8 with value: 0.2545454545454545.\n"
     ]
    },
    {
     "name": "stdout",
     "output_type": "stream",
     "text": [
      "🏃 View run tasteful-hen-356 at: https://mlflow.spikehub.win/#/experiments/0/runs/a080c1eb52cd4f9ca25e7bb08a71d15d\n",
      "🧪 View experiment at: https://mlflow.spikehub.win/#/experiments/0\n"
     ]
    },
    {
     "name": "stderr",
     "output_type": "stream",
     "text": [
      "[I 2025-05-27 14:33:38,294] Trial 30 finished with value: 0.0 and parameters: {'oversampling_method': 'BorderlineSMOTE', 'undersampling_method': 'None'}. Best is trial 8 with value: 0.2545454545454545.\n"
     ]
    },
    {
     "name": "stdout",
     "output_type": "stream",
     "text": [
      "🏃 View run blushing-snipe-748 at: https://mlflow.spikehub.win/#/experiments/0/runs/b657ff6e05c24a2db8ff9fa196a2db5a\n",
      "🧪 View experiment at: https://mlflow.spikehub.win/#/experiments/0\n"
     ]
    },
    {
     "name": "stderr",
     "output_type": "stream",
     "text": [
      "[I 2025-05-27 14:33:38,954] Trial 31 finished with value: 0.04878048780487805 and parameters: {'oversampling_method': 'RandomOverSampler', 'undersampling_method': 'NearMiss'}. Best is trial 8 with value: 0.2545454545454545.\n"
     ]
    },
    {
     "name": "stdout",
     "output_type": "stream",
     "text": [
      "🏃 View run nosy-moth-674 at: https://mlflow.spikehub.win/#/experiments/0/runs/e2aba020afe24e38ae38af37390da49c\n",
      "🧪 View experiment at: https://mlflow.spikehub.win/#/experiments/0\n"
     ]
    },
    {
     "name": "stderr",
     "output_type": "stream",
     "text": [
      "[I 2025-05-27 14:33:39,614] Trial 32 finished with value: 0.05 and parameters: {'oversampling_method': 'RandomOverSampler', 'undersampling_method': 'RepeatedEditedNearestNeighbours'}. Best is trial 8 with value: 0.2545454545454545.\n"
     ]
    },
    {
     "name": "stdout",
     "output_type": "stream",
     "text": [
      "🏃 View run whimsical-hare-803 at: https://mlflow.spikehub.win/#/experiments/0/runs/e95cb204e8a14003b57f7c155d0e97b0\n",
      "🧪 View experiment at: https://mlflow.spikehub.win/#/experiments/0\n"
     ]
    },
    {
     "name": "stderr",
     "output_type": "stream",
     "text": [
      "[I 2025-05-27 14:33:40,337] Trial 33 finished with value: 0.1388888888888889 and parameters: {'oversampling_method': 'SVMSMOTE', 'undersampling_method': 'EditedNearestNeighbours'}. Best is trial 8 with value: 0.2545454545454545.\n"
     ]
    },
    {
     "name": "stdout",
     "output_type": "stream",
     "text": [
      "🏃 View run dapper-tern-480 at: https://mlflow.spikehub.win/#/experiments/0/runs/f8782bc3c3164eeeb49eb999e505cf9b\n",
      "🧪 View experiment at: https://mlflow.spikehub.win/#/experiments/0\n"
     ]
    },
    {
     "name": "stderr",
     "output_type": "stream",
     "text": [
      "[I 2025-05-27 14:33:41,269] Trial 34 finished with value: 0.0 and parameters: {'oversampling_method': 'SMOTE', 'undersampling_method': 'NeighbourhoodCleaningRule'}. Best is trial 8 with value: 0.2545454545454545.\n"
     ]
    },
    {
     "name": "stdout",
     "output_type": "stream",
     "text": [
      "🏃 View run exultant-stag-661 at: https://mlflow.spikehub.win/#/experiments/0/runs/bf3d5754e0da4e618714f5d2762b0bc2\n",
      "🧪 View experiment at: https://mlflow.spikehub.win/#/experiments/0\n"
     ]
    },
    {
     "name": "stderr",
     "output_type": "stream",
     "text": [
      "[I 2025-05-27 14:33:41,896] Trial 35 finished with value: 0.11594202898550725 and parameters: {'oversampling_method': 'None', 'undersampling_method': 'RepeatedEditedNearestNeighbours'}. Best is trial 8 with value: 0.2545454545454545.\n"
     ]
    },
    {
     "name": "stdout",
     "output_type": "stream",
     "text": [
      "🏃 View run upset-foal-558 at: https://mlflow.spikehub.win/#/experiments/0/runs/49eca212767142009d175ad8e54b3c74\n",
      "🧪 View experiment at: https://mlflow.spikehub.win/#/experiments/0\n"
     ]
    },
    {
     "name": "stderr",
     "output_type": "stream",
     "text": [
      "[I 2025-05-27 14:33:42,670] Trial 36 finished with value: 0.0975609756097561 and parameters: {'oversampling_method': 'SMOTE', 'undersampling_method': 'None'}. Best is trial 8 with value: 0.2545454545454545.\n"
     ]
    },
    {
     "name": "stdout",
     "output_type": "stream",
     "text": [
      "🏃 View run exultant-deer-697 at: https://mlflow.spikehub.win/#/experiments/0/runs/587b7f2772614a5983976c5c58caf111\n",
      "🧪 View experiment at: https://mlflow.spikehub.win/#/experiments/0\n"
     ]
    },
    {
     "name": "stderr",
     "output_type": "stream",
     "text": [
      "[I 2025-05-27 14:33:44,336] Trial 37 finished with value: 0.0 and parameters: {'oversampling_method': 'SMOTEN', 'undersampling_method': 'None'}. Best is trial 8 with value: 0.2545454545454545.\n"
     ]
    },
    {
     "name": "stdout",
     "output_type": "stream",
     "text": [
      "🏃 View run blushing-shoat-791 at: https://mlflow.spikehub.win/#/experiments/0/runs/f63cf1193ede43a6a5a77fd6f548f3a7\n",
      "🧪 View experiment at: https://mlflow.spikehub.win/#/experiments/0\n"
     ]
    },
    {
     "name": "stderr",
     "output_type": "stream",
     "text": [
      "[I 2025-05-27 14:33:45,118] Trial 38 finished with value: 0.05 and parameters: {'oversampling_method': 'RandomOverSampler', 'undersampling_method': 'EditedNearestNeighbours'}. Best is trial 8 with value: 0.2545454545454545.\n"
     ]
    },
    {
     "name": "stdout",
     "output_type": "stream",
     "text": [
      "🏃 View run awesome-steed-549 at: https://mlflow.spikehub.win/#/experiments/0/runs/190782c0f8a748daa8aeb541e51eafcc\n",
      "🧪 View experiment at: https://mlflow.spikehub.win/#/experiments/0\n"
     ]
    },
    {
     "name": "stderr",
     "output_type": "stream",
     "text": [
      "[I 2025-05-27 14:33:45,925] Trial 39 finished with value: 0.05263157894736842 and parameters: {'oversampling_method': 'SVMSMOTE', 'undersampling_method': 'OneSidedSelection'}. Best is trial 8 with value: 0.2545454545454545.\n"
     ]
    },
    {
     "name": "stdout",
     "output_type": "stream",
     "text": [
      "🏃 View run carefree-steed-86 at: https://mlflow.spikehub.win/#/experiments/0/runs/4da11bc4577440a5888286a5a1f1b9da\n",
      "🧪 View experiment at: https://mlflow.spikehub.win/#/experiments/0\n"
     ]
    },
    {
     "name": "stderr",
     "output_type": "stream",
     "text": [
      "[I 2025-05-27 14:33:46,823] Trial 40 finished with value: 0.05 and parameters: {'oversampling_method': 'SMOTE', 'undersampling_method': 'TomekLinks'}. Best is trial 8 with value: 0.2545454545454545.\n"
     ]
    },
    {
     "name": "stdout",
     "output_type": "stream",
     "text": [
      "🏃 View run fun-shoat-314 at: https://mlflow.spikehub.win/#/experiments/0/runs/e1861defd2f44cf2bbefb29e8fa8abef\n",
      "🧪 View experiment at: https://mlflow.spikehub.win/#/experiments/0\n"
     ]
    },
    {
     "name": "stderr",
     "output_type": "stream",
     "text": [
      "[I 2025-05-27 14:33:47,625] Trial 41 finished with value: 0.05263157894736842 and parameters: {'oversampling_method': 'ADASYN', 'undersampling_method': 'AllKNN'}. Best is trial 8 with value: 0.2545454545454545.\n"
     ]
    },
    {
     "name": "stdout",
     "output_type": "stream",
     "text": [
      "🏃 View run selective-tern-892 at: https://mlflow.spikehub.win/#/experiments/0/runs/79b379334923464686c455e2c078b603\n",
      "🧪 View experiment at: https://mlflow.spikehub.win/#/experiments/0\n"
     ]
    },
    {
     "name": "stderr",
     "output_type": "stream",
     "text": [
      "[I 2025-05-27 14:33:48,500] Trial 42 finished with value: 0.047619047619047616 and parameters: {'oversampling_method': 'SMOTE', 'undersampling_method': 'OneSidedSelection'}. Best is trial 8 with value: 0.2545454545454545.\n"
     ]
    },
    {
     "name": "stdout",
     "output_type": "stream",
     "text": [
      "🏃 View run victorious-flea-794 at: https://mlflow.spikehub.win/#/experiments/0/runs/3cdc3a4cb1ab46b1bcba67563f34c1d6\n",
      "🧪 View experiment at: https://mlflow.spikehub.win/#/experiments/0\n"
     ]
    },
    {
     "name": "stderr",
     "output_type": "stream",
     "text": [
      "[I 2025-05-27 14:33:49,430] Trial 43 finished with value: 0.05128205128205128 and parameters: {'oversampling_method': 'ADASYN', 'undersampling_method': 'OneSidedSelection'}. Best is trial 8 with value: 0.2545454545454545.\n"
     ]
    },
    {
     "name": "stdout",
     "output_type": "stream",
     "text": [
      "🏃 View run classy-goose-835 at: https://mlflow.spikehub.win/#/experiments/0/runs/44bee509466a42f8b41f1463e202c883\n",
      "🧪 View experiment at: https://mlflow.spikehub.win/#/experiments/0\n"
     ]
    },
    {
     "name": "stderr",
     "output_type": "stream",
     "text": [
      "[I 2025-05-27 14:33:50,233] Trial 44 finished with value: 0.05 and parameters: {'oversampling_method': 'SMOTE', 'undersampling_method': 'RandomUnderSampler'}. Best is trial 8 with value: 0.2545454545454545.\n"
     ]
    },
    {
     "name": "stdout",
     "output_type": "stream",
     "text": [
      "🏃 View run bald-worm-65 at: https://mlflow.spikehub.win/#/experiments/0/runs/cf777fbbc3ac4f829b90679f476e6d5f\n",
      "🧪 View experiment at: https://mlflow.spikehub.win/#/experiments/0\n"
     ]
    },
    {
     "name": "stderr",
     "output_type": "stream",
     "text": [
      "[I 2025-05-27 14:33:51,818] Trial 45 finished with value: 0.0 and parameters: {'oversampling_method': 'SMOTEN', 'undersampling_method': 'AllKNN'}. Best is trial 8 with value: 0.2545454545454545.\n"
     ]
    },
    {
     "name": "stdout",
     "output_type": "stream",
     "text": [
      "🏃 View run legendary-cow-880 at: https://mlflow.spikehub.win/#/experiments/0/runs/02c1f93e96334bbd9db3e366627eb8ea\n",
      "🧪 View experiment at: https://mlflow.spikehub.win/#/experiments/0\n"
     ]
    },
    {
     "name": "stderr",
     "output_type": "stream",
     "text": [
      "[I 2025-05-27 14:33:52,331] Trial 46 finished with value: 0.21705426356589147 and parameters: {'oversampling_method': 'None', 'undersampling_method': 'RandomUnderSampler'}. Best is trial 8 with value: 0.2545454545454545.\n"
     ]
    },
    {
     "name": "stdout",
     "output_type": "stream",
     "text": [
      "🏃 View run nebulous-bee-82 at: https://mlflow.spikehub.win/#/experiments/0/runs/b7c233076eb84b638f871a1d834fb97d\n",
      "🧪 View experiment at: https://mlflow.spikehub.win/#/experiments/0\n"
     ]
    },
    {
     "name": "stderr",
     "output_type": "stream",
     "text": [
      "[I 2025-05-27 14:33:53,199] Trial 47 finished with value: 0.05128205128205128 and parameters: {'oversampling_method': 'ADASYN', 'undersampling_method': 'TomekLinks'}. Best is trial 8 with value: 0.2545454545454545.\n"
     ]
    },
    {
     "name": "stdout",
     "output_type": "stream",
     "text": [
      "🏃 View run nosy-trout-629 at: https://mlflow.spikehub.win/#/experiments/0/runs/c329339e73194bbc866e1efd1cb0c8f9\n",
      "🧪 View experiment at: https://mlflow.spikehub.win/#/experiments/0\n"
     ]
    },
    {
     "name": "stderr",
     "output_type": "stream",
     "text": [
      "[I 2025-05-27 14:33:54,096] Trial 48 finished with value: 0.04878048780487805 and parameters: {'oversampling_method': 'SMOTE', 'undersampling_method': 'NearMiss'}. Best is trial 8 with value: 0.2545454545454545.\n"
     ]
    },
    {
     "name": "stdout",
     "output_type": "stream",
     "text": [
      "🏃 View run respected-wren-33 at: https://mlflow.spikehub.win/#/experiments/0/runs/95ab9278525c457d8f0dd13230b27a06\n",
      "🧪 View experiment at: https://mlflow.spikehub.win/#/experiments/0\n"
     ]
    },
    {
     "name": "stderr",
     "output_type": "stream",
     "text": [
      "[I 2025-05-27 14:33:55,799] Trial 49 finished with value: 0.0 and parameters: {'oversampling_method': 'SMOTEN', 'undersampling_method': 'OneSidedSelection'}. Best is trial 8 with value: 0.2545454545454545.\n"
     ]
    },
    {
     "name": "stdout",
     "output_type": "stream",
     "text": [
      "🏃 View run debonair-shark-461 at: https://mlflow.spikehub.win/#/experiments/0/runs/9c90b49dbf1c4a8980e3d3fdb9e5c6f1\n",
      "🧪 View experiment at: https://mlflow.spikehub.win/#/experiments/0\n"
     ]
    },
    {
     "name": "stderr",
     "output_type": "stream",
     "text": [
      "[I 2025-05-27 14:33:56,555] Trial 50 finished with value: 0.20754716981132076 and parameters: {'oversampling_method': 'SVMSMOTE', 'undersampling_method': 'RepeatedEditedNearestNeighbours'}. Best is trial 8 with value: 0.2545454545454545.\n"
     ]
    },
    {
     "name": "stdout",
     "output_type": "stream",
     "text": [
      "🏃 View run sedate-shark-192 at: https://mlflow.spikehub.win/#/experiments/0/runs/b4e2ef3638014cc1b34d57c33b5d2230\n",
      "🧪 View experiment at: https://mlflow.spikehub.win/#/experiments/0\n"
     ]
    },
    {
     "name": "stderr",
     "output_type": "stream",
     "text": [
      "[I 2025-05-27 14:33:57,456] Trial 51 finished with value: 0.1 and parameters: {'oversampling_method': 'SMOTE', 'undersampling_method': 'RepeatedEditedNearestNeighbours'}. Best is trial 8 with value: 0.2545454545454545.\n"
     ]
    },
    {
     "name": "stdout",
     "output_type": "stream",
     "text": [
      "🏃 View run likeable-mole-163 at: https://mlflow.spikehub.win/#/experiments/0/runs/38dd857195ba4a94a7d5d7aa83aa761c\n",
      "🧪 View experiment at: https://mlflow.spikehub.win/#/experiments/0\n"
     ]
    },
    {
     "name": "stderr",
     "output_type": "stream",
     "text": [
      "[I 2025-05-27 14:33:58,083] Trial 52 finished with value: 0.07017543859649122 and parameters: {'oversampling_method': 'None', 'undersampling_method': 'AllKNN'}. Best is trial 8 with value: 0.2545454545454545.\n"
     ]
    },
    {
     "name": "stdout",
     "output_type": "stream",
     "text": [
      "🏃 View run languid-mole-135 at: https://mlflow.spikehub.win/#/experiments/0/runs/88204f2ac0e44deb9b6bdcb8c80eb1ca\n",
      "🧪 View experiment at: https://mlflow.spikehub.win/#/experiments/0\n"
     ]
    },
    {
     "name": "stderr",
     "output_type": "stream",
     "text": [
      "[I 2025-05-27 14:33:58,977] Trial 53 finished with value: 0.05 and parameters: {'oversampling_method': 'BorderlineSMOTE', 'undersampling_method': 'RandomUnderSampler'}. Best is trial 8 with value: 0.2545454545454545.\n"
     ]
    },
    {
     "name": "stdout",
     "output_type": "stream",
     "text": [
      "🏃 View run mysterious-fox-319 at: https://mlflow.spikehub.win/#/experiments/0/runs/62390b6d168348149b7f827a59840ca7\n",
      "🧪 View experiment at: https://mlflow.spikehub.win/#/experiments/0\n"
     ]
    },
    {
     "name": "stderr",
     "output_type": "stream",
     "text": [
      "[I 2025-05-27 14:33:59,499] Trial 54 finished with value: 0.08925619834710743 and parameters: {'oversampling_method': 'None', 'undersampling_method': 'NearMiss'}. Best is trial 8 with value: 0.2545454545454545.\n"
     ]
    },
    {
     "name": "stdout",
     "output_type": "stream",
     "text": [
      "🏃 View run enchanting-moth-912 at: https://mlflow.spikehub.win/#/experiments/0/runs/8f8a7a487b244ec086118cf81fb10ba2\n",
      "🧪 View experiment at: https://mlflow.spikehub.win/#/experiments/0\n"
     ]
    },
    {
     "name": "stderr",
     "output_type": "stream",
     "text": [
      "[I 2025-05-27 14:34:00,458] Trial 55 finished with value: 0.05128205128205128 and parameters: {'oversampling_method': 'SVMSMOTE', 'undersampling_method': 'None'}. Best is trial 8 with value: 0.2545454545454545.\n"
     ]
    },
    {
     "name": "stdout",
     "output_type": "stream",
     "text": [
      "🏃 View run fortunate-elk-681 at: https://mlflow.spikehub.win/#/experiments/0/runs/23ee110637b04eeeaeffbb112857e4be\n",
      "🧪 View experiment at: https://mlflow.spikehub.win/#/experiments/0\n"
     ]
    },
    {
     "name": "stderr",
     "output_type": "stream",
     "text": [
      "[I 2025-05-27 14:34:01,340] Trial 56 finished with value: 0.05128205128205128 and parameters: {'oversampling_method': 'SVMSMOTE', 'undersampling_method': 'TomekLinks'}. Best is trial 8 with value: 0.2545454545454545.\n"
     ]
    },
    {
     "name": "stdout",
     "output_type": "stream",
     "text": [
      "🏃 View run bustling-mule-390 at: https://mlflow.spikehub.win/#/experiments/0/runs/3d01204f3d4b468b8bd7e9501441e5a7\n",
      "🧪 View experiment at: https://mlflow.spikehub.win/#/experiments/0\n"
     ]
    },
    {
     "name": "stderr",
     "output_type": "stream",
     "text": [
      "[I 2025-05-27 14:34:38,106] Trial 57 finished with value: 0.05405405405405406 and parameters: {'oversampling_method': 'ADASYN', 'undersampling_method': 'CondensedNearestNeighbour'}. Best is trial 8 with value: 0.2545454545454545.\n"
     ]
    },
    {
     "name": "stdout",
     "output_type": "stream",
     "text": [
      "🏃 View run awesome-swan-251 at: https://mlflow.spikehub.win/#/experiments/0/runs/4f00e617aeee492d96471eac5b4e5a6e\n",
      "🧪 View experiment at: https://mlflow.spikehub.win/#/experiments/0\n"
     ]
    },
    {
     "name": "stderr",
     "output_type": "stream",
     "text": [
      "[I 2025-05-27 14:34:38,891] Trial 58 finished with value: 0.05128205128205128 and parameters: {'oversampling_method': 'RandomOverSampler', 'undersampling_method': 'TomekLinks'}. Best is trial 8 with value: 0.2545454545454545.\n"
     ]
    },
    {
     "name": "stdout",
     "output_type": "stream",
     "text": [
      "🏃 View run abundant-sponge-513 at: https://mlflow.spikehub.win/#/experiments/0/runs/cefa08b7897b4365bb03c51bc2fd0d74\n",
      "🧪 View experiment at: https://mlflow.spikehub.win/#/experiments/0\n"
     ]
    },
    {
     "name": "stderr",
     "output_type": "stream",
     "text": [
      "[I 2025-05-27 14:34:39,821] Trial 59 finished with value: 0.1 and parameters: {'oversampling_method': 'SMOTE', 'undersampling_method': 'EditedNearestNeighbours'}. Best is trial 8 with value: 0.2545454545454545.\n"
     ]
    },
    {
     "name": "stdout",
     "output_type": "stream",
     "text": [
      "🏃 View run omniscient-hog-94 at: https://mlflow.spikehub.win/#/experiments/0/runs/01ae58bc864e4ecc932709bf6c73f0fd\n",
      "🧪 View experiment at: https://mlflow.spikehub.win/#/experiments/0\n"
     ]
    },
    {
     "name": "stderr",
     "output_type": "stream",
     "text": [
      "[I 2025-05-27 14:35:08,249] Trial 60 finished with value: 0.07547169811320754 and parameters: {'oversampling_method': 'None', 'undersampling_method': 'CondensedNearestNeighbour'}. Best is trial 8 with value: 0.2545454545454545.\n"
     ]
    },
    {
     "name": "stdout",
     "output_type": "stream",
     "text": [
      "🏃 View run skillful-cod-173 at: https://mlflow.spikehub.win/#/experiments/0/runs/1141abdd71ca4fd08f1b09d03465d1c2\n",
      "🧪 View experiment at: https://mlflow.spikehub.win/#/experiments/0\n"
     ]
    },
    {
     "name": "stderr",
     "output_type": "stream",
     "text": [
      "[I 2025-05-27 14:35:10,128] Trial 61 finished with value: 0.0 and parameters: {'oversampling_method': 'SMOTEN', 'undersampling_method': 'NeighbourhoodCleaningRule'}. Best is trial 8 with value: 0.2545454545454545.\n"
     ]
    },
    {
     "name": "stdout",
     "output_type": "stream",
     "text": [
      "🏃 View run clumsy-wolf-974 at: https://mlflow.spikehub.win/#/experiments/0/runs/5e03b66039354683870489bc2c1214c0\n",
      "🧪 View experiment at: https://mlflow.spikehub.win/#/experiments/0\n"
     ]
    },
    {
     "name": "stderr",
     "output_type": "stream",
     "text": [
      "[I 2025-05-27 14:35:11,081] Trial 62 finished with value: 0.05128205128205128 and parameters: {'oversampling_method': 'ADASYN', 'undersampling_method': 'RandomUnderSampler'}. Best is trial 8 with value: 0.2545454545454545.\n"
     ]
    },
    {
     "name": "stdout",
     "output_type": "stream",
     "text": [
      "🏃 View run hilarious-eel-319 at: https://mlflow.spikehub.win/#/experiments/0/runs/099333a9c9054b2ebc44ce550f8bb398\n",
      "🧪 View experiment at: https://mlflow.spikehub.win/#/experiments/0\n"
     ]
    },
    {
     "name": "stderr",
     "output_type": "stream",
     "text": [
      "[I 2025-05-27 14:35:12,842] Trial 63 finished with value: 0.0 and parameters: {'oversampling_method': 'SMOTEN', 'undersampling_method': 'NearMiss'}. Best is trial 8 with value: 0.2545454545454545.\n"
     ]
    },
    {
     "name": "stdout",
     "output_type": "stream",
     "text": [
      "🏃 View run bright-elk-600 at: https://mlflow.spikehub.win/#/experiments/0/runs/1388d03b7b8d423aab19f793175fe071\n",
      "🧪 View experiment at: https://mlflow.spikehub.win/#/experiments/0\n"
     ]
    },
    {
     "name": "stderr",
     "output_type": "stream",
     "text": [
      "[I 2025-05-27 14:35:13,669] Trial 64 finished with value: 0.11764705882352941 and parameters: {'oversampling_method': 'SVMSMOTE', 'undersampling_method': 'RandomUnderSampler'}. Best is trial 8 with value: 0.2545454545454545.\n"
     ]
    },
    {
     "name": "stdout",
     "output_type": "stream",
     "text": [
      "🏃 View run efficient-ox-91 at: https://mlflow.spikehub.win/#/experiments/0/runs/7145ad7dc17e4ceaada76aaa4c9325af\n",
      "🧪 View experiment at: https://mlflow.spikehub.win/#/experiments/0\n"
     ]
    },
    {
     "name": "stderr",
     "output_type": "stream",
     "text": [
      "[I 2025-05-27 14:35:30,528] Trial 65 finished with value: 0.0 and parameters: {'oversampling_method': 'SMOTEN', 'undersampling_method': 'CondensedNearestNeighbour'}. Best is trial 8 with value: 0.2545454545454545.\n"
     ]
    },
    {
     "name": "stdout",
     "output_type": "stream",
     "text": [
      "🏃 View run bedecked-dolphin-820 at: https://mlflow.spikehub.win/#/experiments/0/runs/3c476f46b2ae48e5bbc43bbc8bc2d89f\n",
      "🧪 View experiment at: https://mlflow.spikehub.win/#/experiments/0\n"
     ]
    },
    {
     "name": "stderr",
     "output_type": "stream",
     "text": [
      "[I 2025-05-27 14:35:31,445] Trial 66 finished with value: 0.05263157894736842 and parameters: {'oversampling_method': 'ADASYN', 'undersampling_method': 'None'}. Best is trial 8 with value: 0.2545454545454545.\n"
     ]
    },
    {
     "name": "stdout",
     "output_type": "stream",
     "text": [
      "🏃 View run invincible-snipe-892 at: https://mlflow.spikehub.win/#/experiments/0/runs/052d613c8f4b457e8c16f12f8a0cae89\n",
      "🧪 View experiment at: https://mlflow.spikehub.win/#/experiments/0\n"
     ]
    },
    {
     "name": "stderr",
     "output_type": "stream",
     "text": [
      "[I 2025-05-27 14:35:32,239] Trial 67 finished with value: 0.09302325581395349 and parameters: {'oversampling_method': 'None', 'undersampling_method': 'NeighbourhoodCleaningRule'}. Best is trial 8 with value: 0.2545454545454545.\n"
     ]
    },
    {
     "name": "stdout",
     "output_type": "stream",
     "text": [
      "🏃 View run bald-hog-652 at: https://mlflow.spikehub.win/#/experiments/0/runs/c726c629bef64737871627b59652dba8\n",
      "🧪 View experiment at: https://mlflow.spikehub.win/#/experiments/0\n"
     ]
    },
    {
     "name": "stderr",
     "output_type": "stream",
     "text": [
      "[I 2025-05-27 14:35:33,141] Trial 68 finished with value: 0.0 and parameters: {'oversampling_method': 'BorderlineSMOTE', 'undersampling_method': 'RepeatedEditedNearestNeighbours'}. Best is trial 8 with value: 0.2545454545454545.\n"
     ]
    },
    {
     "name": "stdout",
     "output_type": "stream",
     "text": [
      "🏃 View run gaudy-crab-139 at: https://mlflow.spikehub.win/#/experiments/0/runs/815497af1fa749b4a45b4e39fabad1cf\n",
      "🧪 View experiment at: https://mlflow.spikehub.win/#/experiments/0\n"
     ]
    },
    {
     "name": "stderr",
     "output_type": "stream",
     "text": [
      "[I 2025-05-27 14:35:34,203] Trial 69 finished with value: 0.0 and parameters: {'oversampling_method': 'BorderlineSMOTE', 'undersampling_method': 'NeighbourhoodCleaningRule'}. Best is trial 8 with value: 0.2545454545454545.\n"
     ]
    },
    {
     "name": "stdout",
     "output_type": "stream",
     "text": [
      "🏃 View run calm-donkey-726 at: https://mlflow.spikehub.win/#/experiments/0/runs/947bb90096b24b088a76c2fa405a15ff\n",
      "🧪 View experiment at: https://mlflow.spikehub.win/#/experiments/0\n",
      "🏃 View run Random Forest Run at: https://mlflow.spikehub.win/#/experiments/1/runs/8df48cfb519d4010a3b3aacabd1f30cb\n",
      "🧪 View experiment at: https://mlflow.spikehub.win/#/experiments/1\n"
     ]
    }
   ],
   "source": [
    "from sklearn.ensemble import RandomForestClassifier\n",
    "\n",
    "search_space = {\"oversampling_method\": oversampler_list, \"undersampling_method\": undersampler_list}\n",
    "\n",
    "objective = create_objective(lambda: RandomForestClassifier(random_state=42))\n",
    "\n",
    "run_name = \"Random Forest Run\"\n",
    "\n",
    "with mlflow.start_run(experiment_id=experiment_id, run_name=run_name, nested=True):\n",
    "    study = optuna.create_study(\n",
    "        direction=\"maximize\", sampler=optuna.samplers.GridSampler(search_space)\n",
    "    )\n",
    "    study.optimize(objective, n_trials=len(oversampler_list) * len(undersampler_list))\n",
    "\n",
    "    mlflow.log_params(study.best_params)\n",
    "    mlflow.log_metric(\"best_f1_score\", study.best_value)\n",
    "\n",
    "    mlflow.set_tags(\n",
    "        tags={\n",
    "            \"project\": \"stroke_prediction\",\n",
    "            \"optimizer_engine\": \"optuna\",\n",
    "            \"model_family\": \"RandomForestClassifier\",\n",
    "        }\n",
    "    )"
   ]
  },
  {
   "cell_type": "markdown",
   "id": "7fd8b1d8",
   "metadata": {},
   "source": [
    "## K-Nearest Neighbors\n",
    "Now, we will try a different model, K-Nearest Neighbors, to see if it can perform differently with the samplers."
   ]
  },
  {
   "cell_type": "code",
   "execution_count": null,
   "id": "2bdc18f3",
   "metadata": {},
   "outputs": [
    {
     "name": "stderr",
     "output_type": "stream",
     "text": [
      "[I 2025-05-27 14:25:24,695] A new study created in memory with name: no-name-023785f1-9a09-461c-8d4b-099250af2560\n",
      "[I 2025-05-27 14:25:26,157] Trial 0 finished with value: 0.047058823529411764 and parameters: {'oversampling_method': 'SMOTEN', 'undersampling_method': 'RandomUnderSampler'}. Best is trial 0 with value: 0.047058823529411764.\n"
     ]
    },
    {
     "name": "stdout",
     "output_type": "stream",
     "text": [
      "🏃 View run kindly-goose-728 at: https://mlflow.spikehub.win/#/experiments/0/runs/1a4c64a98d774719866204f10dafe0ab\n",
      "🧪 View experiment at: https://mlflow.spikehub.win/#/experiments/0\n"
     ]
    },
    {
     "name": "stderr",
     "output_type": "stream",
     "text": [
      "[I 2025-05-27 14:25:27,613] Trial 1 finished with value: 0.04938271604938271 and parameters: {'oversampling_method': 'SMOTEN', 'undersampling_method': 'RepeatedEditedNearestNeighbours'}. Best is trial 1 with value: 0.04938271604938271.\n"
     ]
    },
    {
     "name": "stdout",
     "output_type": "stream",
     "text": [
      "🏃 View run omniscient-carp-834 at: https://mlflow.spikehub.win/#/experiments/0/runs/dc063dbe705846b3a9fe2183c0277b1d\n",
      "🧪 View experiment at: https://mlflow.spikehub.win/#/experiments/0\n"
     ]
    },
    {
     "name": "stderr",
     "output_type": "stream",
     "text": [
      "[I 2025-05-27 14:25:28,071] Trial 2 finished with value: 0.16176470588235295 and parameters: {'oversampling_method': 'BorderlineSMOTE', 'undersampling_method': 'TomekLinks'}. Best is trial 2 with value: 0.16176470588235295.\n"
     ]
    },
    {
     "name": "stdout",
     "output_type": "stream",
     "text": [
      "🏃 View run luminous-moose-875 at: https://mlflow.spikehub.win/#/experiments/0/runs/395fc74abace45b7baca4d7ff7b5b8e7\n",
      "🧪 View experiment at: https://mlflow.spikehub.win/#/experiments/0\n"
     ]
    },
    {
     "name": "stderr",
     "output_type": "stream",
     "text": [
      "[I 2025-05-27 14:25:29,455] Trial 3 finished with value: 0.04938271604938271 and parameters: {'oversampling_method': 'SMOTEN', 'undersampling_method': 'EditedNearestNeighbours'}. Best is trial 2 with value: 0.16176470588235295.\n"
     ]
    },
    {
     "name": "stdout",
     "output_type": "stream",
     "text": [
      "🏃 View run melodic-conch-473 at: https://mlflow.spikehub.win/#/experiments/0/runs/94bfaab4d71240f8929a31f84c46bcca\n",
      "🧪 View experiment at: https://mlflow.spikehub.win/#/experiments/0\n"
     ]
    },
    {
     "name": "stderr",
     "output_type": "stream",
     "text": [
      "[I 2025-05-27 14:25:29,920] Trial 4 finished with value: 0.1693121693121693 and parameters: {'oversampling_method': 'SVMSMOTE', 'undersampling_method': 'AllKNN'}. Best is trial 4 with value: 0.1693121693121693.\n"
     ]
    },
    {
     "name": "stdout",
     "output_type": "stream",
     "text": [
      "🏃 View run sophisticated-jay-23 at: https://mlflow.spikehub.win/#/experiments/0/runs/ab0bd3292230441aae7824c5add9f64d\n",
      "🧪 View experiment at: https://mlflow.spikehub.win/#/experiments/0\n"
     ]
    },
    {
     "name": "stderr",
     "output_type": "stream",
     "text": [
      "[I 2025-05-27 14:25:41,210] Trial 5 finished with value: 0.0 and parameters: {'oversampling_method': 'RandomOverSampler', 'undersampling_method': 'CondensedNearestNeighbour'}. Best is trial 4 with value: 0.1693121693121693.\n"
     ]
    },
    {
     "name": "stdout",
     "output_type": "stream",
     "text": [
      "🏃 View run victorious-croc-568 at: https://mlflow.spikehub.win/#/experiments/0/runs/2970cac9d59d490aa6bc4b88a802d395\n",
      "🧪 View experiment at: https://mlflow.spikehub.win/#/experiments/0\n"
     ]
    },
    {
     "name": "stderr",
     "output_type": "stream",
     "text": [
      "[I 2025-05-27 14:25:41,675] Trial 6 finished with value: 0.17857142857142858 and parameters: {'oversampling_method': 'ADASYN', 'undersampling_method': 'RepeatedEditedNearestNeighbours'}. Best is trial 6 with value: 0.17857142857142858.\n"
     ]
    },
    {
     "name": "stdout",
     "output_type": "stream",
     "text": [
      "🏃 View run awesome-frog-767 at: https://mlflow.spikehub.win/#/experiments/0/runs/359894855fd24e87bcbb2c0e83d69cfe\n",
      "🧪 View experiment at: https://mlflow.spikehub.win/#/experiments/0\n"
     ]
    },
    {
     "name": "stderr",
     "output_type": "stream",
     "text": [
      "[I 2025-05-27 14:25:42,090] Trial 7 finished with value: 0.13333333333333333 and parameters: {'oversampling_method': 'RandomOverSampler', 'undersampling_method': 'None'}. Best is trial 6 with value: 0.17857142857142858.\n"
     ]
    },
    {
     "name": "stdout",
     "output_type": "stream",
     "text": [
      "🏃 View run sneaky-lamb-495 at: https://mlflow.spikehub.win/#/experiments/0/runs/a3731dbba88844b498aed6277bb8c687\n",
      "🧪 View experiment at: https://mlflow.spikehub.win/#/experiments/0\n"
     ]
    },
    {
     "name": "stderr",
     "output_type": "stream",
     "text": [
      "[I 2025-05-27 14:25:42,713] Trial 8 finished with value: 0.17391304347826086 and parameters: {'oversampling_method': 'SVMSMOTE', 'undersampling_method': 'NeighbourhoodCleaningRule'}. Best is trial 6 with value: 0.17857142857142858.\n"
     ]
    },
    {
     "name": "stdout",
     "output_type": "stream",
     "text": [
      "🏃 View run dazzling-shad-195 at: https://mlflow.spikehub.win/#/experiments/0/runs/de20b7c6177849a1bcabcdb4b460df6d\n",
      "🧪 View experiment at: https://mlflow.spikehub.win/#/experiments/0\n"
     ]
    },
    {
     "name": "stderr",
     "output_type": "stream",
     "text": [
      "[I 2025-05-27 14:25:43,119] Trial 9 finished with value: 0.0 and parameters: {'oversampling_method': 'None', 'undersampling_method': 'None'}. Best is trial 6 with value: 0.17857142857142858.\n"
     ]
    },
    {
     "name": "stdout",
     "output_type": "stream",
     "text": [
      "🏃 View run loud-worm-858 at: https://mlflow.spikehub.win/#/experiments/0/runs/671871df8af74ada91008be77cdb9aac\n",
      "🧪 View experiment at: https://mlflow.spikehub.win/#/experiments/0\n"
     ]
    },
    {
     "name": "stderr",
     "output_type": "stream",
     "text": [
      "[I 2025-05-27 14:25:43,510] Trial 10 finished with value: 0.13333333333333333 and parameters: {'oversampling_method': 'RandomOverSampler', 'undersampling_method': 'RandomUnderSampler'}. Best is trial 6 with value: 0.17857142857142858.\n"
     ]
    },
    {
     "name": "stdout",
     "output_type": "stream",
     "text": [
      "🏃 View run kindly-fowl-91 at: https://mlflow.spikehub.win/#/experiments/0/runs/650f2c414c524c94ae2aa654e8f7c232\n",
      "🧪 View experiment at: https://mlflow.spikehub.win/#/experiments/0\n"
     ]
    },
    {
     "name": "stderr",
     "output_type": "stream",
     "text": [
      "[I 2025-05-27 14:25:44,950] Trial 11 finished with value: 0.047619047619047616 and parameters: {'oversampling_method': 'SMOTEN', 'undersampling_method': 'TomekLinks'}. Best is trial 6 with value: 0.17857142857142858.\n"
     ]
    },
    {
     "name": "stdout",
     "output_type": "stream",
     "text": [
      "🏃 View run invincible-cub-177 at: https://mlflow.spikehub.win/#/experiments/0/runs/bfb73535a47140429ac5ac381e69e641\n",
      "🧪 View experiment at: https://mlflow.spikehub.win/#/experiments/0\n"
     ]
    },
    {
     "name": "stderr",
     "output_type": "stream",
     "text": [
      "[I 2025-05-27 14:26:21,230] Trial 12 finished with value: 0.1895734597156398 and parameters: {'oversampling_method': 'SVMSMOTE', 'undersampling_method': 'CondensedNearestNeighbour'}. Best is trial 12 with value: 0.1895734597156398.\n"
     ]
    },
    {
     "name": "stdout",
     "output_type": "stream",
     "text": [
      "🏃 View run illustrious-foal-416 at: https://mlflow.spikehub.win/#/experiments/0/runs/eee718b335314fc18bec6d93133e4bb8\n",
      "🧪 View experiment at: https://mlflow.spikehub.win/#/experiments/0\n"
     ]
    },
    {
     "name": "stderr",
     "output_type": "stream",
     "text": [
      "[I 2025-05-27 14:26:21,635] Trial 13 finished with value: 0.17054263565891473 and parameters: {'oversampling_method': 'BorderlineSMOTE', 'undersampling_method': 'EditedNearestNeighbours'}. Best is trial 12 with value: 0.1895734597156398.\n"
     ]
    },
    {
     "name": "stdout",
     "output_type": "stream",
     "text": [
      "🏃 View run skillful-bear-142 at: https://mlflow.spikehub.win/#/experiments/0/runs/8973f523b4804bfc905fe07dbbb354d1\n",
      "🧪 View experiment at: https://mlflow.spikehub.win/#/experiments/0\n"
     ]
    },
    {
     "name": "stderr",
     "output_type": "stream",
     "text": [
      "[I 2025-05-27 14:26:22,050] Trial 14 finished with value: 0.16 and parameters: {'oversampling_method': 'SVMSMOTE', 'undersampling_method': 'NearMiss'}. Best is trial 12 with value: 0.1895734597156398.\n"
     ]
    },
    {
     "name": "stdout",
     "output_type": "stream",
     "text": [
      "🏃 View run fortunate-kite-204 at: https://mlflow.spikehub.win/#/experiments/0/runs/c48cde48c3944d6aa3883969f2dd1990\n",
      "🧪 View experiment at: https://mlflow.spikehub.win/#/experiments/0\n"
     ]
    },
    {
     "name": "stderr",
     "output_type": "stream",
     "text": [
      "[I 2025-05-27 14:26:22,591] Trial 15 finished with value: 0.13333333333333333 and parameters: {'oversampling_method': 'RandomOverSampler', 'undersampling_method': 'OneSidedSelection'}. Best is trial 12 with value: 0.1895734597156398.\n"
     ]
    },
    {
     "name": "stdout",
     "output_type": "stream",
     "text": [
      "🏃 View run worried-panda-709 at: https://mlflow.spikehub.win/#/experiments/0/runs/13faf0fc2cf247499ae0d88b2c740f29\n",
      "🧪 View experiment at: https://mlflow.spikehub.win/#/experiments/0\n"
     ]
    },
    {
     "name": "stderr",
     "output_type": "stream",
     "text": [
      "[I 2025-05-27 14:26:23,063] Trial 16 finished with value: 0.0 and parameters: {'oversampling_method': 'None', 'undersampling_method': 'TomekLinks'}. Best is trial 12 with value: 0.1895734597156398.\n"
     ]
    },
    {
     "name": "stdout",
     "output_type": "stream",
     "text": [
      "🏃 View run glamorous-wasp-969 at: https://mlflow.spikehub.win/#/experiments/0/runs/656e9ccdd40d4c729a9be88bca6df62e\n",
      "🧪 View experiment at: https://mlflow.spikehub.win/#/experiments/0\n"
     ]
    },
    {
     "name": "stderr",
     "output_type": "stream",
     "text": [
      "[I 2025-05-27 14:26:23,476] Trial 17 finished with value: 0.08333333333333333 and parameters: {'oversampling_method': 'None', 'undersampling_method': 'EditedNearestNeighbours'}. Best is trial 12 with value: 0.1895734597156398.\n"
     ]
    },
    {
     "name": "stdout",
     "output_type": "stream",
     "text": [
      "🏃 View run fortunate-donkey-100 at: https://mlflow.spikehub.win/#/experiments/0/runs/ca7c29c4a3be40c3af95fd3e3608d4f6\n",
      "🧪 View experiment at: https://mlflow.spikehub.win/#/experiments/0\n"
     ]
    },
    {
     "name": "stderr",
     "output_type": "stream",
     "text": [
      "[I 2025-05-27 14:26:24,046] Trial 18 finished with value: 0.16176470588235295 and parameters: {'oversampling_method': 'BorderlineSMOTE', 'undersampling_method': 'NearMiss'}. Best is trial 12 with value: 0.1895734597156398.\n"
     ]
    },
    {
     "name": "stdout",
     "output_type": "stream",
     "text": [
      "🏃 View run righteous-quail-770 at: https://mlflow.spikehub.win/#/experiments/0/runs/2b61275ec4ea4bc4973dd6d4dc93a4be\n",
      "🧪 View experiment at: https://mlflow.spikehub.win/#/experiments/0\n"
     ]
    },
    {
     "name": "stderr",
     "output_type": "stream",
     "text": [
      "[I 2025-05-27 14:26:24,654] Trial 19 finished with value: 0.16560509554140126 and parameters: {'oversampling_method': 'ADASYN', 'undersampling_method': 'NeighbourhoodCleaningRule'}. Best is trial 12 with value: 0.1895734597156398.\n"
     ]
    },
    {
     "name": "stdout",
     "output_type": "stream",
     "text": [
      "🏃 View run entertaining-cow-873 at: https://mlflow.spikehub.win/#/experiments/0/runs/7981b4fbd6c24ae690291b57dfd2c138\n",
      "🧪 View experiment at: https://mlflow.spikehub.win/#/experiments/0\n"
     ]
    },
    {
     "name": "stderr",
     "output_type": "stream",
     "text": [
      "[I 2025-05-27 14:26:25,192] Trial 20 finished with value: 0.0 and parameters: {'oversampling_method': 'None', 'undersampling_method': 'OneSidedSelection'}. Best is trial 12 with value: 0.1895734597156398.\n"
     ]
    },
    {
     "name": "stdout",
     "output_type": "stream",
     "text": [
      "🏃 View run marvelous-perch-438 at: https://mlflow.spikehub.win/#/experiments/0/runs/25c291f4e3684e8793512a87adfe3001\n",
      "🧪 View experiment at: https://mlflow.spikehub.win/#/experiments/0\n"
     ]
    },
    {
     "name": "stderr",
     "output_type": "stream",
     "text": [
      "[I 2025-05-27 14:26:25,629] Trial 21 finished with value: 0.13333333333333333 and parameters: {'oversampling_method': 'RandomOverSampler', 'undersampling_method': 'AllKNN'}. Best is trial 12 with value: 0.1895734597156398.\n"
     ]
    },
    {
     "name": "stdout",
     "output_type": "stream",
     "text": [
      "🏃 View run salty-squid-790 at: https://mlflow.spikehub.win/#/experiments/0/runs/cddf9c1c6301484383ff8d88f61815a5\n",
      "🧪 View experiment at: https://mlflow.spikehub.win/#/experiments/0\n"
     ]
    },
    {
     "name": "stderr",
     "output_type": "stream",
     "text": [
      "[I 2025-05-27 14:26:26,081] Trial 22 finished with value: 0.17857142857142858 and parameters: {'oversampling_method': 'ADASYN', 'undersampling_method': 'EditedNearestNeighbours'}. Best is trial 12 with value: 0.1895734597156398.\n"
     ]
    },
    {
     "name": "stdout",
     "output_type": "stream",
     "text": [
      "🏃 View run nosy-lynx-267 at: https://mlflow.spikehub.win/#/experiments/0/runs/fb9b5e46941842c6a1558f1062ed88c2\n",
      "🧪 View experiment at: https://mlflow.spikehub.win/#/experiments/0\n"
     ]
    },
    {
     "name": "stderr",
     "output_type": "stream",
     "text": [
      "[I 2025-05-27 14:26:26,543] Trial 23 finished with value: 0.16296296296296298 and parameters: {'oversampling_method': 'BorderlineSMOTE', 'undersampling_method': 'AllKNN'}. Best is trial 12 with value: 0.1895734597156398.\n"
     ]
    },
    {
     "name": "stdout",
     "output_type": "stream",
     "text": [
      "🏃 View run dazzling-sow-635 at: https://mlflow.spikehub.win/#/experiments/0/runs/2b15d03f3fd34431934b0544ebc930ed\n",
      "🧪 View experiment at: https://mlflow.spikehub.win/#/experiments/0\n"
     ]
    },
    {
     "name": "stderr",
     "output_type": "stream",
     "text": [
      "[I 2025-05-27 14:27:03,246] Trial 24 finished with value: 0.11494252873563218 and parameters: {'oversampling_method': 'SMOTE', 'undersampling_method': 'CondensedNearestNeighbour'}. Best is trial 12 with value: 0.1895734597156398.\n"
     ]
    },
    {
     "name": "stdout",
     "output_type": "stream",
     "text": [
      "🏃 View run kindly-doe-530 at: https://mlflow.spikehub.win/#/experiments/0/runs/2e0ba88e061642b5b290f865af9b2a7b\n",
      "🧪 View experiment at: https://mlflow.spikehub.win/#/experiments/0\n"
     ]
    },
    {
     "name": "stderr",
     "output_type": "stream",
     "text": [
      "[I 2025-05-27 14:27:03,642] Trial 25 finished with value: 0.16759776536312848 and parameters: {'oversampling_method': 'ADASYN', 'undersampling_method': 'NearMiss'}. Best is trial 12 with value: 0.1895734597156398.\n"
     ]
    },
    {
     "name": "stdout",
     "output_type": "stream",
     "text": [
      "🏃 View run funny-squirrel-751 at: https://mlflow.spikehub.win/#/experiments/0/runs/1685e89e82dc46c59cf787dc9af4890a\n",
      "🧪 View experiment at: https://mlflow.spikehub.win/#/experiments/0\n"
     ]
    },
    {
     "name": "stderr",
     "output_type": "stream",
     "text": [
      "[I 2025-05-27 14:27:04,256] Trial 26 finished with value: 0.13333333333333333 and parameters: {'oversampling_method': 'RandomOverSampler', 'undersampling_method': 'NeighbourhoodCleaningRule'}. Best is trial 12 with value: 0.1895734597156398.\n"
     ]
    },
    {
     "name": "stdout",
     "output_type": "stream",
     "text": [
      "🏃 View run resilient-fish-703 at: https://mlflow.spikehub.win/#/experiments/0/runs/7039333dbbbd41019c34c28b82c8d0e0\n",
      "🧪 View experiment at: https://mlflow.spikehub.win/#/experiments/0\n"
     ]
    },
    {
     "name": "stderr",
     "output_type": "stream",
     "text": [
      "[I 2025-05-27 14:27:04,688] Trial 27 finished with value: 0.16176470588235295 and parameters: {'oversampling_method': 'BorderlineSMOTE', 'undersampling_method': 'OneSidedSelection'}. Best is trial 12 with value: 0.1895734597156398.\n"
     ]
    },
    {
     "name": "stdout",
     "output_type": "stream",
     "text": [
      "🏃 View run monumental-hound-33 at: https://mlflow.spikehub.win/#/experiments/0/runs/3555e2a47f714f5184dab54c4d9e29a7\n",
      "🧪 View experiment at: https://mlflow.spikehub.win/#/experiments/0\n"
     ]
    },
    {
     "name": "stderr",
     "output_type": "stream",
     "text": [
      "[I 2025-05-27 14:27:05,118] Trial 28 finished with value: 0.15204678362573099 and parameters: {'oversampling_method': 'SMOTE', 'undersampling_method': 'AllKNN'}. Best is trial 12 with value: 0.1895734597156398.\n"
     ]
    },
    {
     "name": "stdout",
     "output_type": "stream",
     "text": [
      "🏃 View run awesome-grub-193 at: https://mlflow.spikehub.win/#/experiments/0/runs/dee4c6c87818413a871d7d5f594868b0\n",
      "🧪 View experiment at: https://mlflow.spikehub.win/#/experiments/0\n"
     ]
    },
    {
     "name": "stderr",
     "output_type": "stream",
     "text": [
      "[I 2025-05-27 14:27:31,170] Trial 29 finished with value: 0.057971014492753624 and parameters: {'oversampling_method': 'BorderlineSMOTE', 'undersampling_method': 'CondensedNearestNeighbour'}. Best is trial 12 with value: 0.1895734597156398.\n"
     ]
    },
    {
     "name": "stdout",
     "output_type": "stream",
     "text": [
      "🏃 View run chill-fish-742 at: https://mlflow.spikehub.win/#/experiments/0/runs/b97c6e4728ac483bbe0d666262b6b1e6\n",
      "🧪 View experiment at: https://mlflow.spikehub.win/#/experiments/0\n"
     ]
    },
    {
     "name": "stderr",
     "output_type": "stream",
     "text": [
      "[I 2025-05-27 14:27:31,564] Trial 30 finished with value: 0.16176470588235295 and parameters: {'oversampling_method': 'BorderlineSMOTE', 'undersampling_method': 'None'}. Best is trial 12 with value: 0.1895734597156398.\n"
     ]
    },
    {
     "name": "stdout",
     "output_type": "stream",
     "text": [
      "🏃 View run rumbling-sow-6 at: https://mlflow.spikehub.win/#/experiments/0/runs/c891fa309e4a4e6da0a3432b581642b8\n",
      "🧪 View experiment at: https://mlflow.spikehub.win/#/experiments/0\n"
     ]
    },
    {
     "name": "stderr",
     "output_type": "stream",
     "text": [
      "[I 2025-05-27 14:27:31,953] Trial 31 finished with value: 0.13333333333333333 and parameters: {'oversampling_method': 'RandomOverSampler', 'undersampling_method': 'NearMiss'}. Best is trial 12 with value: 0.1895734597156398.\n"
     ]
    },
    {
     "name": "stdout",
     "output_type": "stream",
     "text": [
      "🏃 View run thoughtful-pig-581 at: https://mlflow.spikehub.win/#/experiments/0/runs/e58452ebf45b4c8dabe7210c68865b42\n",
      "🧪 View experiment at: https://mlflow.spikehub.win/#/experiments/0\n"
     ]
    },
    {
     "name": "stderr",
     "output_type": "stream",
     "text": [
      "[I 2025-05-27 14:27:32,346] Trial 32 finished with value: 0.13333333333333333 and parameters: {'oversampling_method': 'RandomOverSampler', 'undersampling_method': 'RepeatedEditedNearestNeighbours'}. Best is trial 12 with value: 0.1895734597156398.\n"
     ]
    },
    {
     "name": "stdout",
     "output_type": "stream",
     "text": [
      "🏃 View run grandiose-colt-785 at: https://mlflow.spikehub.win/#/experiments/0/runs/fcccccdd8aca4c69ad2ea578ba360fe0\n",
      "🧪 View experiment at: https://mlflow.spikehub.win/#/experiments/0\n"
     ]
    },
    {
     "name": "stderr",
     "output_type": "stream",
     "text": [
      "[I 2025-05-27 14:27:32,848] Trial 33 finished with value: 0.16 and parameters: {'oversampling_method': 'SVMSMOTE', 'undersampling_method': 'EditedNearestNeighbours'}. Best is trial 12 with value: 0.1895734597156398.\n"
     ]
    },
    {
     "name": "stdout",
     "output_type": "stream",
     "text": [
      "🏃 View run serious-horse-306 at: https://mlflow.spikehub.win/#/experiments/0/runs/dbbcae1f3f7844fe92000da2b629caaf\n",
      "🧪 View experiment at: https://mlflow.spikehub.win/#/experiments/0\n"
     ]
    },
    {
     "name": "stderr",
     "output_type": "stream",
     "text": [
      "[I 2025-05-27 14:27:33,549] Trial 34 finished with value: 0.1476510067114094 and parameters: {'oversampling_method': 'SMOTE', 'undersampling_method': 'NeighbourhoodCleaningRule'}. Best is trial 12 with value: 0.1895734597156398.\n"
     ]
    },
    {
     "name": "stdout",
     "output_type": "stream",
     "text": [
      "🏃 View run bemused-bird-436 at: https://mlflow.spikehub.win/#/experiments/0/runs/8400d7601be24ea7a9f3ffeef16a5e21\n",
      "🧪 View experiment at: https://mlflow.spikehub.win/#/experiments/0\n"
     ]
    },
    {
     "name": "stderr",
     "output_type": "stream",
     "text": [
      "[I 2025-05-27 14:27:34,054] Trial 35 finished with value: 0.13186813186813187 and parameters: {'oversampling_method': 'None', 'undersampling_method': 'RepeatedEditedNearestNeighbours'}. Best is trial 12 with value: 0.1895734597156398.\n"
     ]
    },
    {
     "name": "stdout",
     "output_type": "stream",
     "text": [
      "🏃 View run unique-donkey-979 at: https://mlflow.spikehub.win/#/experiments/0/runs/ce61bf82c114455dab798530c7e0c1d1\n",
      "🧪 View experiment at: https://mlflow.spikehub.win/#/experiments/0\n"
     ]
    },
    {
     "name": "stderr",
     "output_type": "stream",
     "text": [
      "[I 2025-05-27 14:27:34,524] Trial 36 finished with value: 0.1511627906976744 and parameters: {'oversampling_method': 'SMOTE', 'undersampling_method': 'None'}. Best is trial 12 with value: 0.1895734597156398.\n"
     ]
    },
    {
     "name": "stdout",
     "output_type": "stream",
     "text": [
      "🏃 View run lyrical-pig-17 at: https://mlflow.spikehub.win/#/experiments/0/runs/1629aa466332463f81ece5b6655f2bde\n",
      "🧪 View experiment at: https://mlflow.spikehub.win/#/experiments/0\n"
     ]
    },
    {
     "name": "stderr",
     "output_type": "stream",
     "text": [
      "[I 2025-05-27 14:27:35,965] Trial 37 finished with value: 0.047058823529411764 and parameters: {'oversampling_method': 'SMOTEN', 'undersampling_method': 'None'}. Best is trial 12 with value: 0.1895734597156398.\n"
     ]
    },
    {
     "name": "stdout",
     "output_type": "stream",
     "text": [
      "🏃 View run sassy-asp-526 at: https://mlflow.spikehub.win/#/experiments/0/runs/9ec6dbde695040a98061453df299237b\n",
      "🧪 View experiment at: https://mlflow.spikehub.win/#/experiments/0\n"
     ]
    },
    {
     "name": "stderr",
     "output_type": "stream",
     "text": [
      "[I 2025-05-27 14:27:36,300] Trial 38 finished with value: 0.13333333333333333 and parameters: {'oversampling_method': 'RandomOverSampler', 'undersampling_method': 'EditedNearestNeighbours'}. Best is trial 12 with value: 0.1895734597156398.\n"
     ]
    },
    {
     "name": "stdout",
     "output_type": "stream",
     "text": [
      "🏃 View run rambunctious-kit-545 at: https://mlflow.spikehub.win/#/experiments/0/runs/34a3bea4e5d14d989afdb4f9db6808fc\n",
      "🧪 View experiment at: https://mlflow.spikehub.win/#/experiments/0\n"
     ]
    },
    {
     "name": "stderr",
     "output_type": "stream",
     "text": [
      "[I 2025-05-27 14:27:36,924] Trial 39 finished with value: 0.1746031746031746 and parameters: {'oversampling_method': 'SVMSMOTE', 'undersampling_method': 'OneSidedSelection'}. Best is trial 12 with value: 0.1895734597156398.\n"
     ]
    },
    {
     "name": "stdout",
     "output_type": "stream",
     "text": [
      "🏃 View run dashing-mink-6 at: https://mlflow.spikehub.win/#/experiments/0/runs/4584a4301a694119a3e2a1f1d81a5442\n",
      "🧪 View experiment at: https://mlflow.spikehub.win/#/experiments/0\n"
     ]
    },
    {
     "name": "stderr",
     "output_type": "stream",
     "text": [
      "[I 2025-05-27 14:27:37,435] Trial 40 finished with value: 0.1511627906976744 and parameters: {'oversampling_method': 'SMOTE', 'undersampling_method': 'TomekLinks'}. Best is trial 12 with value: 0.1895734597156398.\n"
     ]
    },
    {
     "name": "stdout",
     "output_type": "stream",
     "text": [
      "🏃 View run defiant-bird-674 at: https://mlflow.spikehub.win/#/experiments/0/runs/9d4b79b67b614c908777e1078aa11b81\n",
      "🧪 View experiment at: https://mlflow.spikehub.win/#/experiments/0\n"
     ]
    },
    {
     "name": "stderr",
     "output_type": "stream",
     "text": [
      "[I 2025-05-27 14:27:37,887] Trial 41 finished with value: 0.17045454545454544 and parameters: {'oversampling_method': 'ADASYN', 'undersampling_method': 'AllKNN'}. Best is trial 12 with value: 0.1895734597156398.\n"
     ]
    },
    {
     "name": "stdout",
     "output_type": "stream",
     "text": [
      "🏃 View run delicate-deer-187 at: https://mlflow.spikehub.win/#/experiments/0/runs/5609e3a597144be788b182bd4df3fbb8\n",
      "🧪 View experiment at: https://mlflow.spikehub.win/#/experiments/0\n"
     ]
    },
    {
     "name": "stderr",
     "output_type": "stream",
     "text": [
      "[I 2025-05-27 14:27:38,464] Trial 42 finished with value: 0.1511627906976744 and parameters: {'oversampling_method': 'SMOTE', 'undersampling_method': 'OneSidedSelection'}. Best is trial 12 with value: 0.1895734597156398.\n"
     ]
    },
    {
     "name": "stdout",
     "output_type": "stream",
     "text": [
      "🏃 View run melodic-fly-862 at: https://mlflow.spikehub.win/#/experiments/0/runs/f1c3837257e94e08a3665f68529a5f2e\n",
      "🧪 View experiment at: https://mlflow.spikehub.win/#/experiments/0\n"
     ]
    },
    {
     "name": "stderr",
     "output_type": "stream",
     "text": [
      "[I 2025-05-27 14:27:39,069] Trial 43 finished with value: 0.16853932584269662 and parameters: {'oversampling_method': 'ADASYN', 'undersampling_method': 'OneSidedSelection'}. Best is trial 12 with value: 0.1895734597156398.\n"
     ]
    },
    {
     "name": "stdout",
     "output_type": "stream",
     "text": [
      "🏃 View run powerful-fawn-984 at: https://mlflow.spikehub.win/#/experiments/0/runs/46ca7987b5f24cc3a49158475420f0bf\n",
      "🧪 View experiment at: https://mlflow.spikehub.win/#/experiments/0\n"
     ]
    },
    {
     "name": "stderr",
     "output_type": "stream",
     "text": [
      "[I 2025-05-27 14:27:39,451] Trial 44 finished with value: 0.1511627906976744 and parameters: {'oversampling_method': 'SMOTE', 'undersampling_method': 'RandomUnderSampler'}. Best is trial 12 with value: 0.1895734597156398.\n"
     ]
    },
    {
     "name": "stdout",
     "output_type": "stream",
     "text": [
      "🏃 View run spiffy-eel-554 at: https://mlflow.spikehub.win/#/experiments/0/runs/c507abd61c82425e87fb1121f0e998d6\n",
      "🧪 View experiment at: https://mlflow.spikehub.win/#/experiments/0\n"
     ]
    },
    {
     "name": "stderr",
     "output_type": "stream",
     "text": [
      "[I 2025-05-27 14:27:40,910] Trial 45 finished with value: 0.04878048780487805 and parameters: {'oversampling_method': 'SMOTEN', 'undersampling_method': 'AllKNN'}. Best is trial 12 with value: 0.1895734597156398.\n"
     ]
    },
    {
     "name": "stdout",
     "output_type": "stream",
     "text": [
      "🏃 View run mercurial-skunk-780 at: https://mlflow.spikehub.win/#/experiments/0/runs/00b9db039909496680e2c68ab1146833\n",
      "🧪 View experiment at: https://mlflow.spikehub.win/#/experiments/0\n"
     ]
    },
    {
     "name": "stderr",
     "output_type": "stream",
     "text": [
      "[I 2025-05-27 14:27:41,340] Trial 46 finished with value: 0.19330855018587362 and parameters: {'oversampling_method': 'None', 'undersampling_method': 'RandomUnderSampler'}. Best is trial 46 with value: 0.19330855018587362.\n"
     ]
    },
    {
     "name": "stdout",
     "output_type": "stream",
     "text": [
      "🏃 View run clean-penguin-566 at: https://mlflow.spikehub.win/#/experiments/0/runs/ab55c7aade3a464a9082460089972056\n",
      "🧪 View experiment at: https://mlflow.spikehub.win/#/experiments/0\n"
     ]
    },
    {
     "name": "stderr",
     "output_type": "stream",
     "text": [
      "[I 2025-05-27 14:27:41,774] Trial 47 finished with value: 0.16853932584269662 and parameters: {'oversampling_method': 'ADASYN', 'undersampling_method': 'TomekLinks'}. Best is trial 46 with value: 0.19330855018587362.\n"
     ]
    },
    {
     "name": "stdout",
     "output_type": "stream",
     "text": [
      "🏃 View run capricious-calf-779 at: https://mlflow.spikehub.win/#/experiments/0/runs/d261eb63d9a947f0bd2061f6ee761a4c\n",
      "🧪 View experiment at: https://mlflow.spikehub.win/#/experiments/0\n"
     ]
    },
    {
     "name": "stderr",
     "output_type": "stream",
     "text": [
      "[I 2025-05-27 14:27:42,212] Trial 48 finished with value: 0.1511627906976744 and parameters: {'oversampling_method': 'SMOTE', 'undersampling_method': 'NearMiss'}. Best is trial 46 with value: 0.19330855018587362.\n"
     ]
    },
    {
     "name": "stdout",
     "output_type": "stream",
     "text": [
      "🏃 View run wise-vole-982 at: https://mlflow.spikehub.win/#/experiments/0/runs/0d2360b102dd4fc8b9add1cfb69d9bb8\n",
      "🧪 View experiment at: https://mlflow.spikehub.win/#/experiments/0\n"
     ]
    },
    {
     "name": "stderr",
     "output_type": "stream",
     "text": [
      "[I 2025-05-27 14:27:43,723] Trial 49 finished with value: 0.047619047619047616 and parameters: {'oversampling_method': 'SMOTEN', 'undersampling_method': 'OneSidedSelection'}. Best is trial 46 with value: 0.19330855018587362.\n"
     ]
    },
    {
     "name": "stdout",
     "output_type": "stream",
     "text": [
      "🏃 View run spiffy-wasp-586 at: https://mlflow.spikehub.win/#/experiments/0/runs/89a0c996349b49b587670819a7507be7\n",
      "🧪 View experiment at: https://mlflow.spikehub.win/#/experiments/0\n"
     ]
    },
    {
     "name": "stderr",
     "output_type": "stream",
     "text": [
      "[I 2025-05-27 14:27:44,313] Trial 50 finished with value: 0.1708542713567839 and parameters: {'oversampling_method': 'SVMSMOTE', 'undersampling_method': 'RepeatedEditedNearestNeighbours'}. Best is trial 46 with value: 0.19330855018587362.\n"
     ]
    },
    {
     "name": "stdout",
     "output_type": "stream",
     "text": [
      "🏃 View run bald-fowl-28 at: https://mlflow.spikehub.win/#/experiments/0/runs/409aeee787fc462b859683c7d0466d6a\n",
      "🧪 View experiment at: https://mlflow.spikehub.win/#/experiments/0\n"
     ]
    },
    {
     "name": "stderr",
     "output_type": "stream",
     "text": [
      "[I 2025-05-27 14:27:44,759] Trial 51 finished with value: 0.1566265060240964 and parameters: {'oversampling_method': 'SMOTE', 'undersampling_method': 'RepeatedEditedNearestNeighbours'}. Best is trial 46 with value: 0.19330855018587362.\n"
     ]
    },
    {
     "name": "stdout",
     "output_type": "stream",
     "text": [
      "🏃 View run persistent-conch-420 at: https://mlflow.spikehub.win/#/experiments/0/runs/d856c2f11c7942e1ac6a4a1365c75150\n",
      "🧪 View experiment at: https://mlflow.spikehub.win/#/experiments/0\n"
     ]
    },
    {
     "name": "stderr",
     "output_type": "stream",
     "text": [
      "[I 2025-05-27 14:27:45,089] Trial 52 finished with value: 0.12345679012345678 and parameters: {'oversampling_method': 'None', 'undersampling_method': 'AllKNN'}. Best is trial 46 with value: 0.19330855018587362.\n"
     ]
    },
    {
     "name": "stdout",
     "output_type": "stream",
     "text": [
      "🏃 View run fortunate-quail-539 at: https://mlflow.spikehub.win/#/experiments/0/runs/31ea4ab7e3fb482e969a0a5580005c87\n",
      "🧪 View experiment at: https://mlflow.spikehub.win/#/experiments/0\n"
     ]
    },
    {
     "name": "stderr",
     "output_type": "stream",
     "text": [
      "[I 2025-05-27 14:27:45,455] Trial 53 finished with value: 0.16176470588235295 and parameters: {'oversampling_method': 'BorderlineSMOTE', 'undersampling_method': 'RandomUnderSampler'}. Best is trial 46 with value: 0.19330855018587362.\n"
     ]
    },
    {
     "name": "stdout",
     "output_type": "stream",
     "text": [
      "🏃 View run luminous-midge-999 at: https://mlflow.spikehub.win/#/experiments/0/runs/041cc8ccff64409c8f59afdf9ee58302\n",
      "🧪 View experiment at: https://mlflow.spikehub.win/#/experiments/0\n"
     ]
    },
    {
     "name": "stderr",
     "output_type": "stream",
     "text": [
      "[I 2025-05-27 14:27:45,879] Trial 54 finished with value: 0.06859205776173286 and parameters: {'oversampling_method': 'None', 'undersampling_method': 'NearMiss'}. Best is trial 46 with value: 0.19330855018587362.\n"
     ]
    },
    {
     "name": "stdout",
     "output_type": "stream",
     "text": [
      "🏃 View run crawling-fish-134 at: https://mlflow.spikehub.win/#/experiments/0/runs/f0ccfc469e6345b288a5261e0ebcf789\n",
      "🧪 View experiment at: https://mlflow.spikehub.win/#/experiments/0\n"
     ]
    },
    {
     "name": "stderr",
     "output_type": "stream",
     "text": [
      "[I 2025-05-27 14:27:46,434] Trial 55 finished with value: 0.16 and parameters: {'oversampling_method': 'SVMSMOTE', 'undersampling_method': 'None'}. Best is trial 46 with value: 0.19330855018587362.\n"
     ]
    },
    {
     "name": "stdout",
     "output_type": "stream",
     "text": [
      "🏃 View run nimble-doe-803 at: https://mlflow.spikehub.win/#/experiments/0/runs/4b1e9f82a14b47dba0d3545e2e4fb8ed\n",
      "🧪 View experiment at: https://mlflow.spikehub.win/#/experiments/0\n"
     ]
    },
    {
     "name": "stderr",
     "output_type": "stream",
     "text": [
      "[I 2025-05-27 14:27:46,890] Trial 56 finished with value: 0.1746031746031746 and parameters: {'oversampling_method': 'SVMSMOTE', 'undersampling_method': 'TomekLinks'}. Best is trial 46 with value: 0.19330855018587362.\n"
     ]
    },
    {
     "name": "stdout",
     "output_type": "stream",
     "text": [
      "🏃 View run nosy-fox-109 at: https://mlflow.spikehub.win/#/experiments/0/runs/423a5be66e07437f90d23825ee016777\n",
      "🧪 View experiment at: https://mlflow.spikehub.win/#/experiments/0\n"
     ]
    },
    {
     "name": "stderr",
     "output_type": "stream",
     "text": [
      "[I 2025-05-27 14:28:23,977] Trial 57 finished with value: 0.11494252873563218 and parameters: {'oversampling_method': 'ADASYN', 'undersampling_method': 'CondensedNearestNeighbour'}. Best is trial 46 with value: 0.19330855018587362.\n"
     ]
    },
    {
     "name": "stdout",
     "output_type": "stream",
     "text": [
      "🏃 View run flawless-sow-887 at: https://mlflow.spikehub.win/#/experiments/0/runs/6afc1430e3184601bf54c556fcc1d39d\n",
      "🧪 View experiment at: https://mlflow.spikehub.win/#/experiments/0\n"
     ]
    },
    {
     "name": "stderr",
     "output_type": "stream",
     "text": [
      "[I 2025-05-27 14:28:24,395] Trial 58 finished with value: 0.13333333333333333 and parameters: {'oversampling_method': 'RandomOverSampler', 'undersampling_method': 'TomekLinks'}. Best is trial 46 with value: 0.19330855018587362.\n"
     ]
    },
    {
     "name": "stdout",
     "output_type": "stream",
     "text": [
      "🏃 View run handsome-cod-109 at: https://mlflow.spikehub.win/#/experiments/0/runs/82dc4169c1a14201b4299a2bc576f1da\n",
      "🧪 View experiment at: https://mlflow.spikehub.win/#/experiments/0\n"
     ]
    },
    {
     "name": "stderr",
     "output_type": "stream",
     "text": [
      "[I 2025-05-27 14:28:24,852] Trial 59 finished with value: 0.1566265060240964 and parameters: {'oversampling_method': 'SMOTE', 'undersampling_method': 'EditedNearestNeighbours'}. Best is trial 46 with value: 0.19330855018587362.\n"
     ]
    },
    {
     "name": "stdout",
     "output_type": "stream",
     "text": [
      "🏃 View run legendary-calf-627 at: https://mlflow.spikehub.win/#/experiments/0/runs/e9cbdc5dc8c94e57bcee8a0d179e5d6c\n",
      "🧪 View experiment at: https://mlflow.spikehub.win/#/experiments/0\n"
     ]
    },
    {
     "name": "stderr",
     "output_type": "stream",
     "text": [
      "[I 2025-05-27 14:28:53,388] Trial 60 finished with value: 0.03508771929824561 and parameters: {'oversampling_method': 'None', 'undersampling_method': 'CondensedNearestNeighbour'}. Best is trial 46 with value: 0.19330855018587362.\n"
     ]
    },
    {
     "name": "stdout",
     "output_type": "stream",
     "text": [
      "🏃 View run likeable-newt-306 at: https://mlflow.spikehub.win/#/experiments/0/runs/dc924049cce1430d89c11001519c8a79\n",
      "🧪 View experiment at: https://mlflow.spikehub.win/#/experiments/0\n"
     ]
    },
    {
     "name": "stderr",
     "output_type": "stream",
     "text": [
      "[I 2025-05-27 14:28:54,991] Trial 61 finished with value: 0.04938271604938271 and parameters: {'oversampling_method': 'SMOTEN', 'undersampling_method': 'NeighbourhoodCleaningRule'}. Best is trial 46 with value: 0.19330855018587362.\n"
     ]
    },
    {
     "name": "stdout",
     "output_type": "stream",
     "text": [
      "🏃 View run abundant-zebra-138 at: https://mlflow.spikehub.win/#/experiments/0/runs/6f8ebe3b16a84b33b1a9c9d3339e92ec\n",
      "🧪 View experiment at: https://mlflow.spikehub.win/#/experiments/0\n"
     ]
    },
    {
     "name": "stderr",
     "output_type": "stream",
     "text": [
      "[I 2025-05-27 14:28:55,435] Trial 62 finished with value: 0.16853932584269662 and parameters: {'oversampling_method': 'ADASYN', 'undersampling_method': 'RandomUnderSampler'}. Best is trial 46 with value: 0.19330855018587362.\n"
     ]
    },
    {
     "name": "stdout",
     "output_type": "stream",
     "text": [
      "🏃 View run placid-stork-213 at: https://mlflow.spikehub.win/#/experiments/0/runs/bf5c5f58affa4c72b20da0123551ebb5\n",
      "🧪 View experiment at: https://mlflow.spikehub.win/#/experiments/0\n"
     ]
    },
    {
     "name": "stderr",
     "output_type": "stream",
     "text": [
      "[I 2025-05-27 14:28:56,891] Trial 63 finished with value: 0.047058823529411764 and parameters: {'oversampling_method': 'SMOTEN', 'undersampling_method': 'NearMiss'}. Best is trial 46 with value: 0.19330855018587362.\n"
     ]
    },
    {
     "name": "stdout",
     "output_type": "stream",
     "text": [
      "🏃 View run youthful-newt-329 at: https://mlflow.spikehub.win/#/experiments/0/runs/7f5fc8fbe07c427dbcefad116efd2611\n",
      "🧪 View experiment at: https://mlflow.spikehub.win/#/experiments/0\n"
     ]
    },
    {
     "name": "stderr",
     "output_type": "stream",
     "text": [
      "[I 2025-05-27 14:28:57,308] Trial 64 finished with value: 0.16149068322981366 and parameters: {'oversampling_method': 'SVMSMOTE', 'undersampling_method': 'RandomUnderSampler'}. Best is trial 46 with value: 0.19330855018587362.\n"
     ]
    },
    {
     "name": "stdout",
     "output_type": "stream",
     "text": [
      "🏃 View run mysterious-cub-564 at: https://mlflow.spikehub.win/#/experiments/0/runs/31cbfa88bdb94609a9cae7fac4b2b9f5\n",
      "🧪 View experiment at: https://mlflow.spikehub.win/#/experiments/0\n"
     ]
    },
    {
     "name": "stderr",
     "output_type": "stream",
     "text": [
      "[I 2025-05-27 14:29:14,626] Trial 65 finished with value: 0.0 and parameters: {'oversampling_method': 'SMOTEN', 'undersampling_method': 'CondensedNearestNeighbour'}. Best is trial 46 with value: 0.19330855018587362.\n"
     ]
    },
    {
     "name": "stdout",
     "output_type": "stream",
     "text": [
      "🏃 View run glamorous-doe-313 at: https://mlflow.spikehub.win/#/experiments/0/runs/e97e9bffe56243128394634bf1d91806\n",
      "🧪 View experiment at: https://mlflow.spikehub.win/#/experiments/0\n"
     ]
    },
    {
     "name": "stderr",
     "output_type": "stream",
     "text": [
      "[I 2025-05-27 14:29:15,063] Trial 66 finished with value: 0.16759776536312848 and parameters: {'oversampling_method': 'ADASYN', 'undersampling_method': 'None'}. Best is trial 46 with value: 0.19330855018587362.\n"
     ]
    },
    {
     "name": "stdout",
     "output_type": "stream",
     "text": [
      "🏃 View run judicious-hen-101 at: https://mlflow.spikehub.win/#/experiments/0/runs/d916be06d60c47cb99e8eeac3ef8be68\n",
      "🧪 View experiment at: https://mlflow.spikehub.win/#/experiments/0\n"
     ]
    },
    {
     "name": "stderr",
     "output_type": "stream",
     "text": [
      "[I 2025-05-27 14:29:15,594] Trial 67 finished with value: 0.12903225806451613 and parameters: {'oversampling_method': 'None', 'undersampling_method': 'NeighbourhoodCleaningRule'}. Best is trial 46 with value: 0.19330855018587362.\n"
     ]
    },
    {
     "name": "stdout",
     "output_type": "stream",
     "text": [
      "🏃 View run secretive-cat-247 at: https://mlflow.spikehub.win/#/experiments/0/runs/793c89df4cc2418daf7f15c5b5a36636\n",
      "🧪 View experiment at: https://mlflow.spikehub.win/#/experiments/0\n"
     ]
    },
    {
     "name": "stderr",
     "output_type": "stream",
     "text": [
      "[I 2025-05-27 14:29:16,110] Trial 68 finished with value: 0.17054263565891473 and parameters: {'oversampling_method': 'BorderlineSMOTE', 'undersampling_method': 'RepeatedEditedNearestNeighbours'}. Best is trial 46 with value: 0.19330855018587362.\n"
     ]
    },
    {
     "name": "stdout",
     "output_type": "stream",
     "text": [
      "🏃 View run kindly-trout-592 at: https://mlflow.spikehub.win/#/experiments/0/runs/4547bbdca3184e57b5fffb8fcc0f2201\n",
      "🧪 View experiment at: https://mlflow.spikehub.win/#/experiments/0\n"
     ]
    },
    {
     "name": "stderr",
     "output_type": "stream",
     "text": [
      "[I 2025-05-27 14:29:16,739] Trial 69 finished with value: 0.17543859649122806 and parameters: {'oversampling_method': 'BorderlineSMOTE', 'undersampling_method': 'NeighbourhoodCleaningRule'}. Best is trial 46 with value: 0.19330855018587362.\n"
     ]
    },
    {
     "name": "stdout",
     "output_type": "stream",
     "text": [
      "🏃 View run dapper-swan-283 at: https://mlflow.spikehub.win/#/experiments/0/runs/714052608d79456687fceb501a9d0a47\n",
      "🧪 View experiment at: https://mlflow.spikehub.win/#/experiments/0\n",
      "🏃 View run Neighbors Classifier Run at: https://mlflow.spikehub.win/#/experiments/1/runs/f5cac5f679964f45b56fc41dd1ef216c\n",
      "🧪 View experiment at: https://mlflow.spikehub.win/#/experiments/1\n"
     ]
    }
   ],
   "source": [
    "from sklearn.neighbors import KNeighborsClassifier\n",
    "\n",
    "objective = create_objective(lambda: KNeighborsClassifier())\n",
    "\n",
    "run_name = \"Neighbors Classifier Run\"\n",
    "\n",
    "with mlflow.start_run(experiment_id=experiment_id, run_name=run_name, nested=True):\n",
    "    study = optuna.create_study(\n",
    "        direction=\"maximize\", sampler=optuna.samplers.GridSampler(search_space)\n",
    "    )\n",
    "    study.optimize(objective, n_trials=len(oversampler_list) * len(undersampler_list))\n",
    "\n",
    "    mlflow.log_params(study.best_params)\n",
    "    mlflow.log_metric(\"best_f1_score\", study.best_value)\n",
    "\n",
    "    mlflow.set_tags(\n",
    "        tags={\n",
    "            \"project\": \"stroke_prediction\",\n",
    "            \"optimizer_engine\": \"optuna\",\n",
    "            \"model_family\": \"KNeighborsClassifier\",\n",
    "        }\n",
    "    )"
   ]
  },
  {
   "cell_type": "markdown",
   "id": "9337fb29",
   "metadata": {},
   "source": [
    "## CatBoost\n",
    "Finally, we will try CatBoost classifier which we likely to use in production. We will see how it performs with the samplers and if it can outperform the previous models."
   ]
  },
  {
   "cell_type": "code",
   "execution_count": 19,
   "id": "e3a20e92",
   "metadata": {},
   "outputs": [],
   "source": [
    "from catboost import CatBoostClassifier, Pool\n",
    "\n",
    "val_data = Pool(\n",
    "    data=X_val,\n",
    "    label=y_val,\n",
    ")\n",
    "\n",
    "test_data = Pool(\n",
    "    data=X_test,\n",
    "    label=y_test,\n",
    ")\n",
    "\n",
    "\n",
    "def catboost_objective(trial: optuna.Trial) -> float:\n",
    "    with mlflow.start_run(nested=True):\n",
    "        oversampling_method = trial.suggest_categorical(\"oversampling_method\", oversampler_list)\n",
    "        undersammpling_method = trial.suggest_categorical(\n",
    "            \"undersampling_method\",\n",
    "            undersampler_list,\n",
    "        )\n",
    "\n",
    "        # Check if it has random_state parameter\n",
    "        try:\n",
    "            oversampler_instance = oversampler[oversampling_method](random_state=42)\n",
    "        except TypeError:\n",
    "            oversampler_instance = oversampler[oversampling_method]()\n",
    "\n",
    "        try:\n",
    "            undersampler_instance = undersampler[undersammpling_method](random_state=42)\n",
    "        except TypeError:\n",
    "            undersampler_instance = undersampler[undersammpling_method]()\n",
    "\n",
    "        X_train_resampled, y_train_resampled = oversampler_instance.fit_resample(X_train, y_train)\n",
    "        X_train_resampled, y_train_resampled = undersampler_instance.fit_resample(\n",
    "            X_train_resampled, y_train_resampled\n",
    "        )\n",
    "\n",
    "        clf = CatBoostClassifier(\n",
    "            random_seed=42,\n",
    "            verbose=0,\n",
    "            auto_class_weights=\"Balanced\",\n",
    "            task_type=\"GPU\",\n",
    "            eval_metric=\"F1\",\n",
    "        )\n",
    "\n",
    "        clf.fit(X_train_resampled, y_train_resampled, eval_set=val_data, early_stopping_rounds=100)\n",
    "        y_pred = clf.predict(X_val)\n",
    "        f1_score_val = f1_score(y_val, y_pred)\n",
    "\n",
    "        mlflow.log_params(\n",
    "            {\n",
    "                \"oversampling_method\": oversampling_method,\n",
    "                \"undersampling_method\": undersammpling_method,\n",
    "            }\n",
    "        )\n",
    "        mlflow.log_metric(\"f1\", f1_score_val)\n",
    "\n",
    "    return f1_score_val"
   ]
  },
  {
   "cell_type": "code",
   "execution_count": 20,
   "id": "323587f9",
   "metadata": {},
   "outputs": [
    {
     "name": "stderr",
     "output_type": "stream",
     "text": [
      "[I 2025-05-27 14:46:00,912] A new study created in memory with name: no-name-48fcd9d2-4d95-4388-918e-e504cde51ad6\n",
      "[I 2025-05-27 14:46:05,733] Trial 0 finished with value: 0.1592920353982301 and parameters: {'oversampling_method': 'SMOTEN', 'undersampling_method': 'RandomUnderSampler'}. Best is trial 0 with value: 0.1592920353982301.\n"
     ]
    },
    {
     "name": "stdout",
     "output_type": "stream",
     "text": [
      "🏃 View run smiling-bass-312 at: https://mlflow.spikehub.win/#/experiments/0/runs/a29898d1847d47728bc59bbba13ae1b3\n",
      "🧪 View experiment at: https://mlflow.spikehub.win/#/experiments/0\n"
     ]
    },
    {
     "name": "stderr",
     "output_type": "stream",
     "text": [
      "[I 2025-05-27 14:46:09,902] Trial 1 finished with value: 0.17142857142857143 and parameters: {'oversampling_method': 'SMOTEN', 'undersampling_method': 'RepeatedEditedNearestNeighbours'}. Best is trial 1 with value: 0.17142857142857143.\n"
     ]
    },
    {
     "name": "stdout",
     "output_type": "stream",
     "text": [
      "🏃 View run bald-goat-942 at: https://mlflow.spikehub.win/#/experiments/0/runs/1c39f3519aeb4538a143b8ab785d0aef\n",
      "🧪 View experiment at: https://mlflow.spikehub.win/#/experiments/0\n"
     ]
    },
    {
     "name": "stderr",
     "output_type": "stream",
     "text": [
      "[I 2025-05-27 14:46:13,185] Trial 2 finished with value: 0.25925925925925924 and parameters: {'oversampling_method': 'BorderlineSMOTE', 'undersampling_method': 'TomekLinks'}. Best is trial 2 with value: 0.25925925925925924.\n"
     ]
    },
    {
     "name": "stdout",
     "output_type": "stream",
     "text": [
      "🏃 View run delicate-quail-455 at: https://mlflow.spikehub.win/#/experiments/0/runs/faefa29271d9407290e1ce3a40b821a7\n",
      "🧪 View experiment at: https://mlflow.spikehub.win/#/experiments/0\n"
     ]
    },
    {
     "name": "stderr",
     "output_type": "stream",
     "text": [
      "[I 2025-05-27 14:46:17,323] Trial 3 finished with value: 0.17142857142857143 and parameters: {'oversampling_method': 'SMOTEN', 'undersampling_method': 'EditedNearestNeighbours'}. Best is trial 2 with value: 0.25925925925925924.\n"
     ]
    },
    {
     "name": "stdout",
     "output_type": "stream",
     "text": [
      "🏃 View run kindly-hog-478 at: https://mlflow.spikehub.win/#/experiments/0/runs/999fcd3b56ff4933aa11bbefc21a34a5\n",
      "🧪 View experiment at: https://mlflow.spikehub.win/#/experiments/0\n"
     ]
    },
    {
     "name": "stderr",
     "output_type": "stream",
     "text": [
      "[I 2025-05-27 14:46:21,552] Trial 4 finished with value: 0.2748091603053435 and parameters: {'oversampling_method': 'SVMSMOTE', 'undersampling_method': 'AllKNN'}. Best is trial 4 with value: 0.2748091603053435.\n"
     ]
    },
    {
     "name": "stdout",
     "output_type": "stream",
     "text": [
      "🏃 View run resilient-gull-753 at: https://mlflow.spikehub.win/#/experiments/0/runs/4fdc2b2defe84d61a230bfcf71f2fd65\n",
      "🧪 View experiment at: https://mlflow.spikehub.win/#/experiments/0\n"
     ]
    },
    {
     "name": "stderr",
     "output_type": "stream",
     "text": [
      "[I 2025-05-27 14:46:35,431] Trial 5 finished with value: 0.17737003058103976 and parameters: {'oversampling_method': 'RandomOverSampler', 'undersampling_method': 'CondensedNearestNeighbour'}. Best is trial 4 with value: 0.2748091603053435.\n"
     ]
    },
    {
     "name": "stdout",
     "output_type": "stream",
     "text": [
      "🏃 View run nimble-calf-776 at: https://mlflow.spikehub.win/#/experiments/0/runs/680401593cc54a42b5e83d9859abb44b\n",
      "🧪 View experiment at: https://mlflow.spikehub.win/#/experiments/0\n"
     ]
    },
    {
     "name": "stderr",
     "output_type": "stream",
     "text": [
      "[I 2025-05-27 14:46:38,764] Trial 6 finished with value: 0.25 and parameters: {'oversampling_method': 'ADASYN', 'undersampling_method': 'RepeatedEditedNearestNeighbours'}. Best is trial 4 with value: 0.2748091603053435.\n"
     ]
    },
    {
     "name": "stdout",
     "output_type": "stream",
     "text": [
      "🏃 View run victorious-koi-850 at: https://mlflow.spikehub.win/#/experiments/0/runs/27ec31387b394baab34ca25a403a650d\n",
      "🧪 View experiment at: https://mlflow.spikehub.win/#/experiments/0\n"
     ]
    },
    {
     "name": "stderr",
     "output_type": "stream",
     "text": [
      "[I 2025-05-27 14:46:42,037] Trial 7 finished with value: 0.21800947867298578 and parameters: {'oversampling_method': 'RandomOverSampler', 'undersampling_method': 'None'}. Best is trial 4 with value: 0.2748091603053435.\n"
     ]
    },
    {
     "name": "stdout",
     "output_type": "stream",
     "text": [
      "🏃 View run valuable-trout-906 at: https://mlflow.spikehub.win/#/experiments/0/runs/9a0131d4bc2740748d1a3db2c48c3e20\n",
      "🧪 View experiment at: https://mlflow.spikehub.win/#/experiments/0\n"
     ]
    },
    {
     "name": "stderr",
     "output_type": "stream",
     "text": [
      "[I 2025-05-27 14:46:45,937] Trial 8 finished with value: 0.27941176470588236 and parameters: {'oversampling_method': 'SVMSMOTE', 'undersampling_method': 'NeighbourhoodCleaningRule'}. Best is trial 8 with value: 0.27941176470588236.\n"
     ]
    },
    {
     "name": "stdout",
     "output_type": "stream",
     "text": [
      "🏃 View run dapper-zebra-8 at: https://mlflow.spikehub.win/#/experiments/0/runs/ed2795678aba4f358a9ec07f9a8414ff\n",
      "🧪 View experiment at: https://mlflow.spikehub.win/#/experiments/0\n"
     ]
    },
    {
     "name": "stderr",
     "output_type": "stream",
     "text": [
      "[I 2025-05-27 14:46:50,469] Trial 9 finished with value: 0.20392156862745098 and parameters: {'oversampling_method': 'None', 'undersampling_method': 'None'}. Best is trial 8 with value: 0.27941176470588236.\n"
     ]
    },
    {
     "name": "stdout",
     "output_type": "stream",
     "text": [
      "🏃 View run brawny-zebra-831 at: https://mlflow.spikehub.win/#/experiments/0/runs/57667e09833c435f9f3b7574793660f3\n",
      "🧪 View experiment at: https://mlflow.spikehub.win/#/experiments/0\n"
     ]
    },
    {
     "name": "stderr",
     "output_type": "stream",
     "text": [
      "[I 2025-05-27 14:46:55,314] Trial 10 finished with value: 0.25 and parameters: {'oversampling_method': 'RandomOverSampler', 'undersampling_method': 'RandomUnderSampler'}. Best is trial 8 with value: 0.27941176470588236.\n"
     ]
    },
    {
     "name": "stdout",
     "output_type": "stream",
     "text": [
      "🏃 View run abrasive-sponge-678 at: https://mlflow.spikehub.win/#/experiments/0/runs/e7b85f0371f24103a00eabeb54f684aa\n",
      "🧪 View experiment at: https://mlflow.spikehub.win/#/experiments/0\n"
     ]
    },
    {
     "name": "stderr",
     "output_type": "stream",
     "text": [
      "[I 2025-05-27 14:46:59,542] Trial 11 finished with value: 0.16161616161616163 and parameters: {'oversampling_method': 'SMOTEN', 'undersampling_method': 'TomekLinks'}. Best is trial 8 with value: 0.27941176470588236.\n"
     ]
    },
    {
     "name": "stdout",
     "output_type": "stream",
     "text": [
      "🏃 View run orderly-donkey-628 at: https://mlflow.spikehub.win/#/experiments/0/runs/06f718c89103488e81c9f687c6beb68a\n",
      "🧪 View experiment at: https://mlflow.spikehub.win/#/experiments/0\n"
     ]
    },
    {
     "name": "stderr",
     "output_type": "stream",
     "text": [
      "[I 2025-05-27 14:47:38,510] Trial 12 finished with value: 0.0 and parameters: {'oversampling_method': 'SVMSMOTE', 'undersampling_method': 'CondensedNearestNeighbour'}. Best is trial 8 with value: 0.27941176470588236.\n"
     ]
    },
    {
     "name": "stdout",
     "output_type": "stream",
     "text": [
      "🏃 View run colorful-moth-667 at: https://mlflow.spikehub.win/#/experiments/0/runs/46220de26df642bf838e88ffde415427\n",
      "🧪 View experiment at: https://mlflow.spikehub.win/#/experiments/0\n"
     ]
    },
    {
     "name": "stderr",
     "output_type": "stream",
     "text": [
      "[I 2025-05-27 14:47:41,948] Trial 13 finished with value: 0.2716049382716049 and parameters: {'oversampling_method': 'BorderlineSMOTE', 'undersampling_method': 'EditedNearestNeighbours'}. Best is trial 8 with value: 0.27941176470588236.\n"
     ]
    },
    {
     "name": "stdout",
     "output_type": "stream",
     "text": [
      "🏃 View run glamorous-mouse-911 at: https://mlflow.spikehub.win/#/experiments/0/runs/dce1d489aa264c19ba8ed5523cd6ba44\n",
      "🧪 View experiment at: https://mlflow.spikehub.win/#/experiments/0\n"
     ]
    },
    {
     "name": "stderr",
     "output_type": "stream",
     "text": [
      "[I 2025-05-27 14:47:45,475] Trial 14 finished with value: 0.20689655172413793 and parameters: {'oversampling_method': 'SVMSMOTE', 'undersampling_method': 'NearMiss'}. Best is trial 8 with value: 0.27941176470588236.\n"
     ]
    },
    {
     "name": "stdout",
     "output_type": "stream",
     "text": [
      "🏃 View run funny-shrike-472 at: https://mlflow.spikehub.win/#/experiments/0/runs/60e696117a9c42afa555b82145ad7952\n",
      "🧪 View experiment at: https://mlflow.spikehub.win/#/experiments/0\n"
     ]
    },
    {
     "name": "stderr",
     "output_type": "stream",
     "text": [
      "[I 2025-05-27 14:47:50,922] Trial 15 finished with value: 0.2236842105263158 and parameters: {'oversampling_method': 'RandomOverSampler', 'undersampling_method': 'OneSidedSelection'}. Best is trial 8 with value: 0.27941176470588236.\n"
     ]
    },
    {
     "name": "stdout",
     "output_type": "stream",
     "text": [
      "🏃 View run marvelous-ant-589 at: https://mlflow.spikehub.win/#/experiments/0/runs/b87cc932f3354f639cb8de6ba3839bfb\n",
      "🧪 View experiment at: https://mlflow.spikehub.win/#/experiments/0\n"
     ]
    },
    {
     "name": "stderr",
     "output_type": "stream",
     "text": [
      "[I 2025-05-27 14:47:55,122] Trial 16 finished with value: 0.20242914979757085 and parameters: {'oversampling_method': 'None', 'undersampling_method': 'TomekLinks'}. Best is trial 8 with value: 0.27941176470588236.\n"
     ]
    },
    {
     "name": "stdout",
     "output_type": "stream",
     "text": [
      "🏃 View run luxuriant-midge-199 at: https://mlflow.spikehub.win/#/experiments/0/runs/7319763bedfa457188b8ea8846af8d96\n",
      "🧪 View experiment at: https://mlflow.spikehub.win/#/experiments/0\n"
     ]
    },
    {
     "name": "stderr",
     "output_type": "stream",
     "text": [
      "[I 2025-05-27 14:47:58,520] Trial 17 finished with value: 0.19622641509433963 and parameters: {'oversampling_method': 'None', 'undersampling_method': 'EditedNearestNeighbours'}. Best is trial 8 with value: 0.27941176470588236.\n"
     ]
    },
    {
     "name": "stdout",
     "output_type": "stream",
     "text": [
      "🏃 View run fun-whale-638 at: https://mlflow.spikehub.win/#/experiments/0/runs/dcf6e8ec9416462a875ea44a8f09fb20\n",
      "🧪 View experiment at: https://mlflow.spikehub.win/#/experiments/0\n"
     ]
    },
    {
     "name": "stderr",
     "output_type": "stream",
     "text": [
      "[I 2025-05-27 14:48:01,718] Trial 18 finished with value: 0.2459016393442623 and parameters: {'oversampling_method': 'BorderlineSMOTE', 'undersampling_method': 'NearMiss'}. Best is trial 8 with value: 0.27941176470588236.\n"
     ]
    },
    {
     "name": "stdout",
     "output_type": "stream",
     "text": [
      "🏃 View run unique-wren-307 at: https://mlflow.spikehub.win/#/experiments/0/runs/d2bf2aa2c2ac4cb1b237f615dc94e2df\n",
      "🧪 View experiment at: https://mlflow.spikehub.win/#/experiments/0\n"
     ]
    },
    {
     "name": "stderr",
     "output_type": "stream",
     "text": [
      "[I 2025-05-27 14:48:05,209] Trial 19 finished with value: 0.2597402597402597 and parameters: {'oversampling_method': 'ADASYN', 'undersampling_method': 'NeighbourhoodCleaningRule'}. Best is trial 8 with value: 0.27941176470588236.\n"
     ]
    },
    {
     "name": "stdout",
     "output_type": "stream",
     "text": [
      "🏃 View run marvelous-slug-384 at: https://mlflow.spikehub.win/#/experiments/0/runs/c57523f658a946ae9e75825e22efdf8f\n",
      "🧪 View experiment at: https://mlflow.spikehub.win/#/experiments/0\n"
     ]
    },
    {
     "name": "stderr",
     "output_type": "stream",
     "text": [
      "[I 2025-05-27 14:48:08,461] Trial 20 finished with value: 0.19771863117870722 and parameters: {'oversampling_method': 'None', 'undersampling_method': 'OneSidedSelection'}. Best is trial 8 with value: 0.27941176470588236.\n"
     ]
    },
    {
     "name": "stdout",
     "output_type": "stream",
     "text": [
      "🏃 View run tasteful-gnu-866 at: https://mlflow.spikehub.win/#/experiments/0/runs/09567edf23cc4ac4be58df8ebc2303b0\n",
      "🧪 View experiment at: https://mlflow.spikehub.win/#/experiments/0\n"
     ]
    },
    {
     "name": "stderr",
     "output_type": "stream",
     "text": [
      "[I 2025-05-27 14:48:13,471] Trial 21 finished with value: 0.2125 and parameters: {'oversampling_method': 'RandomOverSampler', 'undersampling_method': 'AllKNN'}. Best is trial 8 with value: 0.27941176470588236.\n"
     ]
    },
    {
     "name": "stdout",
     "output_type": "stream",
     "text": [
      "🏃 View run legendary-bass-31 at: https://mlflow.spikehub.win/#/experiments/0/runs/d2d1cd1649e742ad9bf9ff3ecbf0cc05\n",
      "🧪 View experiment at: https://mlflow.spikehub.win/#/experiments/0\n"
     ]
    },
    {
     "name": "stderr",
     "output_type": "stream",
     "text": [
      "[I 2025-05-27 14:48:16,758] Trial 22 finished with value: 0.25 and parameters: {'oversampling_method': 'ADASYN', 'undersampling_method': 'EditedNearestNeighbours'}. Best is trial 8 with value: 0.27941176470588236.\n"
     ]
    },
    {
     "name": "stdout",
     "output_type": "stream",
     "text": [
      "🏃 View run bright-perch-396 at: https://mlflow.spikehub.win/#/experiments/0/runs/a3841d14d0da42aba760deee5b7931fa\n",
      "🧪 View experiment at: https://mlflow.spikehub.win/#/experiments/0\n"
     ]
    },
    {
     "name": "stderr",
     "output_type": "stream",
     "text": [
      "[I 2025-05-27 14:48:20,316] Trial 23 finished with value: 0.24175824175824176 and parameters: {'oversampling_method': 'BorderlineSMOTE', 'undersampling_method': 'AllKNN'}. Best is trial 8 with value: 0.27941176470588236.\n"
     ]
    },
    {
     "name": "stdout",
     "output_type": "stream",
     "text": [
      "🏃 View run worried-koi-851 at: https://mlflow.spikehub.win/#/experiments/0/runs/f60c3786532c4339880bc08d9a657fda\n",
      "🧪 View experiment at: https://mlflow.spikehub.win/#/experiments/0\n"
     ]
    },
    {
     "name": "stderr",
     "output_type": "stream",
     "text": [
      "[I 2025-05-27 14:48:59,585] Trial 24 finished with value: 0.18181818181818182 and parameters: {'oversampling_method': 'SMOTE', 'undersampling_method': 'CondensedNearestNeighbour'}. Best is trial 8 with value: 0.27941176470588236.\n"
     ]
    },
    {
     "name": "stdout",
     "output_type": "stream",
     "text": [
      "🏃 View run powerful-robin-855 at: https://mlflow.spikehub.win/#/experiments/0/runs/4f6614fc2af64277a2a6f6affe3e6d89\n",
      "🧪 View experiment at: https://mlflow.spikehub.win/#/experiments/0\n"
     ]
    },
    {
     "name": "stderr",
     "output_type": "stream",
     "text": [
      "[I 2025-05-27 14:49:02,941] Trial 25 finished with value: 0.25 and parameters: {'oversampling_method': 'ADASYN', 'undersampling_method': 'NearMiss'}. Best is trial 8 with value: 0.27941176470588236.\n"
     ]
    },
    {
     "name": "stdout",
     "output_type": "stream",
     "text": [
      "🏃 View run adaptable-sloth-751 at: https://mlflow.spikehub.win/#/experiments/0/runs/566eb3d9688f4abf8e344706391af1fd\n",
      "🧪 View experiment at: https://mlflow.spikehub.win/#/experiments/0\n"
     ]
    },
    {
     "name": "stderr",
     "output_type": "stream",
     "text": [
      "[I 2025-05-27 14:49:06,935] Trial 26 finished with value: 0.21256038647342995 and parameters: {'oversampling_method': 'RandomOverSampler', 'undersampling_method': 'NeighbourhoodCleaningRule'}. Best is trial 8 with value: 0.27941176470588236.\n"
     ]
    },
    {
     "name": "stdout",
     "output_type": "stream",
     "text": [
      "🏃 View run stately-dolphin-523 at: https://mlflow.spikehub.win/#/experiments/0/runs/b9685ec6db3e45809a779f4c06740466\n",
      "🧪 View experiment at: https://mlflow.spikehub.win/#/experiments/0\n"
     ]
    },
    {
     "name": "stderr",
     "output_type": "stream",
     "text": [
      "[I 2025-05-27 14:49:10,741] Trial 27 finished with value: 0.2647058823529412 and parameters: {'oversampling_method': 'BorderlineSMOTE', 'undersampling_method': 'OneSidedSelection'}. Best is trial 8 with value: 0.27941176470588236.\n"
     ]
    },
    {
     "name": "stdout",
     "output_type": "stream",
     "text": [
      "🏃 View run carefree-fawn-978 at: https://mlflow.spikehub.win/#/experiments/0/runs/3dfa8b026ba74aedba0ba5ea0c69e13d\n",
      "🧪 View experiment at: https://mlflow.spikehub.win/#/experiments/0\n"
     ]
    },
    {
     "name": "stderr",
     "output_type": "stream",
     "text": [
      "[I 2025-05-27 14:49:14,011] Trial 28 finished with value: 0.2571428571428571 and parameters: {'oversampling_method': 'SMOTE', 'undersampling_method': 'AllKNN'}. Best is trial 8 with value: 0.27941176470588236.\n"
     ]
    },
    {
     "name": "stdout",
     "output_type": "stream",
     "text": [
      "🏃 View run smiling-doe-612 at: https://mlflow.spikehub.win/#/experiments/0/runs/c88415bcbdcd4c148306aa81d8fba4a7\n",
      "🧪 View experiment at: https://mlflow.spikehub.win/#/experiments/0\n"
     ]
    },
    {
     "name": "stderr",
     "output_type": "stream",
     "text": [
      "[I 2025-05-27 14:49:42,727] Trial 29 finished with value: 0.2222222222222222 and parameters: {'oversampling_method': 'BorderlineSMOTE', 'undersampling_method': 'CondensedNearestNeighbour'}. Best is trial 8 with value: 0.27941176470588236.\n"
     ]
    },
    {
     "name": "stdout",
     "output_type": "stream",
     "text": [
      "🏃 View run fun-owl-813 at: https://mlflow.spikehub.win/#/experiments/0/runs/06864e0dc63b428396d962f5f4f663e1\n",
      "🧪 View experiment at: https://mlflow.spikehub.win/#/experiments/0\n"
     ]
    },
    {
     "name": "stderr",
     "output_type": "stream",
     "text": [
      "[I 2025-05-27 14:49:46,045] Trial 30 finished with value: 0.2972972972972973 and parameters: {'oversampling_method': 'BorderlineSMOTE', 'undersampling_method': 'None'}. Best is trial 30 with value: 0.2972972972972973.\n"
     ]
    },
    {
     "name": "stdout",
     "output_type": "stream",
     "text": [
      "🏃 View run beautiful-trout-785 at: https://mlflow.spikehub.win/#/experiments/0/runs/b9796493a8ab4041b6703c8df439bc03\n",
      "🧪 View experiment at: https://mlflow.spikehub.win/#/experiments/0\n"
     ]
    },
    {
     "name": "stderr",
     "output_type": "stream",
     "text": [
      "[I 2025-05-27 14:49:52,449] Trial 31 finished with value: 0.256 and parameters: {'oversampling_method': 'RandomOverSampler', 'undersampling_method': 'NearMiss'}. Best is trial 30 with value: 0.2972972972972973.\n"
     ]
    },
    {
     "name": "stdout",
     "output_type": "stream",
     "text": [
      "🏃 View run upset-tern-700 at: https://mlflow.spikehub.win/#/experiments/0/runs/9f6d2a4bceab426eb51793560dec0f84\n",
      "🧪 View experiment at: https://mlflow.spikehub.win/#/experiments/0\n"
     ]
    },
    {
     "name": "stderr",
     "output_type": "stream",
     "text": [
      "[I 2025-05-27 14:49:57,506] Trial 32 finished with value: 0.2125 and parameters: {'oversampling_method': 'RandomOverSampler', 'undersampling_method': 'RepeatedEditedNearestNeighbours'}. Best is trial 30 with value: 0.2972972972972973.\n"
     ]
    },
    {
     "name": "stdout",
     "output_type": "stream",
     "text": [
      "🏃 View run bouncy-pug-549 at: https://mlflow.spikehub.win/#/experiments/0/runs/34df8a5b22a541b4a7fdffdcc44a082e\n",
      "🧪 View experiment at: https://mlflow.spikehub.win/#/experiments/0\n"
     ]
    },
    {
     "name": "stderr",
     "output_type": "stream",
     "text": [
      "[I 2025-05-27 14:50:01,532] Trial 33 finished with value: 0.26153846153846155 and parameters: {'oversampling_method': 'SVMSMOTE', 'undersampling_method': 'EditedNearestNeighbours'}. Best is trial 30 with value: 0.2972972972972973.\n"
     ]
    },
    {
     "name": "stdout",
     "output_type": "stream",
     "text": [
      "🏃 View run loud-hen-190 at: https://mlflow.spikehub.win/#/experiments/0/runs/8fa9eeec31554f28bc7da492e22aa39f\n",
      "🧪 View experiment at: https://mlflow.spikehub.win/#/experiments/0\n"
     ]
    },
    {
     "name": "stderr",
     "output_type": "stream",
     "text": [
      "[I 2025-05-27 14:50:05,042] Trial 34 finished with value: 0.2564102564102564 and parameters: {'oversampling_method': 'SMOTE', 'undersampling_method': 'NeighbourhoodCleaningRule'}. Best is trial 30 with value: 0.2972972972972973.\n"
     ]
    },
    {
     "name": "stdout",
     "output_type": "stream",
     "text": [
      "🏃 View run polite-stoat-279 at: https://mlflow.spikehub.win/#/experiments/0/runs/de5523baaa394c97be86996b6c8858e5\n",
      "🧪 View experiment at: https://mlflow.spikehub.win/#/experiments/0\n"
     ]
    },
    {
     "name": "stderr",
     "output_type": "stream",
     "text": [
      "[I 2025-05-27 14:50:08,473] Trial 35 finished with value: 0.19424460431654678 and parameters: {'oversampling_method': 'None', 'undersampling_method': 'RepeatedEditedNearestNeighbours'}. Best is trial 30 with value: 0.2972972972972973.\n"
     ]
    },
    {
     "name": "stdout",
     "output_type": "stream",
     "text": [
      "🏃 View run funny-ray-176 at: https://mlflow.spikehub.win/#/experiments/0/runs/ae7312dd1ff64210b84cb862cdf8a7ef\n",
      "🧪 View experiment at: https://mlflow.spikehub.win/#/experiments/0\n"
     ]
    },
    {
     "name": "stderr",
     "output_type": "stream",
     "text": [
      "[I 2025-05-27 14:50:12,631] Trial 36 finished with value: 0.27586206896551724 and parameters: {'oversampling_method': 'SMOTE', 'undersampling_method': 'None'}. Best is trial 30 with value: 0.2972972972972973.\n"
     ]
    },
    {
     "name": "stdout",
     "output_type": "stream",
     "text": [
      "🏃 View run sedate-fox-477 at: https://mlflow.spikehub.win/#/experiments/0/runs/68db0509326b48be93bee22dd43cd58c\n",
      "🧪 View experiment at: https://mlflow.spikehub.win/#/experiments/0\n"
     ]
    },
    {
     "name": "stderr",
     "output_type": "stream",
     "text": [
      "[I 2025-05-27 14:50:17,147] Trial 37 finished with value: 0.15053763440860216 and parameters: {'oversampling_method': 'SMOTEN', 'undersampling_method': 'None'}. Best is trial 30 with value: 0.2972972972972973.\n"
     ]
    },
    {
     "name": "stdout",
     "output_type": "stream",
     "text": [
      "🏃 View run monumental-tern-770 at: https://mlflow.spikehub.win/#/experiments/0/runs/e411220dccec450798108941ef6adb42\n",
      "🧪 View experiment at: https://mlflow.spikehub.win/#/experiments/0\n"
     ]
    },
    {
     "name": "stderr",
     "output_type": "stream",
     "text": [
      "[I 2025-05-27 14:50:22,156] Trial 38 finished with value: 0.2125 and parameters: {'oversampling_method': 'RandomOverSampler', 'undersampling_method': 'EditedNearestNeighbours'}. Best is trial 30 with value: 0.2972972972972973.\n"
     ]
    },
    {
     "name": "stdout",
     "output_type": "stream",
     "text": [
      "🏃 View run gentle-asp-525 at: https://mlflow.spikehub.win/#/experiments/0/runs/65362a38053745d098c739a06eb98fa4\n",
      "🧪 View experiment at: https://mlflow.spikehub.win/#/experiments/0\n"
     ]
    },
    {
     "name": "stderr",
     "output_type": "stream",
     "text": [
      "[I 2025-05-27 14:50:25,411] Trial 39 finished with value: 0.2595419847328244 and parameters: {'oversampling_method': 'SVMSMOTE', 'undersampling_method': 'OneSidedSelection'}. Best is trial 30 with value: 0.2972972972972973.\n"
     ]
    },
    {
     "name": "stdout",
     "output_type": "stream",
     "text": [
      "🏃 View run fun-fly-918 at: https://mlflow.spikehub.win/#/experiments/0/runs/a8af229ab2d24d628ed28a0f6a0f4cea\n",
      "🧪 View experiment at: https://mlflow.spikehub.win/#/experiments/0\n"
     ]
    },
    {
     "name": "stderr",
     "output_type": "stream",
     "text": [
      "[I 2025-05-27 14:50:28,662] Trial 40 finished with value: 0.23880597014925373 and parameters: {'oversampling_method': 'SMOTE', 'undersampling_method': 'TomekLinks'}. Best is trial 30 with value: 0.2972972972972973.\n"
     ]
    },
    {
     "name": "stdout",
     "output_type": "stream",
     "text": [
      "🏃 View run dapper-perch-595 at: https://mlflow.spikehub.win/#/experiments/0/runs/5d9d74cf77494331a529b03e384b17e6\n",
      "🧪 View experiment at: https://mlflow.spikehub.win/#/experiments/0\n"
     ]
    },
    {
     "name": "stderr",
     "output_type": "stream",
     "text": [
      "[I 2025-05-27 14:50:32,030] Trial 41 finished with value: 0.24561403508771928 and parameters: {'oversampling_method': 'ADASYN', 'undersampling_method': 'AllKNN'}. Best is trial 30 with value: 0.2972972972972973.\n"
     ]
    },
    {
     "name": "stdout",
     "output_type": "stream",
     "text": [
      "🏃 View run abrasive-lark-736 at: https://mlflow.spikehub.win/#/experiments/0/runs/ec49f4528610410ea9ca2a13aaa6eb59\n",
      "🧪 View experiment at: https://mlflow.spikehub.win/#/experiments/0\n"
     ]
    },
    {
     "name": "stderr",
     "output_type": "stream",
     "text": [
      "[I 2025-05-27 14:50:35,408] Trial 42 finished with value: 0.2647058823529412 and parameters: {'oversampling_method': 'SMOTE', 'undersampling_method': 'OneSidedSelection'}. Best is trial 30 with value: 0.2972972972972973.\n"
     ]
    },
    {
     "name": "stdout",
     "output_type": "stream",
     "text": [
      "🏃 View run luxuriant-cod-603 at: https://mlflow.spikehub.win/#/experiments/0/runs/dbb4d9aa738a45979cf98cd80364af74\n",
      "🧪 View experiment at: https://mlflow.spikehub.win/#/experiments/0\n"
     ]
    },
    {
     "name": "stderr",
     "output_type": "stream",
     "text": [
      "[I 2025-05-27 14:50:38,807] Trial 43 finished with value: 0.27586206896551724 and parameters: {'oversampling_method': 'ADASYN', 'undersampling_method': 'OneSidedSelection'}. Best is trial 30 with value: 0.2972972972972973.\n"
     ]
    },
    {
     "name": "stdout",
     "output_type": "stream",
     "text": [
      "🏃 View run upbeat-ape-417 at: https://mlflow.spikehub.win/#/experiments/0/runs/673db049a6c946638379047c2fe8500f\n",
      "🧪 View experiment at: https://mlflow.spikehub.win/#/experiments/0\n"
     ]
    },
    {
     "name": "stderr",
     "output_type": "stream",
     "text": [
      "[I 2025-05-27 14:50:42,077] Trial 44 finished with value: 0.2571428571428571 and parameters: {'oversampling_method': 'SMOTE', 'undersampling_method': 'RandomUnderSampler'}. Best is trial 30 with value: 0.2972972972972973.\n"
     ]
    },
    {
     "name": "stdout",
     "output_type": "stream",
     "text": [
      "🏃 View run smiling-rat-548 at: https://mlflow.spikehub.win/#/experiments/0/runs/05c4d43d904642b7b09c402c13049693\n",
      "🧪 View experiment at: https://mlflow.spikehub.win/#/experiments/0\n"
     ]
    },
    {
     "name": "stderr",
     "output_type": "stream",
     "text": [
      "[I 2025-05-27 14:50:46,075] Trial 45 finished with value: 0.1565217391304348 and parameters: {'oversampling_method': 'SMOTEN', 'undersampling_method': 'AllKNN'}. Best is trial 30 with value: 0.2972972972972973.\n"
     ]
    },
    {
     "name": "stdout",
     "output_type": "stream",
     "text": [
      "🏃 View run placid-shrimp-158 at: https://mlflow.spikehub.win/#/experiments/0/runs/f89d09503a9e43f5acfaeb009798a9ea\n",
      "🧪 View experiment at: https://mlflow.spikehub.win/#/experiments/0\n"
     ]
    },
    {
     "name": "stderr",
     "output_type": "stream",
     "text": [
      "[I 2025-05-27 14:50:50,494] Trial 46 finished with value: 0.20553359683794467 and parameters: {'oversampling_method': 'None', 'undersampling_method': 'RandomUnderSampler'}. Best is trial 30 with value: 0.2972972972972973.\n"
     ]
    },
    {
     "name": "stdout",
     "output_type": "stream",
     "text": [
      "🏃 View run unique-swan-987 at: https://mlflow.spikehub.win/#/experiments/0/runs/6eba2c225acb420a8706b6fe5f3fe225\n",
      "🧪 View experiment at: https://mlflow.spikehub.win/#/experiments/0\n"
     ]
    },
    {
     "name": "stderr",
     "output_type": "stream",
     "text": [
      "[I 2025-05-27 14:50:53,774] Trial 47 finished with value: 0.2857142857142857 and parameters: {'oversampling_method': 'ADASYN', 'undersampling_method': 'TomekLinks'}. Best is trial 30 with value: 0.2972972972972973.\n"
     ]
    },
    {
     "name": "stdout",
     "output_type": "stream",
     "text": [
      "🏃 View run judicious-cod-238 at: https://mlflow.spikehub.win/#/experiments/0/runs/4c45f03249a344eca065da1f47541820\n",
      "🧪 View experiment at: https://mlflow.spikehub.win/#/experiments/0\n"
     ]
    },
    {
     "name": "stderr",
     "output_type": "stream",
     "text": [
      "[I 2025-05-27 14:50:57,198] Trial 48 finished with value: 0.26229508196721313 and parameters: {'oversampling_method': 'SMOTE', 'undersampling_method': 'NearMiss'}. Best is trial 30 with value: 0.2972972972972973.\n"
     ]
    },
    {
     "name": "stdout",
     "output_type": "stream",
     "text": [
      "🏃 View run treasured-cub-356 at: https://mlflow.spikehub.win/#/experiments/0/runs/a0b135f5ad9c4eff9de21c2038d800a7\n",
      "🧪 View experiment at: https://mlflow.spikehub.win/#/experiments/0\n"
     ]
    },
    {
     "name": "stderr",
     "output_type": "stream",
     "text": [
      "[I 2025-05-27 14:51:01,940] Trial 49 finished with value: 0.13333333333333333 and parameters: {'oversampling_method': 'SMOTEN', 'undersampling_method': 'OneSidedSelection'}. Best is trial 30 with value: 0.2972972972972973.\n"
     ]
    },
    {
     "name": "stdout",
     "output_type": "stream",
     "text": [
      "🏃 View run luminous-snail-97 at: https://mlflow.spikehub.win/#/experiments/0/runs/4d54bb0460404c59acf3a6807609f89a\n",
      "🧪 View experiment at: https://mlflow.spikehub.win/#/experiments/0\n"
     ]
    },
    {
     "name": "stderr",
     "output_type": "stream",
     "text": [
      "[I 2025-05-27 14:51:06,129] Trial 50 finished with value: 0.25333333333333335 and parameters: {'oversampling_method': 'SVMSMOTE', 'undersampling_method': 'RepeatedEditedNearestNeighbours'}. Best is trial 30 with value: 0.2972972972972973.\n"
     ]
    },
    {
     "name": "stdout",
     "output_type": "stream",
     "text": [
      "🏃 View run glamorous-foal-891 at: https://mlflow.spikehub.win/#/experiments/0/runs/c26c169bcbad46b29770dec0fec91834\n",
      "🧪 View experiment at: https://mlflow.spikehub.win/#/experiments/0\n"
     ]
    },
    {
     "name": "stderr",
     "output_type": "stream",
     "text": [
      "[I 2025-05-27 14:51:09,747] Trial 51 finished with value: 0.27692307692307694 and parameters: {'oversampling_method': 'SMOTE', 'undersampling_method': 'RepeatedEditedNearestNeighbours'}. Best is trial 30 with value: 0.2972972972972973.\n"
     ]
    },
    {
     "name": "stdout",
     "output_type": "stream",
     "text": [
      "🏃 View run zealous-kit-686 at: https://mlflow.spikehub.win/#/experiments/0/runs/5b3fba393507475ba90d42e256a40af4\n",
      "🧪 View experiment at: https://mlflow.spikehub.win/#/experiments/0\n"
     ]
    },
    {
     "name": "stderr",
     "output_type": "stream",
     "text": [
      "[I 2025-05-27 14:51:15,416] Trial 52 finished with value: 0.203125 and parameters: {'oversampling_method': 'None', 'undersampling_method': 'AllKNN'}. Best is trial 30 with value: 0.2972972972972973.\n"
     ]
    },
    {
     "name": "stdout",
     "output_type": "stream",
     "text": [
      "🏃 View run grandiose-toad-778 at: https://mlflow.spikehub.win/#/experiments/0/runs/c80965653ba94e2995cb1a079f59cbc7\n",
      "🧪 View experiment at: https://mlflow.spikehub.win/#/experiments/0\n"
     ]
    },
    {
     "name": "stderr",
     "output_type": "stream",
     "text": [
      "[I 2025-05-27 14:51:19,068] Trial 53 finished with value: 0.2682926829268293 and parameters: {'oversampling_method': 'BorderlineSMOTE', 'undersampling_method': 'RandomUnderSampler'}. Best is trial 30 with value: 0.2972972972972973.\n"
     ]
    },
    {
     "name": "stdout",
     "output_type": "stream",
     "text": [
      "🏃 View run enchanting-skink-729 at: https://mlflow.spikehub.win/#/experiments/0/runs/990583ff46514dcf9f5841e59d52d755\n",
      "🧪 View experiment at: https://mlflow.spikehub.win/#/experiments/0\n"
     ]
    },
    {
     "name": "stderr",
     "output_type": "stream",
     "text": [
      "[I 2025-05-27 14:51:22,576] Trial 54 finished with value: 0.138996138996139 and parameters: {'oversampling_method': 'None', 'undersampling_method': 'NearMiss'}. Best is trial 30 with value: 0.2972972972972973.\n"
     ]
    },
    {
     "name": "stdout",
     "output_type": "stream",
     "text": [
      "🏃 View run abundant-snake-265 at: https://mlflow.spikehub.win/#/experiments/0/runs/8c035d6b56e64f0f96f7b3f2cf3253c6\n",
      "🧪 View experiment at: https://mlflow.spikehub.win/#/experiments/0\n"
     ]
    },
    {
     "name": "stderr",
     "output_type": "stream",
     "text": [
      "[I 2025-05-27 14:51:25,882] Trial 55 finished with value: 0.2346368715083799 and parameters: {'oversampling_method': 'SVMSMOTE', 'undersampling_method': 'None'}. Best is trial 30 with value: 0.2972972972972973.\n"
     ]
    },
    {
     "name": "stdout",
     "output_type": "stream",
     "text": [
      "🏃 View run painted-moose-85 at: https://mlflow.spikehub.win/#/experiments/0/runs/aec4532ade6744ad84d3981546b30d54\n",
      "🧪 View experiment at: https://mlflow.spikehub.win/#/experiments/0\n"
     ]
    },
    {
     "name": "stderr",
     "output_type": "stream",
     "text": [
      "[I 2025-05-27 14:51:29,811] Trial 56 finished with value: 0.2857142857142857 and parameters: {'oversampling_method': 'SVMSMOTE', 'undersampling_method': 'TomekLinks'}. Best is trial 30 with value: 0.2972972972972973.\n"
     ]
    },
    {
     "name": "stdout",
     "output_type": "stream",
     "text": [
      "🏃 View run colorful-wren-662 at: https://mlflow.spikehub.win/#/experiments/0/runs/2bc656ef816c434094f11860e4d3e352\n",
      "🧪 View experiment at: https://mlflow.spikehub.win/#/experiments/0\n"
     ]
    },
    {
     "name": "stderr",
     "output_type": "stream",
     "text": [
      "[I 2025-05-27 14:52:09,429] Trial 57 finished with value: 0.20454545454545456 and parameters: {'oversampling_method': 'ADASYN', 'undersampling_method': 'CondensedNearestNeighbour'}. Best is trial 30 with value: 0.2972972972972973.\n"
     ]
    },
    {
     "name": "stdout",
     "output_type": "stream",
     "text": [
      "🏃 View run bustling-cow-486 at: https://mlflow.spikehub.win/#/experiments/0/runs/669b9dae13d546f4a5a63b91833126dc\n",
      "🧪 View experiment at: https://mlflow.spikehub.win/#/experiments/0\n"
     ]
    },
    {
     "name": "stderr",
     "output_type": "stream",
     "text": [
      "[I 2025-05-27 14:52:12,964] Trial 58 finished with value: 0.21800947867298578 and parameters: {'oversampling_method': 'RandomOverSampler', 'undersampling_method': 'TomekLinks'}. Best is trial 30 with value: 0.2972972972972973.\n"
     ]
    },
    {
     "name": "stdout",
     "output_type": "stream",
     "text": [
      "🏃 View run righteous-bass-488 at: https://mlflow.spikehub.win/#/experiments/0/runs/6d17768b559d47e884ddbb0e6c990e1f\n",
      "🧪 View experiment at: https://mlflow.spikehub.win/#/experiments/0\n"
     ]
    },
    {
     "name": "stderr",
     "output_type": "stream",
     "text": [
      "[I 2025-05-27 14:52:16,643] Trial 59 finished with value: 0.27692307692307694 and parameters: {'oversampling_method': 'SMOTE', 'undersampling_method': 'EditedNearestNeighbours'}. Best is trial 30 with value: 0.2972972972972973.\n"
     ]
    },
    {
     "name": "stdout",
     "output_type": "stream",
     "text": [
      "🏃 View run adaptable-seal-662 at: https://mlflow.spikehub.win/#/experiments/0/runs/58ff3a912e4f4bcfb6c1bc93279ff10e\n",
      "🧪 View experiment at: https://mlflow.spikehub.win/#/experiments/0\n"
     ]
    },
    {
     "name": "stderr",
     "output_type": "stream",
     "text": [
      "[I 2025-05-27 14:52:48,903] Trial 60 finished with value: 0.21656050955414013 and parameters: {'oversampling_method': 'None', 'undersampling_method': 'CondensedNearestNeighbour'}. Best is trial 30 with value: 0.2972972972972973.\n"
     ]
    },
    {
     "name": "stdout",
     "output_type": "stream",
     "text": [
      "🏃 View run rare-midge-513 at: https://mlflow.spikehub.win/#/experiments/0/runs/c8e5549b22904034a8f2026fe2328fbb\n",
      "🧪 View experiment at: https://mlflow.spikehub.win/#/experiments/0\n"
     ]
    },
    {
     "name": "stderr",
     "output_type": "stream",
     "text": [
      "[I 2025-05-27 14:52:53,768] Trial 61 finished with value: 0.192 and parameters: {'oversampling_method': 'SMOTEN', 'undersampling_method': 'NeighbourhoodCleaningRule'}. Best is trial 30 with value: 0.2972972972972973.\n"
     ]
    },
    {
     "name": "stdout",
     "output_type": "stream",
     "text": [
      "🏃 View run burly-bird-928 at: https://mlflow.spikehub.win/#/experiments/0/runs/7af95dc169154720861ff59f978a74c1\n",
      "🧪 View experiment at: https://mlflow.spikehub.win/#/experiments/0\n"
     ]
    },
    {
     "name": "stderr",
     "output_type": "stream",
     "text": [
      "[I 2025-05-27 14:52:57,480] Trial 62 finished with value: 0.26666666666666666 and parameters: {'oversampling_method': 'ADASYN', 'undersampling_method': 'RandomUnderSampler'}. Best is trial 30 with value: 0.2972972972972973.\n"
     ]
    },
    {
     "name": "stdout",
     "output_type": "stream",
     "text": [
      "🏃 View run loud-bass-55 at: https://mlflow.spikehub.win/#/experiments/0/runs/ef69461512df486ab4b9ec49593a3577\n",
      "🧪 View experiment at: https://mlflow.spikehub.win/#/experiments/0\n"
     ]
    },
    {
     "name": "stderr",
     "output_type": "stream",
     "text": [
      "[I 2025-05-27 14:53:02,203] Trial 63 finished with value: 0.1415929203539823 and parameters: {'oversampling_method': 'SMOTEN', 'undersampling_method': 'NearMiss'}. Best is trial 30 with value: 0.2972972972972973.\n"
     ]
    },
    {
     "name": "stdout",
     "output_type": "stream",
     "text": [
      "🏃 View run spiffy-doe-757 at: https://mlflow.spikehub.win/#/experiments/0/runs/9f63b07cc6af44d5bc6ef5c51b520fd5\n",
      "🧪 View experiment at: https://mlflow.spikehub.win/#/experiments/0\n"
     ]
    },
    {
     "name": "stderr",
     "output_type": "stream",
     "text": [
      "[I 2025-05-27 14:53:06,272] Trial 64 finished with value: 0.25806451612903225 and parameters: {'oversampling_method': 'SVMSMOTE', 'undersampling_method': 'RandomUnderSampler'}. Best is trial 30 with value: 0.2972972972972973.\n"
     ]
    },
    {
     "name": "stdout",
     "output_type": "stream",
     "text": [
      "🏃 View run blushing-quail-663 at: https://mlflow.spikehub.win/#/experiments/0/runs/3e2a1ed5b678418ca498ddcfcea20c32\n",
      "🧪 View experiment at: https://mlflow.spikehub.win/#/experiments/0\n"
     ]
    },
    {
     "name": "stderr",
     "output_type": "stream",
     "text": [
      "[I 2025-05-27 14:53:27,099] Trial 65 finished with value: 0.1875 and parameters: {'oversampling_method': 'SMOTEN', 'undersampling_method': 'CondensedNearestNeighbour'}. Best is trial 30 with value: 0.2972972972972973.\n"
     ]
    },
    {
     "name": "stdout",
     "output_type": "stream",
     "text": [
      "🏃 View run redolent-horse-776 at: https://mlflow.spikehub.win/#/experiments/0/runs/0956913e016d459caed20f96f7cd9179\n",
      "🧪 View experiment at: https://mlflow.spikehub.win/#/experiments/0\n"
     ]
    },
    {
     "name": "stderr",
     "output_type": "stream",
     "text": [
      "[I 2025-05-27 14:53:30,713] Trial 66 finished with value: 0.2777777777777778 and parameters: {'oversampling_method': 'ADASYN', 'undersampling_method': 'None'}. Best is trial 30 with value: 0.2972972972972973.\n"
     ]
    },
    {
     "name": "stdout",
     "output_type": "stream",
     "text": [
      "🏃 View run bald-mink-1 at: https://mlflow.spikehub.win/#/experiments/0/runs/f7070de5cac446e185982731a54c3dd7\n",
      "🧪 View experiment at: https://mlflow.spikehub.win/#/experiments/0\n"
     ]
    },
    {
     "name": "stderr",
     "output_type": "stream",
     "text": [
      "[I 2025-05-27 14:53:36,895] Trial 67 finished with value: 0.199203187250996 and parameters: {'oversampling_method': 'None', 'undersampling_method': 'NeighbourhoodCleaningRule'}. Best is trial 30 with value: 0.2972972972972973.\n"
     ]
    },
    {
     "name": "stdout",
     "output_type": "stream",
     "text": [
      "🏃 View run auspicious-moth-915 at: https://mlflow.spikehub.win/#/experiments/0/runs/3d9fdea85a254ba0b8789b6b98686293\n",
      "🧪 View experiment at: https://mlflow.spikehub.win/#/experiments/0\n"
     ]
    },
    {
     "name": "stderr",
     "output_type": "stream",
     "text": [
      "[I 2025-05-27 14:53:41,011] Trial 68 finished with value: 0.2716049382716049 and parameters: {'oversampling_method': 'BorderlineSMOTE', 'undersampling_method': 'RepeatedEditedNearestNeighbours'}. Best is trial 30 with value: 0.2972972972972973.\n"
     ]
    },
    {
     "name": "stdout",
     "output_type": "stream",
     "text": [
      "🏃 View run kindly-ox-227 at: https://mlflow.spikehub.win/#/experiments/0/runs/531bcdb3351a4314b85f318c57f957df\n",
      "🧪 View experiment at: https://mlflow.spikehub.win/#/experiments/0\n"
     ]
    },
    {
     "name": "stderr",
     "output_type": "stream",
     "text": [
      "[I 2025-05-27 14:53:45,815] Trial 69 finished with value: 0.3076923076923077 and parameters: {'oversampling_method': 'BorderlineSMOTE', 'undersampling_method': 'NeighbourhoodCleaningRule'}. Best is trial 69 with value: 0.3076923076923077.\n"
     ]
    },
    {
     "name": "stdout",
     "output_type": "stream",
     "text": [
      "🏃 View run classy-bat-656 at: https://mlflow.spikehub.win/#/experiments/0/runs/8b18908a396b440584f196cb9ede6feb\n",
      "🧪 View experiment at: https://mlflow.spikehub.win/#/experiments/0\n",
      "🏃 View run Catboost Classifier Run at: https://mlflow.spikehub.win/#/experiments/1/runs/dfb2ea7ea68a473f864673febe97bc6b\n",
      "🧪 View experiment at: https://mlflow.spikehub.win/#/experiments/1\n"
     ]
    }
   ],
   "source": [
    "run_name = \"Catboost Classifier Run\"\n",
    "\n",
    "with mlflow.start_run(experiment_id=experiment_id, run_name=run_name, nested=True):\n",
    "    study = optuna.create_study(\n",
    "        direction=\"maximize\", sampler=optuna.samplers.GridSampler(search_space)\n",
    "    )\n",
    "    study.optimize(catboost_objective, n_trials=len(oversampler_list) * len(undersampler_list))\n",
    "\n",
    "    mlflow.log_params(study.best_params)\n",
    "    mlflow.log_metric(\"best_f1_score\", study.best_value)\n",
    "\n",
    "    mlflow.set_tags(\n",
    "        tags={\n",
    "            \"project\": \"stroke_prediction\",\n",
    "            \"optimizer_engine\": \"optuna\",\n",
    "            \"model_family\": \"CatBoostClassifier\",\n",
    "        }\n",
    "    )"
   ]
  },
  {
   "cell_type": "markdown",
   "id": "4791df81",
   "metadata": {},
   "source": [
    "After testing the sampler we find the for the oversampling methods, the best one is the BorderlineSMOTE, and for the undersampling methods, the best one is the NeighbourhoodCleaningRule."
   ]
  },
  {
   "cell_type": "code",
   "execution_count": 25,
   "id": "53853bb8",
   "metadata": {},
   "outputs": [
    {
     "data": {
      "text/plain": [
       "({'oversampling_method': 'BorderlineSMOTE',\n",
       "  'undersampling_method': 'NeighbourhoodCleaningRule'},\n",
       " 0.3076923076923077)"
      ]
     },
     "execution_count": 25,
     "metadata": {},
     "output_type": "execute_result"
    }
   ],
   "source": [
    "study.best_params, study.best_value"
   ]
  }
 ],
 "metadata": {
  "kernelspec": {
   "display_name": ".venv",
   "language": "python",
   "name": "python3"
  },
  "language_info": {
   "codemirror_mode": {
    "name": "ipython",
    "version": 3
   },
   "file_extension": ".py",
   "mimetype": "text/x-python",
   "name": "python",
   "nbconvert_exporter": "python",
   "pygments_lexer": "ipython3",
   "version": "3.12.9"
  }
 },
 "nbformat": 4,
 "nbformat_minor": 5
}
