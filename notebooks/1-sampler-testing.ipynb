{
 "cells": [
  {
   "cell_type": "markdown",
   "id": "c11ba8a9",
   "metadata": {},
   "source": [
    "# Sampler Testing\n",
    "This notebook use to test which sampler works best for the given dataset."
   ]
  },
  {
   "cell_type": "code",
   "execution_count": 2,
   "id": "636b5da6",
   "metadata": {},
   "outputs": [],
   "source": [
    "import pandas as pd\n",
    "\n",
    "from stroke_prediction.config import PROCESSED_DATA_DIR\n",
    "\n",
    "train_data = pd.read_parquet(PROCESSED_DATA_DIR / \"train-stroke-data.parquet\")\n",
    "test_data = pd.read_parquet(PROCESSED_DATA_DIR / \"test-stroke-data.parquet\")"
   ]
  },
  {
   "cell_type": "code",
   "execution_count": 3,
   "id": "ac3e10d4",
   "metadata": {},
   "outputs": [],
   "source": [
    "from sklearn.model_selection import train_test_split\n",
    "\n",
    "X_train_val = train_data.drop(columns=[\"stroke\"])\n",
    "y_train_val = train_data[\"stroke\"]\n",
    "\n",
    "X_train, X_val, y_train, y_val = train_test_split(\n",
    "    X_train_val, y_train_val, test_size=0.2, random_state=42, stratify=y_train_val\n",
    ")\n",
    "\n",
    "X_test = test_data.drop(columns=[\"stroke\"])\n",
    "y_test = test_data[\"stroke\"]"
   ]
  },
  {
   "cell_type": "markdown",
   "id": "b42eb38e",
   "metadata": {},
   "source": [
    "We will track the experiments using MLflow."
   ]
  },
  {
   "cell_type": "code",
   "execution_count": 4,
   "id": "dbb31340",
   "metadata": {},
   "outputs": [],
   "source": [
    "import mlflow\n",
    "\n",
    "from stroke_prediction.util import get_or_create_experiment\n",
    "\n",
    "mlflow.set_tracking_uri(\"https://mlflow.spikehub.win/\")\n",
    "experiment_id = get_or_create_experiment(\"Sampler Testing\")"
   ]
  },
  {
   "cell_type": "markdown",
   "id": "d14f487e",
   "metadata": {},
   "source": [
    "Before running the experiment, we will prepare the objective function that will be use to try each sampler."
   ]
  },
  {
   "cell_type": "code",
   "execution_count": 5,
   "id": "2858e9e6",
   "metadata": {},
   "outputs": [],
   "source": [
    "from typing import Callable\n",
    "\n",
    "import optuna\n",
    "from imblearn.base import BaseSampler\n",
    "from imblearn.over_sampling import (\n",
    "    ADASYN,\n",
    "    SMOTE,\n",
    "    SMOTEN,\n",
    "    SVMSMOTE,\n",
    "    BorderlineSMOTE,\n",
    "    RandomOverSampler,\n",
    ")\n",
    "from imblearn.under_sampling import (\n",
    "    AllKNN,\n",
    "    CondensedNearestNeighbour,\n",
    "    EditedNearestNeighbours,\n",
    "    NearMiss,\n",
    "    NeighbourhoodCleaningRule,\n",
    "    OneSidedSelection,\n",
    "    RandomUnderSampler,\n",
    "    RepeatedEditedNearestNeighbours,\n",
    "    TomekLinks,\n",
    ")\n",
    "from sklearn.base import BaseEstimator\n",
    "from sklearn.metrics import f1_score\n",
    "from sklearn.tree import DecisionTreeClassifier\n",
    "\n",
    "\n",
    "class DummySampler(BaseSampler):\n",
    "    def __init__(self):\n",
    "        super().__init__()\n",
    "\n",
    "    def _fit_resample(self, X, y):\n",
    "        return X, y\n",
    "\n",
    "    def fit_resample(self, X, y):\n",
    "        return self._fit_resample(X, y)\n",
    "\n",
    "\n",
    "oversampler = {\n",
    "    \"ADASYN\": ADASYN,\n",
    "    \"SMOTE\": SMOTE,\n",
    "    \"SMOTEN\": SMOTEN,\n",
    "    \"SVMSMOTE\": SVMSMOTE,\n",
    "    \"BorderlineSMOTE\": BorderlineSMOTE,\n",
    "    \"RandomOverSampler\": RandomOverSampler,\n",
    "    \"None\": DummySampler,\n",
    "}\n",
    "\n",
    "undersampler = {\n",
    "    \"AllKNN\": AllKNN,\n",
    "    \"CondensedNearestNeighbour\": CondensedNearestNeighbour,\n",
    "    \"EditedNearestNeighbours\": EditedNearestNeighbours,\n",
    "    \"NearMiss\": NearMiss,\n",
    "    \"NeighbourhoodCleaningRule\": NeighbourhoodCleaningRule,\n",
    "    \"OneSidedSelection\": OneSidedSelection,\n",
    "    \"RandomUnderSampler\": RandomUnderSampler,\n",
    "    \"RepeatedEditedNearestNeighbours\": RepeatedEditedNearestNeighbours,\n",
    "    \"TomekLinks\": TomekLinks,\n",
    "    \"None\": DummySampler,\n",
    "}\n",
    "\n",
    "oversampler_list = list(oversampler.keys())\n",
    "undersampler_list = list(undersampler.keys())\n",
    "\n",
    "search_space = {\"oversampling_method\": oversampler_list, \"undersampling_method\": undersampler_list}"
   ]
  },
  {
   "cell_type": "code",
   "execution_count": 5,
   "id": "acb0f3db",
   "metadata": {},
   "outputs": [],
   "source": [
    "def create_objective(create_model: Callable[[], BaseEstimator], experiment_id: str) -> callable:\n",
    "    def objective(trial: optuna.Trial) -> float:\n",
    "        with mlflow.start_run(experiment_id=experiment_id, nested=True):\n",
    "            oversampling_method = trial.suggest_categorical(\"oversampling_method\", oversampler_list)\n",
    "            undersammpling_method = trial.suggest_categorical(\n",
    "                \"undersampling_method\",\n",
    "                undersampler_list,\n",
    "            )\n",
    "\n",
    "            # Check if it has random_state parameter\n",
    "            try:\n",
    "                oversampler_instance = oversampler[oversampling_method](random_state=42)\n",
    "            except TypeError:\n",
    "                oversampler_instance = oversampler[oversampling_method]()\n",
    "\n",
    "            try:\n",
    "                undersampler_instance = undersampler[undersammpling_method](random_state=42)\n",
    "            except TypeError:\n",
    "                undersampler_instance = undersampler[undersammpling_method]()\n",
    "\n",
    "            X_train_resampled, y_train_resampled = oversampler_instance.fit_resample(\n",
    "                X_train, y_train\n",
    "            )\n",
    "            X_train_resampled, y_train_resampled = undersampler_instance.fit_resample(\n",
    "                X_train_resampled, y_train_resampled\n",
    "            )\n",
    "\n",
    "            clf = create_model()\n",
    "\n",
    "            clf.fit(X_train_resampled, y_train_resampled)\n",
    "            y_pred = clf.predict(X_val)\n",
    "            f1_score_val = f1_score(y_val, y_pred)\n",
    "\n",
    "            mlflow.log_params(\n",
    "                {\n",
    "                    \"oversampling_method\": oversampling_method,\n",
    "                    \"undersampling_method\": undersammpling_method,\n",
    "                }\n",
    "            )\n",
    "            mlflow.log_metric(\"f1\", f1_score_val)\n",
    "\n",
    "        return f1_score_val\n",
    "\n",
    "    return objective"
   ]
  },
  {
   "cell_type": "markdown",
   "id": "90f03793",
   "metadata": {},
   "source": [
    "## Decision Tree\n",
    "First we will try a decision tree classifier to see how well it performs on the dataset for each sampler combination."
   ]
  },
  {
   "cell_type": "code",
   "execution_count": 6,
   "id": "787c6fb9",
   "metadata": {},
   "outputs": [
    {
     "name": "stderr",
     "output_type": "stream",
     "text": [
      "[I 2025-05-28 21:20:53,852] A new study created in memory with name: no-name-13f820fd-2570-416c-bd53-33933dadccba\n",
      "[I 2025-05-28 21:20:57,907] Trial 0 finished with value: 0.13157894736842105 and parameters: {'oversampling_method': 'SMOTEN', 'undersampling_method': 'RandomUnderSampler'}. Best is trial 0 with value: 0.13157894736842105.\n"
     ]
    },
    {
     "name": "stdout",
     "output_type": "stream",
     "text": [
      "🏃 View run crawling-tern-825 at: https://mlflow.spikehub.win/#/experiments/6/runs/091a24b1e3a84b389f2a902229c2cf2a\n",
      "🧪 View experiment at: https://mlflow.spikehub.win/#/experiments/6\n"
     ]
    },
    {
     "name": "stderr",
     "output_type": "stream",
     "text": [
      "[I 2025-05-28 21:21:00,477] Trial 1 finished with value: 0.0 and parameters: {'oversampling_method': 'SMOTEN', 'undersampling_method': 'RepeatedEditedNearestNeighbours'}. Best is trial 0 with value: 0.13157894736842105.\n"
     ]
    },
    {
     "name": "stdout",
     "output_type": "stream",
     "text": [
      "🏃 View run sedate-calf-260 at: https://mlflow.spikehub.win/#/experiments/6/runs/ed439eb297c1473ebbcf5a2aa1303f6a\n",
      "🧪 View experiment at: https://mlflow.spikehub.win/#/experiments/6\n"
     ]
    },
    {
     "name": "stderr",
     "output_type": "stream",
     "text": [
      "[I 2025-05-28 21:21:01,194] Trial 2 finished with value: 0.1111111111111111 and parameters: {'oversampling_method': 'BorderlineSMOTE', 'undersampling_method': 'TomekLinks'}. Best is trial 0 with value: 0.13157894736842105.\n"
     ]
    },
    {
     "name": "stdout",
     "output_type": "stream",
     "text": [
      "🏃 View run unequaled-bee-597 at: https://mlflow.spikehub.win/#/experiments/6/runs/7102672dc6f941f7b741ebbb690580a6\n",
      "🧪 View experiment at: https://mlflow.spikehub.win/#/experiments/6\n"
     ]
    },
    {
     "name": "stderr",
     "output_type": "stream",
     "text": [
      "[I 2025-05-28 21:21:03,648] Trial 3 finished with value: 0.0 and parameters: {'oversampling_method': 'SMOTEN', 'undersampling_method': 'EditedNearestNeighbours'}. Best is trial 0 with value: 0.13157894736842105.\n"
     ]
    },
    {
     "name": "stdout",
     "output_type": "stream",
     "text": [
      "🏃 View run salty-doe-18 at: https://mlflow.spikehub.win/#/experiments/6/runs/d00ae40f55864534a4a75ff77328ed60\n",
      "🧪 View experiment at: https://mlflow.spikehub.win/#/experiments/6\n"
     ]
    },
    {
     "name": "stderr",
     "output_type": "stream",
     "text": [
      "[I 2025-05-28 21:21:04,391] Trial 4 finished with value: 0.20168067226890757 and parameters: {'oversampling_method': 'SVMSMOTE', 'undersampling_method': 'AllKNN'}. Best is trial 4 with value: 0.20168067226890757.\n"
     ]
    },
    {
     "name": "stdout",
     "output_type": "stream",
     "text": [
      "🏃 View run sincere-stag-763 at: https://mlflow.spikehub.win/#/experiments/6/runs/5bb6328f35774434baf9137a82086572\n",
      "🧪 View experiment at: https://mlflow.spikehub.win/#/experiments/6\n"
     ]
    },
    {
     "name": "stderr",
     "output_type": "stream",
     "text": [
      "[I 2025-05-28 21:21:23,671] Trial 5 finished with value: 0.14705882352941177 and parameters: {'oversampling_method': 'RandomOverSampler', 'undersampling_method': 'CondensedNearestNeighbour'}. Best is trial 4 with value: 0.20168067226890757.\n"
     ]
    },
    {
     "name": "stdout",
     "output_type": "stream",
     "text": [
      "🏃 View run sedate-sheep-82 at: https://mlflow.spikehub.win/#/experiments/6/runs/65b7dc6be6c84fb09354d4e7d09fb535\n",
      "🧪 View experiment at: https://mlflow.spikehub.win/#/experiments/6\n"
     ]
    },
    {
     "name": "stderr",
     "output_type": "stream",
     "text": [
      "[I 2025-05-28 21:21:24,231] Trial 6 finished with value: 0.16901408450704225 and parameters: {'oversampling_method': 'ADASYN', 'undersampling_method': 'RepeatedEditedNearestNeighbours'}. Best is trial 4 with value: 0.20168067226890757.\n"
     ]
    },
    {
     "name": "stdout",
     "output_type": "stream",
     "text": [
      "🏃 View run nosy-dolphin-53 at: https://mlflow.spikehub.win/#/experiments/6/runs/309b9cd1f03d4cefbf5a55773536ee15\n",
      "🧪 View experiment at: https://mlflow.spikehub.win/#/experiments/6\n"
     ]
    },
    {
     "name": "stderr",
     "output_type": "stream",
     "text": [
      "[I 2025-05-28 21:21:24,742] Trial 7 finished with value: 0.09375 and parameters: {'oversampling_method': 'RandomOverSampler', 'undersampling_method': 'None'}. Best is trial 4 with value: 0.20168067226890757.\n"
     ]
    },
    {
     "name": "stdout",
     "output_type": "stream",
     "text": [
      "🏃 View run nervous-shrike-127 at: https://mlflow.spikehub.win/#/experiments/6/runs/7afed43720504de796625e1c6c3c29b6\n",
      "🧪 View experiment at: https://mlflow.spikehub.win/#/experiments/6\n"
     ]
    },
    {
     "name": "stderr",
     "output_type": "stream",
     "text": [
      "[I 2025-05-28 21:21:25,645] Trial 8 finished with value: 0.10752688172043011 and parameters: {'oversampling_method': 'SVMSMOTE', 'undersampling_method': 'NeighbourhoodCleaningRule'}. Best is trial 4 with value: 0.20168067226890757.\n"
     ]
    },
    {
     "name": "stdout",
     "output_type": "stream",
     "text": [
      "🏃 View run fearless-trout-574 at: https://mlflow.spikehub.win/#/experiments/6/runs/6cdb97e00e2e41308d3d6ee2519836eb\n",
      "🧪 View experiment at: https://mlflow.spikehub.win/#/experiments/6\n"
     ]
    },
    {
     "name": "stderr",
     "output_type": "stream",
     "text": [
      "[I 2025-05-28 21:21:26,180] Trial 9 finished with value: 0.08333333333333333 and parameters: {'oversampling_method': 'None', 'undersampling_method': 'None'}. Best is trial 4 with value: 0.20168067226890757.\n"
     ]
    },
    {
     "name": "stdout",
     "output_type": "stream",
     "text": [
      "🏃 View run loud-jay-919 at: https://mlflow.spikehub.win/#/experiments/6/runs/44e3cb316a3c46fba8a7a477759b4f4f\n",
      "🧪 View experiment at: https://mlflow.spikehub.win/#/experiments/6\n"
     ]
    },
    {
     "name": "stderr",
     "output_type": "stream",
     "text": [
      "[I 2025-05-28 21:21:26,741] Trial 10 finished with value: 0.09375 and parameters: {'oversampling_method': 'RandomOverSampler', 'undersampling_method': 'RandomUnderSampler'}. Best is trial 4 with value: 0.20168067226890757.\n"
     ]
    },
    {
     "name": "stdout",
     "output_type": "stream",
     "text": [
      "🏃 View run resilient-boar-169 at: https://mlflow.spikehub.win/#/experiments/6/runs/bc3664f248ce4494b792ffa7b8e1250b\n",
      "🧪 View experiment at: https://mlflow.spikehub.win/#/experiments/6\n"
     ]
    },
    {
     "name": "stderr",
     "output_type": "stream",
     "text": [
      "[I 2025-05-28 21:21:29,706] Trial 11 finished with value: 0.03571428571428571 and parameters: {'oversampling_method': 'SMOTEN', 'undersampling_method': 'TomekLinks'}. Best is trial 4 with value: 0.20168067226890757.\n"
     ]
    },
    {
     "name": "stdout",
     "output_type": "stream",
     "text": [
      "🏃 View run intelligent-crab-672 at: https://mlflow.spikehub.win/#/experiments/6/runs/84315d37e66a431bb5302ff697011998\n",
      "🧪 View experiment at: https://mlflow.spikehub.win/#/experiments/6\n"
     ]
    },
    {
     "name": "stderr",
     "output_type": "stream",
     "text": [
      "[I 2025-05-28 21:22:36,228] Trial 12 finished with value: 0.0759493670886076 and parameters: {'oversampling_method': 'SVMSMOTE', 'undersampling_method': 'CondensedNearestNeighbour'}. Best is trial 4 with value: 0.20168067226890757.\n"
     ]
    },
    {
     "name": "stdout",
     "output_type": "stream",
     "text": [
      "🏃 View run serious-yak-129 at: https://mlflow.spikehub.win/#/experiments/6/runs/c0a56982ad2240caacfa304031f9a755\n",
      "🧪 View experiment at: https://mlflow.spikehub.win/#/experiments/6\n"
     ]
    },
    {
     "name": "stderr",
     "output_type": "stream",
     "text": [
      "[I 2025-05-28 21:22:36,803] Trial 13 finished with value: 0.08955223880597014 and parameters: {'oversampling_method': 'BorderlineSMOTE', 'undersampling_method': 'EditedNearestNeighbours'}. Best is trial 4 with value: 0.20168067226890757.\n"
     ]
    },
    {
     "name": "stdout",
     "output_type": "stream",
     "text": [
      "🏃 View run agreeable-wasp-586 at: https://mlflow.spikehub.win/#/experiments/6/runs/f5418f947c9a4dd7b28883bf31f034e4\n",
      "🧪 View experiment at: https://mlflow.spikehub.win/#/experiments/6\n"
     ]
    },
    {
     "name": "stderr",
     "output_type": "stream",
     "text": [
      "[I 2025-05-28 21:22:37,511] Trial 14 finished with value: 0.15555555555555556 and parameters: {'oversampling_method': 'SVMSMOTE', 'undersampling_method': 'NearMiss'}. Best is trial 4 with value: 0.20168067226890757.\n"
     ]
    },
    {
     "name": "stdout",
     "output_type": "stream",
     "text": [
      "🏃 View run funny-grouse-213 at: https://mlflow.spikehub.win/#/experiments/6/runs/f85d47357967433b958fbfd376d29ba9\n",
      "🧪 View experiment at: https://mlflow.spikehub.win/#/experiments/6\n"
     ]
    },
    {
     "name": "stderr",
     "output_type": "stream",
     "text": [
      "[I 2025-05-28 21:22:38,339] Trial 15 finished with value: 0.06060606060606061 and parameters: {'oversampling_method': 'RandomOverSampler', 'undersampling_method': 'OneSidedSelection'}. Best is trial 4 with value: 0.20168067226890757.\n"
     ]
    },
    {
     "name": "stdout",
     "output_type": "stream",
     "text": [
      "🏃 View run overjoyed-lamb-64 at: https://mlflow.spikehub.win/#/experiments/6/runs/3ee7911a375b4636bc95d61d8fa617a2\n",
      "🧪 View experiment at: https://mlflow.spikehub.win/#/experiments/6\n"
     ]
    },
    {
     "name": "stderr",
     "output_type": "stream",
     "text": [
      "[I 2025-05-28 21:22:38,826] Trial 16 finished with value: 0.0759493670886076 and parameters: {'oversampling_method': 'None', 'undersampling_method': 'TomekLinks'}. Best is trial 4 with value: 0.20168067226890757.\n"
     ]
    },
    {
     "name": "stdout",
     "output_type": "stream",
     "text": [
      "🏃 View run learned-bass-729 at: https://mlflow.spikehub.win/#/experiments/6/runs/cdd987118b15488e821a53ea97afbbc4\n",
      "🧪 View experiment at: https://mlflow.spikehub.win/#/experiments/6\n"
     ]
    },
    {
     "name": "stderr",
     "output_type": "stream",
     "text": [
      "[I 2025-05-28 21:22:39,356] Trial 17 finished with value: 0.12244897959183673 and parameters: {'oversampling_method': 'None', 'undersampling_method': 'EditedNearestNeighbours'}. Best is trial 4 with value: 0.20168067226890757.\n"
     ]
    },
    {
     "name": "stdout",
     "output_type": "stream",
     "text": [
      "🏃 View run legendary-fly-21 at: https://mlflow.spikehub.win/#/experiments/6/runs/060305c9c0084d5eb7f00c5828c0065e\n",
      "🧪 View experiment at: https://mlflow.spikehub.win/#/experiments/6\n"
     ]
    },
    {
     "name": "stderr",
     "output_type": "stream",
     "text": [
      "[I 2025-05-28 21:22:39,930] Trial 18 finished with value: 0.08108108108108109 and parameters: {'oversampling_method': 'BorderlineSMOTE', 'undersampling_method': 'NearMiss'}. Best is trial 4 with value: 0.20168067226890757.\n"
     ]
    },
    {
     "name": "stdout",
     "output_type": "stream",
     "text": [
      "🏃 View run sedate-squirrel-910 at: https://mlflow.spikehub.win/#/experiments/6/runs/0a7b1138257c4e5ca98773463e08f878\n",
      "🧪 View experiment at: https://mlflow.spikehub.win/#/experiments/6\n"
     ]
    },
    {
     "name": "stderr",
     "output_type": "stream",
     "text": [
      "[I 2025-05-28 21:22:40,909] Trial 19 finished with value: 0.1388888888888889 and parameters: {'oversampling_method': 'ADASYN', 'undersampling_method': 'NeighbourhoodCleaningRule'}. Best is trial 4 with value: 0.20168067226890757.\n"
     ]
    },
    {
     "name": "stdout",
     "output_type": "stream",
     "text": [
      "🏃 View run beautiful-worm-486 at: https://mlflow.spikehub.win/#/experiments/6/runs/25933ed685a5422387873273226e272d\n",
      "🧪 View experiment at: https://mlflow.spikehub.win/#/experiments/6\n"
     ]
    },
    {
     "name": "stderr",
     "output_type": "stream",
     "text": [
      "[I 2025-05-28 21:22:41,582] Trial 20 finished with value: 0.0759493670886076 and parameters: {'oversampling_method': 'None', 'undersampling_method': 'OneSidedSelection'}. Best is trial 4 with value: 0.20168067226890757.\n"
     ]
    },
    {
     "name": "stdout",
     "output_type": "stream",
     "text": [
      "🏃 View run caring-donkey-70 at: https://mlflow.spikehub.win/#/experiments/6/runs/3dd4d24930514221ab3747f3b449ca49\n",
      "🧪 View experiment at: https://mlflow.spikehub.win/#/experiments/6\n"
     ]
    },
    {
     "name": "stderr",
     "output_type": "stream",
     "text": [
      "[I 2025-05-28 21:22:42,224] Trial 21 finished with value: 0.09375 and parameters: {'oversampling_method': 'RandomOverSampler', 'undersampling_method': 'AllKNN'}. Best is trial 4 with value: 0.20168067226890757.\n"
     ]
    },
    {
     "name": "stdout",
     "output_type": "stream",
     "text": [
      "🏃 View run silent-eel-308 at: https://mlflow.spikehub.win/#/experiments/6/runs/20df3187161c46678f229465dd4410b7\n",
      "🧪 View experiment at: https://mlflow.spikehub.win/#/experiments/6\n"
     ]
    },
    {
     "name": "stderr",
     "output_type": "stream",
     "text": [
      "[I 2025-05-28 21:22:42,794] Trial 22 finished with value: 0.16901408450704225 and parameters: {'oversampling_method': 'ADASYN', 'undersampling_method': 'EditedNearestNeighbours'}. Best is trial 4 with value: 0.20168067226890757.\n"
     ]
    },
    {
     "name": "stdout",
     "output_type": "stream",
     "text": [
      "🏃 View run nebulous-swan-446 at: https://mlflow.spikehub.win/#/experiments/6/runs/c9bc67c879874b9e8f0fe8ecbe0514a4\n",
      "🧪 View experiment at: https://mlflow.spikehub.win/#/experiments/6\n"
     ]
    },
    {
     "name": "stderr",
     "output_type": "stream",
     "text": [
      "[I 2025-05-28 21:22:43,374] Trial 23 finished with value: 0.05970149253731343 and parameters: {'oversampling_method': 'BorderlineSMOTE', 'undersampling_method': 'AllKNN'}. Best is trial 4 with value: 0.20168067226890757.\n"
     ]
    },
    {
     "name": "stdout",
     "output_type": "stream",
     "text": [
      "🏃 View run auspicious-worm-181 at: https://mlflow.spikehub.win/#/experiments/6/runs/33c82f58155846eab268ab0855de3822\n",
      "🧪 View experiment at: https://mlflow.spikehub.win/#/experiments/6\n"
     ]
    },
    {
     "name": "stderr",
     "output_type": "stream",
     "text": [
      "[I 2025-05-28 21:23:49,119] Trial 24 finished with value: 0.028169014084507043 and parameters: {'oversampling_method': 'SMOTE', 'undersampling_method': 'CondensedNearestNeighbour'}. Best is trial 4 with value: 0.20168067226890757.\n"
     ]
    },
    {
     "name": "stdout",
     "output_type": "stream",
     "text": [
      "🏃 View run rumbling-ray-944 at: https://mlflow.spikehub.win/#/experiments/6/runs/96f7054485e642a4b492f781a92e2ed2\n",
      "🧪 View experiment at: https://mlflow.spikehub.win/#/experiments/6\n"
     ]
    },
    {
     "name": "stderr",
     "output_type": "stream",
     "text": [
      "[I 2025-05-28 21:23:49,745] Trial 25 finished with value: 0.031746031746031744 and parameters: {'oversampling_method': 'ADASYN', 'undersampling_method': 'NearMiss'}. Best is trial 4 with value: 0.20168067226890757.\n"
     ]
    },
    {
     "name": "stdout",
     "output_type": "stream",
     "text": [
      "🏃 View run powerful-zebra-266 at: https://mlflow.spikehub.win/#/experiments/6/runs/42f06907f5a54468bc20c3ecd23bc341\n",
      "🧪 View experiment at: https://mlflow.spikehub.win/#/experiments/6\n"
     ]
    },
    {
     "name": "stderr",
     "output_type": "stream",
     "text": [
      "[I 2025-05-28 21:23:50,737] Trial 26 finished with value: 0.14925373134328357 and parameters: {'oversampling_method': 'RandomOverSampler', 'undersampling_method': 'NeighbourhoodCleaningRule'}. Best is trial 4 with value: 0.20168067226890757.\n"
     ]
    },
    {
     "name": "stdout",
     "output_type": "stream",
     "text": [
      "🏃 View run bemused-shrimp-221 at: https://mlflow.spikehub.win/#/experiments/6/runs/587ad6c809504cb182142cc09559d443\n",
      "🧪 View experiment at: https://mlflow.spikehub.win/#/experiments/6\n"
     ]
    },
    {
     "name": "stderr",
     "output_type": "stream",
     "text": [
      "[I 2025-05-28 21:23:51,572] Trial 27 finished with value: 0.05970149253731343 and parameters: {'oversampling_method': 'BorderlineSMOTE', 'undersampling_method': 'OneSidedSelection'}. Best is trial 4 with value: 0.20168067226890757.\n"
     ]
    },
    {
     "name": "stdout",
     "output_type": "stream",
     "text": [
      "🏃 View run carefree-steed-311 at: https://mlflow.spikehub.win/#/experiments/6/runs/91f9881582e24f318d9a47f15a588bdc\n",
      "🧪 View experiment at: https://mlflow.spikehub.win/#/experiments/6\n"
     ]
    },
    {
     "name": "stderr",
     "output_type": "stream",
     "text": [
      "[I 2025-05-28 21:23:52,122] Trial 28 finished with value: 0.13157894736842105 and parameters: {'oversampling_method': 'SMOTE', 'undersampling_method': 'AllKNN'}. Best is trial 4 with value: 0.20168067226890757.\n"
     ]
    },
    {
     "name": "stdout",
     "output_type": "stream",
     "text": [
      "🏃 View run invincible-loon-14 at: https://mlflow.spikehub.win/#/experiments/6/runs/151d9479538f4cf8a8e821c04674391d\n",
      "🧪 View experiment at: https://mlflow.spikehub.win/#/experiments/6\n"
     ]
    },
    {
     "name": "stderr",
     "output_type": "stream",
     "text": [
      "[I 2025-05-28 21:24:40,051] Trial 29 finished with value: 0.22535211267605634 and parameters: {'oversampling_method': 'BorderlineSMOTE', 'undersampling_method': 'CondensedNearestNeighbour'}. Best is trial 29 with value: 0.22535211267605634.\n"
     ]
    },
    {
     "name": "stdout",
     "output_type": "stream",
     "text": [
      "🏃 View run suave-snipe-733 at: https://mlflow.spikehub.win/#/experiments/6/runs/01a1649df35b4c3b973008dec02581a6\n",
      "🧪 View experiment at: https://mlflow.spikehub.win/#/experiments/6\n"
     ]
    },
    {
     "name": "stderr",
     "output_type": "stream",
     "text": [
      "[I 2025-05-28 21:24:40,554] Trial 30 finished with value: 0.08108108108108109 and parameters: {'oversampling_method': 'BorderlineSMOTE', 'undersampling_method': 'None'}. Best is trial 29 with value: 0.22535211267605634.\n"
     ]
    },
    {
     "name": "stdout",
     "output_type": "stream",
     "text": [
      "🏃 View run respected-grub-368 at: https://mlflow.spikehub.win/#/experiments/6/runs/5cb86c96ff444d4d915b1d484aa4839a\n",
      "🧪 View experiment at: https://mlflow.spikehub.win/#/experiments/6\n"
     ]
    },
    {
     "name": "stderr",
     "output_type": "stream",
     "text": [
      "[I 2025-05-28 21:24:41,067] Trial 31 finished with value: 0.09375 and parameters: {'oversampling_method': 'RandomOverSampler', 'undersampling_method': 'NearMiss'}. Best is trial 29 with value: 0.22535211267605634.\n"
     ]
    },
    {
     "name": "stdout",
     "output_type": "stream",
     "text": [
      "🏃 View run able-grouse-8 at: https://mlflow.spikehub.win/#/experiments/6/runs/b7f5291dfb1447489d28e16042f93b44\n",
      "🧪 View experiment at: https://mlflow.spikehub.win/#/experiments/6\n"
     ]
    },
    {
     "name": "stderr",
     "output_type": "stream",
     "text": [
      "[I 2025-05-28 21:24:41,584] Trial 32 finished with value: 0.09375 and parameters: {'oversampling_method': 'RandomOverSampler', 'undersampling_method': 'RepeatedEditedNearestNeighbours'}. Best is trial 29 with value: 0.22535211267605634.\n"
     ]
    },
    {
     "name": "stdout",
     "output_type": "stream",
     "text": [
      "🏃 View run wistful-goose-221 at: https://mlflow.spikehub.win/#/experiments/6/runs/81a815230f944ab09f818314052ee310\n",
      "🧪 View experiment at: https://mlflow.spikehub.win/#/experiments/6\n"
     ]
    },
    {
     "name": "stderr",
     "output_type": "stream",
     "text": [
      "[I 2025-05-28 21:24:42,246] Trial 33 finished with value: 0.2037037037037037 and parameters: {'oversampling_method': 'SVMSMOTE', 'undersampling_method': 'EditedNearestNeighbours'}. Best is trial 29 with value: 0.22535211267605634.\n"
     ]
    },
    {
     "name": "stdout",
     "output_type": "stream",
     "text": [
      "🏃 View run carefree-shark-652 at: https://mlflow.spikehub.win/#/experiments/6/runs/dc3430c30e454b25a0f8c4db0f8f6b55\n",
      "🧪 View experiment at: https://mlflow.spikehub.win/#/experiments/6\n"
     ]
    },
    {
     "name": "stderr",
     "output_type": "stream",
     "text": [
      "[I 2025-05-28 21:24:43,219] Trial 34 finished with value: 0.08571428571428572 and parameters: {'oversampling_method': 'SMOTE', 'undersampling_method': 'NeighbourhoodCleaningRule'}. Best is trial 29 with value: 0.22535211267605634.\n"
     ]
    },
    {
     "name": "stdout",
     "output_type": "stream",
     "text": [
      "🏃 View run amazing-mink-471 at: https://mlflow.spikehub.win/#/experiments/6/runs/8c7c53dc83124862b56fd806e356ecc5\n",
      "🧪 View experiment at: https://mlflow.spikehub.win/#/experiments/6\n"
     ]
    },
    {
     "name": "stderr",
     "output_type": "stream",
     "text": [
      "[I 2025-05-28 21:24:43,922] Trial 35 finished with value: 0.15 and parameters: {'oversampling_method': 'None', 'undersampling_method': 'RepeatedEditedNearestNeighbours'}. Best is trial 29 with value: 0.22535211267605634.\n"
     ]
    },
    {
     "name": "stdout",
     "output_type": "stream",
     "text": [
      "🏃 View run intrigued-cod-724 at: https://mlflow.spikehub.win/#/experiments/6/runs/7c93893ec13e40d891bb5fb71df5bce1\n",
      "🧪 View experiment at: https://mlflow.spikehub.win/#/experiments/6\n"
     ]
    },
    {
     "name": "stderr",
     "output_type": "stream",
     "text": [
      "[I 2025-05-28 21:24:44,471] Trial 36 finished with value: 0.05405405405405406 and parameters: {'oversampling_method': 'SMOTE', 'undersampling_method': 'None'}. Best is trial 29 with value: 0.22535211267605634.\n"
     ]
    },
    {
     "name": "stdout",
     "output_type": "stream",
     "text": [
      "🏃 View run painted-doe-195 at: https://mlflow.spikehub.win/#/experiments/6/runs/53b32fdd6b3a4ab2a81b701341739f76\n",
      "🧪 View experiment at: https://mlflow.spikehub.win/#/experiments/6\n"
     ]
    },
    {
     "name": "stderr",
     "output_type": "stream",
     "text": [
      "[I 2025-05-28 21:24:46,877] Trial 37 finished with value: 0.13157894736842105 and parameters: {'oversampling_method': 'SMOTEN', 'undersampling_method': 'None'}. Best is trial 29 with value: 0.22535211267605634.\n"
     ]
    },
    {
     "name": "stdout",
     "output_type": "stream",
     "text": [
      "🏃 View run brawny-seal-993 at: https://mlflow.spikehub.win/#/experiments/6/runs/84f9a76af95244debc6c193d5d8e17ad\n",
      "🧪 View experiment at: https://mlflow.spikehub.win/#/experiments/6\n"
     ]
    },
    {
     "name": "stderr",
     "output_type": "stream",
     "text": [
      "[I 2025-05-28 21:24:47,428] Trial 38 finished with value: 0.09375 and parameters: {'oversampling_method': 'RandomOverSampler', 'undersampling_method': 'EditedNearestNeighbours'}. Best is trial 29 with value: 0.22535211267605634.\n"
     ]
    },
    {
     "name": "stdout",
     "output_type": "stream",
     "text": [
      "🏃 View run dapper-fox-328 at: https://mlflow.spikehub.win/#/experiments/6/runs/53a38a72cfdf4f80980f9c2f4657995e\n",
      "🧪 View experiment at: https://mlflow.spikehub.win/#/experiments/6\n"
     ]
    },
    {
     "name": "stderr",
     "output_type": "stream",
     "text": [
      "[I 2025-05-28 21:24:48,326] Trial 39 finished with value: 0.09876543209876543 and parameters: {'oversampling_method': 'SVMSMOTE', 'undersampling_method': 'OneSidedSelection'}. Best is trial 29 with value: 0.22535211267605634.\n"
     ]
    },
    {
     "name": "stdout",
     "output_type": "stream",
     "text": [
      "🏃 View run bittersweet-shad-173 at: https://mlflow.spikehub.win/#/experiments/6/runs/d4657748559c4366a0e3e9bb7d767447\n",
      "🧪 View experiment at: https://mlflow.spikehub.win/#/experiments/6\n"
     ]
    },
    {
     "name": "stderr",
     "output_type": "stream",
     "text": [
      "[I 2025-05-28 21:24:48,916] Trial 40 finished with value: 0.08 and parameters: {'oversampling_method': 'SMOTE', 'undersampling_method': 'TomekLinks'}. Best is trial 29 with value: 0.22535211267605634.\n"
     ]
    },
    {
     "name": "stdout",
     "output_type": "stream",
     "text": [
      "🏃 View run redolent-ox-172 at: https://mlflow.spikehub.win/#/experiments/6/runs/b084cb1fca9548ea89d8148e6d7c3b63\n",
      "🧪 View experiment at: https://mlflow.spikehub.win/#/experiments/6\n"
     ]
    },
    {
     "name": "stderr",
     "output_type": "stream",
     "text": [
      "[I 2025-05-28 21:24:49,486] Trial 41 finished with value: 0.11428571428571428 and parameters: {'oversampling_method': 'ADASYN', 'undersampling_method': 'AllKNN'}. Best is trial 29 with value: 0.22535211267605634.\n"
     ]
    },
    {
     "name": "stdout",
     "output_type": "stream",
     "text": [
      "🏃 View run sedate-cub-110 at: https://mlflow.spikehub.win/#/experiments/6/runs/1ef4babfcb5742e8b82e30496a44e9a7\n",
      "🧪 View experiment at: https://mlflow.spikehub.win/#/experiments/6\n"
     ]
    },
    {
     "name": "stderr",
     "output_type": "stream",
     "text": [
      "[I 2025-05-28 21:24:50,281] Trial 42 finished with value: 0.13513513513513514 and parameters: {'oversampling_method': 'SMOTE', 'undersampling_method': 'OneSidedSelection'}. Best is trial 29 with value: 0.22535211267605634.\n"
     ]
    },
    {
     "name": "stdout",
     "output_type": "stream",
     "text": [
      "🏃 View run funny-snipe-132 at: https://mlflow.spikehub.win/#/experiments/6/runs/94cbe770f7bd4d938ec07b1657c13266\n",
      "🧪 View experiment at: https://mlflow.spikehub.win/#/experiments/6\n"
     ]
    },
    {
     "name": "stderr",
     "output_type": "stream",
     "text": [
      "[I 2025-05-28 21:24:51,007] Trial 43 finished with value: 0.06060606060606061 and parameters: {'oversampling_method': 'ADASYN', 'undersampling_method': 'OneSidedSelection'}. Best is trial 29 with value: 0.22535211267605634.\n"
     ]
    },
    {
     "name": "stdout",
     "output_type": "stream",
     "text": [
      "🏃 View run bald-owl-931 at: https://mlflow.spikehub.win/#/experiments/6/runs/891c00ad01b84082a41cc151ef77aac0\n",
      "🧪 View experiment at: https://mlflow.spikehub.win/#/experiments/6\n"
     ]
    },
    {
     "name": "stderr",
     "output_type": "stream",
     "text": [
      "[I 2025-05-28 21:24:51,523] Trial 44 finished with value: 0.05405405405405406 and parameters: {'oversampling_method': 'SMOTE', 'undersampling_method': 'RandomUnderSampler'}. Best is trial 29 with value: 0.22535211267605634.\n"
     ]
    },
    {
     "name": "stdout",
     "output_type": "stream",
     "text": [
      "🏃 View run painted-doe-664 at: https://mlflow.spikehub.win/#/experiments/6/runs/657f196645c64fe589e7af9b37c25a86\n",
      "🧪 View experiment at: https://mlflow.spikehub.win/#/experiments/6\n"
     ]
    },
    {
     "name": "stderr",
     "output_type": "stream",
     "text": [
      "[I 2025-05-28 21:24:53,890] Trial 45 finished with value: 0.0 and parameters: {'oversampling_method': 'SMOTEN', 'undersampling_method': 'AllKNN'}. Best is trial 29 with value: 0.22535211267605634.\n"
     ]
    },
    {
     "name": "stdout",
     "output_type": "stream",
     "text": [
      "🏃 View run dazzling-goat-739 at: https://mlflow.spikehub.win/#/experiments/6/runs/e8fe23f3780f492bb587e578bbcd9a26\n",
      "🧪 View experiment at: https://mlflow.spikehub.win/#/experiments/6\n"
     ]
    },
    {
     "name": "stderr",
     "output_type": "stream",
     "text": [
      "[I 2025-05-28 21:24:54,371] Trial 46 finished with value: 0.1306122448979592 and parameters: {'oversampling_method': 'None', 'undersampling_method': 'RandomUnderSampler'}. Best is trial 29 with value: 0.22535211267605634.\n"
     ]
    },
    {
     "name": "stdout",
     "output_type": "stream",
     "text": [
      "🏃 View run useful-mule-326 at: https://mlflow.spikehub.win/#/experiments/6/runs/1659a52b155847e1b69307ead4f34267\n",
      "🧪 View experiment at: https://mlflow.spikehub.win/#/experiments/6\n"
     ]
    },
    {
     "name": "stderr",
     "output_type": "stream",
     "text": [
      "[I 2025-05-28 21:24:54,952] Trial 47 finished with value: 0.08823529411764706 and parameters: {'oversampling_method': 'ADASYN', 'undersampling_method': 'TomekLinks'}. Best is trial 29 with value: 0.22535211267605634.\n"
     ]
    },
    {
     "name": "stdout",
     "output_type": "stream",
     "text": [
      "🏃 View run flawless-moose-998 at: https://mlflow.spikehub.win/#/experiments/6/runs/1f94c081d89e4205839636dc3e80f06c\n",
      "🧪 View experiment at: https://mlflow.spikehub.win/#/experiments/6\n"
     ]
    },
    {
     "name": "stderr",
     "output_type": "stream",
     "text": [
      "[I 2025-05-28 21:24:55,527] Trial 48 finished with value: 0.05405405405405406 and parameters: {'oversampling_method': 'SMOTE', 'undersampling_method': 'NearMiss'}. Best is trial 29 with value: 0.22535211267605634.\n"
     ]
    },
    {
     "name": "stdout",
     "output_type": "stream",
     "text": [
      "🏃 View run colorful-tern-783 at: https://mlflow.spikehub.win/#/experiments/6/runs/6da49e4ee5a04f3e8bf647ed0d68c1d3\n",
      "🧪 View experiment at: https://mlflow.spikehub.win/#/experiments/6\n"
     ]
    },
    {
     "name": "stderr",
     "output_type": "stream",
     "text": [
      "[I 2025-05-28 21:24:58,162] Trial 49 finished with value: 0.03571428571428571 and parameters: {'oversampling_method': 'SMOTEN', 'undersampling_method': 'OneSidedSelection'}. Best is trial 29 with value: 0.22535211267605634.\n"
     ]
    },
    {
     "name": "stdout",
     "output_type": "stream",
     "text": [
      "🏃 View run bald-shad-223 at: https://mlflow.spikehub.win/#/experiments/6/runs/99f860a7eaad462e97a2425be614cc65\n",
      "🧪 View experiment at: https://mlflow.spikehub.win/#/experiments/6\n"
     ]
    },
    {
     "name": "stderr",
     "output_type": "stream",
     "text": [
      "[I 2025-05-28 21:24:58,966] Trial 50 finished with value: 0.16296296296296298 and parameters: {'oversampling_method': 'SVMSMOTE', 'undersampling_method': 'RepeatedEditedNearestNeighbours'}. Best is trial 29 with value: 0.22535211267605634.\n"
     ]
    },
    {
     "name": "stdout",
     "output_type": "stream",
     "text": [
      "🏃 View run bright-loon-418 at: https://mlflow.spikehub.win/#/experiments/6/runs/8b9ca366abc1407e9b0b138b54e98be0\n",
      "🧪 View experiment at: https://mlflow.spikehub.win/#/experiments/6\n"
     ]
    },
    {
     "name": "stderr",
     "output_type": "stream",
     "text": [
      "[I 2025-05-28 21:24:59,516] Trial 51 finished with value: 0.14285714285714285 and parameters: {'oversampling_method': 'SMOTE', 'undersampling_method': 'RepeatedEditedNearestNeighbours'}. Best is trial 29 with value: 0.22535211267605634.\n"
     ]
    },
    {
     "name": "stdout",
     "output_type": "stream",
     "text": [
      "🏃 View run kindly-mule-571 at: https://mlflow.spikehub.win/#/experiments/6/runs/64b92b6a21fe4b62a5d4f7bd5ec58e29\n",
      "🧪 View experiment at: https://mlflow.spikehub.win/#/experiments/6\n"
     ]
    },
    {
     "name": "stderr",
     "output_type": "stream",
     "text": [
      "[I 2025-05-28 21:25:00,094] Trial 52 finished with value: 0.1523809523809524 and parameters: {'oversampling_method': 'None', 'undersampling_method': 'AllKNN'}. Best is trial 29 with value: 0.22535211267605634.\n"
     ]
    },
    {
     "name": "stdout",
     "output_type": "stream",
     "text": [
      "🏃 View run unleashed-toad-521 at: https://mlflow.spikehub.win/#/experiments/6/runs/af925f77b819485a84d823f15e4982a9\n",
      "🧪 View experiment at: https://mlflow.spikehub.win/#/experiments/6\n"
     ]
    },
    {
     "name": "stderr",
     "output_type": "stream",
     "text": [
      "[I 2025-05-28 21:25:00,633] Trial 53 finished with value: 0.08108108108108109 and parameters: {'oversampling_method': 'BorderlineSMOTE', 'undersampling_method': 'RandomUnderSampler'}. Best is trial 29 with value: 0.22535211267605634.\n"
     ]
    },
    {
     "name": "stdout",
     "output_type": "stream",
     "text": [
      "🏃 View run salty-bird-555 at: https://mlflow.spikehub.win/#/experiments/6/runs/b93782592bea4cf599ce4ae71547e1fe\n",
      "🧪 View experiment at: https://mlflow.spikehub.win/#/experiments/6\n"
     ]
    },
    {
     "name": "stderr",
     "output_type": "stream",
     "text": [
      "[I 2025-05-28 21:25:01,154] Trial 54 finished with value: 0.09060402684563758 and parameters: {'oversampling_method': 'None', 'undersampling_method': 'NearMiss'}. Best is trial 29 with value: 0.22535211267605634.\n"
     ]
    },
    {
     "name": "stdout",
     "output_type": "stream",
     "text": [
      "🏃 View run bold-shad-454 at: https://mlflow.spikehub.win/#/experiments/6/runs/2057f773f7634e1288b6fc4dc47e7ee5\n",
      "🧪 View experiment at: https://mlflow.spikehub.win/#/experiments/6\n"
     ]
    },
    {
     "name": "stderr",
     "output_type": "stream",
     "text": [
      "[I 2025-05-28 21:25:01,767] Trial 55 finished with value: 0.125 and parameters: {'oversampling_method': 'SVMSMOTE', 'undersampling_method': 'None'}. Best is trial 29 with value: 0.22535211267605634.\n"
     ]
    },
    {
     "name": "stdout",
     "output_type": "stream",
     "text": [
      "🏃 View run persistent-vole-956 at: https://mlflow.spikehub.win/#/experiments/6/runs/fd97e10e7e9a436c9bc57f621c48756f\n",
      "🧪 View experiment at: https://mlflow.spikehub.win/#/experiments/6\n"
     ]
    },
    {
     "name": "stderr",
     "output_type": "stream",
     "text": [
      "[I 2025-05-28 21:25:02,415] Trial 56 finished with value: 0.12195121951219512 and parameters: {'oversampling_method': 'SVMSMOTE', 'undersampling_method': 'TomekLinks'}. Best is trial 29 with value: 0.22535211267605634.\n"
     ]
    },
    {
     "name": "stdout",
     "output_type": "stream",
     "text": [
      "🏃 View run thundering-snail-4 at: https://mlflow.spikehub.win/#/experiments/6/runs/70fbfadc51514a878aa4a8a27c829f62\n",
      "🧪 View experiment at: https://mlflow.spikehub.win/#/experiments/6\n"
     ]
    },
    {
     "name": "stderr",
     "output_type": "stream",
     "text": [
      "[I 2025-05-28 21:26:08,635] Trial 57 finished with value: 0.1111111111111111 and parameters: {'oversampling_method': 'ADASYN', 'undersampling_method': 'CondensedNearestNeighbour'}. Best is trial 29 with value: 0.22535211267605634.\n"
     ]
    },
    {
     "name": "stdout",
     "output_type": "stream",
     "text": [
      "🏃 View run redolent-trout-552 at: https://mlflow.spikehub.win/#/experiments/6/runs/4f47ea530bbb4d64b67a465362305d57\n",
      "🧪 View experiment at: https://mlflow.spikehub.win/#/experiments/6\n"
     ]
    },
    {
     "name": "stderr",
     "output_type": "stream",
     "text": [
      "[I 2025-05-28 21:26:09,221] Trial 58 finished with value: 0.09375 and parameters: {'oversampling_method': 'RandomOverSampler', 'undersampling_method': 'TomekLinks'}. Best is trial 29 with value: 0.22535211267605634.\n"
     ]
    },
    {
     "name": "stdout",
     "output_type": "stream",
     "text": [
      "🏃 View run invincible-crow-405 at: https://mlflow.spikehub.win/#/experiments/6/runs/239bd27ad1884d7b89deb9f3300d82c1\n",
      "🧪 View experiment at: https://mlflow.spikehub.win/#/experiments/6\n"
     ]
    },
    {
     "name": "stderr",
     "output_type": "stream",
     "text": [
      "[I 2025-05-28 21:26:09,770] Trial 59 finished with value: 0.14285714285714285 and parameters: {'oversampling_method': 'SMOTE', 'undersampling_method': 'EditedNearestNeighbours'}. Best is trial 29 with value: 0.22535211267605634.\n"
     ]
    },
    {
     "name": "stdout",
     "output_type": "stream",
     "text": [
      "🏃 View run persistent-crane-297 at: https://mlflow.spikehub.win/#/experiments/6/runs/8ae808c5098c451e8744456cd5f993c6\n",
      "🧪 View experiment at: https://mlflow.spikehub.win/#/experiments/6\n"
     ]
    },
    {
     "name": "stderr",
     "output_type": "stream",
     "text": [
      "[I 2025-05-28 21:26:59,917] Trial 60 finished with value: 0.18705035971223022 and parameters: {'oversampling_method': 'None', 'undersampling_method': 'CondensedNearestNeighbour'}. Best is trial 29 with value: 0.22535211267605634.\n"
     ]
    },
    {
     "name": "stdout",
     "output_type": "stream",
     "text": [
      "🏃 View run skittish-bird-618 at: https://mlflow.spikehub.win/#/experiments/6/runs/261b073c2e6c43709a14bd7e41be3061\n",
      "🧪 View experiment at: https://mlflow.spikehub.win/#/experiments/6\n"
     ]
    },
    {
     "name": "stderr",
     "output_type": "stream",
     "text": [
      "[I 2025-05-28 21:27:02,589] Trial 61 finished with value: 0.03773584905660377 and parameters: {'oversampling_method': 'SMOTEN', 'undersampling_method': 'NeighbourhoodCleaningRule'}. Best is trial 29 with value: 0.22535211267605634.\n"
     ]
    },
    {
     "name": "stdout",
     "output_type": "stream",
     "text": [
      "🏃 View run trusting-lamb-46 at: https://mlflow.spikehub.win/#/experiments/6/runs/adcb774dfa78475cb47827b1fb674222\n",
      "🧪 View experiment at: https://mlflow.spikehub.win/#/experiments/6\n"
     ]
    },
    {
     "name": "stderr",
     "output_type": "stream",
     "text": [
      "[I 2025-05-28 21:27:03,094] Trial 62 finished with value: 0.0 and parameters: {'oversampling_method': 'ADASYN', 'undersampling_method': 'RandomUnderSampler'}. Best is trial 29 with value: 0.22535211267605634.\n"
     ]
    },
    {
     "name": "stdout",
     "output_type": "stream",
     "text": [
      "🏃 View run nosy-conch-484 at: https://mlflow.spikehub.win/#/experiments/6/runs/0fb4ba1dec14466f9d334ff9e9639fe1\n",
      "🧪 View experiment at: https://mlflow.spikehub.win/#/experiments/6\n"
     ]
    },
    {
     "name": "stderr",
     "output_type": "stream",
     "text": [
      "[I 2025-05-28 21:27:05,387] Trial 63 finished with value: 0.13157894736842105 and parameters: {'oversampling_method': 'SMOTEN', 'undersampling_method': 'NearMiss'}. Best is trial 29 with value: 0.22535211267605634.\n"
     ]
    },
    {
     "name": "stdout",
     "output_type": "stream",
     "text": [
      "🏃 View run judicious-snake-454 at: https://mlflow.spikehub.win/#/experiments/6/runs/4627e3a681c949eb9243ac54ab427a48\n",
      "🧪 View experiment at: https://mlflow.spikehub.win/#/experiments/6\n"
     ]
    },
    {
     "name": "stderr",
     "output_type": "stream",
     "text": [
      "[I 2025-05-28 21:27:05,947] Trial 64 finished with value: 0.17391304347826086 and parameters: {'oversampling_method': 'SVMSMOTE', 'undersampling_method': 'RandomUnderSampler'}. Best is trial 29 with value: 0.22535211267605634.\n"
     ]
    },
    {
     "name": "stdout",
     "output_type": "stream",
     "text": [
      "🏃 View run legendary-snail-918 at: https://mlflow.spikehub.win/#/experiments/6/runs/25603c47e4ce46d0931afe90706ea8b8\n",
      "🧪 View experiment at: https://mlflow.spikehub.win/#/experiments/6\n"
     ]
    },
    {
     "name": "stderr",
     "output_type": "stream",
     "text": [
      "[I 2025-05-28 21:27:34,784] Trial 65 finished with value: 0.08571428571428572 and parameters: {'oversampling_method': 'SMOTEN', 'undersampling_method': 'CondensedNearestNeighbour'}. Best is trial 29 with value: 0.22535211267605634.\n"
     ]
    },
    {
     "name": "stdout",
     "output_type": "stream",
     "text": [
      "🏃 View run big-cow-165 at: https://mlflow.spikehub.win/#/experiments/6/runs/4fd6ae8d07314322840b89cc9dae4958\n",
      "🧪 View experiment at: https://mlflow.spikehub.win/#/experiments/6\n"
     ]
    },
    {
     "name": "stderr",
     "output_type": "stream",
     "text": [
      "[I 2025-05-28 21:27:35,286] Trial 66 finished with value: 0.058823529411764705 and parameters: {'oversampling_method': 'ADASYN', 'undersampling_method': 'None'}. Best is trial 29 with value: 0.22535211267605634.\n"
     ]
    },
    {
     "name": "stdout",
     "output_type": "stream",
     "text": [
      "🏃 View run masked-steed-635 at: https://mlflow.spikehub.win/#/experiments/6/runs/a22aba8fa60f4819bdd1347e7452f201\n",
      "🧪 View experiment at: https://mlflow.spikehub.win/#/experiments/6\n"
     ]
    },
    {
     "name": "stderr",
     "output_type": "stream",
     "text": [
      "[I 2025-05-28 21:27:36,036] Trial 67 finished with value: 0.09411764705882353 and parameters: {'oversampling_method': 'None', 'undersampling_method': 'NeighbourhoodCleaningRule'}. Best is trial 29 with value: 0.22535211267605634.\n"
     ]
    },
    {
     "name": "stdout",
     "output_type": "stream",
     "text": [
      "🏃 View run capricious-carp-12 at: https://mlflow.spikehub.win/#/experiments/6/runs/331c8436f6bd49d6b7d7ec0a4954f5cb\n",
      "🧪 View experiment at: https://mlflow.spikehub.win/#/experiments/6\n"
     ]
    },
    {
     "name": "stderr",
     "output_type": "stream",
     "text": [
      "[I 2025-05-28 21:27:36,585] Trial 68 finished with value: 0.08955223880597014 and parameters: {'oversampling_method': 'BorderlineSMOTE', 'undersampling_method': 'RepeatedEditedNearestNeighbours'}. Best is trial 29 with value: 0.22535211267605634.\n"
     ]
    },
    {
     "name": "stdout",
     "output_type": "stream",
     "text": [
      "🏃 View run unleashed-mare-671 at: https://mlflow.spikehub.win/#/experiments/6/runs/af0a18d760c249db829e34070e6cbc67\n",
      "🧪 View experiment at: https://mlflow.spikehub.win/#/experiments/6\n"
     ]
    },
    {
     "name": "stderr",
     "output_type": "stream",
     "text": [
      "[I 2025-05-28 21:27:37,610] Trial 69 finished with value: 0.13513513513513514 and parameters: {'oversampling_method': 'BorderlineSMOTE', 'undersampling_method': 'NeighbourhoodCleaningRule'}. Best is trial 29 with value: 0.22535211267605634.\n"
     ]
    },
    {
     "name": "stdout",
     "output_type": "stream",
     "text": [
      "🏃 View run nosy-elk-120 at: https://mlflow.spikehub.win/#/experiments/6/runs/033bf7b0cd564632b634c70989228b71\n",
      "🧪 View experiment at: https://mlflow.spikehub.win/#/experiments/6\n",
      "🏃 View run Decision Tree Run at: https://mlflow.spikehub.win/#/experiments/6/runs/19649075a47f45e6955ff510c126c1a1\n",
      "🧪 View experiment at: https://mlflow.spikehub.win/#/experiments/6\n"
     ]
    }
   ],
   "source": [
    "objective = create_objective(lambda: DecisionTreeClassifier(random_state=42), experiment_id)\n",
    "\n",
    "run_name = \"Decision Tree Run\"\n",
    "\n",
    "with mlflow.start_run(experiment_id=experiment_id, run_name=run_name, nested=True):\n",
    "    study = optuna.create_study(\n",
    "        direction=\"maximize\", sampler=optuna.samplers.GridSampler(search_space)\n",
    "    )\n",
    "    study.optimize(objective, n_trials=len(oversampler_list) * len(undersampler_list))\n",
    "\n",
    "    mlflow.log_params(study.best_params)\n",
    "    mlflow.log_metric(\"best_f1_score\", study.best_value)\n",
    "\n",
    "    mlflow.set_tags(\n",
    "        tags={\n",
    "            \"project\": \"stroke_prediction\",\n",
    "            \"optimizer_engine\": \"optuna\",\n",
    "            \"model_family\": \"DecisionTreeClassifier\",\n",
    "        }\n",
    "    )"
   ]
  },
  {
   "cell_type": "markdown",
   "id": "2e270dd5",
   "metadata": {},
   "source": [
    "## Random Forest\n",
    "Next, we will try a random forest classifier to see if it can improve the performance over the decision tree and see if it compatitble with different sampler."
   ]
  },
  {
   "cell_type": "code",
   "execution_count": 7,
   "id": "e0b11cdf",
   "metadata": {},
   "outputs": [
    {
     "name": "stderr",
     "output_type": "stream",
     "text": [
      "[I 2025-05-28 21:27:38,201] A new study created in memory with name: no-name-a7492472-cb8e-4d9a-ac26-a369769acb23\n",
      "[I 2025-05-28 21:27:40,835] Trial 0 finished with value: 0.0 and parameters: {'oversampling_method': 'SMOTEN', 'undersampling_method': 'RandomUnderSampler'}. Best is trial 0 with value: 0.0.\n"
     ]
    },
    {
     "name": "stdout",
     "output_type": "stream",
     "text": [
      "🏃 View run sassy-gnat-960 at: https://mlflow.spikehub.win/#/experiments/6/runs/a2edea8343fb4f65989a224d12d2bd61\n",
      "🧪 View experiment at: https://mlflow.spikehub.win/#/experiments/6\n"
     ]
    },
    {
     "name": "stderr",
     "output_type": "stream",
     "text": [
      "[I 2025-05-28 21:27:43,475] Trial 1 finished with value: 0.0 and parameters: {'oversampling_method': 'SMOTEN', 'undersampling_method': 'RepeatedEditedNearestNeighbours'}. Best is trial 0 with value: 0.0.\n"
     ]
    },
    {
     "name": "stdout",
     "output_type": "stream",
     "text": [
      "🏃 View run victorious-cow-21 at: https://mlflow.spikehub.win/#/experiments/6/runs/0319d41eebb24edeb8dd96c05f91fba3\n",
      "🧪 View experiment at: https://mlflow.spikehub.win/#/experiments/6\n"
     ]
    },
    {
     "name": "stderr",
     "output_type": "stream",
     "text": [
      "[I 2025-05-28 21:27:44,645] Trial 2 finished with value: 0.0 and parameters: {'oversampling_method': 'BorderlineSMOTE', 'undersampling_method': 'TomekLinks'}. Best is trial 0 with value: 0.0.\n"
     ]
    },
    {
     "name": "stdout",
     "output_type": "stream",
     "text": [
      "🏃 View run sneaky-moth-9 at: https://mlflow.spikehub.win/#/experiments/6/runs/d619a11b7843462d9c0ea576365f5b56\n",
      "🧪 View experiment at: https://mlflow.spikehub.win/#/experiments/6\n"
     ]
    },
    {
     "name": "stderr",
     "output_type": "stream",
     "text": [
      "[I 2025-05-28 21:27:47,540] Trial 3 finished with value: 0.0 and parameters: {'oversampling_method': 'SMOTEN', 'undersampling_method': 'EditedNearestNeighbours'}. Best is trial 0 with value: 0.0.\n"
     ]
    },
    {
     "name": "stdout",
     "output_type": "stream",
     "text": [
      "🏃 View run glamorous-ox-616 at: https://mlflow.spikehub.win/#/experiments/6/runs/9dce4c7d90a348f38a2e8344c9b87fb7\n",
      "🧪 View experiment at: https://mlflow.spikehub.win/#/experiments/6\n"
     ]
    },
    {
     "name": "stderr",
     "output_type": "stream",
     "text": [
      "[I 2025-05-28 21:27:48,512] Trial 4 finished with value: 0.23529411764705882 and parameters: {'oversampling_method': 'SVMSMOTE', 'undersampling_method': 'AllKNN'}. Best is trial 4 with value: 0.23529411764705882.\n"
     ]
    },
    {
     "name": "stdout",
     "output_type": "stream",
     "text": [
      "🏃 View run learned-stoat-232 at: https://mlflow.spikehub.win/#/experiments/6/runs/c130dc74ed2340dc851d6e62c6262448\n",
      "🧪 View experiment at: https://mlflow.spikehub.win/#/experiments/6\n"
     ]
    },
    {
     "name": "stderr",
     "output_type": "stream",
     "text": [
      "[I 2025-05-28 21:28:07,872] Trial 5 finished with value: 0.0 and parameters: {'oversampling_method': 'RandomOverSampler', 'undersampling_method': 'CondensedNearestNeighbour'}. Best is trial 4 with value: 0.23529411764705882.\n"
     ]
    },
    {
     "name": "stdout",
     "output_type": "stream",
     "text": [
      "🏃 View run gentle-crane-846 at: https://mlflow.spikehub.win/#/experiments/6/runs/98f8502cf3b34cdd93224b298bc0cadb\n",
      "🧪 View experiment at: https://mlflow.spikehub.win/#/experiments/6\n"
     ]
    },
    {
     "name": "stderr",
     "output_type": "stream",
     "text": [
      "[I 2025-05-28 21:28:08,947] Trial 6 finished with value: 0.05128205128205128 and parameters: {'oversampling_method': 'ADASYN', 'undersampling_method': 'RepeatedEditedNearestNeighbours'}. Best is trial 4 with value: 0.23529411764705882.\n"
     ]
    },
    {
     "name": "stdout",
     "output_type": "stream",
     "text": [
      "🏃 View run stately-dolphin-310 at: https://mlflow.spikehub.win/#/experiments/6/runs/e79884ff891547f08ae9f1f66816668a\n",
      "🧪 View experiment at: https://mlflow.spikehub.win/#/experiments/6\n"
     ]
    },
    {
     "name": "stderr",
     "output_type": "stream",
     "text": [
      "[I 2025-05-28 21:28:09,796] Trial 7 finished with value: 0.05128205128205128 and parameters: {'oversampling_method': 'RandomOverSampler', 'undersampling_method': 'None'}. Best is trial 4 with value: 0.23529411764705882.\n"
     ]
    },
    {
     "name": "stdout",
     "output_type": "stream",
     "text": [
      "🏃 View run able-toad-173 at: https://mlflow.spikehub.win/#/experiments/6/runs/10dafa90ecb04a8299417528ca2a518d\n",
      "🧪 View experiment at: https://mlflow.spikehub.win/#/experiments/6\n"
     ]
    },
    {
     "name": "stderr",
     "output_type": "stream",
     "text": [
      "[I 2025-05-28 21:28:11,147] Trial 8 finished with value: 0.2545454545454545 and parameters: {'oversampling_method': 'SVMSMOTE', 'undersampling_method': 'NeighbourhoodCleaningRule'}. Best is trial 8 with value: 0.2545454545454545.\n"
     ]
    },
    {
     "name": "stdout",
     "output_type": "stream",
     "text": [
      "🏃 View run charming-hen-903 at: https://mlflow.spikehub.win/#/experiments/6/runs/888726b6246649abb9e6015cbf297d3f\n",
      "🧪 View experiment at: https://mlflow.spikehub.win/#/experiments/6\n"
     ]
    },
    {
     "name": "stderr",
     "output_type": "stream",
     "text": [
      "[I 2025-05-28 21:28:11,941] Trial 9 finished with value: 0.0 and parameters: {'oversampling_method': 'None', 'undersampling_method': 'None'}. Best is trial 8 with value: 0.2545454545454545.\n"
     ]
    },
    {
     "name": "stdout",
     "output_type": "stream",
     "text": [
      "🏃 View run gentle-lamb-674 at: https://mlflow.spikehub.win/#/experiments/6/runs/921232ea3d1f4d24b4e06f2dd66d9e45\n",
      "🧪 View experiment at: https://mlflow.spikehub.win/#/experiments/6\n"
     ]
    },
    {
     "name": "stderr",
     "output_type": "stream",
     "text": [
      "[I 2025-05-28 21:28:12,904] Trial 10 finished with value: 0.05 and parameters: {'oversampling_method': 'RandomOverSampler', 'undersampling_method': 'RandomUnderSampler'}. Best is trial 8 with value: 0.2545454545454545.\n"
     ]
    },
    {
     "name": "stdout",
     "output_type": "stream",
     "text": [
      "🏃 View run legendary-bat-549 at: https://mlflow.spikehub.win/#/experiments/6/runs/4ac18230ee71491281e5938b0a843435\n",
      "🧪 View experiment at: https://mlflow.spikehub.win/#/experiments/6\n"
     ]
    },
    {
     "name": "stderr",
     "output_type": "stream",
     "text": [
      "[I 2025-05-28 21:28:15,635] Trial 11 finished with value: 0.0 and parameters: {'oversampling_method': 'SMOTEN', 'undersampling_method': 'TomekLinks'}. Best is trial 8 with value: 0.2545454545454545.\n"
     ]
    },
    {
     "name": "stdout",
     "output_type": "stream",
     "text": [
      "🏃 View run luminous-bear-119 at: https://mlflow.spikehub.win/#/experiments/6/runs/941dd59a4389436da128f15f8d235ef2\n",
      "🧪 View experiment at: https://mlflow.spikehub.win/#/experiments/6\n"
     ]
    },
    {
     "name": "stderr",
     "output_type": "stream",
     "text": [
      "[I 2025-05-28 21:29:19,454] Trial 12 finished with value: 0.14705882352941177 and parameters: {'oversampling_method': 'SVMSMOTE', 'undersampling_method': 'CondensedNearestNeighbour'}. Best is trial 8 with value: 0.2545454545454545.\n"
     ]
    },
    {
     "name": "stdout",
     "output_type": "stream",
     "text": [
      "🏃 View run rare-shark-455 at: https://mlflow.spikehub.win/#/experiments/6/runs/b9a30b5d22c44a18984746114b8a1684\n",
      "🧪 View experiment at: https://mlflow.spikehub.win/#/experiments/6\n"
     ]
    },
    {
     "name": "stderr",
     "output_type": "stream",
     "text": [
      "[I 2025-05-28 21:29:20,576] Trial 13 finished with value: 0.0 and parameters: {'oversampling_method': 'BorderlineSMOTE', 'undersampling_method': 'EditedNearestNeighbours'}. Best is trial 8 with value: 0.2545454545454545.\n"
     ]
    },
    {
     "name": "stdout",
     "output_type": "stream",
     "text": [
      "🏃 View run enchanting-deer-436 at: https://mlflow.spikehub.win/#/experiments/6/runs/293451cd30854c3ea406e19387ea8b16\n",
      "🧪 View experiment at: https://mlflow.spikehub.win/#/experiments/6\n"
     ]
    },
    {
     "name": "stderr",
     "output_type": "stream",
     "text": [
      "[I 2025-05-28 21:29:21,490] Trial 14 finished with value: 0.0 and parameters: {'oversampling_method': 'SVMSMOTE', 'undersampling_method': 'NearMiss'}. Best is trial 8 with value: 0.2545454545454545.\n"
     ]
    },
    {
     "name": "stdout",
     "output_type": "stream",
     "text": [
      "🏃 View run rebellious-fox-101 at: https://mlflow.spikehub.win/#/experiments/6/runs/0dc8dda242144bcc819ba2d2ba7eaa2e\n",
      "🧪 View experiment at: https://mlflow.spikehub.win/#/experiments/6\n"
     ]
    },
    {
     "name": "stderr",
     "output_type": "stream",
     "text": [
      "[I 2025-05-28 21:29:22,637] Trial 15 finished with value: 0.05263157894736842 and parameters: {'oversampling_method': 'RandomOverSampler', 'undersampling_method': 'OneSidedSelection'}. Best is trial 8 with value: 0.2545454545454545.\n"
     ]
    },
    {
     "name": "stdout",
     "output_type": "stream",
     "text": [
      "🏃 View run illustrious-bear-660 at: https://mlflow.spikehub.win/#/experiments/6/runs/5d7327dec4a34cd7be0f68e514e7b569\n",
      "🧪 View experiment at: https://mlflow.spikehub.win/#/experiments/6\n"
     ]
    },
    {
     "name": "stderr",
     "output_type": "stream",
     "text": [
      "[I 2025-05-28 21:29:23,513] Trial 16 finished with value: 0.05128205128205128 and parameters: {'oversampling_method': 'None', 'undersampling_method': 'TomekLinks'}. Best is trial 8 with value: 0.2545454545454545.\n"
     ]
    },
    {
     "name": "stdout",
     "output_type": "stream",
     "text": [
      "🏃 View run debonair-eel-313 at: https://mlflow.spikehub.win/#/experiments/6/runs/7e54aab40fb24fb79d0c574cdf4a7681\n",
      "🧪 View experiment at: https://mlflow.spikehub.win/#/experiments/6\n"
     ]
    },
    {
     "name": "stderr",
     "output_type": "stream",
     "text": [
      "[I 2025-05-28 21:29:24,316] Trial 17 finished with value: 0.0851063829787234 and parameters: {'oversampling_method': 'None', 'undersampling_method': 'EditedNearestNeighbours'}. Best is trial 8 with value: 0.2545454545454545.\n"
     ]
    },
    {
     "name": "stdout",
     "output_type": "stream",
     "text": [
      "🏃 View run amusing-squirrel-814 at: https://mlflow.spikehub.win/#/experiments/6/runs/1c5b279662654020a5d6291c55a4dc59\n",
      "🧪 View experiment at: https://mlflow.spikehub.win/#/experiments/6\n"
     ]
    },
    {
     "name": "stderr",
     "output_type": "stream",
     "text": [
      "[I 2025-05-28 21:29:25,366] Trial 18 finished with value: 0.0 and parameters: {'oversampling_method': 'BorderlineSMOTE', 'undersampling_method': 'NearMiss'}. Best is trial 8 with value: 0.2545454545454545.\n"
     ]
    },
    {
     "name": "stdout",
     "output_type": "stream",
     "text": [
      "🏃 View run indecisive-pug-789 at: https://mlflow.spikehub.win/#/experiments/6/runs/ee1d081c746945b280c8898a456f3b09\n",
      "🧪 View experiment at: https://mlflow.spikehub.win/#/experiments/6\n"
     ]
    },
    {
     "name": "stderr",
     "output_type": "stream",
     "text": [
      "[I 2025-05-28 21:29:26,750] Trial 19 finished with value: 0.05263157894736842 and parameters: {'oversampling_method': 'ADASYN', 'undersampling_method': 'NeighbourhoodCleaningRule'}. Best is trial 8 with value: 0.2545454545454545.\n"
     ]
    },
    {
     "name": "stdout",
     "output_type": "stream",
     "text": [
      "🏃 View run rare-ram-645 at: https://mlflow.spikehub.win/#/experiments/6/runs/133ac845c6ac4a148d36c930e7e2f7e1\n",
      "🧪 View experiment at: https://mlflow.spikehub.win/#/experiments/6\n"
     ]
    },
    {
     "name": "stderr",
     "output_type": "stream",
     "text": [
      "[I 2025-05-28 21:29:27,831] Trial 20 finished with value: 0.0 and parameters: {'oversampling_method': 'None', 'undersampling_method': 'OneSidedSelection'}. Best is trial 8 with value: 0.2545454545454545.\n"
     ]
    },
    {
     "name": "stdout",
     "output_type": "stream",
     "text": [
      "🏃 View run bold-foal-678 at: https://mlflow.spikehub.win/#/experiments/6/runs/da4dec178b16497aa30321cd12733376\n",
      "🧪 View experiment at: https://mlflow.spikehub.win/#/experiments/6\n"
     ]
    },
    {
     "name": "stderr",
     "output_type": "stream",
     "text": [
      "[I 2025-05-28 21:29:29,003] Trial 21 finished with value: 0.05 and parameters: {'oversampling_method': 'RandomOverSampler', 'undersampling_method': 'AllKNN'}. Best is trial 8 with value: 0.2545454545454545.\n"
     ]
    },
    {
     "name": "stdout",
     "output_type": "stream",
     "text": [
      "🏃 View run defiant-dolphin-441 at: https://mlflow.spikehub.win/#/experiments/6/runs/8e5367d840b7445ca23a999d24cd8a75\n",
      "🧪 View experiment at: https://mlflow.spikehub.win/#/experiments/6\n"
     ]
    },
    {
     "name": "stderr",
     "output_type": "stream",
     "text": [
      "[I 2025-05-28 21:29:30,155] Trial 22 finished with value: 0.05128205128205128 and parameters: {'oversampling_method': 'ADASYN', 'undersampling_method': 'EditedNearestNeighbours'}. Best is trial 8 with value: 0.2545454545454545.\n"
     ]
    },
    {
     "name": "stdout",
     "output_type": "stream",
     "text": [
      "🏃 View run legendary-koi-987 at: https://mlflow.spikehub.win/#/experiments/6/runs/1ebb7ae5b5e0428a9c9f930c5e1742f2\n",
      "🧪 View experiment at: https://mlflow.spikehub.win/#/experiments/6\n"
     ]
    },
    {
     "name": "stderr",
     "output_type": "stream",
     "text": [
      "[I 2025-05-28 21:29:31,218] Trial 23 finished with value: 0.05 and parameters: {'oversampling_method': 'BorderlineSMOTE', 'undersampling_method': 'AllKNN'}. Best is trial 8 with value: 0.2545454545454545.\n"
     ]
    },
    {
     "name": "stdout",
     "output_type": "stream",
     "text": [
      "🏃 View run enchanting-stork-124 at: https://mlflow.spikehub.win/#/experiments/6/runs/7456fcde2cd149df9dfb393ecc1d04f0\n",
      "🧪 View experiment at: https://mlflow.spikehub.win/#/experiments/6\n"
     ]
    },
    {
     "name": "stderr",
     "output_type": "stream",
     "text": [
      "[I 2025-05-28 21:30:36,269] Trial 24 finished with value: 0.0 and parameters: {'oversampling_method': 'SMOTE', 'undersampling_method': 'CondensedNearestNeighbour'}. Best is trial 8 with value: 0.2545454545454545.\n"
     ]
    },
    {
     "name": "stdout",
     "output_type": "stream",
     "text": [
      "🏃 View run dazzling-mink-599 at: https://mlflow.spikehub.win/#/experiments/6/runs/52bdd731388d44228822fb731c97351b\n",
      "🧪 View experiment at: https://mlflow.spikehub.win/#/experiments/6\n"
     ]
    },
    {
     "name": "stderr",
     "output_type": "stream",
     "text": [
      "[I 2025-05-28 21:30:37,382] Trial 25 finished with value: 0.04878048780487805 and parameters: {'oversampling_method': 'ADASYN', 'undersampling_method': 'NearMiss'}. Best is trial 8 with value: 0.2545454545454545.\n"
     ]
    },
    {
     "name": "stdout",
     "output_type": "stream",
     "text": [
      "🏃 View run able-skink-610 at: https://mlflow.spikehub.win/#/experiments/6/runs/351036a263734f4e85dfa3d9387948f0\n",
      "🧪 View experiment at: https://mlflow.spikehub.win/#/experiments/6\n"
     ]
    },
    {
     "name": "stderr",
     "output_type": "stream",
     "text": [
      "[I 2025-05-28 21:30:38,699] Trial 26 finished with value: 0.04878048780487805 and parameters: {'oversampling_method': 'RandomOverSampler', 'undersampling_method': 'NeighbourhoodCleaningRule'}. Best is trial 8 with value: 0.2545454545454545.\n"
     ]
    },
    {
     "name": "stdout",
     "output_type": "stream",
     "text": [
      "🏃 View run exultant-sheep-472 at: https://mlflow.spikehub.win/#/experiments/6/runs/0583e2c721474c5ba113a6b937ac25df\n",
      "🧪 View experiment at: https://mlflow.spikehub.win/#/experiments/6\n"
     ]
    },
    {
     "name": "stderr",
     "output_type": "stream",
     "text": [
      "[I 2025-05-28 21:30:40,058] Trial 27 finished with value: 0.05 and parameters: {'oversampling_method': 'BorderlineSMOTE', 'undersampling_method': 'OneSidedSelection'}. Best is trial 8 with value: 0.2545454545454545.\n"
     ]
    },
    {
     "name": "stdout",
     "output_type": "stream",
     "text": [
      "🏃 View run burly-skink-787 at: https://mlflow.spikehub.win/#/experiments/6/runs/febf2c5ee2cf4b80a08fc0e66c8683ee\n",
      "🧪 View experiment at: https://mlflow.spikehub.win/#/experiments/6\n"
     ]
    },
    {
     "name": "stderr",
     "output_type": "stream",
     "text": [
      "[I 2025-05-28 21:30:41,241] Trial 28 finished with value: 0.046511627906976744 and parameters: {'oversampling_method': 'SMOTE', 'undersampling_method': 'AllKNN'}. Best is trial 8 with value: 0.2545454545454545.\n"
     ]
    },
    {
     "name": "stdout",
     "output_type": "stream",
     "text": [
      "🏃 View run beautiful-shad-192 at: https://mlflow.spikehub.win/#/experiments/6/runs/c8ad84fc8f7f40f38621e9c4c36bf2f8\n",
      "🧪 View experiment at: https://mlflow.spikehub.win/#/experiments/6\n"
     ]
    },
    {
     "name": "stderr",
     "output_type": "stream",
     "text": [
      "[I 2025-05-28 21:31:26,783] Trial 29 finished with value: 0.0 and parameters: {'oversampling_method': 'BorderlineSMOTE', 'undersampling_method': 'CondensedNearestNeighbour'}. Best is trial 8 with value: 0.2545454545454545.\n"
     ]
    },
    {
     "name": "stdout",
     "output_type": "stream",
     "text": [
      "🏃 View run aged-vole-935 at: https://mlflow.spikehub.win/#/experiments/6/runs/6e28e4e8790f4beeb5de63ec858be021\n",
      "🧪 View experiment at: https://mlflow.spikehub.win/#/experiments/6\n"
     ]
    },
    {
     "name": "stderr",
     "output_type": "stream",
     "text": [
      "[I 2025-05-28 21:31:27,840] Trial 30 finished with value: 0.0 and parameters: {'oversampling_method': 'BorderlineSMOTE', 'undersampling_method': 'None'}. Best is trial 8 with value: 0.2545454545454545.\n"
     ]
    },
    {
     "name": "stdout",
     "output_type": "stream",
     "text": [
      "🏃 View run enchanting-hog-589 at: https://mlflow.spikehub.win/#/experiments/6/runs/29661bcc570140b1833914d93c2b2795\n",
      "🧪 View experiment at: https://mlflow.spikehub.win/#/experiments/6\n"
     ]
    },
    {
     "name": "stderr",
     "output_type": "stream",
     "text": [
      "[I 2025-05-28 21:31:28,887] Trial 31 finished with value: 0.04878048780487805 and parameters: {'oversampling_method': 'RandomOverSampler', 'undersampling_method': 'NearMiss'}. Best is trial 8 with value: 0.2545454545454545.\n"
     ]
    },
    {
     "name": "stdout",
     "output_type": "stream",
     "text": [
      "🏃 View run thoughtful-goat-845 at: https://mlflow.spikehub.win/#/experiments/6/runs/0873c64496ff40738be83d5254829bf3\n",
      "🧪 View experiment at: https://mlflow.spikehub.win/#/experiments/6\n"
     ]
    },
    {
     "name": "stderr",
     "output_type": "stream",
     "text": [
      "[I 2025-05-28 21:31:29,934] Trial 32 finished with value: 0.05 and parameters: {'oversampling_method': 'RandomOverSampler', 'undersampling_method': 'RepeatedEditedNearestNeighbours'}. Best is trial 8 with value: 0.2545454545454545.\n"
     ]
    },
    {
     "name": "stdout",
     "output_type": "stream",
     "text": [
      "🏃 View run legendary-colt-352 at: https://mlflow.spikehub.win/#/experiments/6/runs/8003bf3e90ce459194bdd1f1e8d728a1\n",
      "🧪 View experiment at: https://mlflow.spikehub.win/#/experiments/6\n"
     ]
    },
    {
     "name": "stderr",
     "output_type": "stream",
     "text": [
      "[I 2025-05-28 21:31:30,906] Trial 33 finished with value: 0.1388888888888889 and parameters: {'oversampling_method': 'SVMSMOTE', 'undersampling_method': 'EditedNearestNeighbours'}. Best is trial 8 with value: 0.2545454545454545.\n"
     ]
    },
    {
     "name": "stdout",
     "output_type": "stream",
     "text": [
      "🏃 View run overjoyed-shrew-696 at: https://mlflow.spikehub.win/#/experiments/6/runs/521bf839497b4e90b68952ebd453a37b\n",
      "🧪 View experiment at: https://mlflow.spikehub.win/#/experiments/6\n"
     ]
    },
    {
     "name": "stderr",
     "output_type": "stream",
     "text": [
      "[I 2025-05-28 21:31:32,334] Trial 34 finished with value: 0.0 and parameters: {'oversampling_method': 'SMOTE', 'undersampling_method': 'NeighbourhoodCleaningRule'}. Best is trial 8 with value: 0.2545454545454545.\n"
     ]
    },
    {
     "name": "stdout",
     "output_type": "stream",
     "text": [
      "🏃 View run defiant-flea-907 at: https://mlflow.spikehub.win/#/experiments/6/runs/e139dc2a48d04a5c9c677b75afbe60a9\n",
      "🧪 View experiment at: https://mlflow.spikehub.win/#/experiments/6\n"
     ]
    },
    {
     "name": "stderr",
     "output_type": "stream",
     "text": [
      "[I 2025-05-28 21:31:33,205] Trial 35 finished with value: 0.11594202898550725 and parameters: {'oversampling_method': 'None', 'undersampling_method': 'RepeatedEditedNearestNeighbours'}. Best is trial 8 with value: 0.2545454545454545.\n"
     ]
    },
    {
     "name": "stdout",
     "output_type": "stream",
     "text": [
      "🏃 View run fortunate-hound-635 at: https://mlflow.spikehub.win/#/experiments/6/runs/502b4621a8474b769aae9f00bf9a8a31\n",
      "🧪 View experiment at: https://mlflow.spikehub.win/#/experiments/6\n"
     ]
    },
    {
     "name": "stderr",
     "output_type": "stream",
     "text": [
      "[I 2025-05-28 21:31:34,269] Trial 36 finished with value: 0.0975609756097561 and parameters: {'oversampling_method': 'SMOTE', 'undersampling_method': 'None'}. Best is trial 8 with value: 0.2545454545454545.\n"
     ]
    },
    {
     "name": "stdout",
     "output_type": "stream",
     "text": [
      "🏃 View run chill-rook-975 at: https://mlflow.spikehub.win/#/experiments/6/runs/ea61139e682a4d1a93c52160d3dabf9a\n",
      "🧪 View experiment at: https://mlflow.spikehub.win/#/experiments/6\n"
     ]
    },
    {
     "name": "stderr",
     "output_type": "stream",
     "text": [
      "[I 2025-05-28 21:31:37,348] Trial 37 finished with value: 0.0 and parameters: {'oversampling_method': 'SMOTEN', 'undersampling_method': 'None'}. Best is trial 8 with value: 0.2545454545454545.\n"
     ]
    },
    {
     "name": "stdout",
     "output_type": "stream",
     "text": [
      "🏃 View run unruly-ox-262 at: https://mlflow.spikehub.win/#/experiments/6/runs/bdb04372d191420ea1d5849e7961d5b2\n",
      "🧪 View experiment at: https://mlflow.spikehub.win/#/experiments/6\n"
     ]
    },
    {
     "name": "stderr",
     "output_type": "stream",
     "text": [
      "[I 2025-05-28 21:31:38,321] Trial 38 finished with value: 0.05 and parameters: {'oversampling_method': 'RandomOverSampler', 'undersampling_method': 'EditedNearestNeighbours'}. Best is trial 8 with value: 0.2545454545454545.\n"
     ]
    },
    {
     "name": "stdout",
     "output_type": "stream",
     "text": [
      "🏃 View run unique-koi-270 at: https://mlflow.spikehub.win/#/experiments/6/runs/880457d55c2447a7adb5aa05f570e85b\n",
      "🧪 View experiment at: https://mlflow.spikehub.win/#/experiments/6\n"
     ]
    },
    {
     "name": "stderr",
     "output_type": "stream",
     "text": [
      "[I 2025-05-28 21:31:39,555] Trial 39 finished with value: 0.05263157894736842 and parameters: {'oversampling_method': 'SVMSMOTE', 'undersampling_method': 'OneSidedSelection'}. Best is trial 8 with value: 0.2545454545454545.\n"
     ]
    },
    {
     "name": "stdout",
     "output_type": "stream",
     "text": [
      "🏃 View run omniscient-skunk-610 at: https://mlflow.spikehub.win/#/experiments/6/runs/5133051ef9f444deb51f316ad7b9c9a5\n",
      "🧪 View experiment at: https://mlflow.spikehub.win/#/experiments/6\n"
     ]
    },
    {
     "name": "stderr",
     "output_type": "stream",
     "text": [
      "[I 2025-05-28 21:31:40,668] Trial 40 finished with value: 0.05 and parameters: {'oversampling_method': 'SMOTE', 'undersampling_method': 'TomekLinks'}. Best is trial 8 with value: 0.2545454545454545.\n"
     ]
    },
    {
     "name": "stdout",
     "output_type": "stream",
     "text": [
      "🏃 View run gregarious-wren-499 at: https://mlflow.spikehub.win/#/experiments/6/runs/7a5699f927884aebadd0b46f3c26affe\n",
      "🧪 View experiment at: https://mlflow.spikehub.win/#/experiments/6\n"
     ]
    },
    {
     "name": "stderr",
     "output_type": "stream",
     "text": [
      "[I 2025-05-28 21:31:41,868] Trial 41 finished with value: 0.05263157894736842 and parameters: {'oversampling_method': 'ADASYN', 'undersampling_method': 'AllKNN'}. Best is trial 8 with value: 0.2545454545454545.\n"
     ]
    },
    {
     "name": "stdout",
     "output_type": "stream",
     "text": [
      "🏃 View run gaudy-colt-855 at: https://mlflow.spikehub.win/#/experiments/6/runs/f87bc05f3e7d4a7694e81ff209e24033\n",
      "🧪 View experiment at: https://mlflow.spikehub.win/#/experiments/6\n"
     ]
    },
    {
     "name": "stderr",
     "output_type": "stream",
     "text": [
      "[I 2025-05-28 21:31:43,120] Trial 42 finished with value: 0.047619047619047616 and parameters: {'oversampling_method': 'SMOTE', 'undersampling_method': 'OneSidedSelection'}. Best is trial 8 with value: 0.2545454545454545.\n"
     ]
    },
    {
     "name": "stdout",
     "output_type": "stream",
     "text": [
      "🏃 View run efficient-bee-494 at: https://mlflow.spikehub.win/#/experiments/6/runs/5bf2a94af8924ab38ae198d30f7a965b\n",
      "🧪 View experiment at: https://mlflow.spikehub.win/#/experiments/6\n"
     ]
    },
    {
     "name": "stderr",
     "output_type": "stream",
     "text": [
      "[I 2025-05-28 21:31:44,445] Trial 43 finished with value: 0.05128205128205128 and parameters: {'oversampling_method': 'ADASYN', 'undersampling_method': 'OneSidedSelection'}. Best is trial 8 with value: 0.2545454545454545.\n"
     ]
    },
    {
     "name": "stdout",
     "output_type": "stream",
     "text": [
      "🏃 View run delightful-vole-744 at: https://mlflow.spikehub.win/#/experiments/6/runs/634a85c34eff4dd7981bcc228f7c81ac\n",
      "🧪 View experiment at: https://mlflow.spikehub.win/#/experiments/6\n"
     ]
    },
    {
     "name": "stderr",
     "output_type": "stream",
     "text": [
      "[I 2025-05-28 21:31:45,601] Trial 44 finished with value: 0.05 and parameters: {'oversampling_method': 'SMOTE', 'undersampling_method': 'RandomUnderSampler'}. Best is trial 8 with value: 0.2545454545454545.\n"
     ]
    },
    {
     "name": "stdout",
     "output_type": "stream",
     "text": [
      "🏃 View run smiling-turtle-585 at: https://mlflow.spikehub.win/#/experiments/6/runs/8e28d16eeccf449a827a3053cc404d28\n",
      "🧪 View experiment at: https://mlflow.spikehub.win/#/experiments/6\n"
     ]
    },
    {
     "name": "stderr",
     "output_type": "stream",
     "text": [
      "[I 2025-05-28 21:31:48,533] Trial 45 finished with value: 0.0 and parameters: {'oversampling_method': 'SMOTEN', 'undersampling_method': 'AllKNN'}. Best is trial 8 with value: 0.2545454545454545.\n"
     ]
    },
    {
     "name": "stdout",
     "output_type": "stream",
     "text": [
      "🏃 View run aged-shad-601 at: https://mlflow.spikehub.win/#/experiments/6/runs/fcf72be5d5b34252a6d6346903c31d8b\n",
      "🧪 View experiment at: https://mlflow.spikehub.win/#/experiments/6\n"
     ]
    },
    {
     "name": "stderr",
     "output_type": "stream",
     "text": [
      "[I 2025-05-28 21:31:49,181] Trial 46 finished with value: 0.21705426356589147 and parameters: {'oversampling_method': 'None', 'undersampling_method': 'RandomUnderSampler'}. Best is trial 8 with value: 0.2545454545454545.\n"
     ]
    },
    {
     "name": "stdout",
     "output_type": "stream",
     "text": [
      "🏃 View run serious-finch-111 at: https://mlflow.spikehub.win/#/experiments/6/runs/537d7bad76d74bd4982c61aef5ec0153\n",
      "🧪 View experiment at: https://mlflow.spikehub.win/#/experiments/6\n"
     ]
    },
    {
     "name": "stderr",
     "output_type": "stream",
     "text": [
      "[I 2025-05-28 21:31:50,374] Trial 47 finished with value: 0.05128205128205128 and parameters: {'oversampling_method': 'ADASYN', 'undersampling_method': 'TomekLinks'}. Best is trial 8 with value: 0.2545454545454545.\n"
     ]
    },
    {
     "name": "stdout",
     "output_type": "stream",
     "text": [
      "🏃 View run receptive-gull-830 at: https://mlflow.spikehub.win/#/experiments/6/runs/350bb12ca76148e4a294ddc6d2a189cf\n",
      "🧪 View experiment at: https://mlflow.spikehub.win/#/experiments/6\n"
     ]
    },
    {
     "name": "stderr",
     "output_type": "stream",
     "text": [
      "[I 2025-05-28 21:31:51,515] Trial 48 finished with value: 0.04878048780487805 and parameters: {'oversampling_method': 'SMOTE', 'undersampling_method': 'NearMiss'}. Best is trial 8 with value: 0.2545454545454545.\n"
     ]
    },
    {
     "name": "stdout",
     "output_type": "stream",
     "text": [
      "🏃 View run big-conch-781 at: https://mlflow.spikehub.win/#/experiments/6/runs/dc5c81d7f64d4b00955e2571c8ff1e3e\n",
      "🧪 View experiment at: https://mlflow.spikehub.win/#/experiments/6\n"
     ]
    },
    {
     "name": "stderr",
     "output_type": "stream",
     "text": [
      "[I 2025-05-28 21:31:54,507] Trial 49 finished with value: 0.0 and parameters: {'oversampling_method': 'SMOTEN', 'undersampling_method': 'OneSidedSelection'}. Best is trial 8 with value: 0.2545454545454545.\n"
     ]
    },
    {
     "name": "stdout",
     "output_type": "stream",
     "text": [
      "🏃 View run glamorous-mink-32 at: https://mlflow.spikehub.win/#/experiments/6/runs/feea901054d647099471410e5245bfa9\n",
      "🧪 View experiment at: https://mlflow.spikehub.win/#/experiments/6\n"
     ]
    },
    {
     "name": "stderr",
     "output_type": "stream",
     "text": [
      "[I 2025-05-28 21:31:55,578] Trial 50 finished with value: 0.20754716981132076 and parameters: {'oversampling_method': 'SVMSMOTE', 'undersampling_method': 'RepeatedEditedNearestNeighbours'}. Best is trial 8 with value: 0.2545454545454545.\n"
     ]
    },
    {
     "name": "stdout",
     "output_type": "stream",
     "text": [
      "🏃 View run nosy-ape-860 at: https://mlflow.spikehub.win/#/experiments/6/runs/f07be0dd3ee04d2f90fa28a997bbc444\n",
      "🧪 View experiment at: https://mlflow.spikehub.win/#/experiments/6\n"
     ]
    },
    {
     "name": "stderr",
     "output_type": "stream",
     "text": [
      "[I 2025-05-28 21:31:56,719] Trial 51 finished with value: 0.1 and parameters: {'oversampling_method': 'SMOTE', 'undersampling_method': 'RepeatedEditedNearestNeighbours'}. Best is trial 8 with value: 0.2545454545454545.\n"
     ]
    },
    {
     "name": "stdout",
     "output_type": "stream",
     "text": [
      "🏃 View run judicious-doe-384 at: https://mlflow.spikehub.win/#/experiments/6/runs/ffd5eab18643452db855e71aaebd383a\n",
      "🧪 View experiment at: https://mlflow.spikehub.win/#/experiments/6\n"
     ]
    },
    {
     "name": "stderr",
     "output_type": "stream",
     "text": [
      "[I 2025-05-28 21:31:57,522] Trial 52 finished with value: 0.07017543859649122 and parameters: {'oversampling_method': 'None', 'undersampling_method': 'AllKNN'}. Best is trial 8 with value: 0.2545454545454545.\n"
     ]
    },
    {
     "name": "stdout",
     "output_type": "stream",
     "text": [
      "🏃 View run omniscient-snipe-739 at: https://mlflow.spikehub.win/#/experiments/6/runs/33cf5433513a49cba17a1197ec522442\n",
      "🧪 View experiment at: https://mlflow.spikehub.win/#/experiments/6\n"
     ]
    },
    {
     "name": "stderr",
     "output_type": "stream",
     "text": [
      "[I 2025-05-28 21:31:58,667] Trial 53 finished with value: 0.05 and parameters: {'oversampling_method': 'BorderlineSMOTE', 'undersampling_method': 'RandomUnderSampler'}. Best is trial 8 with value: 0.2545454545454545.\n"
     ]
    },
    {
     "name": "stdout",
     "output_type": "stream",
     "text": [
      "🏃 View run dazzling-lark-601 at: https://mlflow.spikehub.win/#/experiments/6/runs/90205a6fa0ba45f7887c3313ddd1005f\n",
      "🧪 View experiment at: https://mlflow.spikehub.win/#/experiments/6\n"
     ]
    },
    {
     "name": "stderr",
     "output_type": "stream",
     "text": [
      "[I 2025-05-28 21:31:59,392] Trial 54 finished with value: 0.08925619834710743 and parameters: {'oversampling_method': 'None', 'undersampling_method': 'NearMiss'}. Best is trial 8 with value: 0.2545454545454545.\n"
     ]
    },
    {
     "name": "stdout",
     "output_type": "stream",
     "text": [
      "🏃 View run nosy-toad-297 at: https://mlflow.spikehub.win/#/experiments/6/runs/2adcfa9538c940d9989c3f3d35faf640\n",
      "🧪 View experiment at: https://mlflow.spikehub.win/#/experiments/6\n"
     ]
    },
    {
     "name": "stderr",
     "output_type": "stream",
     "text": [
      "[I 2025-05-28 21:32:00,466] Trial 55 finished with value: 0.05128205128205128 and parameters: {'oversampling_method': 'SVMSMOTE', 'undersampling_method': 'None'}. Best is trial 8 with value: 0.2545454545454545.\n"
     ]
    },
    {
     "name": "stdout",
     "output_type": "stream",
     "text": [
      "🏃 View run carefree-duck-979 at: https://mlflow.spikehub.win/#/experiments/6/runs/361bfe231a9140d384f3f5271416c9f7\n",
      "🧪 View experiment at: https://mlflow.spikehub.win/#/experiments/6\n"
     ]
    },
    {
     "name": "stderr",
     "output_type": "stream",
     "text": [
      "[I 2025-05-28 21:32:01,610] Trial 56 finished with value: 0.05128205128205128 and parameters: {'oversampling_method': 'SVMSMOTE', 'undersampling_method': 'TomekLinks'}. Best is trial 8 with value: 0.2545454545454545.\n"
     ]
    },
    {
     "name": "stdout",
     "output_type": "stream",
     "text": [
      "🏃 View run omniscient-finch-759 at: https://mlflow.spikehub.win/#/experiments/6/runs/a74f56cc2a404c7bb16a58024c00fcec\n",
      "🧪 View experiment at: https://mlflow.spikehub.win/#/experiments/6\n"
     ]
    },
    {
     "name": "stderr",
     "output_type": "stream",
     "text": [
      "[I 2025-05-28 21:33:08,474] Trial 57 finished with value: 0.05405405405405406 and parameters: {'oversampling_method': 'ADASYN', 'undersampling_method': 'CondensedNearestNeighbour'}. Best is trial 8 with value: 0.2545454545454545.\n"
     ]
    },
    {
     "name": "stdout",
     "output_type": "stream",
     "text": [
      "🏃 View run kindly-hound-383 at: https://mlflow.spikehub.win/#/experiments/6/runs/ba600058b4e243ccb86c32158a5e6be8\n",
      "🧪 View experiment at: https://mlflow.spikehub.win/#/experiments/6\n"
     ]
    },
    {
     "name": "stderr",
     "output_type": "stream",
     "text": [
      "[I 2025-05-28 21:33:09,444] Trial 58 finished with value: 0.05128205128205128 and parameters: {'oversampling_method': 'RandomOverSampler', 'undersampling_method': 'TomekLinks'}. Best is trial 8 with value: 0.2545454545454545.\n"
     ]
    },
    {
     "name": "stdout",
     "output_type": "stream",
     "text": [
      "🏃 View run abrasive-foal-477 at: https://mlflow.spikehub.win/#/experiments/6/runs/b5cd7b6ee3584efaaa8eaddcdb3fe3c5\n",
      "🧪 View experiment at: https://mlflow.spikehub.win/#/experiments/6\n"
     ]
    },
    {
     "name": "stderr",
     "output_type": "stream",
     "text": [
      "[I 2025-05-28 21:33:10,477] Trial 59 finished with value: 0.1 and parameters: {'oversampling_method': 'SMOTE', 'undersampling_method': 'EditedNearestNeighbours'}. Best is trial 8 with value: 0.2545454545454545.\n"
     ]
    },
    {
     "name": "stdout",
     "output_type": "stream",
     "text": [
      "🏃 View run industrious-hawk-598 at: https://mlflow.spikehub.win/#/experiments/6/runs/87ffec5955d24e4197194deb6002cfd0\n",
      "🧪 View experiment at: https://mlflow.spikehub.win/#/experiments/6\n"
     ]
    },
    {
     "name": "stderr",
     "output_type": "stream",
     "text": [
      "[I 2025-05-28 21:34:00,124] Trial 60 finished with value: 0.07547169811320754 and parameters: {'oversampling_method': 'None', 'undersampling_method': 'CondensedNearestNeighbour'}. Best is trial 8 with value: 0.2545454545454545.\n"
     ]
    },
    {
     "name": "stdout",
     "output_type": "stream",
     "text": [
      "🏃 View run masked-hawk-923 at: https://mlflow.spikehub.win/#/experiments/6/runs/1f4e6aa737124b908016df0c54651d33\n",
      "🧪 View experiment at: https://mlflow.spikehub.win/#/experiments/6\n"
     ]
    },
    {
     "name": "stderr",
     "output_type": "stream",
     "text": [
      "[I 2025-05-28 21:34:03,094] Trial 61 finished with value: 0.0 and parameters: {'oversampling_method': 'SMOTEN', 'undersampling_method': 'NeighbourhoodCleaningRule'}. Best is trial 8 with value: 0.2545454545454545.\n"
     ]
    },
    {
     "name": "stdout",
     "output_type": "stream",
     "text": [
      "🏃 View run chill-seal-813 at: https://mlflow.spikehub.win/#/experiments/6/runs/c4281d99d2dc4db5a7f2e7368d8a5cdb\n",
      "🧪 View experiment at: https://mlflow.spikehub.win/#/experiments/6\n"
     ]
    },
    {
     "name": "stderr",
     "output_type": "stream",
     "text": [
      "[I 2025-05-28 21:34:04,141] Trial 62 finished with value: 0.05128205128205128 and parameters: {'oversampling_method': 'ADASYN', 'undersampling_method': 'RandomUnderSampler'}. Best is trial 8 with value: 0.2545454545454545.\n"
     ]
    },
    {
     "name": "stdout",
     "output_type": "stream",
     "text": [
      "🏃 View run chill-doe-20 at: https://mlflow.spikehub.win/#/experiments/6/runs/9011d43b809b40bca73f1d62454e9a04\n",
      "🧪 View experiment at: https://mlflow.spikehub.win/#/experiments/6\n"
     ]
    },
    {
     "name": "stderr",
     "output_type": "stream",
     "text": [
      "[I 2025-05-28 21:34:06,818] Trial 63 finished with value: 0.0 and parameters: {'oversampling_method': 'SMOTEN', 'undersampling_method': 'NearMiss'}. Best is trial 8 with value: 0.2545454545454545.\n"
     ]
    },
    {
     "name": "stdout",
     "output_type": "stream",
     "text": [
      "🏃 View run mysterious-vole-927 at: https://mlflow.spikehub.win/#/experiments/6/runs/0a52c11c42f148538d07ad5b1b2ee401\n",
      "🧪 View experiment at: https://mlflow.spikehub.win/#/experiments/6\n"
     ]
    },
    {
     "name": "stderr",
     "output_type": "stream",
     "text": [
      "[I 2025-05-28 21:34:07,739] Trial 64 finished with value: 0.11764705882352941 and parameters: {'oversampling_method': 'SVMSMOTE', 'undersampling_method': 'RandomUnderSampler'}. Best is trial 8 with value: 0.2545454545454545.\n"
     ]
    },
    {
     "name": "stdout",
     "output_type": "stream",
     "text": [
      "🏃 View run gifted-bass-949 at: https://mlflow.spikehub.win/#/experiments/6/runs/cc85dffb55f9487782a4504c1813eea7\n",
      "🧪 View experiment at: https://mlflow.spikehub.win/#/experiments/6\n"
     ]
    },
    {
     "name": "stderr",
     "output_type": "stream",
     "text": [
      "[I 2025-05-28 21:34:37,243] Trial 65 finished with value: 0.0 and parameters: {'oversampling_method': 'SMOTEN', 'undersampling_method': 'CondensedNearestNeighbour'}. Best is trial 8 with value: 0.2545454545454545.\n"
     ]
    },
    {
     "name": "stdout",
     "output_type": "stream",
     "text": [
      "🏃 View run carefree-wren-897 at: https://mlflow.spikehub.win/#/experiments/6/runs/8fb54959773f4789ab95950c20cee33e\n",
      "🧪 View experiment at: https://mlflow.spikehub.win/#/experiments/6\n"
     ]
    },
    {
     "name": "stderr",
     "output_type": "stream",
     "text": [
      "[I 2025-05-28 21:34:38,399] Trial 66 finished with value: 0.05263157894736842 and parameters: {'oversampling_method': 'ADASYN', 'undersampling_method': 'None'}. Best is trial 8 with value: 0.2545454545454545.\n"
     ]
    },
    {
     "name": "stdout",
     "output_type": "stream",
     "text": [
      "🏃 View run debonair-vole-47 at: https://mlflow.spikehub.win/#/experiments/6/runs/7f3632150f434fcc9af37ef9f93928f4\n",
      "🧪 View experiment at: https://mlflow.spikehub.win/#/experiments/6\n"
     ]
    },
    {
     "name": "stderr",
     "output_type": "stream",
     "text": [
      "[I 2025-05-28 21:34:39,373] Trial 67 finished with value: 0.09302325581395349 and parameters: {'oversampling_method': 'None', 'undersampling_method': 'NeighbourhoodCleaningRule'}. Best is trial 8 with value: 0.2545454545454545.\n"
     ]
    },
    {
     "name": "stdout",
     "output_type": "stream",
     "text": [
      "🏃 View run chill-auk-499 at: https://mlflow.spikehub.win/#/experiments/6/runs/6890796714f3460b8d45b4bd470e5103\n",
      "🧪 View experiment at: https://mlflow.spikehub.win/#/experiments/6\n"
     ]
    },
    {
     "name": "stderr",
     "output_type": "stream",
     "text": [
      "[I 2025-05-28 21:34:40,484] Trial 68 finished with value: 0.0 and parameters: {'oversampling_method': 'BorderlineSMOTE', 'undersampling_method': 'RepeatedEditedNearestNeighbours'}. Best is trial 8 with value: 0.2545454545454545.\n"
     ]
    },
    {
     "name": "stdout",
     "output_type": "stream",
     "text": [
      "🏃 View run rumbling-chimp-19 at: https://mlflow.spikehub.win/#/experiments/6/runs/61f153bc496f40ada5c57b523bb3a0b0\n",
      "🧪 View experiment at: https://mlflow.spikehub.win/#/experiments/6\n"
     ]
    },
    {
     "name": "stderr",
     "output_type": "stream",
     "text": [
      "[I 2025-05-28 21:34:41,915] Trial 69 finished with value: 0.0 and parameters: {'oversampling_method': 'BorderlineSMOTE', 'undersampling_method': 'NeighbourhoodCleaningRule'}. Best is trial 8 with value: 0.2545454545454545.\n"
     ]
    },
    {
     "name": "stdout",
     "output_type": "stream",
     "text": [
      "🏃 View run rumbling-stoat-252 at: https://mlflow.spikehub.win/#/experiments/6/runs/8cfb28d9d8804f78a19288344680f9e6\n",
      "🧪 View experiment at: https://mlflow.spikehub.win/#/experiments/6\n",
      "🏃 View run Random Forest Run at: https://mlflow.spikehub.win/#/experiments/6/runs/80d240c6370246f993c0dd8e297cabee\n",
      "🧪 View experiment at: https://mlflow.spikehub.win/#/experiments/6\n"
     ]
    }
   ],
   "source": [
    "from sklearn.ensemble import RandomForestClassifier\n",
    "\n",
    "search_space = {\"oversampling_method\": oversampler_list, \"undersampling_method\": undersampler_list}\n",
    "\n",
    "objective = create_objective(lambda: RandomForestClassifier(random_state=42), experiment_id)\n",
    "\n",
    "run_name = \"Random Forest Run\"\n",
    "\n",
    "with mlflow.start_run(experiment_id=experiment_id, run_name=run_name, nested=True):\n",
    "    study = optuna.create_study(\n",
    "        direction=\"maximize\", sampler=optuna.samplers.GridSampler(search_space)\n",
    "    )\n",
    "    study.optimize(objective, n_trials=len(oversampler_list) * len(undersampler_list))\n",
    "\n",
    "    mlflow.log_params(study.best_params)\n",
    "    mlflow.log_metric(\"best_f1_score\", study.best_value)\n",
    "\n",
    "    mlflow.set_tags(\n",
    "        tags={\n",
    "            \"project\": \"stroke_prediction\",\n",
    "            \"optimizer_engine\": \"optuna\",\n",
    "            \"model_family\": \"RandomForestClassifier\",\n",
    "        }\n",
    "    )"
   ]
  },
  {
   "cell_type": "markdown",
   "id": "7fd8b1d8",
   "metadata": {},
   "source": [
    "## K-Nearest Neighbors\n",
    "Now, we will try a different model, K-Nearest Neighbors, to see if it can perform differently with the samplers."
   ]
  },
  {
   "cell_type": "code",
   "execution_count": 8,
   "id": "2bdc18f3",
   "metadata": {},
   "outputs": [
    {
     "name": "stderr",
     "output_type": "stream",
     "text": [
      "[I 2025-05-28 21:34:42,478] A new study created in memory with name: no-name-8de6558e-d36e-4324-b6c5-faf47efe444c\n",
      "[I 2025-05-28 21:34:45,077] Trial 0 finished with value: 0.047058823529411764 and parameters: {'oversampling_method': 'SMOTEN', 'undersampling_method': 'RandomUnderSampler'}. Best is trial 0 with value: 0.047058823529411764.\n"
     ]
    },
    {
     "name": "stdout",
     "output_type": "stream",
     "text": [
      "🏃 View run judicious-mule-692 at: https://mlflow.spikehub.win/#/experiments/6/runs/da919f6fe1e24a51ac72099a958fa463\n",
      "🧪 View experiment at: https://mlflow.spikehub.win/#/experiments/6\n"
     ]
    },
    {
     "name": "stderr",
     "output_type": "stream",
     "text": [
      "[I 2025-05-28 21:34:47,411] Trial 1 finished with value: 0.04938271604938271 and parameters: {'oversampling_method': 'SMOTEN', 'undersampling_method': 'RepeatedEditedNearestNeighbours'}. Best is trial 1 with value: 0.04938271604938271.\n"
     ]
    },
    {
     "name": "stdout",
     "output_type": "stream",
     "text": [
      "🏃 View run classy-bass-815 at: https://mlflow.spikehub.win/#/experiments/6/runs/621679795f76450ea35b24da86c34dd6\n",
      "🧪 View experiment at: https://mlflow.spikehub.win/#/experiments/6\n"
     ]
    },
    {
     "name": "stderr",
     "output_type": "stream",
     "text": [
      "[I 2025-05-28 21:34:48,050] Trial 2 finished with value: 0.16176470588235295 and parameters: {'oversampling_method': 'BorderlineSMOTE', 'undersampling_method': 'TomekLinks'}. Best is trial 2 with value: 0.16176470588235295.\n"
     ]
    },
    {
     "name": "stdout",
     "output_type": "stream",
     "text": [
      "🏃 View run gregarious-stork-902 at: https://mlflow.spikehub.win/#/experiments/6/runs/d25ae71b1dfc4778a49ea678b0f0b53e\n",
      "🧪 View experiment at: https://mlflow.spikehub.win/#/experiments/6\n"
     ]
    },
    {
     "name": "stderr",
     "output_type": "stream",
     "text": [
      "[I 2025-05-28 21:34:50,496] Trial 3 finished with value: 0.04938271604938271 and parameters: {'oversampling_method': 'SMOTEN', 'undersampling_method': 'EditedNearestNeighbours'}. Best is trial 2 with value: 0.16176470588235295.\n"
     ]
    },
    {
     "name": "stdout",
     "output_type": "stream",
     "text": [
      "🏃 View run awesome-ray-223 at: https://mlflow.spikehub.win/#/experiments/6/runs/1ead410fbf83441aa71caac96d201aa8\n",
      "🧪 View experiment at: https://mlflow.spikehub.win/#/experiments/6\n"
     ]
    },
    {
     "name": "stderr",
     "output_type": "stream",
     "text": [
      "[I 2025-05-28 21:34:51,128] Trial 4 finished with value: 0.1693121693121693 and parameters: {'oversampling_method': 'SVMSMOTE', 'undersampling_method': 'AllKNN'}. Best is trial 4 with value: 0.1693121693121693.\n"
     ]
    },
    {
     "name": "stdout",
     "output_type": "stream",
     "text": [
      "🏃 View run glamorous-horse-436 at: https://mlflow.spikehub.win/#/experiments/6/runs/3734eaa6fe8a4b02a95bacf5d01583bb\n",
      "🧪 View experiment at: https://mlflow.spikehub.win/#/experiments/6\n"
     ]
    },
    {
     "name": "stderr",
     "output_type": "stream",
     "text": [
      "[I 2025-05-28 21:35:12,231] Trial 5 finished with value: 0.0 and parameters: {'oversampling_method': 'RandomOverSampler', 'undersampling_method': 'CondensedNearestNeighbour'}. Best is trial 4 with value: 0.1693121693121693.\n"
     ]
    },
    {
     "name": "stdout",
     "output_type": "stream",
     "text": [
      "🏃 View run inquisitive-fly-464 at: https://mlflow.spikehub.win/#/experiments/6/runs/8cec2866a5384404b75c488465f045c4\n",
      "🧪 View experiment at: https://mlflow.spikehub.win/#/experiments/6\n"
     ]
    },
    {
     "name": "stderr",
     "output_type": "stream",
     "text": [
      "[I 2025-05-28 21:35:12,812] Trial 6 finished with value: 0.17857142857142858 and parameters: {'oversampling_method': 'ADASYN', 'undersampling_method': 'RepeatedEditedNearestNeighbours'}. Best is trial 6 with value: 0.17857142857142858.\n"
     ]
    },
    {
     "name": "stdout",
     "output_type": "stream",
     "text": [
      "🏃 View run shivering-swan-780 at: https://mlflow.spikehub.win/#/experiments/6/runs/d2572dd1e92244eda5599b68dd2765a1\n",
      "🧪 View experiment at: https://mlflow.spikehub.win/#/experiments/6\n"
     ]
    },
    {
     "name": "stderr",
     "output_type": "stream",
     "text": [
      "[I 2025-05-28 21:35:13,394] Trial 7 finished with value: 0.13333333333333333 and parameters: {'oversampling_method': 'RandomOverSampler', 'undersampling_method': 'None'}. Best is trial 6 with value: 0.17857142857142858.\n"
     ]
    },
    {
     "name": "stdout",
     "output_type": "stream",
     "text": [
      "🏃 View run sincere-crab-755 at: https://mlflow.spikehub.win/#/experiments/6/runs/75ba38fd12cc41f59e454d4f3c81c6df\n",
      "🧪 View experiment at: https://mlflow.spikehub.win/#/experiments/6\n"
     ]
    },
    {
     "name": "stderr",
     "output_type": "stream",
     "text": [
      "[I 2025-05-28 21:35:14,399] Trial 8 finished with value: 0.17391304347826086 and parameters: {'oversampling_method': 'SVMSMOTE', 'undersampling_method': 'NeighbourhoodCleaningRule'}. Best is trial 6 with value: 0.17857142857142858.\n"
     ]
    },
    {
     "name": "stdout",
     "output_type": "stream",
     "text": [
      "🏃 View run unleashed-carp-441 at: https://mlflow.spikehub.win/#/experiments/6/runs/e767149e653d44b6bd25478e498b0456\n",
      "🧪 View experiment at: https://mlflow.spikehub.win/#/experiments/6\n"
     ]
    },
    {
     "name": "stderr",
     "output_type": "stream",
     "text": [
      "[I 2025-05-28 21:35:14,966] Trial 9 finished with value: 0.0 and parameters: {'oversampling_method': 'None', 'undersampling_method': 'None'}. Best is trial 6 with value: 0.17857142857142858.\n"
     ]
    },
    {
     "name": "stdout",
     "output_type": "stream",
     "text": [
      "🏃 View run nosy-mouse-496 at: https://mlflow.spikehub.win/#/experiments/6/runs/56419c35c7554dde8019ffbb29f84d24\n",
      "🧪 View experiment at: https://mlflow.spikehub.win/#/experiments/6\n"
     ]
    },
    {
     "name": "stderr",
     "output_type": "stream",
     "text": [
      "[I 2025-05-28 21:35:15,474] Trial 10 finished with value: 0.13333333333333333 and parameters: {'oversampling_method': 'RandomOverSampler', 'undersampling_method': 'RandomUnderSampler'}. Best is trial 6 with value: 0.17857142857142858.\n"
     ]
    },
    {
     "name": "stdout",
     "output_type": "stream",
     "text": [
      "🏃 View run overjoyed-mare-956 at: https://mlflow.spikehub.win/#/experiments/6/runs/840b377fdbc049d8952e4fb3238488c6\n",
      "🧪 View experiment at: https://mlflow.spikehub.win/#/experiments/6\n"
     ]
    },
    {
     "name": "stderr",
     "output_type": "stream",
     "text": [
      "[I 2025-05-28 21:35:18,163] Trial 11 finished with value: 0.047619047619047616 and parameters: {'oversampling_method': 'SMOTEN', 'undersampling_method': 'TomekLinks'}. Best is trial 6 with value: 0.17857142857142858.\n"
     ]
    },
    {
     "name": "stdout",
     "output_type": "stream",
     "text": [
      "🏃 View run dapper-trout-602 at: https://mlflow.spikehub.win/#/experiments/6/runs/61506b0a92104406be9d08dc8f1365ca\n",
      "🧪 View experiment at: https://mlflow.spikehub.win/#/experiments/6\n"
     ]
    },
    {
     "name": "stderr",
     "output_type": "stream",
     "text": [
      "[I 2025-05-28 21:36:25,845] Trial 12 finished with value: 0.1895734597156398 and parameters: {'oversampling_method': 'SVMSMOTE', 'undersampling_method': 'CondensedNearestNeighbour'}. Best is trial 12 with value: 0.1895734597156398.\n"
     ]
    },
    {
     "name": "stdout",
     "output_type": "stream",
     "text": [
      "🏃 View run upbeat-fawn-655 at: https://mlflow.spikehub.win/#/experiments/6/runs/e09d9a7c727741efa59341033af4af7a\n",
      "🧪 View experiment at: https://mlflow.spikehub.win/#/experiments/6\n"
     ]
    },
    {
     "name": "stderr",
     "output_type": "stream",
     "text": [
      "[I 2025-05-28 21:36:26,529] Trial 13 finished with value: 0.17054263565891473 and parameters: {'oversampling_method': 'BorderlineSMOTE', 'undersampling_method': 'EditedNearestNeighbours'}. Best is trial 12 with value: 0.1895734597156398.\n"
     ]
    },
    {
     "name": "stdout",
     "output_type": "stream",
     "text": [
      "🏃 View run invincible-gull-174 at: https://mlflow.spikehub.win/#/experiments/6/runs/7d706c4b0a4648acab1762e1cda41075\n",
      "🧪 View experiment at: https://mlflow.spikehub.win/#/experiments/6\n"
     ]
    },
    {
     "name": "stderr",
     "output_type": "stream",
     "text": [
      "[I 2025-05-28 21:36:27,126] Trial 14 finished with value: 0.16 and parameters: {'oversampling_method': 'SVMSMOTE', 'undersampling_method': 'NearMiss'}. Best is trial 12 with value: 0.1895734597156398.\n"
     ]
    },
    {
     "name": "stdout",
     "output_type": "stream",
     "text": [
      "🏃 View run charming-hawk-98 at: https://mlflow.spikehub.win/#/experiments/6/runs/f223181978d74c9d80a8d58466770d6b\n",
      "🧪 View experiment at: https://mlflow.spikehub.win/#/experiments/6\n"
     ]
    },
    {
     "name": "stderr",
     "output_type": "stream",
     "text": [
      "[I 2025-05-28 21:36:27,969] Trial 15 finished with value: 0.13333333333333333 and parameters: {'oversampling_method': 'RandomOverSampler', 'undersampling_method': 'OneSidedSelection'}. Best is trial 12 with value: 0.1895734597156398.\n"
     ]
    },
    {
     "name": "stdout",
     "output_type": "stream",
     "text": [
      "🏃 View run merciful-smelt-237 at: https://mlflow.spikehub.win/#/experiments/6/runs/68f926e4be4e48c882fed4747168404d\n",
      "🧪 View experiment at: https://mlflow.spikehub.win/#/experiments/6\n"
     ]
    },
    {
     "name": "stderr",
     "output_type": "stream",
     "text": [
      "[I 2025-05-28 21:36:28,562] Trial 16 finished with value: 0.0 and parameters: {'oversampling_method': 'None', 'undersampling_method': 'TomekLinks'}. Best is trial 12 with value: 0.1895734597156398.\n"
     ]
    },
    {
     "name": "stdout",
     "output_type": "stream",
     "text": [
      "🏃 View run selective-kit-590 at: https://mlflow.spikehub.win/#/experiments/6/runs/4c1c50abd0404c98a4fabd1892c4997b\n",
      "🧪 View experiment at: https://mlflow.spikehub.win/#/experiments/6\n"
     ]
    },
    {
     "name": "stderr",
     "output_type": "stream",
     "text": [
      "[I 2025-05-28 21:36:29,189] Trial 17 finished with value: 0.08333333333333333 and parameters: {'oversampling_method': 'None', 'undersampling_method': 'EditedNearestNeighbours'}. Best is trial 12 with value: 0.1895734597156398.\n"
     ]
    },
    {
     "name": "stdout",
     "output_type": "stream",
     "text": [
      "🏃 View run big-owl-827 at: https://mlflow.spikehub.win/#/experiments/6/runs/67c283f50c974d3bbaf6545172f47652\n",
      "🧪 View experiment at: https://mlflow.spikehub.win/#/experiments/6\n"
     ]
    },
    {
     "name": "stderr",
     "output_type": "stream",
     "text": [
      "[I 2025-05-28 21:36:29,816] Trial 18 finished with value: 0.16176470588235295 and parameters: {'oversampling_method': 'BorderlineSMOTE', 'undersampling_method': 'NearMiss'}. Best is trial 12 with value: 0.1895734597156398.\n"
     ]
    },
    {
     "name": "stdout",
     "output_type": "stream",
     "text": [
      "🏃 View run rogue-turtle-120 at: https://mlflow.spikehub.win/#/experiments/6/runs/e765cee70f824ed6abac466953a96e70\n",
      "🧪 View experiment at: https://mlflow.spikehub.win/#/experiments/6\n"
     ]
    },
    {
     "name": "stderr",
     "output_type": "stream",
     "text": [
      "[I 2025-05-28 21:36:30,827] Trial 19 finished with value: 0.16560509554140126 and parameters: {'oversampling_method': 'ADASYN', 'undersampling_method': 'NeighbourhoodCleaningRule'}. Best is trial 12 with value: 0.1895734597156398.\n"
     ]
    },
    {
     "name": "stdout",
     "output_type": "stream",
     "text": [
      "🏃 View run kindly-bat-391 at: https://mlflow.spikehub.win/#/experiments/6/runs/22882c0bb4ab4f0a9f1ccd953f59eea2\n",
      "🧪 View experiment at: https://mlflow.spikehub.win/#/experiments/6\n"
     ]
    },
    {
     "name": "stderr",
     "output_type": "stream",
     "text": [
      "[I 2025-05-28 21:36:31,680] Trial 20 finished with value: 0.0 and parameters: {'oversampling_method': 'None', 'undersampling_method': 'OneSidedSelection'}. Best is trial 12 with value: 0.1895734597156398.\n"
     ]
    },
    {
     "name": "stdout",
     "output_type": "stream",
     "text": [
      "🏃 View run judicious-gnu-553 at: https://mlflow.spikehub.win/#/experiments/6/runs/492cb30e04dd4787860407da5b5a3052\n",
      "🧪 View experiment at: https://mlflow.spikehub.win/#/experiments/6\n"
     ]
    },
    {
     "name": "stderr",
     "output_type": "stream",
     "text": [
      "[I 2025-05-28 21:36:32,351] Trial 21 finished with value: 0.13333333333333333 and parameters: {'oversampling_method': 'RandomOverSampler', 'undersampling_method': 'AllKNN'}. Best is trial 12 with value: 0.1895734597156398.\n"
     ]
    },
    {
     "name": "stdout",
     "output_type": "stream",
     "text": [
      "🏃 View run melodic-shark-313 at: https://mlflow.spikehub.win/#/experiments/6/runs/2ad183b5f06348bbba3b3acfa754d2c5\n",
      "🧪 View experiment at: https://mlflow.spikehub.win/#/experiments/6\n"
     ]
    },
    {
     "name": "stderr",
     "output_type": "stream",
     "text": [
      "[I 2025-05-28 21:36:32,913] Trial 22 finished with value: 0.17857142857142858 and parameters: {'oversampling_method': 'ADASYN', 'undersampling_method': 'EditedNearestNeighbours'}. Best is trial 12 with value: 0.1895734597156398.\n"
     ]
    },
    {
     "name": "stdout",
     "output_type": "stream",
     "text": [
      "🏃 View run amusing-skunk-409 at: https://mlflow.spikehub.win/#/experiments/6/runs/30b841509ea8437e92459db7fbecff36\n",
      "🧪 View experiment at: https://mlflow.spikehub.win/#/experiments/6\n"
     ]
    },
    {
     "name": "stderr",
     "output_type": "stream",
     "text": [
      "[I 2025-05-28 21:36:33,534] Trial 23 finished with value: 0.16296296296296298 and parameters: {'oversampling_method': 'BorderlineSMOTE', 'undersampling_method': 'AllKNN'}. Best is trial 12 with value: 0.1895734597156398.\n"
     ]
    },
    {
     "name": "stdout",
     "output_type": "stream",
     "text": [
      "🏃 View run gaudy-kit-832 at: https://mlflow.spikehub.win/#/experiments/6/runs/6e02149d16cb41ee83fc7e5516fa6afd\n",
      "🧪 View experiment at: https://mlflow.spikehub.win/#/experiments/6\n"
     ]
    },
    {
     "name": "stderr",
     "output_type": "stream",
     "text": [
      "[I 2025-05-28 21:37:36,640] Trial 24 finished with value: 0.11494252873563218 and parameters: {'oversampling_method': 'SMOTE', 'undersampling_method': 'CondensedNearestNeighbour'}. Best is trial 12 with value: 0.1895734597156398.\n"
     ]
    },
    {
     "name": "stdout",
     "output_type": "stream",
     "text": [
      "🏃 View run luxuriant-newt-754 at: https://mlflow.spikehub.win/#/experiments/6/runs/3400066148dc475b856ad81c7c69792f\n",
      "🧪 View experiment at: https://mlflow.spikehub.win/#/experiments/6\n"
     ]
    },
    {
     "name": "stderr",
     "output_type": "stream",
     "text": [
      "[I 2025-05-28 21:37:37,277] Trial 25 finished with value: 0.16759776536312848 and parameters: {'oversampling_method': 'ADASYN', 'undersampling_method': 'NearMiss'}. Best is trial 12 with value: 0.1895734597156398.\n"
     ]
    },
    {
     "name": "stdout",
     "output_type": "stream",
     "text": [
      "🏃 View run able-shad-783 at: https://mlflow.spikehub.win/#/experiments/6/runs/4df94ce6c9d84701938b5eb3cf7b8106\n",
      "🧪 View experiment at: https://mlflow.spikehub.win/#/experiments/6\n"
     ]
    },
    {
     "name": "stderr",
     "output_type": "stream",
     "text": [
      "[I 2025-05-28 21:37:38,259] Trial 26 finished with value: 0.13333333333333333 and parameters: {'oversampling_method': 'RandomOverSampler', 'undersampling_method': 'NeighbourhoodCleaningRule'}. Best is trial 12 with value: 0.1895734597156398.\n"
     ]
    },
    {
     "name": "stdout",
     "output_type": "stream",
     "text": [
      "🏃 View run funny-cat-696 at: https://mlflow.spikehub.win/#/experiments/6/runs/de0087557bf141b49f24f9d3ae67e971\n",
      "🧪 View experiment at: https://mlflow.spikehub.win/#/experiments/6\n"
     ]
    },
    {
     "name": "stderr",
     "output_type": "stream",
     "text": [
      "[I 2025-05-28 21:37:39,046] Trial 27 finished with value: 0.16176470588235295 and parameters: {'oversampling_method': 'BorderlineSMOTE', 'undersampling_method': 'OneSidedSelection'}. Best is trial 12 with value: 0.1895734597156398.\n"
     ]
    },
    {
     "name": "stdout",
     "output_type": "stream",
     "text": [
      "🏃 View run mercurial-crane-726 at: https://mlflow.spikehub.win/#/experiments/6/runs/a876182fa0e14906a8f5b4c696e3966c\n",
      "🧪 View experiment at: https://mlflow.spikehub.win/#/experiments/6\n"
     ]
    },
    {
     "name": "stderr",
     "output_type": "stream",
     "text": [
      "[I 2025-05-28 21:37:39,672] Trial 28 finished with value: 0.15204678362573099 and parameters: {'oversampling_method': 'SMOTE', 'undersampling_method': 'AllKNN'}. Best is trial 12 with value: 0.1895734597156398.\n"
     ]
    },
    {
     "name": "stdout",
     "output_type": "stream",
     "text": [
      "🏃 View run secretive-mule-540 at: https://mlflow.spikehub.win/#/experiments/6/runs/0634fcdaabdc4615bd779a6aa03d4a54\n",
      "🧪 View experiment at: https://mlflow.spikehub.win/#/experiments/6\n"
     ]
    },
    {
     "name": "stderr",
     "output_type": "stream",
     "text": [
      "[I 2025-05-28 21:38:26,038] Trial 29 finished with value: 0.057971014492753624 and parameters: {'oversampling_method': 'BorderlineSMOTE', 'undersampling_method': 'CondensedNearestNeighbour'}. Best is trial 12 with value: 0.1895734597156398.\n"
     ]
    },
    {
     "name": "stdout",
     "output_type": "stream",
     "text": [
      "🏃 View run nervous-cow-601 at: https://mlflow.spikehub.win/#/experiments/6/runs/7843a7e0c50a4b9ab0b74eaa7f3d1687\n",
      "🧪 View experiment at: https://mlflow.spikehub.win/#/experiments/6\n"
     ]
    },
    {
     "name": "stderr",
     "output_type": "stream",
     "text": [
      "[I 2025-05-28 21:38:26,617] Trial 30 finished with value: 0.16176470588235295 and parameters: {'oversampling_method': 'BorderlineSMOTE', 'undersampling_method': 'None'}. Best is trial 12 with value: 0.1895734597156398.\n"
     ]
    },
    {
     "name": "stdout",
     "output_type": "stream",
     "text": [
      "🏃 View run loud-finch-332 at: https://mlflow.spikehub.win/#/experiments/6/runs/d82a1d2326724ff5a93bcad8f7f6c085\n",
      "🧪 View experiment at: https://mlflow.spikehub.win/#/experiments/6\n"
     ]
    },
    {
     "name": "stderr",
     "output_type": "stream",
     "text": [
      "[I 2025-05-28 21:38:27,225] Trial 31 finished with value: 0.13333333333333333 and parameters: {'oversampling_method': 'RandomOverSampler', 'undersampling_method': 'NearMiss'}. Best is trial 12 with value: 0.1895734597156398.\n"
     ]
    },
    {
     "name": "stdout",
     "output_type": "stream",
     "text": [
      "🏃 View run redolent-hog-153 at: https://mlflow.spikehub.win/#/experiments/6/runs/074e7de331ce425287ee4fdaeca32152\n",
      "🧪 View experiment at: https://mlflow.spikehub.win/#/experiments/6\n"
     ]
    },
    {
     "name": "stderr",
     "output_type": "stream",
     "text": [
      "[I 2025-05-28 21:38:27,852] Trial 32 finished with value: 0.13333333333333333 and parameters: {'oversampling_method': 'RandomOverSampler', 'undersampling_method': 'RepeatedEditedNearestNeighbours'}. Best is trial 12 with value: 0.1895734597156398.\n"
     ]
    },
    {
     "name": "stdout",
     "output_type": "stream",
     "text": [
      "🏃 View run dapper-conch-986 at: https://mlflow.spikehub.win/#/experiments/6/runs/4aba59798aea407ea078752297f0599d\n",
      "🧪 View experiment at: https://mlflow.spikehub.win/#/experiments/6\n"
     ]
    },
    {
     "name": "stderr",
     "output_type": "stream",
     "text": [
      "[I 2025-05-28 21:38:28,527] Trial 33 finished with value: 0.16 and parameters: {'oversampling_method': 'SVMSMOTE', 'undersampling_method': 'EditedNearestNeighbours'}. Best is trial 12 with value: 0.1895734597156398.\n"
     ]
    },
    {
     "name": "stdout",
     "output_type": "stream",
     "text": [
      "🏃 View run resilient-gull-837 at: https://mlflow.spikehub.win/#/experiments/6/runs/4996b1892e744e4885fd0a9bc3a7bb5f\n",
      "🧪 View experiment at: https://mlflow.spikehub.win/#/experiments/6\n"
     ]
    },
    {
     "name": "stderr",
     "output_type": "stream",
     "text": [
      "[I 2025-05-28 21:38:29,511] Trial 34 finished with value: 0.1476510067114094 and parameters: {'oversampling_method': 'SMOTE', 'undersampling_method': 'NeighbourhoodCleaningRule'}. Best is trial 12 with value: 0.1895734597156398.\n"
     ]
    },
    {
     "name": "stdout",
     "output_type": "stream",
     "text": [
      "🏃 View run nimble-yak-702 at: https://mlflow.spikehub.win/#/experiments/6/runs/0d89e48475464f418e95ad2d04eff69d\n",
      "🧪 View experiment at: https://mlflow.spikehub.win/#/experiments/6\n"
     ]
    },
    {
     "name": "stderr",
     "output_type": "stream",
     "text": [
      "[I 2025-05-28 21:38:30,261] Trial 35 finished with value: 0.13186813186813187 and parameters: {'oversampling_method': 'None', 'undersampling_method': 'RepeatedEditedNearestNeighbours'}. Best is trial 12 with value: 0.1895734597156398.\n"
     ]
    },
    {
     "name": "stdout",
     "output_type": "stream",
     "text": [
      "🏃 View run able-hawk-763 at: https://mlflow.spikehub.win/#/experiments/6/runs/1b3dfb5113814e0c91471674de0d545f\n",
      "🧪 View experiment at: https://mlflow.spikehub.win/#/experiments/6\n"
     ]
    },
    {
     "name": "stderr",
     "output_type": "stream",
     "text": [
      "[I 2025-05-28 21:38:30,844] Trial 36 finished with value: 0.1511627906976744 and parameters: {'oversampling_method': 'SMOTE', 'undersampling_method': 'None'}. Best is trial 12 with value: 0.1895734597156398.\n"
     ]
    },
    {
     "name": "stdout",
     "output_type": "stream",
     "text": [
      "🏃 View run secretive-squid-374 at: https://mlflow.spikehub.win/#/experiments/6/runs/9b58e5bd11464618814e20fa3f93618e\n",
      "🧪 View experiment at: https://mlflow.spikehub.win/#/experiments/6\n"
     ]
    },
    {
     "name": "stderr",
     "output_type": "stream",
     "text": [
      "[I 2025-05-28 21:38:33,371] Trial 37 finished with value: 0.047058823529411764 and parameters: {'oversampling_method': 'SMOTEN', 'undersampling_method': 'None'}. Best is trial 12 with value: 0.1895734597156398.\n"
     ]
    },
    {
     "name": "stdout",
     "output_type": "stream",
     "text": [
      "🏃 View run redolent-hare-34 at: https://mlflow.spikehub.win/#/experiments/6/runs/2e9768d7aff04bc6a950a6657ab460ea\n",
      "🧪 View experiment at: https://mlflow.spikehub.win/#/experiments/6\n"
     ]
    },
    {
     "name": "stderr",
     "output_type": "stream",
     "text": [
      "[I 2025-05-28 21:38:33,946] Trial 38 finished with value: 0.13333333333333333 and parameters: {'oversampling_method': 'RandomOverSampler', 'undersampling_method': 'EditedNearestNeighbours'}. Best is trial 12 with value: 0.1895734597156398.\n"
     ]
    },
    {
     "name": "stdout",
     "output_type": "stream",
     "text": [
      "🏃 View run worried-shrimp-473 at: https://mlflow.spikehub.win/#/experiments/6/runs/0ee9035de6b74cfd82aa3c0895b057b1\n",
      "🧪 View experiment at: https://mlflow.spikehub.win/#/experiments/6\n"
     ]
    },
    {
     "name": "stderr",
     "output_type": "stream",
     "text": [
      "[I 2025-05-28 21:38:34,862] Trial 39 finished with value: 0.1746031746031746 and parameters: {'oversampling_method': 'SVMSMOTE', 'undersampling_method': 'OneSidedSelection'}. Best is trial 12 with value: 0.1895734597156398.\n"
     ]
    },
    {
     "name": "stdout",
     "output_type": "stream",
     "text": [
      "🏃 View run redolent-wasp-223 at: https://mlflow.spikehub.win/#/experiments/6/runs/592a1014f9964c6184ae0da8ba0b54a3\n",
      "🧪 View experiment at: https://mlflow.spikehub.win/#/experiments/6\n"
     ]
    },
    {
     "name": "stderr",
     "output_type": "stream",
     "text": [
      "[I 2025-05-28 21:38:35,459] Trial 40 finished with value: 0.1511627906976744 and parameters: {'oversampling_method': 'SMOTE', 'undersampling_method': 'TomekLinks'}. Best is trial 12 with value: 0.1895734597156398.\n"
     ]
    },
    {
     "name": "stdout",
     "output_type": "stream",
     "text": [
      "🏃 View run resilient-crane-509 at: https://mlflow.spikehub.win/#/experiments/6/runs/35c3dbf5327c4faea35356fc9e6f8325\n",
      "🧪 View experiment at: https://mlflow.spikehub.win/#/experiments/6\n"
     ]
    },
    {
     "name": "stderr",
     "output_type": "stream",
     "text": [
      "[I 2025-05-28 21:38:36,039] Trial 41 finished with value: 0.17045454545454544 and parameters: {'oversampling_method': 'ADASYN', 'undersampling_method': 'AllKNN'}. Best is trial 12 with value: 0.1895734597156398.\n"
     ]
    },
    {
     "name": "stdout",
     "output_type": "stream",
     "text": [
      "🏃 View run overjoyed-seal-389 at: https://mlflow.spikehub.win/#/experiments/6/runs/df054f99b17442209104fdcde3cd3784\n",
      "🧪 View experiment at: https://mlflow.spikehub.win/#/experiments/6\n"
     ]
    },
    {
     "name": "stderr",
     "output_type": "stream",
     "text": [
      "[I 2025-05-28 21:38:36,874] Trial 42 finished with value: 0.1511627906976744 and parameters: {'oversampling_method': 'SMOTE', 'undersampling_method': 'OneSidedSelection'}. Best is trial 12 with value: 0.1895734597156398.\n"
     ]
    },
    {
     "name": "stdout",
     "output_type": "stream",
     "text": [
      "🏃 View run gregarious-bear-454 at: https://mlflow.spikehub.win/#/experiments/6/runs/c8dc323fd6b94a9b953c5356ebb53652\n",
      "🧪 View experiment at: https://mlflow.spikehub.win/#/experiments/6\n"
     ]
    },
    {
     "name": "stderr",
     "output_type": "stream",
     "text": [
      "[I 2025-05-28 21:38:37,648] Trial 43 finished with value: 0.16853932584269662 and parameters: {'oversampling_method': 'ADASYN', 'undersampling_method': 'OneSidedSelection'}. Best is trial 12 with value: 0.1895734597156398.\n"
     ]
    },
    {
     "name": "stdout",
     "output_type": "stream",
     "text": [
      "🏃 View run dazzling-cat-264 at: https://mlflow.spikehub.win/#/experiments/6/runs/905bd5bea9b542878d51d5a4d806d3c9\n",
      "🧪 View experiment at: https://mlflow.spikehub.win/#/experiments/6\n"
     ]
    },
    {
     "name": "stderr",
     "output_type": "stream",
     "text": [
      "[I 2025-05-28 21:38:38,240] Trial 44 finished with value: 0.1511627906976744 and parameters: {'oversampling_method': 'SMOTE', 'undersampling_method': 'RandomUnderSampler'}. Best is trial 12 with value: 0.1895734597156398.\n"
     ]
    },
    {
     "name": "stdout",
     "output_type": "stream",
     "text": [
      "🏃 View run bald-perch-690 at: https://mlflow.spikehub.win/#/experiments/6/runs/3c516f9d62cf44a6bda268aa0fa18865\n",
      "🧪 View experiment at: https://mlflow.spikehub.win/#/experiments/6\n"
     ]
    },
    {
     "name": "stderr",
     "output_type": "stream",
     "text": [
      "[I 2025-05-28 21:38:40,834] Trial 45 finished with value: 0.04878048780487805 and parameters: {'oversampling_method': 'SMOTEN', 'undersampling_method': 'AllKNN'}. Best is trial 12 with value: 0.1895734597156398.\n"
     ]
    },
    {
     "name": "stdout",
     "output_type": "stream",
     "text": [
      "🏃 View run sedate-shrew-368 at: https://mlflow.spikehub.win/#/experiments/6/runs/af68d9b8994940e79b491585bdeb126d\n",
      "🧪 View experiment at: https://mlflow.spikehub.win/#/experiments/6\n"
     ]
    },
    {
     "name": "stderr",
     "output_type": "stream",
     "text": [
      "[I 2025-05-28 21:38:41,382] Trial 46 finished with value: 0.19330855018587362 and parameters: {'oversampling_method': 'None', 'undersampling_method': 'RandomUnderSampler'}. Best is trial 46 with value: 0.19330855018587362.\n"
     ]
    },
    {
     "name": "stdout",
     "output_type": "stream",
     "text": [
      "🏃 View run funny-stork-695 at: https://mlflow.spikehub.win/#/experiments/6/runs/362e156abd594def9b947fabd83844bf\n",
      "🧪 View experiment at: https://mlflow.spikehub.win/#/experiments/6\n"
     ]
    },
    {
     "name": "stderr",
     "output_type": "stream",
     "text": [
      "[I 2025-05-28 21:38:42,029] Trial 47 finished with value: 0.16853932584269662 and parameters: {'oversampling_method': 'ADASYN', 'undersampling_method': 'TomekLinks'}. Best is trial 46 with value: 0.19330855018587362.\n"
     ]
    },
    {
     "name": "stdout",
     "output_type": "stream",
     "text": [
      "🏃 View run indecisive-midge-951 at: https://mlflow.spikehub.win/#/experiments/6/runs/c82c3b183c7248589ebe9a2e4deb96be\n",
      "🧪 View experiment at: https://mlflow.spikehub.win/#/experiments/6\n"
     ]
    },
    {
     "name": "stderr",
     "output_type": "stream",
     "text": [
      "[I 2025-05-28 21:38:42,608] Trial 48 finished with value: 0.1511627906976744 and parameters: {'oversampling_method': 'SMOTE', 'undersampling_method': 'NearMiss'}. Best is trial 46 with value: 0.19330855018587362.\n"
     ]
    },
    {
     "name": "stdout",
     "output_type": "stream",
     "text": [
      "🏃 View run bold-hen-208 at: https://mlflow.spikehub.win/#/experiments/6/runs/a0a4d268909a4c35a2b059a618e2605d\n",
      "🧪 View experiment at: https://mlflow.spikehub.win/#/experiments/6\n"
     ]
    },
    {
     "name": "stderr",
     "output_type": "stream",
     "text": [
      "[I 2025-05-28 21:38:45,098] Trial 49 finished with value: 0.047619047619047616 and parameters: {'oversampling_method': 'SMOTEN', 'undersampling_method': 'OneSidedSelection'}. Best is trial 46 with value: 0.19330855018587362.\n"
     ]
    },
    {
     "name": "stdout",
     "output_type": "stream",
     "text": [
      "🏃 View run exultant-chimp-369 at: https://mlflow.spikehub.win/#/experiments/6/runs/b9d45d534e434ce5a3586fd604b96b66\n",
      "🧪 View experiment at: https://mlflow.spikehub.win/#/experiments/6\n"
     ]
    },
    {
     "name": "stderr",
     "output_type": "stream",
     "text": [
      "[I 2025-05-28 21:38:45,840] Trial 50 finished with value: 0.1708542713567839 and parameters: {'oversampling_method': 'SVMSMOTE', 'undersampling_method': 'RepeatedEditedNearestNeighbours'}. Best is trial 46 with value: 0.19330855018587362.\n"
     ]
    },
    {
     "name": "stdout",
     "output_type": "stream",
     "text": [
      "🏃 View run flawless-gnu-194 at: https://mlflow.spikehub.win/#/experiments/6/runs/08a46f87b30f4623a5ca795eaa2a14f4\n",
      "🧪 View experiment at: https://mlflow.spikehub.win/#/experiments/6\n"
     ]
    },
    {
     "name": "stderr",
     "output_type": "stream",
     "text": [
      "[I 2025-05-28 21:38:46,465] Trial 51 finished with value: 0.1566265060240964 and parameters: {'oversampling_method': 'SMOTE', 'undersampling_method': 'RepeatedEditedNearestNeighbours'}. Best is trial 46 with value: 0.19330855018587362.\n"
     ]
    },
    {
     "name": "stdout",
     "output_type": "stream",
     "text": [
      "🏃 View run efficient-chimp-895 at: https://mlflow.spikehub.win/#/experiments/6/runs/60599d877dda44c1ab9e77b13b033e36\n",
      "🧪 View experiment at: https://mlflow.spikehub.win/#/experiments/6\n"
     ]
    },
    {
     "name": "stderr",
     "output_type": "stream",
     "text": [
      "[I 2025-05-28 21:38:47,090] Trial 52 finished with value: 0.12345679012345678 and parameters: {'oversampling_method': 'None', 'undersampling_method': 'AllKNN'}. Best is trial 46 with value: 0.19330855018587362.\n"
     ]
    },
    {
     "name": "stdout",
     "output_type": "stream",
     "text": [
      "🏃 View run hilarious-flea-853 at: https://mlflow.spikehub.win/#/experiments/6/runs/dc4817b870094499bcd622e2f013a172\n",
      "🧪 View experiment at: https://mlflow.spikehub.win/#/experiments/6\n"
     ]
    },
    {
     "name": "stderr",
     "output_type": "stream",
     "text": [
      "[I 2025-05-28 21:38:47,682] Trial 53 finished with value: 0.16176470588235295 and parameters: {'oversampling_method': 'BorderlineSMOTE', 'undersampling_method': 'RandomUnderSampler'}. Best is trial 46 with value: 0.19330855018587362.\n"
     ]
    },
    {
     "name": "stdout",
     "output_type": "stream",
     "text": [
      "🏃 View run stately-jay-320 at: https://mlflow.spikehub.win/#/experiments/6/runs/8d86a5cc12ec497e991f89059ad11d5b\n",
      "🧪 View experiment at: https://mlflow.spikehub.win/#/experiments/6\n"
     ]
    },
    {
     "name": "stderr",
     "output_type": "stream",
     "text": [
      "[I 2025-05-28 21:38:48,249] Trial 54 finished with value: 0.06859205776173286 and parameters: {'oversampling_method': 'None', 'undersampling_method': 'NearMiss'}. Best is trial 46 with value: 0.19330855018587362.\n"
     ]
    },
    {
     "name": "stdout",
     "output_type": "stream",
     "text": [
      "🏃 View run gentle-eel-663 at: https://mlflow.spikehub.win/#/experiments/6/runs/b1a482b1b7504d9fb284959f1d356970\n",
      "🧪 View experiment at: https://mlflow.spikehub.win/#/experiments/6\n"
     ]
    },
    {
     "name": "stderr",
     "output_type": "stream",
     "text": [
      "[I 2025-05-28 21:38:48,859] Trial 55 finished with value: 0.16 and parameters: {'oversampling_method': 'SVMSMOTE', 'undersampling_method': 'None'}. Best is trial 46 with value: 0.19330855018587362.\n"
     ]
    },
    {
     "name": "stdout",
     "output_type": "stream",
     "text": [
      "🏃 View run aged-mouse-493 at: https://mlflow.spikehub.win/#/experiments/6/runs/b11b8736da54497a895691a13179796f\n",
      "🧪 View experiment at: https://mlflow.spikehub.win/#/experiments/6\n"
     ]
    },
    {
     "name": "stderr",
     "output_type": "stream",
     "text": [
      "[I 2025-05-28 21:38:49,475] Trial 56 finished with value: 0.1746031746031746 and parameters: {'oversampling_method': 'SVMSMOTE', 'undersampling_method': 'TomekLinks'}. Best is trial 46 with value: 0.19330855018587362.\n"
     ]
    },
    {
     "name": "stdout",
     "output_type": "stream",
     "text": [
      "🏃 View run bustling-jay-753 at: https://mlflow.spikehub.win/#/experiments/6/runs/29d416df594c4accb593f68d74cb3026\n",
      "🧪 View experiment at: https://mlflow.spikehub.win/#/experiments/6\n"
     ]
    },
    {
     "name": "stderr",
     "output_type": "stream",
     "text": [
      "[I 2025-05-28 21:39:54,084] Trial 57 finished with value: 0.11494252873563218 and parameters: {'oversampling_method': 'ADASYN', 'undersampling_method': 'CondensedNearestNeighbour'}. Best is trial 46 with value: 0.19330855018587362.\n"
     ]
    },
    {
     "name": "stdout",
     "output_type": "stream",
     "text": [
      "🏃 View run glamorous-owl-667 at: https://mlflow.spikehub.win/#/experiments/6/runs/1770ce6001bc484db4c0875382f40c2a\n",
      "🧪 View experiment at: https://mlflow.spikehub.win/#/experiments/6\n"
     ]
    },
    {
     "name": "stderr",
     "output_type": "stream",
     "text": [
      "[I 2025-05-28 21:39:54,763] Trial 58 finished with value: 0.13333333333333333 and parameters: {'oversampling_method': 'RandomOverSampler', 'undersampling_method': 'TomekLinks'}. Best is trial 46 with value: 0.19330855018587362.\n"
     ]
    },
    {
     "name": "stdout",
     "output_type": "stream",
     "text": [
      "🏃 View run peaceful-fox-722 at: https://mlflow.spikehub.win/#/experiments/6/runs/c90d60e44d554ad4991c370958558a21\n",
      "🧪 View experiment at: https://mlflow.spikehub.win/#/experiments/6\n"
     ]
    },
    {
     "name": "stderr",
     "output_type": "stream",
     "text": [
      "[I 2025-05-28 21:39:55,366] Trial 59 finished with value: 0.1566265060240964 and parameters: {'oversampling_method': 'SMOTE', 'undersampling_method': 'EditedNearestNeighbours'}. Best is trial 46 with value: 0.19330855018587362.\n"
     ]
    },
    {
     "name": "stdout",
     "output_type": "stream",
     "text": [
      "🏃 View run victorious-kit-223 at: https://mlflow.spikehub.win/#/experiments/6/runs/707ad00690cb4338b260f7b33d8bf87a\n",
      "🧪 View experiment at: https://mlflow.spikehub.win/#/experiments/6\n"
     ]
    },
    {
     "name": "stderr",
     "output_type": "stream",
     "text": [
      "[I 2025-05-28 21:40:49,119] Trial 60 finished with value: 0.03508771929824561 and parameters: {'oversampling_method': 'None', 'undersampling_method': 'CondensedNearestNeighbour'}. Best is trial 46 with value: 0.19330855018587362.\n"
     ]
    },
    {
     "name": "stdout",
     "output_type": "stream",
     "text": [
      "🏃 View run powerful-worm-141 at: https://mlflow.spikehub.win/#/experiments/6/runs/5b17636306824a0eb58795d9c581271c\n",
      "🧪 View experiment at: https://mlflow.spikehub.win/#/experiments/6\n"
     ]
    },
    {
     "name": "stderr",
     "output_type": "stream",
     "text": [
      "[I 2025-05-28 21:40:51,924] Trial 61 finished with value: 0.04938271604938271 and parameters: {'oversampling_method': 'SMOTEN', 'undersampling_method': 'NeighbourhoodCleaningRule'}. Best is trial 46 with value: 0.19330855018587362.\n"
     ]
    },
    {
     "name": "stdout",
     "output_type": "stream",
     "text": [
      "🏃 View run beautiful-fish-408 at: https://mlflow.spikehub.win/#/experiments/6/runs/6d8c6430eab24d13bc6153d244535a93\n",
      "🧪 View experiment at: https://mlflow.spikehub.win/#/experiments/6\n"
     ]
    },
    {
     "name": "stderr",
     "output_type": "stream",
     "text": [
      "[I 2025-05-28 21:40:52,432] Trial 62 finished with value: 0.16853932584269662 and parameters: {'oversampling_method': 'ADASYN', 'undersampling_method': 'RandomUnderSampler'}. Best is trial 46 with value: 0.19330855018587362.\n"
     ]
    },
    {
     "name": "stdout",
     "output_type": "stream",
     "text": [
      "🏃 View run defiant-kit-660 at: https://mlflow.spikehub.win/#/experiments/6/runs/b3abc153e54a46b6b20fcfe4975f9780\n",
      "🧪 View experiment at: https://mlflow.spikehub.win/#/experiments/6\n"
     ]
    },
    {
     "name": "stderr",
     "output_type": "stream",
     "text": [
      "[I 2025-05-28 21:40:54,834] Trial 63 finished with value: 0.047058823529411764 and parameters: {'oversampling_method': 'SMOTEN', 'undersampling_method': 'NearMiss'}. Best is trial 46 with value: 0.19330855018587362.\n"
     ]
    },
    {
     "name": "stdout",
     "output_type": "stream",
     "text": [
      "🏃 View run bemused-bear-819 at: https://mlflow.spikehub.win/#/experiments/6/runs/e58df8aedc9347e2a9e5ec1f97a06767\n",
      "🧪 View experiment at: https://mlflow.spikehub.win/#/experiments/6\n"
     ]
    },
    {
     "name": "stderr",
     "output_type": "stream",
     "text": [
      "[I 2025-05-28 21:40:55,478] Trial 64 finished with value: 0.16149068322981366 and parameters: {'oversampling_method': 'SVMSMOTE', 'undersampling_method': 'RandomUnderSampler'}. Best is trial 46 with value: 0.19330855018587362.\n"
     ]
    },
    {
     "name": "stdout",
     "output_type": "stream",
     "text": [
      "🏃 View run mercurial-owl-571 at: https://mlflow.spikehub.win/#/experiments/6/runs/d286a4070cb34ad19a79abd13beebfed\n",
      "🧪 View experiment at: https://mlflow.spikehub.win/#/experiments/6\n"
     ]
    },
    {
     "name": "stderr",
     "output_type": "stream",
     "text": [
      "[I 2025-05-28 21:41:26,049] Trial 65 finished with value: 0.0 and parameters: {'oversampling_method': 'SMOTEN', 'undersampling_method': 'CondensedNearestNeighbour'}. Best is trial 46 with value: 0.19330855018587362.\n"
     ]
    },
    {
     "name": "stdout",
     "output_type": "stream",
     "text": [
      "🏃 View run rare-tern-3 at: https://mlflow.spikehub.win/#/experiments/6/runs/90aa969941164c009471c6febad96f1d\n",
      "🧪 View experiment at: https://mlflow.spikehub.win/#/experiments/6\n"
     ]
    },
    {
     "name": "stderr",
     "output_type": "stream",
     "text": [
      "[I 2025-05-28 21:41:26,592] Trial 66 finished with value: 0.16759776536312848 and parameters: {'oversampling_method': 'ADASYN', 'undersampling_method': 'None'}. Best is trial 46 with value: 0.19330855018587362.\n"
     ]
    },
    {
     "name": "stdout",
     "output_type": "stream",
     "text": [
      "🏃 View run rebellious-bass-846 at: https://mlflow.spikehub.win/#/experiments/6/runs/6f854ad63fa943ae91f82a4e24ff75da\n",
      "🧪 View experiment at: https://mlflow.spikehub.win/#/experiments/6\n"
     ]
    },
    {
     "name": "stderr",
     "output_type": "stream",
     "text": [
      "[I 2025-05-28 21:41:27,280] Trial 67 finished with value: 0.12903225806451613 and parameters: {'oversampling_method': 'None', 'undersampling_method': 'NeighbourhoodCleaningRule'}. Best is trial 46 with value: 0.19330855018587362.\n"
     ]
    },
    {
     "name": "stdout",
     "output_type": "stream",
     "text": [
      "🏃 View run unequaled-doe-850 at: https://mlflow.spikehub.win/#/experiments/6/runs/bbc491a7466946edbf8f1f87576fea32\n",
      "🧪 View experiment at: https://mlflow.spikehub.win/#/experiments/6\n"
     ]
    },
    {
     "name": "stderr",
     "output_type": "stream",
     "text": [
      "[I 2025-05-28 21:41:27,875] Trial 68 finished with value: 0.17054263565891473 and parameters: {'oversampling_method': 'BorderlineSMOTE', 'undersampling_method': 'RepeatedEditedNearestNeighbours'}. Best is trial 46 with value: 0.19330855018587362.\n"
     ]
    },
    {
     "name": "stdout",
     "output_type": "stream",
     "text": [
      "🏃 View run youthful-gnat-289 at: https://mlflow.spikehub.win/#/experiments/6/runs/295579b6e5bb4b57b06f4eeb7debbe4a\n",
      "🧪 View experiment at: https://mlflow.spikehub.win/#/experiments/6\n"
     ]
    },
    {
     "name": "stderr",
     "output_type": "stream",
     "text": [
      "[I 2025-05-28 21:41:28,776] Trial 69 finished with value: 0.17543859649122806 and parameters: {'oversampling_method': 'BorderlineSMOTE', 'undersampling_method': 'NeighbourhoodCleaningRule'}. Best is trial 46 with value: 0.19330855018587362.\n"
     ]
    },
    {
     "name": "stdout",
     "output_type": "stream",
     "text": [
      "🏃 View run placid-grouse-887 at: https://mlflow.spikehub.win/#/experiments/6/runs/565fab1013a0407b9c9beff338ada4d9\n",
      "🧪 View experiment at: https://mlflow.spikehub.win/#/experiments/6\n",
      "🏃 View run Neighbors Classifier Run at: https://mlflow.spikehub.win/#/experiments/6/runs/6eb8d48a100442ebb8ec019b63984518\n",
      "🧪 View experiment at: https://mlflow.spikehub.win/#/experiments/6\n"
     ]
    }
   ],
   "source": [
    "from sklearn.neighbors import KNeighborsClassifier\n",
    "\n",
    "objective = create_objective(lambda: KNeighborsClassifier(), experiment_id)\n",
    "\n",
    "run_name = \"Neighbors Classifier Run\"\n",
    "\n",
    "with mlflow.start_run(experiment_id=experiment_id, run_name=run_name, nested=True):\n",
    "    study = optuna.create_study(\n",
    "        direction=\"maximize\", sampler=optuna.samplers.GridSampler(search_space)\n",
    "    )\n",
    "    study.optimize(objective, n_trials=len(oversampler_list) * len(undersampler_list))\n",
    "\n",
    "    mlflow.log_params(study.best_params)\n",
    "    mlflow.log_metric(\"best_f1_score\", study.best_value)\n",
    "\n",
    "    mlflow.set_tags(\n",
    "        tags={\n",
    "            \"project\": \"stroke_prediction\",\n",
    "            \"optimizer_engine\": \"optuna\",\n",
    "            \"model_family\": \"KNeighborsClassifier\",\n",
    "        }\n",
    "    )"
   ]
  },
  {
   "cell_type": "markdown",
   "id": "9337fb29",
   "metadata": {},
   "source": [
    "## CatBoost\n",
    "Finally, we will try CatBoost classifier which we likely to use in production. We will see how it performs with the samplers and if it can outperform the previous models."
   ]
  },
  {
   "cell_type": "code",
   "execution_count": 6,
   "id": "e3a20e92",
   "metadata": {},
   "outputs": [],
   "source": [
    "from catboost import CatBoostClassifier, Pool\n",
    "\n",
    "val_data = Pool(\n",
    "    data=X_val,\n",
    "    label=y_val,\n",
    ")\n",
    "\n",
    "test_data = Pool(\n",
    "    data=X_test,\n",
    "    label=y_test,\n",
    ")\n",
    "\n",
    "\n",
    "def catboost_objective(trial: optuna.Trial) -> float:\n",
    "    with mlflow.start_run(nested=True, experiment_id=experiment_id):\n",
    "        oversampling_method = trial.suggest_categorical(\"oversampling_method\", oversampler_list)\n",
    "        undersammpling_method = trial.suggest_categorical(\n",
    "            \"undersampling_method\",\n",
    "            undersampler_list,\n",
    "        )\n",
    "\n",
    "        # Check if it has random_state parameter\n",
    "        try:\n",
    "            oversampler_instance = oversampler[oversampling_method](random_state=42)\n",
    "        except TypeError:\n",
    "            oversampler_instance = oversampler[oversampling_method]()\n",
    "\n",
    "        try:\n",
    "            undersampler_instance = undersampler[undersammpling_method](random_state=42)\n",
    "        except TypeError:\n",
    "            undersampler_instance = undersampler[undersammpling_method]()\n",
    "\n",
    "        X_train_resampled, y_train_resampled = oversampler_instance.fit_resample(X_train, y_train)\n",
    "        X_train_resampled, y_train_resampled = undersampler_instance.fit_resample(\n",
    "            X_train_resampled, y_train_resampled\n",
    "        )\n",
    "\n",
    "        clf = CatBoostClassifier(\n",
    "            random_seed=42,\n",
    "            verbose=0,\n",
    "            auto_class_weights=\"Balanced\",\n",
    "            eval_metric=\"F1\",\n",
    "        )\n",
    "\n",
    "        clf.fit(X_train_resampled, y_train_resampled, eval_set=val_data, early_stopping_rounds=100)\n",
    "        y_pred = clf.predict(X_val)\n",
    "        f1_score_val = f1_score(y_val, y_pred)\n",
    "\n",
    "        mlflow.log_params(\n",
    "            {\n",
    "                \"oversampling_method\": oversampling_method,\n",
    "                \"undersampling_method\": undersammpling_method,\n",
    "            }\n",
    "        )\n",
    "        mlflow.log_metric(\"f1\", f1_score_val)\n",
    "\n",
    "    return f1_score_val"
   ]
  },
  {
   "cell_type": "code",
   "execution_count": 7,
   "id": "323587f9",
   "metadata": {},
   "outputs": [
    {
     "name": "stderr",
     "output_type": "stream",
     "text": [
      "[I 2025-05-28 22:12:08,049] A new study created in memory with name: no-name-9e1624f2-241f-4eb6-9de0-015f038f7031\n",
      "[I 2025-05-28 22:12:11,316] Trial 0 finished with value: 0.16304347826086957 and parameters: {'oversampling_method': 'SMOTEN', 'undersampling_method': 'RandomUnderSampler'}. Best is trial 0 with value: 0.16304347826086957.\n"
     ]
    },
    {
     "name": "stdout",
     "output_type": "stream",
     "text": [
      "🏃 View run caring-ape-983 at: https://mlflow.spikehub.win/#/experiments/6/runs/c646ccf03c764fd1ba71c528b8d61018\n",
      "🧪 View experiment at: https://mlflow.spikehub.win/#/experiments/6\n"
     ]
    },
    {
     "name": "stderr",
     "output_type": "stream",
     "text": [
      "[I 2025-05-28 22:12:14,761] Trial 1 finished with value: 0.13008130081300814 and parameters: {'oversampling_method': 'SMOTEN', 'undersampling_method': 'RepeatedEditedNearestNeighbours'}. Best is trial 0 with value: 0.16304347826086957.\n"
     ]
    },
    {
     "name": "stdout",
     "output_type": "stream",
     "text": [
      "🏃 View run big-dog-334 at: https://mlflow.spikehub.win/#/experiments/6/runs/fd9b1f4602c44673990fde2f0a113d2d\n",
      "🧪 View experiment at: https://mlflow.spikehub.win/#/experiments/6\n"
     ]
    },
    {
     "name": "stderr",
     "output_type": "stream",
     "text": [
      "[I 2025-05-28 22:12:16,061] Trial 2 finished with value: 0.2898550724637681 and parameters: {'oversampling_method': 'BorderlineSMOTE', 'undersampling_method': 'TomekLinks'}. Best is trial 2 with value: 0.2898550724637681.\n"
     ]
    },
    {
     "name": "stdout",
     "output_type": "stream",
     "text": [
      "🏃 View run whimsical-seal-871 at: https://mlflow.spikehub.win/#/experiments/6/runs/755642c9e2294d239e3fc121e4f290f5\n",
      "🧪 View experiment at: https://mlflow.spikehub.win/#/experiments/6\n"
     ]
    },
    {
     "name": "stderr",
     "output_type": "stream",
     "text": [
      "[I 2025-05-28 22:12:18,946] Trial 3 finished with value: 0.13008130081300814 and parameters: {'oversampling_method': 'SMOTEN', 'undersampling_method': 'EditedNearestNeighbours'}. Best is trial 2 with value: 0.2898550724637681.\n"
     ]
    },
    {
     "name": "stdout",
     "output_type": "stream",
     "text": [
      "🏃 View run sedate-bat-925 at: https://mlflow.spikehub.win/#/experiments/6/runs/5dc6013068d04d0984cc0568e2186c91\n",
      "🧪 View experiment at: https://mlflow.spikehub.win/#/experiments/6\n"
     ]
    },
    {
     "name": "stderr",
     "output_type": "stream",
     "text": [
      "[I 2025-05-28 22:12:20,202] Trial 4 finished with value: 0.2638888888888889 and parameters: {'oversampling_method': 'SVMSMOTE', 'undersampling_method': 'AllKNN'}. Best is trial 2 with value: 0.2898550724637681.\n"
     ]
    },
    {
     "name": "stdout",
     "output_type": "stream",
     "text": [
      "🏃 View run trusting-snail-622 at: https://mlflow.spikehub.win/#/experiments/6/runs/ff1e54bc8a90467f89372a1c363c5a1a\n",
      "🧪 View experiment at: https://mlflow.spikehub.win/#/experiments/6\n"
     ]
    },
    {
     "name": "stderr",
     "output_type": "stream",
     "text": [
      "[I 2025-05-28 22:12:41,837] Trial 5 finished with value: 0.2184873949579832 and parameters: {'oversampling_method': 'RandomOverSampler', 'undersampling_method': 'CondensedNearestNeighbour'}. Best is trial 2 with value: 0.2898550724637681.\n"
     ]
    },
    {
     "name": "stdout",
     "output_type": "stream",
     "text": [
      "🏃 View run nosy-bug-888 at: https://mlflow.spikehub.win/#/experiments/6/runs/06b647793d0d438793fba8a6f43d45ee\n",
      "🧪 View experiment at: https://mlflow.spikehub.win/#/experiments/6\n"
     ]
    },
    {
     "name": "stderr",
     "output_type": "stream",
     "text": [
      "[I 2025-05-28 22:12:42,902] Trial 6 finished with value: 0.2608695652173913 and parameters: {'oversampling_method': 'ADASYN', 'undersampling_method': 'RepeatedEditedNearestNeighbours'}. Best is trial 2 with value: 0.2898550724637681.\n"
     ]
    },
    {
     "name": "stdout",
     "output_type": "stream",
     "text": [
      "🏃 View run defiant-roo-516 at: https://mlflow.spikehub.win/#/experiments/6/runs/0de569f65dd34ed6aafcc9e2d3bb0ded\n",
      "🧪 View experiment at: https://mlflow.spikehub.win/#/experiments/6\n"
     ]
    },
    {
     "name": "stderr",
     "output_type": "stream",
     "text": [
      "[I 2025-05-28 22:12:43,803] Trial 7 finished with value: 0.2304147465437788 and parameters: {'oversampling_method': 'RandomOverSampler', 'undersampling_method': 'None'}. Best is trial 2 with value: 0.2898550724637681.\n"
     ]
    },
    {
     "name": "stdout",
     "output_type": "stream",
     "text": [
      "🏃 View run bemused-bass-801 at: https://mlflow.spikehub.win/#/experiments/6/runs/2bec78c36d2b425eb34ca3454983e5e5\n",
      "🧪 View experiment at: https://mlflow.spikehub.win/#/experiments/6\n"
     ]
    },
    {
     "name": "stderr",
     "output_type": "stream",
     "text": [
      "[I 2025-05-28 22:12:45,249] Trial 8 finished with value: 0.2589928057553957 and parameters: {'oversampling_method': 'SVMSMOTE', 'undersampling_method': 'NeighbourhoodCleaningRule'}. Best is trial 2 with value: 0.2898550724637681.\n"
     ]
    },
    {
     "name": "stdout",
     "output_type": "stream",
     "text": [
      "🏃 View run luxuriant-croc-178 at: https://mlflow.spikehub.win/#/experiments/6/runs/3f1c4a2ec37c465a88f37eedc81de60e\n",
      "🧪 View experiment at: https://mlflow.spikehub.win/#/experiments/6\n"
     ]
    },
    {
     "name": "stderr",
     "output_type": "stream",
     "text": [
      "[I 2025-05-28 22:12:46,090] Trial 9 finished with value: 0.2 and parameters: {'oversampling_method': 'None', 'undersampling_method': 'None'}. Best is trial 2 with value: 0.2898550724637681.\n"
     ]
    },
    {
     "name": "stdout",
     "output_type": "stream",
     "text": [
      "🏃 View run mysterious-worm-236 at: https://mlflow.spikehub.win/#/experiments/6/runs/6a5b2bdfcbb14de09166b8728d34a42e\n",
      "🧪 View experiment at: https://mlflow.spikehub.win/#/experiments/6\n"
     ]
    },
    {
     "name": "stderr",
     "output_type": "stream",
     "text": [
      "[I 2025-05-28 22:12:47,150] Trial 10 finished with value: 0.22857142857142856 and parameters: {'oversampling_method': 'RandomOverSampler', 'undersampling_method': 'RandomUnderSampler'}. Best is trial 2 with value: 0.2898550724637681.\n"
     ]
    },
    {
     "name": "stdout",
     "output_type": "stream",
     "text": [
      "🏃 View run merciful-cub-404 at: https://mlflow.spikehub.win/#/experiments/6/runs/6c195b6d362a4176b816b6b22d2ce58d\n",
      "🧪 View experiment at: https://mlflow.spikehub.win/#/experiments/6\n"
     ]
    },
    {
     "name": "stderr",
     "output_type": "stream",
     "text": [
      "[I 2025-05-28 22:12:49,977] Trial 11 finished with value: 0.15 and parameters: {'oversampling_method': 'SMOTEN', 'undersampling_method': 'TomekLinks'}. Best is trial 2 with value: 0.2898550724637681.\n"
     ]
    },
    {
     "name": "stdout",
     "output_type": "stream",
     "text": [
      "🏃 View run adventurous-worm-969 at: https://mlflow.spikehub.win/#/experiments/6/runs/e7e1f9ae3cb04704a704f2ff221ad1fd\n",
      "🧪 View experiment at: https://mlflow.spikehub.win/#/experiments/6\n"
     ]
    },
    {
     "name": "stderr",
     "output_type": "stream",
     "text": [
      "[I 2025-05-28 22:13:55,600] Trial 12 finished with value: 0.05 and parameters: {'oversampling_method': 'SVMSMOTE', 'undersampling_method': 'CondensedNearestNeighbour'}. Best is trial 2 with value: 0.2898550724637681.\n"
     ]
    },
    {
     "name": "stdout",
     "output_type": "stream",
     "text": [
      "🏃 View run delightful-moth-839 at: https://mlflow.spikehub.win/#/experiments/6/runs/0d784d13f3f24c4e86ba66576543f837\n",
      "🧪 View experiment at: https://mlflow.spikehub.win/#/experiments/6\n"
     ]
    },
    {
     "name": "stderr",
     "output_type": "stream",
     "text": [
      "[I 2025-05-28 22:13:57,032] Trial 13 finished with value: 0.3125 and parameters: {'oversampling_method': 'BorderlineSMOTE', 'undersampling_method': 'EditedNearestNeighbours'}. Best is trial 13 with value: 0.3125.\n"
     ]
    },
    {
     "name": "stdout",
     "output_type": "stream",
     "text": [
      "🏃 View run bemused-bee-785 at: https://mlflow.spikehub.win/#/experiments/6/runs/316bfac037f7452fa11043bab7ce5322\n",
      "🧪 View experiment at: https://mlflow.spikehub.win/#/experiments/6\n"
     ]
    },
    {
     "name": "stderr",
     "output_type": "stream",
     "text": [
      "[I 2025-05-28 22:13:58,075] Trial 14 finished with value: 0.3076923076923077 and parameters: {'oversampling_method': 'SVMSMOTE', 'undersampling_method': 'NearMiss'}. Best is trial 13 with value: 0.3125.\n"
     ]
    },
    {
     "name": "stdout",
     "output_type": "stream",
     "text": [
      "🏃 View run fearless-yak-835 at: https://mlflow.spikehub.win/#/experiments/6/runs/84037b2a54e848069613318622d48a6e\n",
      "🧪 View experiment at: https://mlflow.spikehub.win/#/experiments/6\n"
     ]
    },
    {
     "name": "stderr",
     "output_type": "stream",
     "text": [
      "[I 2025-05-28 22:13:59,280] Trial 15 finished with value: 0.21674876847290642 and parameters: {'oversampling_method': 'RandomOverSampler', 'undersampling_method': 'OneSidedSelection'}. Best is trial 13 with value: 0.3125.\n"
     ]
    },
    {
     "name": "stdout",
     "output_type": "stream",
     "text": [
      "🏃 View run melodic-wasp-383 at: https://mlflow.spikehub.win/#/experiments/6/runs/91eeaa908c8c4947ac7b22becb702f82\n",
      "🧪 View experiment at: https://mlflow.spikehub.win/#/experiments/6\n"
     ]
    },
    {
     "name": "stderr",
     "output_type": "stream",
     "text": [
      "[I 2025-05-28 22:14:00,144] Trial 16 finished with value: 0.199288256227758 and parameters: {'oversampling_method': 'None', 'undersampling_method': 'TomekLinks'}. Best is trial 13 with value: 0.3125.\n"
     ]
    },
    {
     "name": "stdout",
     "output_type": "stream",
     "text": [
      "🏃 View run legendary-boar-481 at: https://mlflow.spikehub.win/#/experiments/6/runs/9c6b52f57eec4aa898bfa2009c8f519f\n",
      "🧪 View experiment at: https://mlflow.spikehub.win/#/experiments/6\n"
     ]
    },
    {
     "name": "stderr",
     "output_type": "stream",
     "text": [
      "[I 2025-05-28 22:14:00,932] Trial 17 finished with value: 0.19243986254295534 and parameters: {'oversampling_method': 'None', 'undersampling_method': 'EditedNearestNeighbours'}. Best is trial 13 with value: 0.3125.\n"
     ]
    },
    {
     "name": "stdout",
     "output_type": "stream",
     "text": [
      "🏃 View run invincible-skunk-668 at: https://mlflow.spikehub.win/#/experiments/6/runs/38f7174560a44a3986f76632143f041f\n",
      "🧪 View experiment at: https://mlflow.spikehub.win/#/experiments/6\n"
     ]
    },
    {
     "name": "stderr",
     "output_type": "stream",
     "text": [
      "[I 2025-05-28 22:14:02,116] Trial 18 finished with value: 0.3055555555555556 and parameters: {'oversampling_method': 'BorderlineSMOTE', 'undersampling_method': 'NearMiss'}. Best is trial 13 with value: 0.3125.\n"
     ]
    },
    {
     "name": "stdout",
     "output_type": "stream",
     "text": [
      "🏃 View run powerful-mole-798 at: https://mlflow.spikehub.win/#/experiments/6/runs/8f434dae0705428b96d802719630fe2e\n",
      "🧪 View experiment at: https://mlflow.spikehub.win/#/experiments/6\n"
     ]
    },
    {
     "name": "stderr",
     "output_type": "stream",
     "text": [
      "[I 2025-05-28 22:14:03,645] Trial 19 finished with value: 0.275 and parameters: {'oversampling_method': 'ADASYN', 'undersampling_method': 'NeighbourhoodCleaningRule'}. Best is trial 13 with value: 0.3125.\n"
     ]
    },
    {
     "name": "stdout",
     "output_type": "stream",
     "text": [
      "🏃 View run skillful-vole-728 at: https://mlflow.spikehub.win/#/experiments/6/runs/0d7712c0495e4e3c877b2b3ab758a496\n",
      "🧪 View experiment at: https://mlflow.spikehub.win/#/experiments/6\n"
     ]
    },
    {
     "name": "stderr",
     "output_type": "stream",
     "text": [
      "[I 2025-05-28 22:14:04,643] Trial 20 finished with value: 0.2028985507246377 and parameters: {'oversampling_method': 'None', 'undersampling_method': 'OneSidedSelection'}. Best is trial 13 with value: 0.3125.\n"
     ]
    },
    {
     "name": "stdout",
     "output_type": "stream",
     "text": [
      "🏃 View run capable-horse-278 at: https://mlflow.spikehub.win/#/experiments/6/runs/09b5d5b041c04eae8bc29e284f662299\n",
      "🧪 View experiment at: https://mlflow.spikehub.win/#/experiments/6\n"
     ]
    },
    {
     "name": "stderr",
     "output_type": "stream",
     "text": [
      "[I 2025-05-28 22:14:05,778] Trial 21 finished with value: 0.23204419889502761 and parameters: {'oversampling_method': 'RandomOverSampler', 'undersampling_method': 'AllKNN'}. Best is trial 13 with value: 0.3125.\n"
     ]
    },
    {
     "name": "stdout",
     "output_type": "stream",
     "text": [
      "🏃 View run caring-sponge-531 at: https://mlflow.spikehub.win/#/experiments/6/runs/306e1714a9d24cc09be17375e0957048\n",
      "🧪 View experiment at: https://mlflow.spikehub.win/#/experiments/6\n"
     ]
    },
    {
     "name": "stderr",
     "output_type": "stream",
     "text": [
      "[I 2025-05-28 22:14:06,940] Trial 22 finished with value: 0.2608695652173913 and parameters: {'oversampling_method': 'ADASYN', 'undersampling_method': 'EditedNearestNeighbours'}. Best is trial 13 with value: 0.3125.\n"
     ]
    },
    {
     "name": "stdout",
     "output_type": "stream",
     "text": [
      "🏃 View run beautiful-robin-91 at: https://mlflow.spikehub.win/#/experiments/6/runs/8792fdd509224ade8b30770634ed2284\n",
      "🧪 View experiment at: https://mlflow.spikehub.win/#/experiments/6\n"
     ]
    },
    {
     "name": "stderr",
     "output_type": "stream",
     "text": [
      "[I 2025-05-28 22:14:08,283] Trial 23 finished with value: 0.3 and parameters: {'oversampling_method': 'BorderlineSMOTE', 'undersampling_method': 'AllKNN'}. Best is trial 13 with value: 0.3125.\n"
     ]
    },
    {
     "name": "stdout",
     "output_type": "stream",
     "text": [
      "🏃 View run bald-wasp-692 at: https://mlflow.spikehub.win/#/experiments/6/runs/6d716d9421ae41c7bc8a27e9c83c4386\n",
      "🧪 View experiment at: https://mlflow.spikehub.win/#/experiments/6\n"
     ]
    },
    {
     "name": "stderr",
     "output_type": "stream",
     "text": [
      "[I 2025-05-28 22:15:16,506] Trial 24 finished with value: 0.20883534136546184 and parameters: {'oversampling_method': 'SMOTE', 'undersampling_method': 'CondensedNearestNeighbour'}. Best is trial 13 with value: 0.3125.\n"
     ]
    },
    {
     "name": "stdout",
     "output_type": "stream",
     "text": [
      "🏃 View run indecisive-mouse-435 at: https://mlflow.spikehub.win/#/experiments/6/runs/051af3b7720e4da9a1fe7843ca6f3bac\n",
      "🧪 View experiment at: https://mlflow.spikehub.win/#/experiments/6\n"
     ]
    },
    {
     "name": "stderr",
     "output_type": "stream",
     "text": [
      "[I 2025-05-28 22:15:17,842] Trial 25 finished with value: 0.29850746268656714 and parameters: {'oversampling_method': 'ADASYN', 'undersampling_method': 'NearMiss'}. Best is trial 13 with value: 0.3125.\n"
     ]
    },
    {
     "name": "stdout",
     "output_type": "stream",
     "text": [
      "🏃 View run magnificent-fish-344 at: https://mlflow.spikehub.win/#/experiments/6/runs/5e9c1fee4c864d4ab33b2e50e7fffa2f\n",
      "🧪 View experiment at: https://mlflow.spikehub.win/#/experiments/6\n"
     ]
    },
    {
     "name": "stderr",
     "output_type": "stream",
     "text": [
      "[I 2025-05-28 22:15:19,485] Trial 26 finished with value: 0.2251655629139073 and parameters: {'oversampling_method': 'RandomOverSampler', 'undersampling_method': 'NeighbourhoodCleaningRule'}. Best is trial 13 with value: 0.3125.\n"
     ]
    },
    {
     "name": "stdout",
     "output_type": "stream",
     "text": [
      "🏃 View run valuable-robin-123 at: https://mlflow.spikehub.win/#/experiments/6/runs/5e195fed4a9148bcb186e8ea92ee60b9\n",
      "🧪 View experiment at: https://mlflow.spikehub.win/#/experiments/6\n"
     ]
    },
    {
     "name": "stderr",
     "output_type": "stream",
     "text": [
      "[I 2025-05-28 22:15:20,921] Trial 27 finished with value: 0.3125 and parameters: {'oversampling_method': 'BorderlineSMOTE', 'undersampling_method': 'OneSidedSelection'}. Best is trial 13 with value: 0.3125.\n"
     ]
    },
    {
     "name": "stdout",
     "output_type": "stream",
     "text": [
      "🏃 View run receptive-moose-574 at: https://mlflow.spikehub.win/#/experiments/6/runs/c369781c5ba8461da30d9965863e18a0\n",
      "🧪 View experiment at: https://mlflow.spikehub.win/#/experiments/6\n"
     ]
    },
    {
     "name": "stderr",
     "output_type": "stream",
     "text": [
      "[I 2025-05-28 22:15:22,053] Trial 28 finished with value: 0.26666666666666666 and parameters: {'oversampling_method': 'SMOTE', 'undersampling_method': 'AllKNN'}. Best is trial 13 with value: 0.3125.\n"
     ]
    },
    {
     "name": "stdout",
     "output_type": "stream",
     "text": [
      "🏃 View run amazing-chimp-570 at: https://mlflow.spikehub.win/#/experiments/6/runs/51d997fd39aa483d8101d3b7d040eef7\n",
      "🧪 View experiment at: https://mlflow.spikehub.win/#/experiments/6\n"
     ]
    },
    {
     "name": "stderr",
     "output_type": "stream",
     "text": [
      "[I 2025-05-28 22:16:08,143] Trial 29 finished with value: 0.21686746987951808 and parameters: {'oversampling_method': 'BorderlineSMOTE', 'undersampling_method': 'CondensedNearestNeighbour'}. Best is trial 13 with value: 0.3125.\n"
     ]
    },
    {
     "name": "stdout",
     "output_type": "stream",
     "text": [
      "🏃 View run polite-gnat-5 at: https://mlflow.spikehub.win/#/experiments/6/runs/246ca081514c492c9333bcb958b2a1dd\n",
      "🧪 View experiment at: https://mlflow.spikehub.win/#/experiments/6\n"
     ]
    },
    {
     "name": "stderr",
     "output_type": "stream",
     "text": [
      "[I 2025-05-28 22:16:09,290] Trial 30 finished with value: 0.2898550724637681 and parameters: {'oversampling_method': 'BorderlineSMOTE', 'undersampling_method': 'None'}. Best is trial 13 with value: 0.3125.\n"
     ]
    },
    {
     "name": "stdout",
     "output_type": "stream",
     "text": [
      "🏃 View run vaunted-hen-774 at: https://mlflow.spikehub.win/#/experiments/6/runs/2082766c8a4f4d929c369ac11116d621\n",
      "🧪 View experiment at: https://mlflow.spikehub.win/#/experiments/6\n"
     ]
    },
    {
     "name": "stderr",
     "output_type": "stream",
     "text": [
      "[I 2025-05-28 22:16:10,637] Trial 31 finished with value: 0.24705882352941178 and parameters: {'oversampling_method': 'RandomOverSampler', 'undersampling_method': 'NearMiss'}. Best is trial 13 with value: 0.3125.\n"
     ]
    },
    {
     "name": "stdout",
     "output_type": "stream",
     "text": [
      "🏃 View run delicate-ox-634 at: https://mlflow.spikehub.win/#/experiments/6/runs/0e1f9fb274404a0797c7c4cd5af8af4e\n",
      "🧪 View experiment at: https://mlflow.spikehub.win/#/experiments/6\n"
     ]
    },
    {
     "name": "stderr",
     "output_type": "stream",
     "text": [
      "[I 2025-05-28 22:16:11,801] Trial 32 finished with value: 0.23204419889502761 and parameters: {'oversampling_method': 'RandomOverSampler', 'undersampling_method': 'RepeatedEditedNearestNeighbours'}. Best is trial 13 with value: 0.3125.\n"
     ]
    },
    {
     "name": "stdout",
     "output_type": "stream",
     "text": [
      "🏃 View run handsome-turtle-114 at: https://mlflow.spikehub.win/#/experiments/6/runs/ca52363fe66b4f5c838ae472d4a47912\n",
      "🧪 View experiment at: https://mlflow.spikehub.win/#/experiments/6\n"
     ]
    },
    {
     "name": "stderr",
     "output_type": "stream",
     "text": [
      "[I 2025-05-28 22:16:13,278] Trial 33 finished with value: 0.26356589147286824 and parameters: {'oversampling_method': 'SVMSMOTE', 'undersampling_method': 'EditedNearestNeighbours'}. Best is trial 13 with value: 0.3125.\n"
     ]
    },
    {
     "name": "stdout",
     "output_type": "stream",
     "text": [
      "🏃 View run popular-pug-152 at: https://mlflow.spikehub.win/#/experiments/6/runs/383a3499e87a4fa9bd2077f7bea0c6e0\n",
      "🧪 View experiment at: https://mlflow.spikehub.win/#/experiments/6\n"
     ]
    },
    {
     "name": "stderr",
     "output_type": "stream",
     "text": [
      "[I 2025-05-28 22:16:15,044] Trial 34 finished with value: 0.275 and parameters: {'oversampling_method': 'SMOTE', 'undersampling_method': 'NeighbourhoodCleaningRule'}. Best is trial 13 with value: 0.3125.\n"
     ]
    },
    {
     "name": "stdout",
     "output_type": "stream",
     "text": [
      "🏃 View run salty-flea-884 at: https://mlflow.spikehub.win/#/experiments/6/runs/f65c143d5b4b42ceb236ee6bfbc1161b\n",
      "🧪 View experiment at: https://mlflow.spikehub.win/#/experiments/6\n"
     ]
    },
    {
     "name": "stderr",
     "output_type": "stream",
     "text": [
      "[I 2025-05-28 22:16:16,058] Trial 35 finished with value: 0.1978798586572438 and parameters: {'oversampling_method': 'None', 'undersampling_method': 'RepeatedEditedNearestNeighbours'}. Best is trial 13 with value: 0.3125.\n"
     ]
    },
    {
     "name": "stdout",
     "output_type": "stream",
     "text": [
      "🏃 View run bustling-jay-2 at: https://mlflow.spikehub.win/#/experiments/6/runs/afb6512437f446d397642c4e8eba8bb0\n",
      "🧪 View experiment at: https://mlflow.spikehub.win/#/experiments/6\n"
     ]
    },
    {
     "name": "stderr",
     "output_type": "stream",
     "text": [
      "[I 2025-05-28 22:16:17,309] Trial 36 finished with value: 0.30303030303030304 and parameters: {'oversampling_method': 'SMOTE', 'undersampling_method': 'None'}. Best is trial 13 with value: 0.3125.\n"
     ]
    },
    {
     "name": "stdout",
     "output_type": "stream",
     "text": [
      "🏃 View run aged-yak-845 at: https://mlflow.spikehub.win/#/experiments/6/runs/38a3082bc6a04458bca60dc0e5a599b9\n",
      "🧪 View experiment at: https://mlflow.spikehub.win/#/experiments/6\n"
     ]
    },
    {
     "name": "stderr",
     "output_type": "stream",
     "text": [
      "[I 2025-05-28 22:16:20,134] Trial 37 finished with value: 0.1415929203539823 and parameters: {'oversampling_method': 'SMOTEN', 'undersampling_method': 'None'}. Best is trial 13 with value: 0.3125.\n"
     ]
    },
    {
     "name": "stdout",
     "output_type": "stream",
     "text": [
      "🏃 View run powerful-panda-379 at: https://mlflow.spikehub.win/#/experiments/6/runs/2916470aea464ff2bc971bf3fcbbdc92\n",
      "🧪 View experiment at: https://mlflow.spikehub.win/#/experiments/6\n"
     ]
    },
    {
     "name": "stderr",
     "output_type": "stream",
     "text": [
      "[I 2025-05-28 22:16:21,270] Trial 38 finished with value: 0.23204419889502761 and parameters: {'oversampling_method': 'RandomOverSampler', 'undersampling_method': 'EditedNearestNeighbours'}. Best is trial 13 with value: 0.3125.\n"
     ]
    },
    {
     "name": "stdout",
     "output_type": "stream",
     "text": [
      "🏃 View run upbeat-slug-508 at: https://mlflow.spikehub.win/#/experiments/6/runs/9af3f63eb805422f959e8ab1ebd991fc\n",
      "🧪 View experiment at: https://mlflow.spikehub.win/#/experiments/6\n"
     ]
    },
    {
     "name": "stderr",
     "output_type": "stream",
     "text": [
      "[I 2025-05-28 22:16:22,619] Trial 39 finished with value: 0.275 and parameters: {'oversampling_method': 'SVMSMOTE', 'undersampling_method': 'OneSidedSelection'}. Best is trial 13 with value: 0.3125.\n"
     ]
    },
    {
     "name": "stdout",
     "output_type": "stream",
     "text": [
      "🏃 View run unique-gnu-790 at: https://mlflow.spikehub.win/#/experiments/6/runs/40b69b85fc3a4a5293e4925971c51139\n",
      "🧪 View experiment at: https://mlflow.spikehub.win/#/experiments/6\n"
     ]
    },
    {
     "name": "stderr",
     "output_type": "stream",
     "text": [
      "[I 2025-05-28 22:16:23,938] Trial 40 finished with value: 0.2631578947368421 and parameters: {'oversampling_method': 'SMOTE', 'undersampling_method': 'TomekLinks'}. Best is trial 13 with value: 0.3125.\n"
     ]
    },
    {
     "name": "stdout",
     "output_type": "stream",
     "text": [
      "🏃 View run caring-panda-513 at: https://mlflow.spikehub.win/#/experiments/6/runs/b2405c2f3e8047b8931b2a0bb9a30d06\n",
      "🧪 View experiment at: https://mlflow.spikehub.win/#/experiments/6\n"
     ]
    },
    {
     "name": "stderr",
     "output_type": "stream",
     "text": [
      "[I 2025-05-28 22:16:25,077] Trial 41 finished with value: 0.2631578947368421 and parameters: {'oversampling_method': 'ADASYN', 'undersampling_method': 'AllKNN'}. Best is trial 13 with value: 0.3125.\n"
     ]
    },
    {
     "name": "stdout",
     "output_type": "stream",
     "text": [
      "🏃 View run adaptable-lamb-199 at: https://mlflow.spikehub.win/#/experiments/6/runs/034cf96a85dd4b0387c172d5c1c55f5a\n",
      "🧪 View experiment at: https://mlflow.spikehub.win/#/experiments/6\n"
     ]
    },
    {
     "name": "stderr",
     "output_type": "stream",
     "text": [
      "[I 2025-05-28 22:16:26,420] Trial 42 finished with value: 0.2619047619047619 and parameters: {'oversampling_method': 'SMOTE', 'undersampling_method': 'OneSidedSelection'}. Best is trial 13 with value: 0.3125.\n"
     ]
    },
    {
     "name": "stdout",
     "output_type": "stream",
     "text": [
      "🏃 View run rebellious-midge-668 at: https://mlflow.spikehub.win/#/experiments/6/runs/bb47a562c75d4bc785aacc7eba183da8\n",
      "🧪 View experiment at: https://mlflow.spikehub.win/#/experiments/6\n"
     ]
    },
    {
     "name": "stderr",
     "output_type": "stream",
     "text": [
      "[I 2025-05-28 22:16:27,774] Trial 43 finished with value: 0.275 and parameters: {'oversampling_method': 'ADASYN', 'undersampling_method': 'OneSidedSelection'}. Best is trial 13 with value: 0.3125.\n"
     ]
    },
    {
     "name": "stdout",
     "output_type": "stream",
     "text": [
      "🏃 View run thoughtful-gnu-750 at: https://mlflow.spikehub.win/#/experiments/6/runs/02c9fef0cde44ed4bbbdc50189bbef4f\n",
      "🧪 View experiment at: https://mlflow.spikehub.win/#/experiments/6\n"
     ]
    },
    {
     "name": "stderr",
     "output_type": "stream",
     "text": [
      "[I 2025-05-28 22:16:28,919] Trial 44 finished with value: 0.2823529411764706 and parameters: {'oversampling_method': 'SMOTE', 'undersampling_method': 'RandomUnderSampler'}. Best is trial 13 with value: 0.3125.\n"
     ]
    },
    {
     "name": "stdout",
     "output_type": "stream",
     "text": [
      "🏃 View run awesome-dove-170 at: https://mlflow.spikehub.win/#/experiments/6/runs/df94d35c623448b3bdc974ad74316354\n",
      "🧪 View experiment at: https://mlflow.spikehub.win/#/experiments/6\n"
     ]
    },
    {
     "name": "stderr",
     "output_type": "stream",
     "text": [
      "[I 2025-05-28 22:16:32,031] Trial 45 finished with value: 0.1346153846153846 and parameters: {'oversampling_method': 'SMOTEN', 'undersampling_method': 'AllKNN'}. Best is trial 13 with value: 0.3125.\n"
     ]
    },
    {
     "name": "stdout",
     "output_type": "stream",
     "text": [
      "🏃 View run awesome-colt-885 at: https://mlflow.spikehub.win/#/experiments/6/runs/a36879ab150a48f0b962c534bf920878\n",
      "🧪 View experiment at: https://mlflow.spikehub.win/#/experiments/6\n"
     ]
    },
    {
     "name": "stderr",
     "output_type": "stream",
     "text": [
      "[I 2025-05-28 22:16:32,725] Trial 46 finished with value: 0.23404255319148937 and parameters: {'oversampling_method': 'None', 'undersampling_method': 'RandomUnderSampler'}. Best is trial 13 with value: 0.3125.\n"
     ]
    },
    {
     "name": "stdout",
     "output_type": "stream",
     "text": [
      "🏃 View run tasteful-fly-576 at: https://mlflow.spikehub.win/#/experiments/6/runs/07bb91aef72e4fa3a16bb123e1b13959\n",
      "🧪 View experiment at: https://mlflow.spikehub.win/#/experiments/6\n"
     ]
    },
    {
     "name": "stderr",
     "output_type": "stream",
     "text": [
      "[I 2025-05-28 22:16:33,907] Trial 47 finished with value: 0.275 and parameters: {'oversampling_method': 'ADASYN', 'undersampling_method': 'TomekLinks'}. Best is trial 13 with value: 0.3125.\n"
     ]
    },
    {
     "name": "stdout",
     "output_type": "stream",
     "text": [
      "🏃 View run nosy-ant-442 at: https://mlflow.spikehub.win/#/experiments/6/runs/e0c0ccac62b64109997863db90822868\n",
      "🧪 View experiment at: https://mlflow.spikehub.win/#/experiments/6\n"
     ]
    },
    {
     "name": "stderr",
     "output_type": "stream",
     "text": [
      "[I 2025-05-28 22:16:35,101] Trial 48 finished with value: 0.2716049382716049 and parameters: {'oversampling_method': 'SMOTE', 'undersampling_method': 'NearMiss'}. Best is trial 13 with value: 0.3125.\n"
     ]
    },
    {
     "name": "stdout",
     "output_type": "stream",
     "text": [
      "🏃 View run peaceful-moth-243 at: https://mlflow.spikehub.win/#/experiments/6/runs/2f4c3421d373489a832075db1284e004\n",
      "🧪 View experiment at: https://mlflow.spikehub.win/#/experiments/6\n"
     ]
    },
    {
     "name": "stderr",
     "output_type": "stream",
     "text": [
      "[I 2025-05-28 22:16:38,037] Trial 49 finished with value: 0.17094017094017094 and parameters: {'oversampling_method': 'SMOTEN', 'undersampling_method': 'OneSidedSelection'}. Best is trial 13 with value: 0.3125.\n"
     ]
    },
    {
     "name": "stdout",
     "output_type": "stream",
     "text": [
      "🏃 View run puzzled-worm-888 at: https://mlflow.spikehub.win/#/experiments/6/runs/a2e54677098b477abc1cccac685ed011\n",
      "🧪 View experiment at: https://mlflow.spikehub.win/#/experiments/6\n"
     ]
    },
    {
     "name": "stderr",
     "output_type": "stream",
     "text": [
      "[I 2025-05-28 22:16:39,781] Trial 50 finished with value: 0.2553191489361702 and parameters: {'oversampling_method': 'SVMSMOTE', 'undersampling_method': 'RepeatedEditedNearestNeighbours'}. Best is trial 13 with value: 0.3125.\n"
     ]
    },
    {
     "name": "stdout",
     "output_type": "stream",
     "text": [
      "🏃 View run rogue-hawk-795 at: https://mlflow.spikehub.win/#/experiments/6/runs/1d395852f3dd473da60a581b7fca8180\n",
      "🧪 View experiment at: https://mlflow.spikehub.win/#/experiments/6\n"
     ]
    },
    {
     "name": "stderr",
     "output_type": "stream",
     "text": [
      "[I 2025-05-28 22:16:41,029] Trial 51 finished with value: 0.25882352941176473 and parameters: {'oversampling_method': 'SMOTE', 'undersampling_method': 'RepeatedEditedNearestNeighbours'}. Best is trial 13 with value: 0.3125.\n"
     ]
    },
    {
     "name": "stdout",
     "output_type": "stream",
     "text": [
      "🏃 View run bustling-ox-155 at: https://mlflow.spikehub.win/#/experiments/6/runs/84cdd252f0db40ff96aba823a601a9bf\n",
      "🧪 View experiment at: https://mlflow.spikehub.win/#/experiments/6\n"
     ]
    },
    {
     "name": "stderr",
     "output_type": "stream",
     "text": [
      "[I 2025-05-28 22:16:41,939] Trial 52 finished with value: 0.19858156028368795 and parameters: {'oversampling_method': 'None', 'undersampling_method': 'AllKNN'}. Best is trial 13 with value: 0.3125.\n"
     ]
    },
    {
     "name": "stdout",
     "output_type": "stream",
     "text": [
      "🏃 View run exultant-lamb-312 at: https://mlflow.spikehub.win/#/experiments/6/runs/ed6dd36633024123b1d6f2aac9cb7a21\n",
      "🧪 View experiment at: https://mlflow.spikehub.win/#/experiments/6\n"
     ]
    },
    {
     "name": "stderr",
     "output_type": "stream",
     "text": [
      "[I 2025-05-28 22:16:43,203] Trial 53 finished with value: 0.3055555555555556 and parameters: {'oversampling_method': 'BorderlineSMOTE', 'undersampling_method': 'RandomUnderSampler'}. Best is trial 13 with value: 0.3125.\n"
     ]
    },
    {
     "name": "stdout",
     "output_type": "stream",
     "text": [
      "🏃 View run powerful-snake-231 at: https://mlflow.spikehub.win/#/experiments/6/runs/3bd2e6c6080f449688736fce59ec5497\n",
      "🧪 View experiment at: https://mlflow.spikehub.win/#/experiments/6\n"
     ]
    },
    {
     "name": "stderr",
     "output_type": "stream",
     "text": [
      "[I 2025-05-28 22:16:43,877] Trial 54 finished with value: 0.12337662337662338 and parameters: {'oversampling_method': 'None', 'undersampling_method': 'NearMiss'}. Best is trial 13 with value: 0.3125.\n"
     ]
    },
    {
     "name": "stdout",
     "output_type": "stream",
     "text": [
      "🏃 View run painted-gnat-392 at: https://mlflow.spikehub.win/#/experiments/6/runs/9fd9f2bc393b4f4d84e45f34251259a3\n",
      "🧪 View experiment at: https://mlflow.spikehub.win/#/experiments/6\n"
     ]
    },
    {
     "name": "stderr",
     "output_type": "stream",
     "text": [
      "[I 2025-05-28 22:16:44,992] Trial 55 finished with value: 0.2714285714285714 and parameters: {'oversampling_method': 'SVMSMOTE', 'undersampling_method': 'None'}. Best is trial 13 with value: 0.3125.\n"
     ]
    },
    {
     "name": "stdout",
     "output_type": "stream",
     "text": [
      "🏃 View run bustling-pig-94 at: https://mlflow.spikehub.win/#/experiments/6/runs/8d9089ef79e946e89dbd34bdf6ac78c7\n",
      "🧪 View experiment at: https://mlflow.spikehub.win/#/experiments/6\n"
     ]
    },
    {
     "name": "stderr",
     "output_type": "stream",
     "text": [
      "[I 2025-05-28 22:16:46,059] Trial 56 finished with value: 0.27586206896551724 and parameters: {'oversampling_method': 'SVMSMOTE', 'undersampling_method': 'TomekLinks'}. Best is trial 13 with value: 0.3125.\n"
     ]
    },
    {
     "name": "stdout",
     "output_type": "stream",
     "text": [
      "🏃 View run mysterious-fowl-696 at: https://mlflow.spikehub.win/#/experiments/6/runs/9b2dd433c0df4e6e96a3188655d7f3c5\n",
      "🧪 View experiment at: https://mlflow.spikehub.win/#/experiments/6\n"
     ]
    },
    {
     "name": "stderr",
     "output_type": "stream",
     "text": [
      "[I 2025-05-28 22:17:58,905] Trial 57 finished with value: 0.200836820083682 and parameters: {'oversampling_method': 'ADASYN', 'undersampling_method': 'CondensedNearestNeighbour'}. Best is trial 13 with value: 0.3125.\n"
     ]
    },
    {
     "name": "stdout",
     "output_type": "stream",
     "text": [
      "🏃 View run skillful-ox-719 at: https://mlflow.spikehub.win/#/experiments/6/runs/9ebdbe74ef2d41b4964beab9ed3b33e8\n",
      "🧪 View experiment at: https://mlflow.spikehub.win/#/experiments/6\n"
     ]
    },
    {
     "name": "stderr",
     "output_type": "stream",
     "text": [
      "[I 2025-05-28 22:17:59,909] Trial 58 finished with value: 0.2304147465437788 and parameters: {'oversampling_method': 'RandomOverSampler', 'undersampling_method': 'TomekLinks'}. Best is trial 13 with value: 0.3125.\n"
     ]
    },
    {
     "name": "stdout",
     "output_type": "stream",
     "text": [
      "🏃 View run popular-zebra-699 at: https://mlflow.spikehub.win/#/experiments/6/runs/330520ccc01c4f80a21bec47d7bc943c\n",
      "🧪 View experiment at: https://mlflow.spikehub.win/#/experiments/6\n"
     ]
    },
    {
     "name": "stderr",
     "output_type": "stream",
     "text": [
      "[I 2025-05-28 22:18:01,162] Trial 59 finished with value: 0.25882352941176473 and parameters: {'oversampling_method': 'SMOTE', 'undersampling_method': 'EditedNearestNeighbours'}. Best is trial 13 with value: 0.3125.\n"
     ]
    },
    {
     "name": "stdout",
     "output_type": "stream",
     "text": [
      "🏃 View run auspicious-moth-266 at: https://mlflow.spikehub.win/#/experiments/6/runs/07e734c8779c43cdb60eb4cee43bb0af\n",
      "🧪 View experiment at: https://mlflow.spikehub.win/#/experiments/6\n"
     ]
    },
    {
     "name": "stderr",
     "output_type": "stream",
     "text": [
      "[I 2025-05-28 22:18:58,103] Trial 60 finished with value: 0.2465753424657534 and parameters: {'oversampling_method': 'None', 'undersampling_method': 'CondensedNearestNeighbour'}. Best is trial 13 with value: 0.3125.\n"
     ]
    },
    {
     "name": "stdout",
     "output_type": "stream",
     "text": [
      "🏃 View run popular-penguin-99 at: https://mlflow.spikehub.win/#/experiments/6/runs/313d5af4ebca4d1faf6406f49ba11629\n",
      "🧪 View experiment at: https://mlflow.spikehub.win/#/experiments/6\n"
     ]
    },
    {
     "name": "stderr",
     "output_type": "stream",
     "text": [
      "[I 2025-05-28 22:19:01,632] Trial 61 finished with value: 0.13008130081300814 and parameters: {'oversampling_method': 'SMOTEN', 'undersampling_method': 'NeighbourhoodCleaningRule'}. Best is trial 13 with value: 0.3125.\n"
     ]
    },
    {
     "name": "stdout",
     "output_type": "stream",
     "text": [
      "🏃 View run gentle-tern-474 at: https://mlflow.spikehub.win/#/experiments/6/runs/5ce0e147ae95497eac275fbd7ef22f97\n",
      "🧪 View experiment at: https://mlflow.spikehub.win/#/experiments/6\n"
     ]
    },
    {
     "name": "stderr",
     "output_type": "stream",
     "text": [
      "[I 2025-05-28 22:19:02,770] Trial 62 finished with value: 0.275 and parameters: {'oversampling_method': 'ADASYN', 'undersampling_method': 'RandomUnderSampler'}. Best is trial 13 with value: 0.3125.\n"
     ]
    },
    {
     "name": "stdout",
     "output_type": "stream",
     "text": [
      "🏃 View run funny-eel-256 at: https://mlflow.spikehub.win/#/experiments/6/runs/f3462758020344dcae2a0fc680785df4\n",
      "🧪 View experiment at: https://mlflow.spikehub.win/#/experiments/6\n"
     ]
    },
    {
     "name": "stderr",
     "output_type": "stream",
     "text": [
      "[I 2025-05-28 22:19:05,845] Trial 63 finished with value: 0.18666666666666668 and parameters: {'oversampling_method': 'SMOTEN', 'undersampling_method': 'NearMiss'}. Best is trial 13 with value: 0.3125.\n"
     ]
    },
    {
     "name": "stdout",
     "output_type": "stream",
     "text": [
      "🏃 View run flawless-mole-991 at: https://mlflow.spikehub.win/#/experiments/6/runs/a9d49856ad4e437b8508ac7f3edada3f\n",
      "🧪 View experiment at: https://mlflow.spikehub.win/#/experiments/6\n"
     ]
    },
    {
     "name": "stderr",
     "output_type": "stream",
     "text": [
      "[I 2025-05-28 22:19:07,032] Trial 64 finished with value: 0.26865671641791045 and parameters: {'oversampling_method': 'SVMSMOTE', 'undersampling_method': 'RandomUnderSampler'}. Best is trial 13 with value: 0.3125.\n"
     ]
    },
    {
     "name": "stdout",
     "output_type": "stream",
     "text": [
      "🏃 View run delightful-bat-646 at: https://mlflow.spikehub.win/#/experiments/6/runs/a2d076f161f7464e89c8751ad4367b94\n",
      "🧪 View experiment at: https://mlflow.spikehub.win/#/experiments/6\n"
     ]
    },
    {
     "name": "stderr",
     "output_type": "stream",
     "text": [
      "[I 2025-05-28 22:19:40,590] Trial 65 finished with value: 0.20300751879699247 and parameters: {'oversampling_method': 'SMOTEN', 'undersampling_method': 'CondensedNearestNeighbour'}. Best is trial 13 with value: 0.3125.\n"
     ]
    },
    {
     "name": "stdout",
     "output_type": "stream",
     "text": [
      "🏃 View run capable-hound-48 at: https://mlflow.spikehub.win/#/experiments/6/runs/d1eccf81bfc5478eb1e812b1ecaf05a8\n",
      "🧪 View experiment at: https://mlflow.spikehub.win/#/experiments/6\n"
     ]
    },
    {
     "name": "stderr",
     "output_type": "stream",
     "text": [
      "[I 2025-05-28 22:19:41,875] Trial 66 finished with value: 0.275 and parameters: {'oversampling_method': 'ADASYN', 'undersampling_method': 'None'}. Best is trial 13 with value: 0.3125.\n"
     ]
    },
    {
     "name": "stdout",
     "output_type": "stream",
     "text": [
      "🏃 View run adventurous-jay-706 at: https://mlflow.spikehub.win/#/experiments/6/runs/f7d9aaa493044d60b60197bcc8d93900\n",
      "🧪 View experiment at: https://mlflow.spikehub.win/#/experiments/6\n"
     ]
    },
    {
     "name": "stderr",
     "output_type": "stream",
     "text": [
      "[I 2025-05-28 22:19:43,374] Trial 67 finished with value: 0.1978798586572438 and parameters: {'oversampling_method': 'None', 'undersampling_method': 'NeighbourhoodCleaningRule'}. Best is trial 13 with value: 0.3125.\n"
     ]
    },
    {
     "name": "stdout",
     "output_type": "stream",
     "text": [
      "🏃 View run dashing-yak-913 at: https://mlflow.spikehub.win/#/experiments/6/runs/89db926862304a69a5f81c21314b2517\n",
      "🧪 View experiment at: https://mlflow.spikehub.win/#/experiments/6\n"
     ]
    },
    {
     "name": "stderr",
     "output_type": "stream",
     "text": [
      "[I 2025-05-28 22:19:44,539] Trial 68 finished with value: 0.3125 and parameters: {'oversampling_method': 'BorderlineSMOTE', 'undersampling_method': 'RepeatedEditedNearestNeighbours'}. Best is trial 13 with value: 0.3125.\n"
     ]
    },
    {
     "name": "stdout",
     "output_type": "stream",
     "text": [
      "🏃 View run peaceful-worm-504 at: https://mlflow.spikehub.win/#/experiments/6/runs/0d5feae5ca73407ba1b1e53bc2f0af26\n",
      "🧪 View experiment at: https://mlflow.spikehub.win/#/experiments/6\n"
     ]
    },
    {
     "name": "stderr",
     "output_type": "stream",
     "text": [
      "[I 2025-05-28 22:19:46,359] Trial 69 finished with value: 0.30985915492957744 and parameters: {'oversampling_method': 'BorderlineSMOTE', 'undersampling_method': 'NeighbourhoodCleaningRule'}. Best is trial 13 with value: 0.3125.\n"
     ]
    },
    {
     "name": "stdout",
     "output_type": "stream",
     "text": [
      "🏃 View run enchanting-hare-78 at: https://mlflow.spikehub.win/#/experiments/6/runs/fa5bb8484bd64ff198a04b8ad9d6cd69\n",
      "🧪 View experiment at: https://mlflow.spikehub.win/#/experiments/6\n",
      "🏃 View run Catboost Classifier Run at: https://mlflow.spikehub.win/#/experiments/6/runs/2f3dc0afd5e54fd0956f7ff0b470b389\n",
      "🧪 View experiment at: https://mlflow.spikehub.win/#/experiments/6\n"
     ]
    }
   ],
   "source": [
    "run_name = \"Catboost Classifier Run\"\n",
    "\n",
    "with mlflow.start_run(experiment_id=experiment_id, run_name=run_name, nested=True):\n",
    "    study = optuna.create_study(\n",
    "        direction=\"maximize\", sampler=optuna.samplers.GridSampler(search_space)\n",
    "    )\n",
    "    study.optimize(catboost_objective, n_trials=len(oversampler_list) * len(undersampler_list))\n",
    "\n",
    "    mlflow.log_params(study.best_params)\n",
    "    mlflow.log_metric(\"best_f1_score\", study.best_value)\n",
    "\n",
    "    mlflow.set_tags(\n",
    "        tags={\n",
    "            \"project\": \"stroke_prediction\",\n",
    "            \"optimizer_engine\": \"optuna\",\n",
    "            \"model_family\": \"CatBoostClassifier\",\n",
    "        }\n",
    "    )"
   ]
  },
  {
   "cell_type": "markdown",
   "id": "4791df81",
   "metadata": {},
   "source": [
    "After testing the sampler we find the for the oversampling methods, the best one is the BorderlineSMOTE, and for the undersampling methods, the best one is the NeighbourhoodCleaningRule."
   ]
  },
  {
   "cell_type": "code",
   "execution_count": null,
   "id": "53853bb8",
   "metadata": {},
   "outputs": [
    {
     "data": {
      "text/plain": [
       "({'oversampling_method': 'BorderlineSMOTE',\n",
       "  'undersampling_method': 'NeighbourhoodCleaningRule'},\n",
       " 0.3076923076923077)"
      ]
     },
     "execution_count": 25,
     "metadata": {},
     "output_type": "execute_result"
    }
   ],
   "source": [
    "study.best_params, study.best_value"
   ]
  }
 ],
 "metadata": {
  "kernelspec": {
   "display_name": ".venv",
   "language": "python",
   "name": "python3"
  },
  "language_info": {
   "codemirror_mode": {
    "name": "ipython",
    "version": 3
   },
   "file_extension": ".py",
   "mimetype": "text/x-python",
   "name": "python",
   "nbconvert_exporter": "python",
   "pygments_lexer": "ipython3",
   "version": "3.12.3"
  }
 },
 "nbformat": 4,
 "nbformat_minor": 5
}
